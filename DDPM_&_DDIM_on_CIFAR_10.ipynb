{
  "nbformat": 4,
  "nbformat_minor": 0,
  "metadata": {
    "colab": {
      "provenance": [],
      "gpuType": "T4",
      "collapsed_sections": [
        "Glq9UE0NpaI3",
        "TpSu3xlRQGwA",
        "VIV5uQ8-jF2O",
        "eunkC-oPPj9x"
      ],
      "authorship_tag": "ABX9TyPZ7D77yoRUNgwaErveZWZk",
      "include_colab_link": true
    },
    "kernelspec": {
      "name": "python3",
      "display_name": "Python 3"
    },
    "language_info": {
      "name": "python"
    },
    "accelerator": "GPU",
    "widgets": {
      "application/vnd.jupyter.widget-state+json": {
        "094b68c1cfd347d2b35476ddce98f339": {
          "model_module": "@jupyter-widgets/controls",
          "model_name": "HBoxModel",
          "model_module_version": "1.5.0",
          "state": {
            "_dom_classes": [],
            "_model_module": "@jupyter-widgets/controls",
            "_model_module_version": "1.5.0",
            "_model_name": "HBoxModel",
            "_view_count": null,
            "_view_module": "@jupyter-widgets/controls",
            "_view_module_version": "1.5.0",
            "_view_name": "HBoxView",
            "box_style": "",
            "children": [
              "IPY_MODEL_d695a7c8f8ce4a46801016baca0b8275",
              "IPY_MODEL_9358e2bbc9fd4895a0ac1a97447e8b19",
              "IPY_MODEL_a4fe1f2df97f400c8737d2d141103ceb"
            ],
            "layout": "IPY_MODEL_d6307e0a3501489ba3605adc6e4b3c7a"
          }
        },
        "d695a7c8f8ce4a46801016baca0b8275": {
          "model_module": "@jupyter-widgets/controls",
          "model_name": "HTMLModel",
          "model_module_version": "1.5.0",
          "state": {
            "_dom_classes": [],
            "_model_module": "@jupyter-widgets/controls",
            "_model_module_version": "1.5.0",
            "_model_name": "HTMLModel",
            "_view_count": null,
            "_view_module": "@jupyter-widgets/controls",
            "_view_module_version": "1.5.0",
            "_view_name": "HTMLView",
            "description": "",
            "description_tooltip": null,
            "layout": "IPY_MODEL_48a65568c9f54f17a92cd767201954cc",
            "placeholder": "​",
            "style": "IPY_MODEL_30868bb06f264c878cb7001f1842a19d",
            "value": "100%"
          }
        },
        "9358e2bbc9fd4895a0ac1a97447e8b19": {
          "model_module": "@jupyter-widgets/controls",
          "model_name": "FloatProgressModel",
          "model_module_version": "1.5.0",
          "state": {
            "_dom_classes": [],
            "_model_module": "@jupyter-widgets/controls",
            "_model_module_version": "1.5.0",
            "_model_name": "FloatProgressModel",
            "_view_count": null,
            "_view_module": "@jupyter-widgets/controls",
            "_view_module_version": "1.5.0",
            "_view_name": "ProgressView",
            "bar_style": "success",
            "description": "",
            "description_tooltip": null,
            "layout": "IPY_MODEL_b342a5810343487491a87ffc14c38a8c",
            "max": 1563,
            "min": 0,
            "orientation": "horizontal",
            "style": "IPY_MODEL_5c87f2f9d1a546228e611ec3724b5587",
            "value": 1563
          }
        },
        "a4fe1f2df97f400c8737d2d141103ceb": {
          "model_module": "@jupyter-widgets/controls",
          "model_name": "HTMLModel",
          "model_module_version": "1.5.0",
          "state": {
            "_dom_classes": [],
            "_model_module": "@jupyter-widgets/controls",
            "_model_module_version": "1.5.0",
            "_model_name": "HTMLModel",
            "_view_count": null,
            "_view_module": "@jupyter-widgets/controls",
            "_view_module_version": "1.5.0",
            "_view_name": "HTMLView",
            "description": "",
            "description_tooltip": null,
            "layout": "IPY_MODEL_b30ad7bd71194692b7316d467bfe7dfe",
            "placeholder": "​",
            "style": "IPY_MODEL_3a256b4c40be4a2984b694dcb97b37e3",
            "value": " 1563/1563 [02:07&lt;00:00, 10.57it/s]"
          }
        },
        "d6307e0a3501489ba3605adc6e4b3c7a": {
          "model_module": "@jupyter-widgets/base",
          "model_name": "LayoutModel",
          "model_module_version": "1.2.0",
          "state": {
            "_model_module": "@jupyter-widgets/base",
            "_model_module_version": "1.2.0",
            "_model_name": "LayoutModel",
            "_view_count": null,
            "_view_module": "@jupyter-widgets/base",
            "_view_module_version": "1.2.0",
            "_view_name": "LayoutView",
            "align_content": null,
            "align_items": null,
            "align_self": null,
            "border": null,
            "bottom": null,
            "display": null,
            "flex": null,
            "flex_flow": null,
            "grid_area": null,
            "grid_auto_columns": null,
            "grid_auto_flow": null,
            "grid_auto_rows": null,
            "grid_column": null,
            "grid_gap": null,
            "grid_row": null,
            "grid_template_areas": null,
            "grid_template_columns": null,
            "grid_template_rows": null,
            "height": null,
            "justify_content": null,
            "justify_items": null,
            "left": null,
            "margin": null,
            "max_height": null,
            "max_width": null,
            "min_height": null,
            "min_width": null,
            "object_fit": null,
            "object_position": null,
            "order": null,
            "overflow": null,
            "overflow_x": null,
            "overflow_y": null,
            "padding": null,
            "right": null,
            "top": null,
            "visibility": null,
            "width": null
          }
        },
        "48a65568c9f54f17a92cd767201954cc": {
          "model_module": "@jupyter-widgets/base",
          "model_name": "LayoutModel",
          "model_module_version": "1.2.0",
          "state": {
            "_model_module": "@jupyter-widgets/base",
            "_model_module_version": "1.2.0",
            "_model_name": "LayoutModel",
            "_view_count": null,
            "_view_module": "@jupyter-widgets/base",
            "_view_module_version": "1.2.0",
            "_view_name": "LayoutView",
            "align_content": null,
            "align_items": null,
            "align_self": null,
            "border": null,
            "bottom": null,
            "display": null,
            "flex": null,
            "flex_flow": null,
            "grid_area": null,
            "grid_auto_columns": null,
            "grid_auto_flow": null,
            "grid_auto_rows": null,
            "grid_column": null,
            "grid_gap": null,
            "grid_row": null,
            "grid_template_areas": null,
            "grid_template_columns": null,
            "grid_template_rows": null,
            "height": null,
            "justify_content": null,
            "justify_items": null,
            "left": null,
            "margin": null,
            "max_height": null,
            "max_width": null,
            "min_height": null,
            "min_width": null,
            "object_fit": null,
            "object_position": null,
            "order": null,
            "overflow": null,
            "overflow_x": null,
            "overflow_y": null,
            "padding": null,
            "right": null,
            "top": null,
            "visibility": null,
            "width": null
          }
        },
        "30868bb06f264c878cb7001f1842a19d": {
          "model_module": "@jupyter-widgets/controls",
          "model_name": "DescriptionStyleModel",
          "model_module_version": "1.5.0",
          "state": {
            "_model_module": "@jupyter-widgets/controls",
            "_model_module_version": "1.5.0",
            "_model_name": "DescriptionStyleModel",
            "_view_count": null,
            "_view_module": "@jupyter-widgets/base",
            "_view_module_version": "1.2.0",
            "_view_name": "StyleView",
            "description_width": ""
          }
        },
        "b342a5810343487491a87ffc14c38a8c": {
          "model_module": "@jupyter-widgets/base",
          "model_name": "LayoutModel",
          "model_module_version": "1.2.0",
          "state": {
            "_model_module": "@jupyter-widgets/base",
            "_model_module_version": "1.2.0",
            "_model_name": "LayoutModel",
            "_view_count": null,
            "_view_module": "@jupyter-widgets/base",
            "_view_module_version": "1.2.0",
            "_view_name": "LayoutView",
            "align_content": null,
            "align_items": null,
            "align_self": null,
            "border": null,
            "bottom": null,
            "display": null,
            "flex": null,
            "flex_flow": null,
            "grid_area": null,
            "grid_auto_columns": null,
            "grid_auto_flow": null,
            "grid_auto_rows": null,
            "grid_column": null,
            "grid_gap": null,
            "grid_row": null,
            "grid_template_areas": null,
            "grid_template_columns": null,
            "grid_template_rows": null,
            "height": null,
            "justify_content": null,
            "justify_items": null,
            "left": null,
            "margin": null,
            "max_height": null,
            "max_width": null,
            "min_height": null,
            "min_width": null,
            "object_fit": null,
            "object_position": null,
            "order": null,
            "overflow": null,
            "overflow_x": null,
            "overflow_y": null,
            "padding": null,
            "right": null,
            "top": null,
            "visibility": null,
            "width": null
          }
        },
        "5c87f2f9d1a546228e611ec3724b5587": {
          "model_module": "@jupyter-widgets/controls",
          "model_name": "ProgressStyleModel",
          "model_module_version": "1.5.0",
          "state": {
            "_model_module": "@jupyter-widgets/controls",
            "_model_module_version": "1.5.0",
            "_model_name": "ProgressStyleModel",
            "_view_count": null,
            "_view_module": "@jupyter-widgets/base",
            "_view_module_version": "1.2.0",
            "_view_name": "StyleView",
            "bar_color": null,
            "description_width": ""
          }
        },
        "b30ad7bd71194692b7316d467bfe7dfe": {
          "model_module": "@jupyter-widgets/base",
          "model_name": "LayoutModel",
          "model_module_version": "1.2.0",
          "state": {
            "_model_module": "@jupyter-widgets/base",
            "_model_module_version": "1.2.0",
            "_model_name": "LayoutModel",
            "_view_count": null,
            "_view_module": "@jupyter-widgets/base",
            "_view_module_version": "1.2.0",
            "_view_name": "LayoutView",
            "align_content": null,
            "align_items": null,
            "align_self": null,
            "border": null,
            "bottom": null,
            "display": null,
            "flex": null,
            "flex_flow": null,
            "grid_area": null,
            "grid_auto_columns": null,
            "grid_auto_flow": null,
            "grid_auto_rows": null,
            "grid_column": null,
            "grid_gap": null,
            "grid_row": null,
            "grid_template_areas": null,
            "grid_template_columns": null,
            "grid_template_rows": null,
            "height": null,
            "justify_content": null,
            "justify_items": null,
            "left": null,
            "margin": null,
            "max_height": null,
            "max_width": null,
            "min_height": null,
            "min_width": null,
            "object_fit": null,
            "object_position": null,
            "order": null,
            "overflow": null,
            "overflow_x": null,
            "overflow_y": null,
            "padding": null,
            "right": null,
            "top": null,
            "visibility": null,
            "width": null
          }
        },
        "3a256b4c40be4a2984b694dcb97b37e3": {
          "model_module": "@jupyter-widgets/controls",
          "model_name": "DescriptionStyleModel",
          "model_module_version": "1.5.0",
          "state": {
            "_model_module": "@jupyter-widgets/controls",
            "_model_module_version": "1.5.0",
            "_model_name": "DescriptionStyleModel",
            "_view_count": null,
            "_view_module": "@jupyter-widgets/base",
            "_view_module_version": "1.2.0",
            "_view_name": "StyleView",
            "description_width": ""
          }
        },
        "c53b8bb805d1453ba47b89579283dbd3": {
          "model_module": "@jupyter-widgets/controls",
          "model_name": "HBoxModel",
          "model_module_version": "1.5.0",
          "state": {
            "_dom_classes": [],
            "_model_module": "@jupyter-widgets/controls",
            "_model_module_version": "1.5.0",
            "_model_name": "HBoxModel",
            "_view_count": null,
            "_view_module": "@jupyter-widgets/controls",
            "_view_module_version": "1.5.0",
            "_view_name": "HBoxView",
            "box_style": "",
            "children": [
              "IPY_MODEL_4d67ba1287f343799695e6fc7377ca0d",
              "IPY_MODEL_65cc766f92ba41e1a28af4224754eaf5",
              "IPY_MODEL_3428191472d34dc89e86502fa410f768"
            ],
            "layout": "IPY_MODEL_31a7ca7c89934d80aa45c496b175709d"
          }
        },
        "4d67ba1287f343799695e6fc7377ca0d": {
          "model_module": "@jupyter-widgets/controls",
          "model_name": "HTMLModel",
          "model_module_version": "1.5.0",
          "state": {
            "_dom_classes": [],
            "_model_module": "@jupyter-widgets/controls",
            "_model_module_version": "1.5.0",
            "_model_name": "HTMLModel",
            "_view_count": null,
            "_view_module": "@jupyter-widgets/controls",
            "_view_module_version": "1.5.0",
            "_view_name": "HTMLView",
            "description": "",
            "description_tooltip": null,
            "layout": "IPY_MODEL_8d124f879ca64062bdb40f09674681a3",
            "placeholder": "​",
            "style": "IPY_MODEL_fbb9093ce82d46a6b07ecb838f1f8713",
            "value": "100%"
          }
        },
        "65cc766f92ba41e1a28af4224754eaf5": {
          "model_module": "@jupyter-widgets/controls",
          "model_name": "FloatProgressModel",
          "model_module_version": "1.5.0",
          "state": {
            "_dom_classes": [],
            "_model_module": "@jupyter-widgets/controls",
            "_model_module_version": "1.5.0",
            "_model_name": "FloatProgressModel",
            "_view_count": null,
            "_view_module": "@jupyter-widgets/controls",
            "_view_module_version": "1.5.0",
            "_view_name": "ProgressView",
            "bar_style": "success",
            "description": "",
            "description_tooltip": null,
            "layout": "IPY_MODEL_fd44f1344ba74e739749b66ba9322d98",
            "max": 1563,
            "min": 0,
            "orientation": "horizontal",
            "style": "IPY_MODEL_bd198c165c214a0c8036f17efcc5f5e5",
            "value": 1563
          }
        },
        "3428191472d34dc89e86502fa410f768": {
          "model_module": "@jupyter-widgets/controls",
          "model_name": "HTMLModel",
          "model_module_version": "1.5.0",
          "state": {
            "_dom_classes": [],
            "_model_module": "@jupyter-widgets/controls",
            "_model_module_version": "1.5.0",
            "_model_name": "HTMLModel",
            "_view_count": null,
            "_view_module": "@jupyter-widgets/controls",
            "_view_module_version": "1.5.0",
            "_view_name": "HTMLView",
            "description": "",
            "description_tooltip": null,
            "layout": "IPY_MODEL_ef6ec6021a4342f29807ea187501459c",
            "placeholder": "​",
            "style": "IPY_MODEL_f7e060b7d2e44330a005ba2fa09652c7",
            "value": " 1563/1563 [02:26&lt;00:00, 14.35it/s]"
          }
        },
        "31a7ca7c89934d80aa45c496b175709d": {
          "model_module": "@jupyter-widgets/base",
          "model_name": "LayoutModel",
          "model_module_version": "1.2.0",
          "state": {
            "_model_module": "@jupyter-widgets/base",
            "_model_module_version": "1.2.0",
            "_model_name": "LayoutModel",
            "_view_count": null,
            "_view_module": "@jupyter-widgets/base",
            "_view_module_version": "1.2.0",
            "_view_name": "LayoutView",
            "align_content": null,
            "align_items": null,
            "align_self": null,
            "border": null,
            "bottom": null,
            "display": null,
            "flex": null,
            "flex_flow": null,
            "grid_area": null,
            "grid_auto_columns": null,
            "grid_auto_flow": null,
            "grid_auto_rows": null,
            "grid_column": null,
            "grid_gap": null,
            "grid_row": null,
            "grid_template_areas": null,
            "grid_template_columns": null,
            "grid_template_rows": null,
            "height": null,
            "justify_content": null,
            "justify_items": null,
            "left": null,
            "margin": null,
            "max_height": null,
            "max_width": null,
            "min_height": null,
            "min_width": null,
            "object_fit": null,
            "object_position": null,
            "order": null,
            "overflow": null,
            "overflow_x": null,
            "overflow_y": null,
            "padding": null,
            "right": null,
            "top": null,
            "visibility": null,
            "width": null
          }
        },
        "8d124f879ca64062bdb40f09674681a3": {
          "model_module": "@jupyter-widgets/base",
          "model_name": "LayoutModel",
          "model_module_version": "1.2.0",
          "state": {
            "_model_module": "@jupyter-widgets/base",
            "_model_module_version": "1.2.0",
            "_model_name": "LayoutModel",
            "_view_count": null,
            "_view_module": "@jupyter-widgets/base",
            "_view_module_version": "1.2.0",
            "_view_name": "LayoutView",
            "align_content": null,
            "align_items": null,
            "align_self": null,
            "border": null,
            "bottom": null,
            "display": null,
            "flex": null,
            "flex_flow": null,
            "grid_area": null,
            "grid_auto_columns": null,
            "grid_auto_flow": null,
            "grid_auto_rows": null,
            "grid_column": null,
            "grid_gap": null,
            "grid_row": null,
            "grid_template_areas": null,
            "grid_template_columns": null,
            "grid_template_rows": null,
            "height": null,
            "justify_content": null,
            "justify_items": null,
            "left": null,
            "margin": null,
            "max_height": null,
            "max_width": null,
            "min_height": null,
            "min_width": null,
            "object_fit": null,
            "object_position": null,
            "order": null,
            "overflow": null,
            "overflow_x": null,
            "overflow_y": null,
            "padding": null,
            "right": null,
            "top": null,
            "visibility": null,
            "width": null
          }
        },
        "fbb9093ce82d46a6b07ecb838f1f8713": {
          "model_module": "@jupyter-widgets/controls",
          "model_name": "DescriptionStyleModel",
          "model_module_version": "1.5.0",
          "state": {
            "_model_module": "@jupyter-widgets/controls",
            "_model_module_version": "1.5.0",
            "_model_name": "DescriptionStyleModel",
            "_view_count": null,
            "_view_module": "@jupyter-widgets/base",
            "_view_module_version": "1.2.0",
            "_view_name": "StyleView",
            "description_width": ""
          }
        },
        "fd44f1344ba74e739749b66ba9322d98": {
          "model_module": "@jupyter-widgets/base",
          "model_name": "LayoutModel",
          "model_module_version": "1.2.0",
          "state": {
            "_model_module": "@jupyter-widgets/base",
            "_model_module_version": "1.2.0",
            "_model_name": "LayoutModel",
            "_view_count": null,
            "_view_module": "@jupyter-widgets/base",
            "_view_module_version": "1.2.0",
            "_view_name": "LayoutView",
            "align_content": null,
            "align_items": null,
            "align_self": null,
            "border": null,
            "bottom": null,
            "display": null,
            "flex": null,
            "flex_flow": null,
            "grid_area": null,
            "grid_auto_columns": null,
            "grid_auto_flow": null,
            "grid_auto_rows": null,
            "grid_column": null,
            "grid_gap": null,
            "grid_row": null,
            "grid_template_areas": null,
            "grid_template_columns": null,
            "grid_template_rows": null,
            "height": null,
            "justify_content": null,
            "justify_items": null,
            "left": null,
            "margin": null,
            "max_height": null,
            "max_width": null,
            "min_height": null,
            "min_width": null,
            "object_fit": null,
            "object_position": null,
            "order": null,
            "overflow": null,
            "overflow_x": null,
            "overflow_y": null,
            "padding": null,
            "right": null,
            "top": null,
            "visibility": null,
            "width": null
          }
        },
        "bd198c165c214a0c8036f17efcc5f5e5": {
          "model_module": "@jupyter-widgets/controls",
          "model_name": "ProgressStyleModel",
          "model_module_version": "1.5.0",
          "state": {
            "_model_module": "@jupyter-widgets/controls",
            "_model_module_version": "1.5.0",
            "_model_name": "ProgressStyleModel",
            "_view_count": null,
            "_view_module": "@jupyter-widgets/base",
            "_view_module_version": "1.2.0",
            "_view_name": "StyleView",
            "bar_color": null,
            "description_width": ""
          }
        },
        "ef6ec6021a4342f29807ea187501459c": {
          "model_module": "@jupyter-widgets/base",
          "model_name": "LayoutModel",
          "model_module_version": "1.2.0",
          "state": {
            "_model_module": "@jupyter-widgets/base",
            "_model_module_version": "1.2.0",
            "_model_name": "LayoutModel",
            "_view_count": null,
            "_view_module": "@jupyter-widgets/base",
            "_view_module_version": "1.2.0",
            "_view_name": "LayoutView",
            "align_content": null,
            "align_items": null,
            "align_self": null,
            "border": null,
            "bottom": null,
            "display": null,
            "flex": null,
            "flex_flow": null,
            "grid_area": null,
            "grid_auto_columns": null,
            "grid_auto_flow": null,
            "grid_auto_rows": null,
            "grid_column": null,
            "grid_gap": null,
            "grid_row": null,
            "grid_template_areas": null,
            "grid_template_columns": null,
            "grid_template_rows": null,
            "height": null,
            "justify_content": null,
            "justify_items": null,
            "left": null,
            "margin": null,
            "max_height": null,
            "max_width": null,
            "min_height": null,
            "min_width": null,
            "object_fit": null,
            "object_position": null,
            "order": null,
            "overflow": null,
            "overflow_x": null,
            "overflow_y": null,
            "padding": null,
            "right": null,
            "top": null,
            "visibility": null,
            "width": null
          }
        },
        "f7e060b7d2e44330a005ba2fa09652c7": {
          "model_module": "@jupyter-widgets/controls",
          "model_name": "DescriptionStyleModel",
          "model_module_version": "1.5.0",
          "state": {
            "_model_module": "@jupyter-widgets/controls",
            "_model_module_version": "1.5.0",
            "_model_name": "DescriptionStyleModel",
            "_view_count": null,
            "_view_module": "@jupyter-widgets/base",
            "_view_module_version": "1.2.0",
            "_view_name": "StyleView",
            "description_width": ""
          }
        },
        "9223568acab04018a231952676020d80": {
          "model_module": "@jupyter-widgets/controls",
          "model_name": "HBoxModel",
          "model_module_version": "1.5.0",
          "state": {
            "_dom_classes": [],
            "_model_module": "@jupyter-widgets/controls",
            "_model_module_version": "1.5.0",
            "_model_name": "HBoxModel",
            "_view_count": null,
            "_view_module": "@jupyter-widgets/controls",
            "_view_module_version": "1.5.0",
            "_view_name": "HBoxView",
            "box_style": "",
            "children": [
              "IPY_MODEL_59a1bb27d7464eb6b8b909b34aee5902",
              "IPY_MODEL_9fd135ed6f53499fa6f23af50071cce4",
              "IPY_MODEL_1b19341c2de6441fbfd38f1fde1d7385"
            ],
            "layout": "IPY_MODEL_a8b84dda7f794113b9d899193d6eeb7c"
          }
        },
        "59a1bb27d7464eb6b8b909b34aee5902": {
          "model_module": "@jupyter-widgets/controls",
          "model_name": "HTMLModel",
          "model_module_version": "1.5.0",
          "state": {
            "_dom_classes": [],
            "_model_module": "@jupyter-widgets/controls",
            "_model_module_version": "1.5.0",
            "_model_name": "HTMLModel",
            "_view_count": null,
            "_view_module": "@jupyter-widgets/controls",
            "_view_module_version": "1.5.0",
            "_view_name": "HTMLView",
            "description": "",
            "description_tooltip": null,
            "layout": "IPY_MODEL_94b2a957f48544f49cfdb5b17a6180a7",
            "placeholder": "​",
            "style": "IPY_MODEL_6f7ccb96316846b4a0308f6945d76bd6",
            "value": "100%"
          }
        },
        "9fd135ed6f53499fa6f23af50071cce4": {
          "model_module": "@jupyter-widgets/controls",
          "model_name": "FloatProgressModel",
          "model_module_version": "1.5.0",
          "state": {
            "_dom_classes": [],
            "_model_module": "@jupyter-widgets/controls",
            "_model_module_version": "1.5.0",
            "_model_name": "FloatProgressModel",
            "_view_count": null,
            "_view_module": "@jupyter-widgets/controls",
            "_view_module_version": "1.5.0",
            "_view_name": "ProgressView",
            "bar_style": "success",
            "description": "",
            "description_tooltip": null,
            "layout": "IPY_MODEL_b5d6653549c9492da7bc64cbd99d6f88",
            "max": 1563,
            "min": 0,
            "orientation": "horizontal",
            "style": "IPY_MODEL_a12d7e6fd9f54888b5da7bdb61e16ef5",
            "value": 1563
          }
        },
        "1b19341c2de6441fbfd38f1fde1d7385": {
          "model_module": "@jupyter-widgets/controls",
          "model_name": "HTMLModel",
          "model_module_version": "1.5.0",
          "state": {
            "_dom_classes": [],
            "_model_module": "@jupyter-widgets/controls",
            "_model_module_version": "1.5.0",
            "_model_name": "HTMLModel",
            "_view_count": null,
            "_view_module": "@jupyter-widgets/controls",
            "_view_module_version": "1.5.0",
            "_view_name": "HTMLView",
            "description": "",
            "description_tooltip": null,
            "layout": "IPY_MODEL_08d034c75ced424390d39f96dac13b66",
            "placeholder": "​",
            "style": "IPY_MODEL_9bfb3023965546b984257bb860198b77",
            "value": " 1563/1563 [02:08&lt;00:00, 10.72it/s]"
          }
        },
        "a8b84dda7f794113b9d899193d6eeb7c": {
          "model_module": "@jupyter-widgets/base",
          "model_name": "LayoutModel",
          "model_module_version": "1.2.0",
          "state": {
            "_model_module": "@jupyter-widgets/base",
            "_model_module_version": "1.2.0",
            "_model_name": "LayoutModel",
            "_view_count": null,
            "_view_module": "@jupyter-widgets/base",
            "_view_module_version": "1.2.0",
            "_view_name": "LayoutView",
            "align_content": null,
            "align_items": null,
            "align_self": null,
            "border": null,
            "bottom": null,
            "display": null,
            "flex": null,
            "flex_flow": null,
            "grid_area": null,
            "grid_auto_columns": null,
            "grid_auto_flow": null,
            "grid_auto_rows": null,
            "grid_column": null,
            "grid_gap": null,
            "grid_row": null,
            "grid_template_areas": null,
            "grid_template_columns": null,
            "grid_template_rows": null,
            "height": null,
            "justify_content": null,
            "justify_items": null,
            "left": null,
            "margin": null,
            "max_height": null,
            "max_width": null,
            "min_height": null,
            "min_width": null,
            "object_fit": null,
            "object_position": null,
            "order": null,
            "overflow": null,
            "overflow_x": null,
            "overflow_y": null,
            "padding": null,
            "right": null,
            "top": null,
            "visibility": null,
            "width": null
          }
        },
        "94b2a957f48544f49cfdb5b17a6180a7": {
          "model_module": "@jupyter-widgets/base",
          "model_name": "LayoutModel",
          "model_module_version": "1.2.0",
          "state": {
            "_model_module": "@jupyter-widgets/base",
            "_model_module_version": "1.2.0",
            "_model_name": "LayoutModel",
            "_view_count": null,
            "_view_module": "@jupyter-widgets/base",
            "_view_module_version": "1.2.0",
            "_view_name": "LayoutView",
            "align_content": null,
            "align_items": null,
            "align_self": null,
            "border": null,
            "bottom": null,
            "display": null,
            "flex": null,
            "flex_flow": null,
            "grid_area": null,
            "grid_auto_columns": null,
            "grid_auto_flow": null,
            "grid_auto_rows": null,
            "grid_column": null,
            "grid_gap": null,
            "grid_row": null,
            "grid_template_areas": null,
            "grid_template_columns": null,
            "grid_template_rows": null,
            "height": null,
            "justify_content": null,
            "justify_items": null,
            "left": null,
            "margin": null,
            "max_height": null,
            "max_width": null,
            "min_height": null,
            "min_width": null,
            "object_fit": null,
            "object_position": null,
            "order": null,
            "overflow": null,
            "overflow_x": null,
            "overflow_y": null,
            "padding": null,
            "right": null,
            "top": null,
            "visibility": null,
            "width": null
          }
        },
        "6f7ccb96316846b4a0308f6945d76bd6": {
          "model_module": "@jupyter-widgets/controls",
          "model_name": "DescriptionStyleModel",
          "model_module_version": "1.5.0",
          "state": {
            "_model_module": "@jupyter-widgets/controls",
            "_model_module_version": "1.5.0",
            "_model_name": "DescriptionStyleModel",
            "_view_count": null,
            "_view_module": "@jupyter-widgets/base",
            "_view_module_version": "1.2.0",
            "_view_name": "StyleView",
            "description_width": ""
          }
        },
        "b5d6653549c9492da7bc64cbd99d6f88": {
          "model_module": "@jupyter-widgets/base",
          "model_name": "LayoutModel",
          "model_module_version": "1.2.0",
          "state": {
            "_model_module": "@jupyter-widgets/base",
            "_model_module_version": "1.2.0",
            "_model_name": "LayoutModel",
            "_view_count": null,
            "_view_module": "@jupyter-widgets/base",
            "_view_module_version": "1.2.0",
            "_view_name": "LayoutView",
            "align_content": null,
            "align_items": null,
            "align_self": null,
            "border": null,
            "bottom": null,
            "display": null,
            "flex": null,
            "flex_flow": null,
            "grid_area": null,
            "grid_auto_columns": null,
            "grid_auto_flow": null,
            "grid_auto_rows": null,
            "grid_column": null,
            "grid_gap": null,
            "grid_row": null,
            "grid_template_areas": null,
            "grid_template_columns": null,
            "grid_template_rows": null,
            "height": null,
            "justify_content": null,
            "justify_items": null,
            "left": null,
            "margin": null,
            "max_height": null,
            "max_width": null,
            "min_height": null,
            "min_width": null,
            "object_fit": null,
            "object_position": null,
            "order": null,
            "overflow": null,
            "overflow_x": null,
            "overflow_y": null,
            "padding": null,
            "right": null,
            "top": null,
            "visibility": null,
            "width": null
          }
        },
        "a12d7e6fd9f54888b5da7bdb61e16ef5": {
          "model_module": "@jupyter-widgets/controls",
          "model_name": "ProgressStyleModel",
          "model_module_version": "1.5.0",
          "state": {
            "_model_module": "@jupyter-widgets/controls",
            "_model_module_version": "1.5.0",
            "_model_name": "ProgressStyleModel",
            "_view_count": null,
            "_view_module": "@jupyter-widgets/base",
            "_view_module_version": "1.2.0",
            "_view_name": "StyleView",
            "bar_color": null,
            "description_width": ""
          }
        },
        "08d034c75ced424390d39f96dac13b66": {
          "model_module": "@jupyter-widgets/base",
          "model_name": "LayoutModel",
          "model_module_version": "1.2.0",
          "state": {
            "_model_module": "@jupyter-widgets/base",
            "_model_module_version": "1.2.0",
            "_model_name": "LayoutModel",
            "_view_count": null,
            "_view_module": "@jupyter-widgets/base",
            "_view_module_version": "1.2.0",
            "_view_name": "LayoutView",
            "align_content": null,
            "align_items": null,
            "align_self": null,
            "border": null,
            "bottom": null,
            "display": null,
            "flex": null,
            "flex_flow": null,
            "grid_area": null,
            "grid_auto_columns": null,
            "grid_auto_flow": null,
            "grid_auto_rows": null,
            "grid_column": null,
            "grid_gap": null,
            "grid_row": null,
            "grid_template_areas": null,
            "grid_template_columns": null,
            "grid_template_rows": null,
            "height": null,
            "justify_content": null,
            "justify_items": null,
            "left": null,
            "margin": null,
            "max_height": null,
            "max_width": null,
            "min_height": null,
            "min_width": null,
            "object_fit": null,
            "object_position": null,
            "order": null,
            "overflow": null,
            "overflow_x": null,
            "overflow_y": null,
            "padding": null,
            "right": null,
            "top": null,
            "visibility": null,
            "width": null
          }
        },
        "9bfb3023965546b984257bb860198b77": {
          "model_module": "@jupyter-widgets/controls",
          "model_name": "DescriptionStyleModel",
          "model_module_version": "1.5.0",
          "state": {
            "_model_module": "@jupyter-widgets/controls",
            "_model_module_version": "1.5.0",
            "_model_name": "DescriptionStyleModel",
            "_view_count": null,
            "_view_module": "@jupyter-widgets/base",
            "_view_module_version": "1.2.0",
            "_view_name": "StyleView",
            "description_width": ""
          }
        },
        "b20f3e5a30ca489ea22cb754cf4ba9f8": {
          "model_module": "@jupyter-widgets/controls",
          "model_name": "HBoxModel",
          "model_module_version": "1.5.0",
          "state": {
            "_dom_classes": [],
            "_model_module": "@jupyter-widgets/controls",
            "_model_module_version": "1.5.0",
            "_model_name": "HBoxModel",
            "_view_count": null,
            "_view_module": "@jupyter-widgets/controls",
            "_view_module_version": "1.5.0",
            "_view_name": "HBoxView",
            "box_style": "",
            "children": [
              "IPY_MODEL_f38fe61863bd433384f224a9701122b6",
              "IPY_MODEL_3c783464d45f4c33b2938fc9151b02d3",
              "IPY_MODEL_864d0922996a45648c5afff41c7003a1"
            ],
            "layout": "IPY_MODEL_f4e276dafe6240d79e0c6b6572e92b3a"
          }
        },
        "f38fe61863bd433384f224a9701122b6": {
          "model_module": "@jupyter-widgets/controls",
          "model_name": "HTMLModel",
          "model_module_version": "1.5.0",
          "state": {
            "_dom_classes": [],
            "_model_module": "@jupyter-widgets/controls",
            "_model_module_version": "1.5.0",
            "_model_name": "HTMLModel",
            "_view_count": null,
            "_view_module": "@jupyter-widgets/controls",
            "_view_module_version": "1.5.0",
            "_view_name": "HTMLView",
            "description": "",
            "description_tooltip": null,
            "layout": "IPY_MODEL_2a2710dfc0b2492a8e1d452cdcbf6dd0",
            "placeholder": "​",
            "style": "IPY_MODEL_399b53e607f1434f8536dc0450bb75c7",
            "value": "100%"
          }
        },
        "3c783464d45f4c33b2938fc9151b02d3": {
          "model_module": "@jupyter-widgets/controls",
          "model_name": "FloatProgressModel",
          "model_module_version": "1.5.0",
          "state": {
            "_dom_classes": [],
            "_model_module": "@jupyter-widgets/controls",
            "_model_module_version": "1.5.0",
            "_model_name": "FloatProgressModel",
            "_view_count": null,
            "_view_module": "@jupyter-widgets/controls",
            "_view_module_version": "1.5.0",
            "_view_name": "ProgressView",
            "bar_style": "success",
            "description": "",
            "description_tooltip": null,
            "layout": "IPY_MODEL_6eb1b90823a74f338b7171dbbf55755f",
            "max": 1563,
            "min": 0,
            "orientation": "horizontal",
            "style": "IPY_MODEL_0ffd1eae54dc4713b43e604cd8a1a8f2",
            "value": 1563
          }
        },
        "864d0922996a45648c5afff41c7003a1": {
          "model_module": "@jupyter-widgets/controls",
          "model_name": "HTMLModel",
          "model_module_version": "1.5.0",
          "state": {
            "_dom_classes": [],
            "_model_module": "@jupyter-widgets/controls",
            "_model_module_version": "1.5.0",
            "_model_name": "HTMLModel",
            "_view_count": null,
            "_view_module": "@jupyter-widgets/controls",
            "_view_module_version": "1.5.0",
            "_view_name": "HTMLView",
            "description": "",
            "description_tooltip": null,
            "layout": "IPY_MODEL_d85676aaf97946b7bc732e22beb19e7a",
            "placeholder": "​",
            "style": "IPY_MODEL_43f0efb7027d4b438b0c7e5bb2078f32",
            "value": " 1563/1563 [02:48&lt;00:00, 14.12it/s]"
          }
        },
        "f4e276dafe6240d79e0c6b6572e92b3a": {
          "model_module": "@jupyter-widgets/base",
          "model_name": "LayoutModel",
          "model_module_version": "1.2.0",
          "state": {
            "_model_module": "@jupyter-widgets/base",
            "_model_module_version": "1.2.0",
            "_model_name": "LayoutModel",
            "_view_count": null,
            "_view_module": "@jupyter-widgets/base",
            "_view_module_version": "1.2.0",
            "_view_name": "LayoutView",
            "align_content": null,
            "align_items": null,
            "align_self": null,
            "border": null,
            "bottom": null,
            "display": null,
            "flex": null,
            "flex_flow": null,
            "grid_area": null,
            "grid_auto_columns": null,
            "grid_auto_flow": null,
            "grid_auto_rows": null,
            "grid_column": null,
            "grid_gap": null,
            "grid_row": null,
            "grid_template_areas": null,
            "grid_template_columns": null,
            "grid_template_rows": null,
            "height": null,
            "justify_content": null,
            "justify_items": null,
            "left": null,
            "margin": null,
            "max_height": null,
            "max_width": null,
            "min_height": null,
            "min_width": null,
            "object_fit": null,
            "object_position": null,
            "order": null,
            "overflow": null,
            "overflow_x": null,
            "overflow_y": null,
            "padding": null,
            "right": null,
            "top": null,
            "visibility": null,
            "width": null
          }
        },
        "2a2710dfc0b2492a8e1d452cdcbf6dd0": {
          "model_module": "@jupyter-widgets/base",
          "model_name": "LayoutModel",
          "model_module_version": "1.2.0",
          "state": {
            "_model_module": "@jupyter-widgets/base",
            "_model_module_version": "1.2.0",
            "_model_name": "LayoutModel",
            "_view_count": null,
            "_view_module": "@jupyter-widgets/base",
            "_view_module_version": "1.2.0",
            "_view_name": "LayoutView",
            "align_content": null,
            "align_items": null,
            "align_self": null,
            "border": null,
            "bottom": null,
            "display": null,
            "flex": null,
            "flex_flow": null,
            "grid_area": null,
            "grid_auto_columns": null,
            "grid_auto_flow": null,
            "grid_auto_rows": null,
            "grid_column": null,
            "grid_gap": null,
            "grid_row": null,
            "grid_template_areas": null,
            "grid_template_columns": null,
            "grid_template_rows": null,
            "height": null,
            "justify_content": null,
            "justify_items": null,
            "left": null,
            "margin": null,
            "max_height": null,
            "max_width": null,
            "min_height": null,
            "min_width": null,
            "object_fit": null,
            "object_position": null,
            "order": null,
            "overflow": null,
            "overflow_x": null,
            "overflow_y": null,
            "padding": null,
            "right": null,
            "top": null,
            "visibility": null,
            "width": null
          }
        },
        "399b53e607f1434f8536dc0450bb75c7": {
          "model_module": "@jupyter-widgets/controls",
          "model_name": "DescriptionStyleModel",
          "model_module_version": "1.5.0",
          "state": {
            "_model_module": "@jupyter-widgets/controls",
            "_model_module_version": "1.5.0",
            "_model_name": "DescriptionStyleModel",
            "_view_count": null,
            "_view_module": "@jupyter-widgets/base",
            "_view_module_version": "1.2.0",
            "_view_name": "StyleView",
            "description_width": ""
          }
        },
        "6eb1b90823a74f338b7171dbbf55755f": {
          "model_module": "@jupyter-widgets/base",
          "model_name": "LayoutModel",
          "model_module_version": "1.2.0",
          "state": {
            "_model_module": "@jupyter-widgets/base",
            "_model_module_version": "1.2.0",
            "_model_name": "LayoutModel",
            "_view_count": null,
            "_view_module": "@jupyter-widgets/base",
            "_view_module_version": "1.2.0",
            "_view_name": "LayoutView",
            "align_content": null,
            "align_items": null,
            "align_self": null,
            "border": null,
            "bottom": null,
            "display": null,
            "flex": null,
            "flex_flow": null,
            "grid_area": null,
            "grid_auto_columns": null,
            "grid_auto_flow": null,
            "grid_auto_rows": null,
            "grid_column": null,
            "grid_gap": null,
            "grid_row": null,
            "grid_template_areas": null,
            "grid_template_columns": null,
            "grid_template_rows": null,
            "height": null,
            "justify_content": null,
            "justify_items": null,
            "left": null,
            "margin": null,
            "max_height": null,
            "max_width": null,
            "min_height": null,
            "min_width": null,
            "object_fit": null,
            "object_position": null,
            "order": null,
            "overflow": null,
            "overflow_x": null,
            "overflow_y": null,
            "padding": null,
            "right": null,
            "top": null,
            "visibility": null,
            "width": null
          }
        },
        "0ffd1eae54dc4713b43e604cd8a1a8f2": {
          "model_module": "@jupyter-widgets/controls",
          "model_name": "ProgressStyleModel",
          "model_module_version": "1.5.0",
          "state": {
            "_model_module": "@jupyter-widgets/controls",
            "_model_module_version": "1.5.0",
            "_model_name": "ProgressStyleModel",
            "_view_count": null,
            "_view_module": "@jupyter-widgets/base",
            "_view_module_version": "1.2.0",
            "_view_name": "StyleView",
            "bar_color": null,
            "description_width": ""
          }
        },
        "d85676aaf97946b7bc732e22beb19e7a": {
          "model_module": "@jupyter-widgets/base",
          "model_name": "LayoutModel",
          "model_module_version": "1.2.0",
          "state": {
            "_model_module": "@jupyter-widgets/base",
            "_model_module_version": "1.2.0",
            "_model_name": "LayoutModel",
            "_view_count": null,
            "_view_module": "@jupyter-widgets/base",
            "_view_module_version": "1.2.0",
            "_view_name": "LayoutView",
            "align_content": null,
            "align_items": null,
            "align_self": null,
            "border": null,
            "bottom": null,
            "display": null,
            "flex": null,
            "flex_flow": null,
            "grid_area": null,
            "grid_auto_columns": null,
            "grid_auto_flow": null,
            "grid_auto_rows": null,
            "grid_column": null,
            "grid_gap": null,
            "grid_row": null,
            "grid_template_areas": null,
            "grid_template_columns": null,
            "grid_template_rows": null,
            "height": null,
            "justify_content": null,
            "justify_items": null,
            "left": null,
            "margin": null,
            "max_height": null,
            "max_width": null,
            "min_height": null,
            "min_width": null,
            "object_fit": null,
            "object_position": null,
            "order": null,
            "overflow": null,
            "overflow_x": null,
            "overflow_y": null,
            "padding": null,
            "right": null,
            "top": null,
            "visibility": null,
            "width": null
          }
        },
        "43f0efb7027d4b438b0c7e5bb2078f32": {
          "model_module": "@jupyter-widgets/controls",
          "model_name": "DescriptionStyleModel",
          "model_module_version": "1.5.0",
          "state": {
            "_model_module": "@jupyter-widgets/controls",
            "_model_module_version": "1.5.0",
            "_model_name": "DescriptionStyleModel",
            "_view_count": null,
            "_view_module": "@jupyter-widgets/base",
            "_view_module_version": "1.2.0",
            "_view_name": "StyleView",
            "description_width": ""
          }
        },
        "d55bfcbdf4e34b9c875b3b5f9946a2ea": {
          "model_module": "@jupyter-widgets/controls",
          "model_name": "HBoxModel",
          "model_module_version": "1.5.0",
          "state": {
            "_dom_classes": [],
            "_model_module": "@jupyter-widgets/controls",
            "_model_module_version": "1.5.0",
            "_model_name": "HBoxModel",
            "_view_count": null,
            "_view_module": "@jupyter-widgets/controls",
            "_view_module_version": "1.5.0",
            "_view_name": "HBoxView",
            "box_style": "",
            "children": [
              "IPY_MODEL_8b0efd5eeecc4797b1ea0f6617d719fe",
              "IPY_MODEL_86bbd30f715f49b68e50b2cb2f22a140",
              "IPY_MODEL_4bd3ccd45d7e46688b94f04f7d3a7563"
            ],
            "layout": "IPY_MODEL_7077604b11cd42a3adf6cfff286ffc8a"
          }
        },
        "8b0efd5eeecc4797b1ea0f6617d719fe": {
          "model_module": "@jupyter-widgets/controls",
          "model_name": "HTMLModel",
          "model_module_version": "1.5.0",
          "state": {
            "_dom_classes": [],
            "_model_module": "@jupyter-widgets/controls",
            "_model_module_version": "1.5.0",
            "_model_name": "HTMLModel",
            "_view_count": null,
            "_view_module": "@jupyter-widgets/controls",
            "_view_module_version": "1.5.0",
            "_view_name": "HTMLView",
            "description": "",
            "description_tooltip": null,
            "layout": "IPY_MODEL_04cf573b37224238b686cfd9d6b5396e",
            "placeholder": "​",
            "style": "IPY_MODEL_f1fae5d1a6184b49a01edad58eb36eac",
            "value": "100%"
          }
        },
        "86bbd30f715f49b68e50b2cb2f22a140": {
          "model_module": "@jupyter-widgets/controls",
          "model_name": "FloatProgressModel",
          "model_module_version": "1.5.0",
          "state": {
            "_dom_classes": [],
            "_model_module": "@jupyter-widgets/controls",
            "_model_module_version": "1.5.0",
            "_model_name": "FloatProgressModel",
            "_view_count": null,
            "_view_module": "@jupyter-widgets/controls",
            "_view_module_version": "1.5.0",
            "_view_name": "ProgressView",
            "bar_style": "success",
            "description": "",
            "description_tooltip": null,
            "layout": "IPY_MODEL_db02896b289144a688dd0dfcb113dd65",
            "max": 1563,
            "min": 0,
            "orientation": "horizontal",
            "style": "IPY_MODEL_56bc5b039fe44f138c5874dba52f9bd0",
            "value": 1563
          }
        },
        "4bd3ccd45d7e46688b94f04f7d3a7563": {
          "model_module": "@jupyter-widgets/controls",
          "model_name": "HTMLModel",
          "model_module_version": "1.5.0",
          "state": {
            "_dom_classes": [],
            "_model_module": "@jupyter-widgets/controls",
            "_model_module_version": "1.5.0",
            "_model_name": "HTMLModel",
            "_view_count": null,
            "_view_module": "@jupyter-widgets/controls",
            "_view_module_version": "1.5.0",
            "_view_name": "HTMLView",
            "description": "",
            "description_tooltip": null,
            "layout": "IPY_MODEL_3edabd44e0124a8db35ccbd8af8b020a",
            "placeholder": "​",
            "style": "IPY_MODEL_bfd60434aa20409fa302431251b8e8bb",
            "value": " 1563/1563 [02:07&lt;00:00, 14.21it/s]"
          }
        },
        "7077604b11cd42a3adf6cfff286ffc8a": {
          "model_module": "@jupyter-widgets/base",
          "model_name": "LayoutModel",
          "model_module_version": "1.2.0",
          "state": {
            "_model_module": "@jupyter-widgets/base",
            "_model_module_version": "1.2.0",
            "_model_name": "LayoutModel",
            "_view_count": null,
            "_view_module": "@jupyter-widgets/base",
            "_view_module_version": "1.2.0",
            "_view_name": "LayoutView",
            "align_content": null,
            "align_items": null,
            "align_self": null,
            "border": null,
            "bottom": null,
            "display": null,
            "flex": null,
            "flex_flow": null,
            "grid_area": null,
            "grid_auto_columns": null,
            "grid_auto_flow": null,
            "grid_auto_rows": null,
            "grid_column": null,
            "grid_gap": null,
            "grid_row": null,
            "grid_template_areas": null,
            "grid_template_columns": null,
            "grid_template_rows": null,
            "height": null,
            "justify_content": null,
            "justify_items": null,
            "left": null,
            "margin": null,
            "max_height": null,
            "max_width": null,
            "min_height": null,
            "min_width": null,
            "object_fit": null,
            "object_position": null,
            "order": null,
            "overflow": null,
            "overflow_x": null,
            "overflow_y": null,
            "padding": null,
            "right": null,
            "top": null,
            "visibility": null,
            "width": null
          }
        },
        "04cf573b37224238b686cfd9d6b5396e": {
          "model_module": "@jupyter-widgets/base",
          "model_name": "LayoutModel",
          "model_module_version": "1.2.0",
          "state": {
            "_model_module": "@jupyter-widgets/base",
            "_model_module_version": "1.2.0",
            "_model_name": "LayoutModel",
            "_view_count": null,
            "_view_module": "@jupyter-widgets/base",
            "_view_module_version": "1.2.0",
            "_view_name": "LayoutView",
            "align_content": null,
            "align_items": null,
            "align_self": null,
            "border": null,
            "bottom": null,
            "display": null,
            "flex": null,
            "flex_flow": null,
            "grid_area": null,
            "grid_auto_columns": null,
            "grid_auto_flow": null,
            "grid_auto_rows": null,
            "grid_column": null,
            "grid_gap": null,
            "grid_row": null,
            "grid_template_areas": null,
            "grid_template_columns": null,
            "grid_template_rows": null,
            "height": null,
            "justify_content": null,
            "justify_items": null,
            "left": null,
            "margin": null,
            "max_height": null,
            "max_width": null,
            "min_height": null,
            "min_width": null,
            "object_fit": null,
            "object_position": null,
            "order": null,
            "overflow": null,
            "overflow_x": null,
            "overflow_y": null,
            "padding": null,
            "right": null,
            "top": null,
            "visibility": null,
            "width": null
          }
        },
        "f1fae5d1a6184b49a01edad58eb36eac": {
          "model_module": "@jupyter-widgets/controls",
          "model_name": "DescriptionStyleModel",
          "model_module_version": "1.5.0",
          "state": {
            "_model_module": "@jupyter-widgets/controls",
            "_model_module_version": "1.5.0",
            "_model_name": "DescriptionStyleModel",
            "_view_count": null,
            "_view_module": "@jupyter-widgets/base",
            "_view_module_version": "1.2.0",
            "_view_name": "StyleView",
            "description_width": ""
          }
        },
        "db02896b289144a688dd0dfcb113dd65": {
          "model_module": "@jupyter-widgets/base",
          "model_name": "LayoutModel",
          "model_module_version": "1.2.0",
          "state": {
            "_model_module": "@jupyter-widgets/base",
            "_model_module_version": "1.2.0",
            "_model_name": "LayoutModel",
            "_view_count": null,
            "_view_module": "@jupyter-widgets/base",
            "_view_module_version": "1.2.0",
            "_view_name": "LayoutView",
            "align_content": null,
            "align_items": null,
            "align_self": null,
            "border": null,
            "bottom": null,
            "display": null,
            "flex": null,
            "flex_flow": null,
            "grid_area": null,
            "grid_auto_columns": null,
            "grid_auto_flow": null,
            "grid_auto_rows": null,
            "grid_column": null,
            "grid_gap": null,
            "grid_row": null,
            "grid_template_areas": null,
            "grid_template_columns": null,
            "grid_template_rows": null,
            "height": null,
            "justify_content": null,
            "justify_items": null,
            "left": null,
            "margin": null,
            "max_height": null,
            "max_width": null,
            "min_height": null,
            "min_width": null,
            "object_fit": null,
            "object_position": null,
            "order": null,
            "overflow": null,
            "overflow_x": null,
            "overflow_y": null,
            "padding": null,
            "right": null,
            "top": null,
            "visibility": null,
            "width": null
          }
        },
        "56bc5b039fe44f138c5874dba52f9bd0": {
          "model_module": "@jupyter-widgets/controls",
          "model_name": "ProgressStyleModel",
          "model_module_version": "1.5.0",
          "state": {
            "_model_module": "@jupyter-widgets/controls",
            "_model_module_version": "1.5.0",
            "_model_name": "ProgressStyleModel",
            "_view_count": null,
            "_view_module": "@jupyter-widgets/base",
            "_view_module_version": "1.2.0",
            "_view_name": "StyleView",
            "bar_color": null,
            "description_width": ""
          }
        },
        "3edabd44e0124a8db35ccbd8af8b020a": {
          "model_module": "@jupyter-widgets/base",
          "model_name": "LayoutModel",
          "model_module_version": "1.2.0",
          "state": {
            "_model_module": "@jupyter-widgets/base",
            "_model_module_version": "1.2.0",
            "_model_name": "LayoutModel",
            "_view_count": null,
            "_view_module": "@jupyter-widgets/base",
            "_view_module_version": "1.2.0",
            "_view_name": "LayoutView",
            "align_content": null,
            "align_items": null,
            "align_self": null,
            "border": null,
            "bottom": null,
            "display": null,
            "flex": null,
            "flex_flow": null,
            "grid_area": null,
            "grid_auto_columns": null,
            "grid_auto_flow": null,
            "grid_auto_rows": null,
            "grid_column": null,
            "grid_gap": null,
            "grid_row": null,
            "grid_template_areas": null,
            "grid_template_columns": null,
            "grid_template_rows": null,
            "height": null,
            "justify_content": null,
            "justify_items": null,
            "left": null,
            "margin": null,
            "max_height": null,
            "max_width": null,
            "min_height": null,
            "min_width": null,
            "object_fit": null,
            "object_position": null,
            "order": null,
            "overflow": null,
            "overflow_x": null,
            "overflow_y": null,
            "padding": null,
            "right": null,
            "top": null,
            "visibility": null,
            "width": null
          }
        },
        "bfd60434aa20409fa302431251b8e8bb": {
          "model_module": "@jupyter-widgets/controls",
          "model_name": "DescriptionStyleModel",
          "model_module_version": "1.5.0",
          "state": {
            "_model_module": "@jupyter-widgets/controls",
            "_model_module_version": "1.5.0",
            "_model_name": "DescriptionStyleModel",
            "_view_count": null,
            "_view_module": "@jupyter-widgets/base",
            "_view_module_version": "1.2.0",
            "_view_name": "StyleView",
            "description_width": ""
          }
        },
        "e79d64c0d7cc465ebfc1d7dfc3b1dfa1": {
          "model_module": "@jupyter-widgets/controls",
          "model_name": "HBoxModel",
          "model_module_version": "1.5.0",
          "state": {
            "_dom_classes": [],
            "_model_module": "@jupyter-widgets/controls",
            "_model_module_version": "1.5.0",
            "_model_name": "HBoxModel",
            "_view_count": null,
            "_view_module": "@jupyter-widgets/controls",
            "_view_module_version": "1.5.0",
            "_view_name": "HBoxView",
            "box_style": "",
            "children": [
              "IPY_MODEL_ad5cdcc0e52a49beaadf6b7c549e011f",
              "IPY_MODEL_c467dcaf24584495bf730b22ffa933bd",
              "IPY_MODEL_e0b81d571ed74249b0f99c5da9e7480d"
            ],
            "layout": "IPY_MODEL_7a276ae90ce6440cb44ceb0f7eed7d13"
          }
        },
        "ad5cdcc0e52a49beaadf6b7c549e011f": {
          "model_module": "@jupyter-widgets/controls",
          "model_name": "HTMLModel",
          "model_module_version": "1.5.0",
          "state": {
            "_dom_classes": [],
            "_model_module": "@jupyter-widgets/controls",
            "_model_module_version": "1.5.0",
            "_model_name": "HTMLModel",
            "_view_count": null,
            "_view_module": "@jupyter-widgets/controls",
            "_view_module_version": "1.5.0",
            "_view_name": "HTMLView",
            "description": "",
            "description_tooltip": null,
            "layout": "IPY_MODEL_976cff0efc0a48618d01e06d35c69e10",
            "placeholder": "​",
            "style": "IPY_MODEL_51a364e68fd849a1b4b24e2ba2d05fb8",
            "value": "100%"
          }
        },
        "c467dcaf24584495bf730b22ffa933bd": {
          "model_module": "@jupyter-widgets/controls",
          "model_name": "FloatProgressModel",
          "model_module_version": "1.5.0",
          "state": {
            "_dom_classes": [],
            "_model_module": "@jupyter-widgets/controls",
            "_model_module_version": "1.5.0",
            "_model_name": "FloatProgressModel",
            "_view_count": null,
            "_view_module": "@jupyter-widgets/controls",
            "_view_module_version": "1.5.0",
            "_view_name": "ProgressView",
            "bar_style": "success",
            "description": "",
            "description_tooltip": null,
            "layout": "IPY_MODEL_105ea31f7b754aa8a9757d524dc6439f",
            "max": 1563,
            "min": 0,
            "orientation": "horizontal",
            "style": "IPY_MODEL_a2ba460164514b068fa4e402c1773e20",
            "value": 1563
          }
        },
        "e0b81d571ed74249b0f99c5da9e7480d": {
          "model_module": "@jupyter-widgets/controls",
          "model_name": "HTMLModel",
          "model_module_version": "1.5.0",
          "state": {
            "_dom_classes": [],
            "_model_module": "@jupyter-widgets/controls",
            "_model_module_version": "1.5.0",
            "_model_name": "HTMLModel",
            "_view_count": null,
            "_view_module": "@jupyter-widgets/controls",
            "_view_module_version": "1.5.0",
            "_view_name": "HTMLView",
            "description": "",
            "description_tooltip": null,
            "layout": "IPY_MODEL_8d59fb72089f4c3ea047a9d43908b960",
            "placeholder": "​",
            "style": "IPY_MODEL_816b24f4ecaa44019ef707dc42266a35",
            "value": " 1563/1563 [02:47&lt;00:00, 10.39it/s]"
          }
        },
        "7a276ae90ce6440cb44ceb0f7eed7d13": {
          "model_module": "@jupyter-widgets/base",
          "model_name": "LayoutModel",
          "model_module_version": "1.2.0",
          "state": {
            "_model_module": "@jupyter-widgets/base",
            "_model_module_version": "1.2.0",
            "_model_name": "LayoutModel",
            "_view_count": null,
            "_view_module": "@jupyter-widgets/base",
            "_view_module_version": "1.2.0",
            "_view_name": "LayoutView",
            "align_content": null,
            "align_items": null,
            "align_self": null,
            "border": null,
            "bottom": null,
            "display": null,
            "flex": null,
            "flex_flow": null,
            "grid_area": null,
            "grid_auto_columns": null,
            "grid_auto_flow": null,
            "grid_auto_rows": null,
            "grid_column": null,
            "grid_gap": null,
            "grid_row": null,
            "grid_template_areas": null,
            "grid_template_columns": null,
            "grid_template_rows": null,
            "height": null,
            "justify_content": null,
            "justify_items": null,
            "left": null,
            "margin": null,
            "max_height": null,
            "max_width": null,
            "min_height": null,
            "min_width": null,
            "object_fit": null,
            "object_position": null,
            "order": null,
            "overflow": null,
            "overflow_x": null,
            "overflow_y": null,
            "padding": null,
            "right": null,
            "top": null,
            "visibility": null,
            "width": null
          }
        },
        "976cff0efc0a48618d01e06d35c69e10": {
          "model_module": "@jupyter-widgets/base",
          "model_name": "LayoutModel",
          "model_module_version": "1.2.0",
          "state": {
            "_model_module": "@jupyter-widgets/base",
            "_model_module_version": "1.2.0",
            "_model_name": "LayoutModel",
            "_view_count": null,
            "_view_module": "@jupyter-widgets/base",
            "_view_module_version": "1.2.0",
            "_view_name": "LayoutView",
            "align_content": null,
            "align_items": null,
            "align_self": null,
            "border": null,
            "bottom": null,
            "display": null,
            "flex": null,
            "flex_flow": null,
            "grid_area": null,
            "grid_auto_columns": null,
            "grid_auto_flow": null,
            "grid_auto_rows": null,
            "grid_column": null,
            "grid_gap": null,
            "grid_row": null,
            "grid_template_areas": null,
            "grid_template_columns": null,
            "grid_template_rows": null,
            "height": null,
            "justify_content": null,
            "justify_items": null,
            "left": null,
            "margin": null,
            "max_height": null,
            "max_width": null,
            "min_height": null,
            "min_width": null,
            "object_fit": null,
            "object_position": null,
            "order": null,
            "overflow": null,
            "overflow_x": null,
            "overflow_y": null,
            "padding": null,
            "right": null,
            "top": null,
            "visibility": null,
            "width": null
          }
        },
        "51a364e68fd849a1b4b24e2ba2d05fb8": {
          "model_module": "@jupyter-widgets/controls",
          "model_name": "DescriptionStyleModel",
          "model_module_version": "1.5.0",
          "state": {
            "_model_module": "@jupyter-widgets/controls",
            "_model_module_version": "1.5.0",
            "_model_name": "DescriptionStyleModel",
            "_view_count": null,
            "_view_module": "@jupyter-widgets/base",
            "_view_module_version": "1.2.0",
            "_view_name": "StyleView",
            "description_width": ""
          }
        },
        "105ea31f7b754aa8a9757d524dc6439f": {
          "model_module": "@jupyter-widgets/base",
          "model_name": "LayoutModel",
          "model_module_version": "1.2.0",
          "state": {
            "_model_module": "@jupyter-widgets/base",
            "_model_module_version": "1.2.0",
            "_model_name": "LayoutModel",
            "_view_count": null,
            "_view_module": "@jupyter-widgets/base",
            "_view_module_version": "1.2.0",
            "_view_name": "LayoutView",
            "align_content": null,
            "align_items": null,
            "align_self": null,
            "border": null,
            "bottom": null,
            "display": null,
            "flex": null,
            "flex_flow": null,
            "grid_area": null,
            "grid_auto_columns": null,
            "grid_auto_flow": null,
            "grid_auto_rows": null,
            "grid_column": null,
            "grid_gap": null,
            "grid_row": null,
            "grid_template_areas": null,
            "grid_template_columns": null,
            "grid_template_rows": null,
            "height": null,
            "justify_content": null,
            "justify_items": null,
            "left": null,
            "margin": null,
            "max_height": null,
            "max_width": null,
            "min_height": null,
            "min_width": null,
            "object_fit": null,
            "object_position": null,
            "order": null,
            "overflow": null,
            "overflow_x": null,
            "overflow_y": null,
            "padding": null,
            "right": null,
            "top": null,
            "visibility": null,
            "width": null
          }
        },
        "a2ba460164514b068fa4e402c1773e20": {
          "model_module": "@jupyter-widgets/controls",
          "model_name": "ProgressStyleModel",
          "model_module_version": "1.5.0",
          "state": {
            "_model_module": "@jupyter-widgets/controls",
            "_model_module_version": "1.5.0",
            "_model_name": "ProgressStyleModel",
            "_view_count": null,
            "_view_module": "@jupyter-widgets/base",
            "_view_module_version": "1.2.0",
            "_view_name": "StyleView",
            "bar_color": null,
            "description_width": ""
          }
        },
        "8d59fb72089f4c3ea047a9d43908b960": {
          "model_module": "@jupyter-widgets/base",
          "model_name": "LayoutModel",
          "model_module_version": "1.2.0",
          "state": {
            "_model_module": "@jupyter-widgets/base",
            "_model_module_version": "1.2.0",
            "_model_name": "LayoutModel",
            "_view_count": null,
            "_view_module": "@jupyter-widgets/base",
            "_view_module_version": "1.2.0",
            "_view_name": "LayoutView",
            "align_content": null,
            "align_items": null,
            "align_self": null,
            "border": null,
            "bottom": null,
            "display": null,
            "flex": null,
            "flex_flow": null,
            "grid_area": null,
            "grid_auto_columns": null,
            "grid_auto_flow": null,
            "grid_auto_rows": null,
            "grid_column": null,
            "grid_gap": null,
            "grid_row": null,
            "grid_template_areas": null,
            "grid_template_columns": null,
            "grid_template_rows": null,
            "height": null,
            "justify_content": null,
            "justify_items": null,
            "left": null,
            "margin": null,
            "max_height": null,
            "max_width": null,
            "min_height": null,
            "min_width": null,
            "object_fit": null,
            "object_position": null,
            "order": null,
            "overflow": null,
            "overflow_x": null,
            "overflow_y": null,
            "padding": null,
            "right": null,
            "top": null,
            "visibility": null,
            "width": null
          }
        },
        "816b24f4ecaa44019ef707dc42266a35": {
          "model_module": "@jupyter-widgets/controls",
          "model_name": "DescriptionStyleModel",
          "model_module_version": "1.5.0",
          "state": {
            "_model_module": "@jupyter-widgets/controls",
            "_model_module_version": "1.5.0",
            "_model_name": "DescriptionStyleModel",
            "_view_count": null,
            "_view_module": "@jupyter-widgets/base",
            "_view_module_version": "1.2.0",
            "_view_name": "StyleView",
            "description_width": ""
          }
        },
        "fa435aab900940689341a8f75f8c1974": {
          "model_module": "@jupyter-widgets/controls",
          "model_name": "HBoxModel",
          "model_module_version": "1.5.0",
          "state": {
            "_dom_classes": [],
            "_model_module": "@jupyter-widgets/controls",
            "_model_module_version": "1.5.0",
            "_model_name": "HBoxModel",
            "_view_count": null,
            "_view_module": "@jupyter-widgets/controls",
            "_view_module_version": "1.5.0",
            "_view_name": "HBoxView",
            "box_style": "",
            "children": [
              "IPY_MODEL_376c3c57dc7143ef98c1bc9b4ebb6354",
              "IPY_MODEL_8393787b8b6544c1b494f682e71f3f2a",
              "IPY_MODEL_5c954d4c36ae4ba0a47284ab2175eb70"
            ],
            "layout": "IPY_MODEL_137555f9a5b943c7b0828a1fc756b556"
          }
        },
        "376c3c57dc7143ef98c1bc9b4ebb6354": {
          "model_module": "@jupyter-widgets/controls",
          "model_name": "HTMLModel",
          "model_module_version": "1.5.0",
          "state": {
            "_dom_classes": [],
            "_model_module": "@jupyter-widgets/controls",
            "_model_module_version": "1.5.0",
            "_model_name": "HTMLModel",
            "_view_count": null,
            "_view_module": "@jupyter-widgets/controls",
            "_view_module_version": "1.5.0",
            "_view_name": "HTMLView",
            "description": "",
            "description_tooltip": null,
            "layout": "IPY_MODEL_debc3c5ad57d4d52a4a3023c86460e88",
            "placeholder": "​",
            "style": "IPY_MODEL_fad42c544acd46afa4e1fbc4797eca77",
            "value": "100%"
          }
        },
        "8393787b8b6544c1b494f682e71f3f2a": {
          "model_module": "@jupyter-widgets/controls",
          "model_name": "FloatProgressModel",
          "model_module_version": "1.5.0",
          "state": {
            "_dom_classes": [],
            "_model_module": "@jupyter-widgets/controls",
            "_model_module_version": "1.5.0",
            "_model_name": "FloatProgressModel",
            "_view_count": null,
            "_view_module": "@jupyter-widgets/controls",
            "_view_module_version": "1.5.0",
            "_view_name": "ProgressView",
            "bar_style": "success",
            "description": "",
            "description_tooltip": null,
            "layout": "IPY_MODEL_2fe84fef02f443c085f01b255660c311",
            "max": 1563,
            "min": 0,
            "orientation": "horizontal",
            "style": "IPY_MODEL_f51ea85f736543d486c06771208399ba",
            "value": 1563
          }
        },
        "5c954d4c36ae4ba0a47284ab2175eb70": {
          "model_module": "@jupyter-widgets/controls",
          "model_name": "HTMLModel",
          "model_module_version": "1.5.0",
          "state": {
            "_dom_classes": [],
            "_model_module": "@jupyter-widgets/controls",
            "_model_module_version": "1.5.0",
            "_model_name": "HTMLModel",
            "_view_count": null,
            "_view_module": "@jupyter-widgets/controls",
            "_view_module_version": "1.5.0",
            "_view_name": "HTMLView",
            "description": "",
            "description_tooltip": null,
            "layout": "IPY_MODEL_f01b41511c6e42328ad8dbf7130e24fc",
            "placeholder": "​",
            "style": "IPY_MODEL_f486b6e39f3146f88b8709550052b7e4",
            "value": " 1563/1563 [02:09&lt;00:00, 13.42it/s]"
          }
        },
        "137555f9a5b943c7b0828a1fc756b556": {
          "model_module": "@jupyter-widgets/base",
          "model_name": "LayoutModel",
          "model_module_version": "1.2.0",
          "state": {
            "_model_module": "@jupyter-widgets/base",
            "_model_module_version": "1.2.0",
            "_model_name": "LayoutModel",
            "_view_count": null,
            "_view_module": "@jupyter-widgets/base",
            "_view_module_version": "1.2.0",
            "_view_name": "LayoutView",
            "align_content": null,
            "align_items": null,
            "align_self": null,
            "border": null,
            "bottom": null,
            "display": null,
            "flex": null,
            "flex_flow": null,
            "grid_area": null,
            "grid_auto_columns": null,
            "grid_auto_flow": null,
            "grid_auto_rows": null,
            "grid_column": null,
            "grid_gap": null,
            "grid_row": null,
            "grid_template_areas": null,
            "grid_template_columns": null,
            "grid_template_rows": null,
            "height": null,
            "justify_content": null,
            "justify_items": null,
            "left": null,
            "margin": null,
            "max_height": null,
            "max_width": null,
            "min_height": null,
            "min_width": null,
            "object_fit": null,
            "object_position": null,
            "order": null,
            "overflow": null,
            "overflow_x": null,
            "overflow_y": null,
            "padding": null,
            "right": null,
            "top": null,
            "visibility": null,
            "width": null
          }
        },
        "debc3c5ad57d4d52a4a3023c86460e88": {
          "model_module": "@jupyter-widgets/base",
          "model_name": "LayoutModel",
          "model_module_version": "1.2.0",
          "state": {
            "_model_module": "@jupyter-widgets/base",
            "_model_module_version": "1.2.0",
            "_model_name": "LayoutModel",
            "_view_count": null,
            "_view_module": "@jupyter-widgets/base",
            "_view_module_version": "1.2.0",
            "_view_name": "LayoutView",
            "align_content": null,
            "align_items": null,
            "align_self": null,
            "border": null,
            "bottom": null,
            "display": null,
            "flex": null,
            "flex_flow": null,
            "grid_area": null,
            "grid_auto_columns": null,
            "grid_auto_flow": null,
            "grid_auto_rows": null,
            "grid_column": null,
            "grid_gap": null,
            "grid_row": null,
            "grid_template_areas": null,
            "grid_template_columns": null,
            "grid_template_rows": null,
            "height": null,
            "justify_content": null,
            "justify_items": null,
            "left": null,
            "margin": null,
            "max_height": null,
            "max_width": null,
            "min_height": null,
            "min_width": null,
            "object_fit": null,
            "object_position": null,
            "order": null,
            "overflow": null,
            "overflow_x": null,
            "overflow_y": null,
            "padding": null,
            "right": null,
            "top": null,
            "visibility": null,
            "width": null
          }
        },
        "fad42c544acd46afa4e1fbc4797eca77": {
          "model_module": "@jupyter-widgets/controls",
          "model_name": "DescriptionStyleModel",
          "model_module_version": "1.5.0",
          "state": {
            "_model_module": "@jupyter-widgets/controls",
            "_model_module_version": "1.5.0",
            "_model_name": "DescriptionStyleModel",
            "_view_count": null,
            "_view_module": "@jupyter-widgets/base",
            "_view_module_version": "1.2.0",
            "_view_name": "StyleView",
            "description_width": ""
          }
        },
        "2fe84fef02f443c085f01b255660c311": {
          "model_module": "@jupyter-widgets/base",
          "model_name": "LayoutModel",
          "model_module_version": "1.2.0",
          "state": {
            "_model_module": "@jupyter-widgets/base",
            "_model_module_version": "1.2.0",
            "_model_name": "LayoutModel",
            "_view_count": null,
            "_view_module": "@jupyter-widgets/base",
            "_view_module_version": "1.2.0",
            "_view_name": "LayoutView",
            "align_content": null,
            "align_items": null,
            "align_self": null,
            "border": null,
            "bottom": null,
            "display": null,
            "flex": null,
            "flex_flow": null,
            "grid_area": null,
            "grid_auto_columns": null,
            "grid_auto_flow": null,
            "grid_auto_rows": null,
            "grid_column": null,
            "grid_gap": null,
            "grid_row": null,
            "grid_template_areas": null,
            "grid_template_columns": null,
            "grid_template_rows": null,
            "height": null,
            "justify_content": null,
            "justify_items": null,
            "left": null,
            "margin": null,
            "max_height": null,
            "max_width": null,
            "min_height": null,
            "min_width": null,
            "object_fit": null,
            "object_position": null,
            "order": null,
            "overflow": null,
            "overflow_x": null,
            "overflow_y": null,
            "padding": null,
            "right": null,
            "top": null,
            "visibility": null,
            "width": null
          }
        },
        "f51ea85f736543d486c06771208399ba": {
          "model_module": "@jupyter-widgets/controls",
          "model_name": "ProgressStyleModel",
          "model_module_version": "1.5.0",
          "state": {
            "_model_module": "@jupyter-widgets/controls",
            "_model_module_version": "1.5.0",
            "_model_name": "ProgressStyleModel",
            "_view_count": null,
            "_view_module": "@jupyter-widgets/base",
            "_view_module_version": "1.2.0",
            "_view_name": "StyleView",
            "bar_color": null,
            "description_width": ""
          }
        },
        "f01b41511c6e42328ad8dbf7130e24fc": {
          "model_module": "@jupyter-widgets/base",
          "model_name": "LayoutModel",
          "model_module_version": "1.2.0",
          "state": {
            "_model_module": "@jupyter-widgets/base",
            "_model_module_version": "1.2.0",
            "_model_name": "LayoutModel",
            "_view_count": null,
            "_view_module": "@jupyter-widgets/base",
            "_view_module_version": "1.2.0",
            "_view_name": "LayoutView",
            "align_content": null,
            "align_items": null,
            "align_self": null,
            "border": null,
            "bottom": null,
            "display": null,
            "flex": null,
            "flex_flow": null,
            "grid_area": null,
            "grid_auto_columns": null,
            "grid_auto_flow": null,
            "grid_auto_rows": null,
            "grid_column": null,
            "grid_gap": null,
            "grid_row": null,
            "grid_template_areas": null,
            "grid_template_columns": null,
            "grid_template_rows": null,
            "height": null,
            "justify_content": null,
            "justify_items": null,
            "left": null,
            "margin": null,
            "max_height": null,
            "max_width": null,
            "min_height": null,
            "min_width": null,
            "object_fit": null,
            "object_position": null,
            "order": null,
            "overflow": null,
            "overflow_x": null,
            "overflow_y": null,
            "padding": null,
            "right": null,
            "top": null,
            "visibility": null,
            "width": null
          }
        },
        "f486b6e39f3146f88b8709550052b7e4": {
          "model_module": "@jupyter-widgets/controls",
          "model_name": "DescriptionStyleModel",
          "model_module_version": "1.5.0",
          "state": {
            "_model_module": "@jupyter-widgets/controls",
            "_model_module_version": "1.5.0",
            "_model_name": "DescriptionStyleModel",
            "_view_count": null,
            "_view_module": "@jupyter-widgets/base",
            "_view_module_version": "1.2.0",
            "_view_name": "StyleView",
            "description_width": ""
          }
        },
        "1efa8a090c3142d5b6ded85ae3476f59": {
          "model_module": "@jupyter-widgets/controls",
          "model_name": "HBoxModel",
          "model_module_version": "1.5.0",
          "state": {
            "_dom_classes": [],
            "_model_module": "@jupyter-widgets/controls",
            "_model_module_version": "1.5.0",
            "_model_name": "HBoxModel",
            "_view_count": null,
            "_view_module": "@jupyter-widgets/controls",
            "_view_module_version": "1.5.0",
            "_view_name": "HBoxView",
            "box_style": "",
            "children": [
              "IPY_MODEL_dd696f2c66ba431388979eb55f989926",
              "IPY_MODEL_1e580debba984eddbd6d13b31d8d2224",
              "IPY_MODEL_cbdba8fcea894202a74642d272a001f8"
            ],
            "layout": "IPY_MODEL_a825f9cbadaa45bd880f32ac24419a5d"
          }
        },
        "dd696f2c66ba431388979eb55f989926": {
          "model_module": "@jupyter-widgets/controls",
          "model_name": "HTMLModel",
          "model_module_version": "1.5.0",
          "state": {
            "_dom_classes": [],
            "_model_module": "@jupyter-widgets/controls",
            "_model_module_version": "1.5.0",
            "_model_name": "HTMLModel",
            "_view_count": null,
            "_view_module": "@jupyter-widgets/controls",
            "_view_module_version": "1.5.0",
            "_view_name": "HTMLView",
            "description": "",
            "description_tooltip": null,
            "layout": "IPY_MODEL_f76ae5307475487586bfd89c05ae234c",
            "placeholder": "​",
            "style": "IPY_MODEL_6c2c267821c543949ca025d6eb57eec5",
            "value": "100%"
          }
        },
        "1e580debba984eddbd6d13b31d8d2224": {
          "model_module": "@jupyter-widgets/controls",
          "model_name": "FloatProgressModel",
          "model_module_version": "1.5.0",
          "state": {
            "_dom_classes": [],
            "_model_module": "@jupyter-widgets/controls",
            "_model_module_version": "1.5.0",
            "_model_name": "FloatProgressModel",
            "_view_count": null,
            "_view_module": "@jupyter-widgets/controls",
            "_view_module_version": "1.5.0",
            "_view_name": "ProgressView",
            "bar_style": "success",
            "description": "",
            "description_tooltip": null,
            "layout": "IPY_MODEL_d5a4eff2db834eaeb5fe3a85ca1a2290",
            "max": 1563,
            "min": 0,
            "orientation": "horizontal",
            "style": "IPY_MODEL_f0497e7a51154fcc8daaeb5a8568b4e8",
            "value": 1563
          }
        },
        "cbdba8fcea894202a74642d272a001f8": {
          "model_module": "@jupyter-widgets/controls",
          "model_name": "HTMLModel",
          "model_module_version": "1.5.0",
          "state": {
            "_dom_classes": [],
            "_model_module": "@jupyter-widgets/controls",
            "_model_module_version": "1.5.0",
            "_model_name": "HTMLModel",
            "_view_count": null,
            "_view_module": "@jupyter-widgets/controls",
            "_view_module_version": "1.5.0",
            "_view_name": "HTMLView",
            "description": "",
            "description_tooltip": null,
            "layout": "IPY_MODEL_eb5cb0039f86428da83d79c042b8b74b",
            "placeholder": "​",
            "style": "IPY_MODEL_bd3f275ce3754fd98f9f4828c212e521",
            "value": " 1563/1563 [02:50&lt;00:00, 11.93it/s]"
          }
        },
        "a825f9cbadaa45bd880f32ac24419a5d": {
          "model_module": "@jupyter-widgets/base",
          "model_name": "LayoutModel",
          "model_module_version": "1.2.0",
          "state": {
            "_model_module": "@jupyter-widgets/base",
            "_model_module_version": "1.2.0",
            "_model_name": "LayoutModel",
            "_view_count": null,
            "_view_module": "@jupyter-widgets/base",
            "_view_module_version": "1.2.0",
            "_view_name": "LayoutView",
            "align_content": null,
            "align_items": null,
            "align_self": null,
            "border": null,
            "bottom": null,
            "display": null,
            "flex": null,
            "flex_flow": null,
            "grid_area": null,
            "grid_auto_columns": null,
            "grid_auto_flow": null,
            "grid_auto_rows": null,
            "grid_column": null,
            "grid_gap": null,
            "grid_row": null,
            "grid_template_areas": null,
            "grid_template_columns": null,
            "grid_template_rows": null,
            "height": null,
            "justify_content": null,
            "justify_items": null,
            "left": null,
            "margin": null,
            "max_height": null,
            "max_width": null,
            "min_height": null,
            "min_width": null,
            "object_fit": null,
            "object_position": null,
            "order": null,
            "overflow": null,
            "overflow_x": null,
            "overflow_y": null,
            "padding": null,
            "right": null,
            "top": null,
            "visibility": null,
            "width": null
          }
        },
        "f76ae5307475487586bfd89c05ae234c": {
          "model_module": "@jupyter-widgets/base",
          "model_name": "LayoutModel",
          "model_module_version": "1.2.0",
          "state": {
            "_model_module": "@jupyter-widgets/base",
            "_model_module_version": "1.2.0",
            "_model_name": "LayoutModel",
            "_view_count": null,
            "_view_module": "@jupyter-widgets/base",
            "_view_module_version": "1.2.0",
            "_view_name": "LayoutView",
            "align_content": null,
            "align_items": null,
            "align_self": null,
            "border": null,
            "bottom": null,
            "display": null,
            "flex": null,
            "flex_flow": null,
            "grid_area": null,
            "grid_auto_columns": null,
            "grid_auto_flow": null,
            "grid_auto_rows": null,
            "grid_column": null,
            "grid_gap": null,
            "grid_row": null,
            "grid_template_areas": null,
            "grid_template_columns": null,
            "grid_template_rows": null,
            "height": null,
            "justify_content": null,
            "justify_items": null,
            "left": null,
            "margin": null,
            "max_height": null,
            "max_width": null,
            "min_height": null,
            "min_width": null,
            "object_fit": null,
            "object_position": null,
            "order": null,
            "overflow": null,
            "overflow_x": null,
            "overflow_y": null,
            "padding": null,
            "right": null,
            "top": null,
            "visibility": null,
            "width": null
          }
        },
        "6c2c267821c543949ca025d6eb57eec5": {
          "model_module": "@jupyter-widgets/controls",
          "model_name": "DescriptionStyleModel",
          "model_module_version": "1.5.0",
          "state": {
            "_model_module": "@jupyter-widgets/controls",
            "_model_module_version": "1.5.0",
            "_model_name": "DescriptionStyleModel",
            "_view_count": null,
            "_view_module": "@jupyter-widgets/base",
            "_view_module_version": "1.2.0",
            "_view_name": "StyleView",
            "description_width": ""
          }
        },
        "d5a4eff2db834eaeb5fe3a85ca1a2290": {
          "model_module": "@jupyter-widgets/base",
          "model_name": "LayoutModel",
          "model_module_version": "1.2.0",
          "state": {
            "_model_module": "@jupyter-widgets/base",
            "_model_module_version": "1.2.0",
            "_model_name": "LayoutModel",
            "_view_count": null,
            "_view_module": "@jupyter-widgets/base",
            "_view_module_version": "1.2.0",
            "_view_name": "LayoutView",
            "align_content": null,
            "align_items": null,
            "align_self": null,
            "border": null,
            "bottom": null,
            "display": null,
            "flex": null,
            "flex_flow": null,
            "grid_area": null,
            "grid_auto_columns": null,
            "grid_auto_flow": null,
            "grid_auto_rows": null,
            "grid_column": null,
            "grid_gap": null,
            "grid_row": null,
            "grid_template_areas": null,
            "grid_template_columns": null,
            "grid_template_rows": null,
            "height": null,
            "justify_content": null,
            "justify_items": null,
            "left": null,
            "margin": null,
            "max_height": null,
            "max_width": null,
            "min_height": null,
            "min_width": null,
            "object_fit": null,
            "object_position": null,
            "order": null,
            "overflow": null,
            "overflow_x": null,
            "overflow_y": null,
            "padding": null,
            "right": null,
            "top": null,
            "visibility": null,
            "width": null
          }
        },
        "f0497e7a51154fcc8daaeb5a8568b4e8": {
          "model_module": "@jupyter-widgets/controls",
          "model_name": "ProgressStyleModel",
          "model_module_version": "1.5.0",
          "state": {
            "_model_module": "@jupyter-widgets/controls",
            "_model_module_version": "1.5.0",
            "_model_name": "ProgressStyleModel",
            "_view_count": null,
            "_view_module": "@jupyter-widgets/base",
            "_view_module_version": "1.2.0",
            "_view_name": "StyleView",
            "bar_color": null,
            "description_width": ""
          }
        },
        "eb5cb0039f86428da83d79c042b8b74b": {
          "model_module": "@jupyter-widgets/base",
          "model_name": "LayoutModel",
          "model_module_version": "1.2.0",
          "state": {
            "_model_module": "@jupyter-widgets/base",
            "_model_module_version": "1.2.0",
            "_model_name": "LayoutModel",
            "_view_count": null,
            "_view_module": "@jupyter-widgets/base",
            "_view_module_version": "1.2.0",
            "_view_name": "LayoutView",
            "align_content": null,
            "align_items": null,
            "align_self": null,
            "border": null,
            "bottom": null,
            "display": null,
            "flex": null,
            "flex_flow": null,
            "grid_area": null,
            "grid_auto_columns": null,
            "grid_auto_flow": null,
            "grid_auto_rows": null,
            "grid_column": null,
            "grid_gap": null,
            "grid_row": null,
            "grid_template_areas": null,
            "grid_template_columns": null,
            "grid_template_rows": null,
            "height": null,
            "justify_content": null,
            "justify_items": null,
            "left": null,
            "margin": null,
            "max_height": null,
            "max_width": null,
            "min_height": null,
            "min_width": null,
            "object_fit": null,
            "object_position": null,
            "order": null,
            "overflow": null,
            "overflow_x": null,
            "overflow_y": null,
            "padding": null,
            "right": null,
            "top": null,
            "visibility": null,
            "width": null
          }
        },
        "bd3f275ce3754fd98f9f4828c212e521": {
          "model_module": "@jupyter-widgets/controls",
          "model_name": "DescriptionStyleModel",
          "model_module_version": "1.5.0",
          "state": {
            "_model_module": "@jupyter-widgets/controls",
            "_model_module_version": "1.5.0",
            "_model_name": "DescriptionStyleModel",
            "_view_count": null,
            "_view_module": "@jupyter-widgets/base",
            "_view_module_version": "1.2.0",
            "_view_name": "StyleView",
            "description_width": ""
          }
        },
        "8655b330dce845479a4b5abce6d304d3": {
          "model_module": "@jupyter-widgets/controls",
          "model_name": "HBoxModel",
          "model_module_version": "1.5.0",
          "state": {
            "_dom_classes": [],
            "_model_module": "@jupyter-widgets/controls",
            "_model_module_version": "1.5.0",
            "_model_name": "HBoxModel",
            "_view_count": null,
            "_view_module": "@jupyter-widgets/controls",
            "_view_module_version": "1.5.0",
            "_view_name": "HBoxView",
            "box_style": "",
            "children": [
              "IPY_MODEL_6ea44c201c3f4c19a6afe63c7d94b144",
              "IPY_MODEL_6b02091a1c134fdeb85958da14a300d0",
              "IPY_MODEL_b1f21d59e4be49c3becba563e12ac8d6"
            ],
            "layout": "IPY_MODEL_8b43169b4e304669ba3f2635b9464e3a"
          }
        },
        "6ea44c201c3f4c19a6afe63c7d94b144": {
          "model_module": "@jupyter-widgets/controls",
          "model_name": "HTMLModel",
          "model_module_version": "1.5.0",
          "state": {
            "_dom_classes": [],
            "_model_module": "@jupyter-widgets/controls",
            "_model_module_version": "1.5.0",
            "_model_name": "HTMLModel",
            "_view_count": null,
            "_view_module": "@jupyter-widgets/controls",
            "_view_module_version": "1.5.0",
            "_view_name": "HTMLView",
            "description": "",
            "description_tooltip": null,
            "layout": "IPY_MODEL_9b1e047361674024bc62bb7a5ef31791",
            "placeholder": "​",
            "style": "IPY_MODEL_2b303ceb95a24a74ac8505206816af0e",
            "value": "100%"
          }
        },
        "6b02091a1c134fdeb85958da14a300d0": {
          "model_module": "@jupyter-widgets/controls",
          "model_name": "FloatProgressModel",
          "model_module_version": "1.5.0",
          "state": {
            "_dom_classes": [],
            "_model_module": "@jupyter-widgets/controls",
            "_model_module_version": "1.5.0",
            "_model_name": "FloatProgressModel",
            "_view_count": null,
            "_view_module": "@jupyter-widgets/controls",
            "_view_module_version": "1.5.0",
            "_view_name": "ProgressView",
            "bar_style": "success",
            "description": "",
            "description_tooltip": null,
            "layout": "IPY_MODEL_d14893b3877d4beb84e0ddc64b7b9c42",
            "max": 1563,
            "min": 0,
            "orientation": "horizontal",
            "style": "IPY_MODEL_b06d18ef0fdc4928b4d9bd25b0528d88",
            "value": 1563
          }
        },
        "b1f21d59e4be49c3becba563e12ac8d6": {
          "model_module": "@jupyter-widgets/controls",
          "model_name": "HTMLModel",
          "model_module_version": "1.5.0",
          "state": {
            "_dom_classes": [],
            "_model_module": "@jupyter-widgets/controls",
            "_model_module_version": "1.5.0",
            "_model_name": "HTMLModel",
            "_view_count": null,
            "_view_module": "@jupyter-widgets/controls",
            "_view_module_version": "1.5.0",
            "_view_name": "HTMLView",
            "description": "",
            "description_tooltip": null,
            "layout": "IPY_MODEL_2fd1ec9f1ae349718a60f1de22ba37d7",
            "placeholder": "​",
            "style": "IPY_MODEL_8ce5ab5c3bc24c86983613ce499b8a02",
            "value": " 1563/1563 [02:28&lt;00:00, 14.05it/s]"
          }
        },
        "8b43169b4e304669ba3f2635b9464e3a": {
          "model_module": "@jupyter-widgets/base",
          "model_name": "LayoutModel",
          "model_module_version": "1.2.0",
          "state": {
            "_model_module": "@jupyter-widgets/base",
            "_model_module_version": "1.2.0",
            "_model_name": "LayoutModel",
            "_view_count": null,
            "_view_module": "@jupyter-widgets/base",
            "_view_module_version": "1.2.0",
            "_view_name": "LayoutView",
            "align_content": null,
            "align_items": null,
            "align_self": null,
            "border": null,
            "bottom": null,
            "display": null,
            "flex": null,
            "flex_flow": null,
            "grid_area": null,
            "grid_auto_columns": null,
            "grid_auto_flow": null,
            "grid_auto_rows": null,
            "grid_column": null,
            "grid_gap": null,
            "grid_row": null,
            "grid_template_areas": null,
            "grid_template_columns": null,
            "grid_template_rows": null,
            "height": null,
            "justify_content": null,
            "justify_items": null,
            "left": null,
            "margin": null,
            "max_height": null,
            "max_width": null,
            "min_height": null,
            "min_width": null,
            "object_fit": null,
            "object_position": null,
            "order": null,
            "overflow": null,
            "overflow_x": null,
            "overflow_y": null,
            "padding": null,
            "right": null,
            "top": null,
            "visibility": null,
            "width": null
          }
        },
        "9b1e047361674024bc62bb7a5ef31791": {
          "model_module": "@jupyter-widgets/base",
          "model_name": "LayoutModel",
          "model_module_version": "1.2.0",
          "state": {
            "_model_module": "@jupyter-widgets/base",
            "_model_module_version": "1.2.0",
            "_model_name": "LayoutModel",
            "_view_count": null,
            "_view_module": "@jupyter-widgets/base",
            "_view_module_version": "1.2.0",
            "_view_name": "LayoutView",
            "align_content": null,
            "align_items": null,
            "align_self": null,
            "border": null,
            "bottom": null,
            "display": null,
            "flex": null,
            "flex_flow": null,
            "grid_area": null,
            "grid_auto_columns": null,
            "grid_auto_flow": null,
            "grid_auto_rows": null,
            "grid_column": null,
            "grid_gap": null,
            "grid_row": null,
            "grid_template_areas": null,
            "grid_template_columns": null,
            "grid_template_rows": null,
            "height": null,
            "justify_content": null,
            "justify_items": null,
            "left": null,
            "margin": null,
            "max_height": null,
            "max_width": null,
            "min_height": null,
            "min_width": null,
            "object_fit": null,
            "object_position": null,
            "order": null,
            "overflow": null,
            "overflow_x": null,
            "overflow_y": null,
            "padding": null,
            "right": null,
            "top": null,
            "visibility": null,
            "width": null
          }
        },
        "2b303ceb95a24a74ac8505206816af0e": {
          "model_module": "@jupyter-widgets/controls",
          "model_name": "DescriptionStyleModel",
          "model_module_version": "1.5.0",
          "state": {
            "_model_module": "@jupyter-widgets/controls",
            "_model_module_version": "1.5.0",
            "_model_name": "DescriptionStyleModel",
            "_view_count": null,
            "_view_module": "@jupyter-widgets/base",
            "_view_module_version": "1.2.0",
            "_view_name": "StyleView",
            "description_width": ""
          }
        },
        "d14893b3877d4beb84e0ddc64b7b9c42": {
          "model_module": "@jupyter-widgets/base",
          "model_name": "LayoutModel",
          "model_module_version": "1.2.0",
          "state": {
            "_model_module": "@jupyter-widgets/base",
            "_model_module_version": "1.2.0",
            "_model_name": "LayoutModel",
            "_view_count": null,
            "_view_module": "@jupyter-widgets/base",
            "_view_module_version": "1.2.0",
            "_view_name": "LayoutView",
            "align_content": null,
            "align_items": null,
            "align_self": null,
            "border": null,
            "bottom": null,
            "display": null,
            "flex": null,
            "flex_flow": null,
            "grid_area": null,
            "grid_auto_columns": null,
            "grid_auto_flow": null,
            "grid_auto_rows": null,
            "grid_column": null,
            "grid_gap": null,
            "grid_row": null,
            "grid_template_areas": null,
            "grid_template_columns": null,
            "grid_template_rows": null,
            "height": null,
            "justify_content": null,
            "justify_items": null,
            "left": null,
            "margin": null,
            "max_height": null,
            "max_width": null,
            "min_height": null,
            "min_width": null,
            "object_fit": null,
            "object_position": null,
            "order": null,
            "overflow": null,
            "overflow_x": null,
            "overflow_y": null,
            "padding": null,
            "right": null,
            "top": null,
            "visibility": null,
            "width": null
          }
        },
        "b06d18ef0fdc4928b4d9bd25b0528d88": {
          "model_module": "@jupyter-widgets/controls",
          "model_name": "ProgressStyleModel",
          "model_module_version": "1.5.0",
          "state": {
            "_model_module": "@jupyter-widgets/controls",
            "_model_module_version": "1.5.0",
            "_model_name": "ProgressStyleModel",
            "_view_count": null,
            "_view_module": "@jupyter-widgets/base",
            "_view_module_version": "1.2.0",
            "_view_name": "StyleView",
            "bar_color": null,
            "description_width": ""
          }
        },
        "2fd1ec9f1ae349718a60f1de22ba37d7": {
          "model_module": "@jupyter-widgets/base",
          "model_name": "LayoutModel",
          "model_module_version": "1.2.0",
          "state": {
            "_model_module": "@jupyter-widgets/base",
            "_model_module_version": "1.2.0",
            "_model_name": "LayoutModel",
            "_view_count": null,
            "_view_module": "@jupyter-widgets/base",
            "_view_module_version": "1.2.0",
            "_view_name": "LayoutView",
            "align_content": null,
            "align_items": null,
            "align_self": null,
            "border": null,
            "bottom": null,
            "display": null,
            "flex": null,
            "flex_flow": null,
            "grid_area": null,
            "grid_auto_columns": null,
            "grid_auto_flow": null,
            "grid_auto_rows": null,
            "grid_column": null,
            "grid_gap": null,
            "grid_row": null,
            "grid_template_areas": null,
            "grid_template_columns": null,
            "grid_template_rows": null,
            "height": null,
            "justify_content": null,
            "justify_items": null,
            "left": null,
            "margin": null,
            "max_height": null,
            "max_width": null,
            "min_height": null,
            "min_width": null,
            "object_fit": null,
            "object_position": null,
            "order": null,
            "overflow": null,
            "overflow_x": null,
            "overflow_y": null,
            "padding": null,
            "right": null,
            "top": null,
            "visibility": null,
            "width": null
          }
        },
        "8ce5ab5c3bc24c86983613ce499b8a02": {
          "model_module": "@jupyter-widgets/controls",
          "model_name": "DescriptionStyleModel",
          "model_module_version": "1.5.0",
          "state": {
            "_model_module": "@jupyter-widgets/controls",
            "_model_module_version": "1.5.0",
            "_model_name": "DescriptionStyleModel",
            "_view_count": null,
            "_view_module": "@jupyter-widgets/base",
            "_view_module_version": "1.2.0",
            "_view_name": "StyleView",
            "description_width": ""
          }
        },
        "9817fb703047459fa66bd593c05ac0fa": {
          "model_module": "@jupyter-widgets/controls",
          "model_name": "HBoxModel",
          "model_module_version": "1.5.0",
          "state": {
            "_dom_classes": [],
            "_model_module": "@jupyter-widgets/controls",
            "_model_module_version": "1.5.0",
            "_model_name": "HBoxModel",
            "_view_count": null,
            "_view_module": "@jupyter-widgets/controls",
            "_view_module_version": "1.5.0",
            "_view_name": "HBoxView",
            "box_style": "",
            "children": [
              "IPY_MODEL_a977efaa61df4f1fb9769117ce0f68ac",
              "IPY_MODEL_17f0cfa4e03b42679fd26eaa4fad15c4",
              "IPY_MODEL_f32f274c63044d0eb491dd49c6ca7f40"
            ],
            "layout": "IPY_MODEL_5c3f858cff4d4d5eb171ecefdfd73d45"
          }
        },
        "a977efaa61df4f1fb9769117ce0f68ac": {
          "model_module": "@jupyter-widgets/controls",
          "model_name": "HTMLModel",
          "model_module_version": "1.5.0",
          "state": {
            "_dom_classes": [],
            "_model_module": "@jupyter-widgets/controls",
            "_model_module_version": "1.5.0",
            "_model_name": "HTMLModel",
            "_view_count": null,
            "_view_module": "@jupyter-widgets/controls",
            "_view_module_version": "1.5.0",
            "_view_name": "HTMLView",
            "description": "",
            "description_tooltip": null,
            "layout": "IPY_MODEL_d4d64e23e991441b84b1b19c551fc3ec",
            "placeholder": "​",
            "style": "IPY_MODEL_e427af3f41f04569bd832aaea04ee0a1",
            "value": "100%"
          }
        },
        "17f0cfa4e03b42679fd26eaa4fad15c4": {
          "model_module": "@jupyter-widgets/controls",
          "model_name": "FloatProgressModel",
          "model_module_version": "1.5.0",
          "state": {
            "_dom_classes": [],
            "_model_module": "@jupyter-widgets/controls",
            "_model_module_version": "1.5.0",
            "_model_name": "FloatProgressModel",
            "_view_count": null,
            "_view_module": "@jupyter-widgets/controls",
            "_view_module_version": "1.5.0",
            "_view_name": "ProgressView",
            "bar_style": "success",
            "description": "",
            "description_tooltip": null,
            "layout": "IPY_MODEL_90d557e5e36e4b8196123967a409f061",
            "max": 1563,
            "min": 0,
            "orientation": "horizontal",
            "style": "IPY_MODEL_50bc6f2ac4b246cb9fc73f604af1d81c",
            "value": 1563
          }
        },
        "f32f274c63044d0eb491dd49c6ca7f40": {
          "model_module": "@jupyter-widgets/controls",
          "model_name": "HTMLModel",
          "model_module_version": "1.5.0",
          "state": {
            "_dom_classes": [],
            "_model_module": "@jupyter-widgets/controls",
            "_model_module_version": "1.5.0",
            "_model_name": "HTMLModel",
            "_view_count": null,
            "_view_module": "@jupyter-widgets/controls",
            "_view_module_version": "1.5.0",
            "_view_name": "HTMLView",
            "description": "",
            "description_tooltip": null,
            "layout": "IPY_MODEL_bd670c119ebc4e13b878cc7a5e8a86a7",
            "placeholder": "​",
            "style": "IPY_MODEL_01c4f0c22fc54d3a9155f302e44e660b",
            "value": " 1563/1563 [02:10&lt;00:00,  9.14it/s]"
          }
        },
        "5c3f858cff4d4d5eb171ecefdfd73d45": {
          "model_module": "@jupyter-widgets/base",
          "model_name": "LayoutModel",
          "model_module_version": "1.2.0",
          "state": {
            "_model_module": "@jupyter-widgets/base",
            "_model_module_version": "1.2.0",
            "_model_name": "LayoutModel",
            "_view_count": null,
            "_view_module": "@jupyter-widgets/base",
            "_view_module_version": "1.2.0",
            "_view_name": "LayoutView",
            "align_content": null,
            "align_items": null,
            "align_self": null,
            "border": null,
            "bottom": null,
            "display": null,
            "flex": null,
            "flex_flow": null,
            "grid_area": null,
            "grid_auto_columns": null,
            "grid_auto_flow": null,
            "grid_auto_rows": null,
            "grid_column": null,
            "grid_gap": null,
            "grid_row": null,
            "grid_template_areas": null,
            "grid_template_columns": null,
            "grid_template_rows": null,
            "height": null,
            "justify_content": null,
            "justify_items": null,
            "left": null,
            "margin": null,
            "max_height": null,
            "max_width": null,
            "min_height": null,
            "min_width": null,
            "object_fit": null,
            "object_position": null,
            "order": null,
            "overflow": null,
            "overflow_x": null,
            "overflow_y": null,
            "padding": null,
            "right": null,
            "top": null,
            "visibility": null,
            "width": null
          }
        },
        "d4d64e23e991441b84b1b19c551fc3ec": {
          "model_module": "@jupyter-widgets/base",
          "model_name": "LayoutModel",
          "model_module_version": "1.2.0",
          "state": {
            "_model_module": "@jupyter-widgets/base",
            "_model_module_version": "1.2.0",
            "_model_name": "LayoutModel",
            "_view_count": null,
            "_view_module": "@jupyter-widgets/base",
            "_view_module_version": "1.2.0",
            "_view_name": "LayoutView",
            "align_content": null,
            "align_items": null,
            "align_self": null,
            "border": null,
            "bottom": null,
            "display": null,
            "flex": null,
            "flex_flow": null,
            "grid_area": null,
            "grid_auto_columns": null,
            "grid_auto_flow": null,
            "grid_auto_rows": null,
            "grid_column": null,
            "grid_gap": null,
            "grid_row": null,
            "grid_template_areas": null,
            "grid_template_columns": null,
            "grid_template_rows": null,
            "height": null,
            "justify_content": null,
            "justify_items": null,
            "left": null,
            "margin": null,
            "max_height": null,
            "max_width": null,
            "min_height": null,
            "min_width": null,
            "object_fit": null,
            "object_position": null,
            "order": null,
            "overflow": null,
            "overflow_x": null,
            "overflow_y": null,
            "padding": null,
            "right": null,
            "top": null,
            "visibility": null,
            "width": null
          }
        },
        "e427af3f41f04569bd832aaea04ee0a1": {
          "model_module": "@jupyter-widgets/controls",
          "model_name": "DescriptionStyleModel",
          "model_module_version": "1.5.0",
          "state": {
            "_model_module": "@jupyter-widgets/controls",
            "_model_module_version": "1.5.0",
            "_model_name": "DescriptionStyleModel",
            "_view_count": null,
            "_view_module": "@jupyter-widgets/base",
            "_view_module_version": "1.2.0",
            "_view_name": "StyleView",
            "description_width": ""
          }
        },
        "90d557e5e36e4b8196123967a409f061": {
          "model_module": "@jupyter-widgets/base",
          "model_name": "LayoutModel",
          "model_module_version": "1.2.0",
          "state": {
            "_model_module": "@jupyter-widgets/base",
            "_model_module_version": "1.2.0",
            "_model_name": "LayoutModel",
            "_view_count": null,
            "_view_module": "@jupyter-widgets/base",
            "_view_module_version": "1.2.0",
            "_view_name": "LayoutView",
            "align_content": null,
            "align_items": null,
            "align_self": null,
            "border": null,
            "bottom": null,
            "display": null,
            "flex": null,
            "flex_flow": null,
            "grid_area": null,
            "grid_auto_columns": null,
            "grid_auto_flow": null,
            "grid_auto_rows": null,
            "grid_column": null,
            "grid_gap": null,
            "grid_row": null,
            "grid_template_areas": null,
            "grid_template_columns": null,
            "grid_template_rows": null,
            "height": null,
            "justify_content": null,
            "justify_items": null,
            "left": null,
            "margin": null,
            "max_height": null,
            "max_width": null,
            "min_height": null,
            "min_width": null,
            "object_fit": null,
            "object_position": null,
            "order": null,
            "overflow": null,
            "overflow_x": null,
            "overflow_y": null,
            "padding": null,
            "right": null,
            "top": null,
            "visibility": null,
            "width": null
          }
        },
        "50bc6f2ac4b246cb9fc73f604af1d81c": {
          "model_module": "@jupyter-widgets/controls",
          "model_name": "ProgressStyleModel",
          "model_module_version": "1.5.0",
          "state": {
            "_model_module": "@jupyter-widgets/controls",
            "_model_module_version": "1.5.0",
            "_model_name": "ProgressStyleModel",
            "_view_count": null,
            "_view_module": "@jupyter-widgets/base",
            "_view_module_version": "1.2.0",
            "_view_name": "StyleView",
            "bar_color": null,
            "description_width": ""
          }
        },
        "bd670c119ebc4e13b878cc7a5e8a86a7": {
          "model_module": "@jupyter-widgets/base",
          "model_name": "LayoutModel",
          "model_module_version": "1.2.0",
          "state": {
            "_model_module": "@jupyter-widgets/base",
            "_model_module_version": "1.2.0",
            "_model_name": "LayoutModel",
            "_view_count": null,
            "_view_module": "@jupyter-widgets/base",
            "_view_module_version": "1.2.0",
            "_view_name": "LayoutView",
            "align_content": null,
            "align_items": null,
            "align_self": null,
            "border": null,
            "bottom": null,
            "display": null,
            "flex": null,
            "flex_flow": null,
            "grid_area": null,
            "grid_auto_columns": null,
            "grid_auto_flow": null,
            "grid_auto_rows": null,
            "grid_column": null,
            "grid_gap": null,
            "grid_row": null,
            "grid_template_areas": null,
            "grid_template_columns": null,
            "grid_template_rows": null,
            "height": null,
            "justify_content": null,
            "justify_items": null,
            "left": null,
            "margin": null,
            "max_height": null,
            "max_width": null,
            "min_height": null,
            "min_width": null,
            "object_fit": null,
            "object_position": null,
            "order": null,
            "overflow": null,
            "overflow_x": null,
            "overflow_y": null,
            "padding": null,
            "right": null,
            "top": null,
            "visibility": null,
            "width": null
          }
        },
        "01c4f0c22fc54d3a9155f302e44e660b": {
          "model_module": "@jupyter-widgets/controls",
          "model_name": "DescriptionStyleModel",
          "model_module_version": "1.5.0",
          "state": {
            "_model_module": "@jupyter-widgets/controls",
            "_model_module_version": "1.5.0",
            "_model_name": "DescriptionStyleModel",
            "_view_count": null,
            "_view_module": "@jupyter-widgets/base",
            "_view_module_version": "1.2.0",
            "_view_name": "StyleView",
            "description_width": ""
          }
        },
        "38a10b1b807b47d2a0a664946056cbb6": {
          "model_module": "@jupyter-widgets/controls",
          "model_name": "HBoxModel",
          "model_module_version": "1.5.0",
          "state": {
            "_dom_classes": [],
            "_model_module": "@jupyter-widgets/controls",
            "_model_module_version": "1.5.0",
            "_model_name": "HBoxModel",
            "_view_count": null,
            "_view_module": "@jupyter-widgets/controls",
            "_view_module_version": "1.5.0",
            "_view_name": "HBoxView",
            "box_style": "",
            "children": [
              "IPY_MODEL_fce41ef7efaf4f80ad1875e46f4f8de5",
              "IPY_MODEL_53574e581b3040a282cea0433890a105",
              "IPY_MODEL_762b1e42c6374df49b058eb4649a0b56"
            ],
            "layout": "IPY_MODEL_8e5c2ce464324aed9050f49fbe54bcf9"
          }
        },
        "fce41ef7efaf4f80ad1875e46f4f8de5": {
          "model_module": "@jupyter-widgets/controls",
          "model_name": "HTMLModel",
          "model_module_version": "1.5.0",
          "state": {
            "_dom_classes": [],
            "_model_module": "@jupyter-widgets/controls",
            "_model_module_version": "1.5.0",
            "_model_name": "HTMLModel",
            "_view_count": null,
            "_view_module": "@jupyter-widgets/controls",
            "_view_module_version": "1.5.0",
            "_view_name": "HTMLView",
            "description": "",
            "description_tooltip": null,
            "layout": "IPY_MODEL_38bb5fd9e51d429d95c1e8aa93388b80",
            "placeholder": "​",
            "style": "IPY_MODEL_e3395fcf7e4145dd87abf1f969b9dd60",
            "value": "100%"
          }
        },
        "53574e581b3040a282cea0433890a105": {
          "model_module": "@jupyter-widgets/controls",
          "model_name": "FloatProgressModel",
          "model_module_version": "1.5.0",
          "state": {
            "_dom_classes": [],
            "_model_module": "@jupyter-widgets/controls",
            "_model_module_version": "1.5.0",
            "_model_name": "FloatProgressModel",
            "_view_count": null,
            "_view_module": "@jupyter-widgets/controls",
            "_view_module_version": "1.5.0",
            "_view_name": "ProgressView",
            "bar_style": "success",
            "description": "",
            "description_tooltip": null,
            "layout": "IPY_MODEL_c7a5e348f6fe422aabddedf5327028a5",
            "max": 1563,
            "min": 0,
            "orientation": "horizontal",
            "style": "IPY_MODEL_e88a8d0e6776491987237de1602808a1",
            "value": 1563
          }
        },
        "762b1e42c6374df49b058eb4649a0b56": {
          "model_module": "@jupyter-widgets/controls",
          "model_name": "HTMLModel",
          "model_module_version": "1.5.0",
          "state": {
            "_dom_classes": [],
            "_model_module": "@jupyter-widgets/controls",
            "_model_module_version": "1.5.0",
            "_model_name": "HTMLModel",
            "_view_count": null,
            "_view_module": "@jupyter-widgets/controls",
            "_view_module_version": "1.5.0",
            "_view_name": "HTMLView",
            "description": "",
            "description_tooltip": null,
            "layout": "IPY_MODEL_21e26c6161db49749daad099414f8c33",
            "placeholder": "​",
            "style": "IPY_MODEL_ee546663814e4b5aa62a5d7f6ae48c1f",
            "value": " 1563/1563 [02:50&lt;00:00, 13.93it/s]"
          }
        },
        "8e5c2ce464324aed9050f49fbe54bcf9": {
          "model_module": "@jupyter-widgets/base",
          "model_name": "LayoutModel",
          "model_module_version": "1.2.0",
          "state": {
            "_model_module": "@jupyter-widgets/base",
            "_model_module_version": "1.2.0",
            "_model_name": "LayoutModel",
            "_view_count": null,
            "_view_module": "@jupyter-widgets/base",
            "_view_module_version": "1.2.0",
            "_view_name": "LayoutView",
            "align_content": null,
            "align_items": null,
            "align_self": null,
            "border": null,
            "bottom": null,
            "display": null,
            "flex": null,
            "flex_flow": null,
            "grid_area": null,
            "grid_auto_columns": null,
            "grid_auto_flow": null,
            "grid_auto_rows": null,
            "grid_column": null,
            "grid_gap": null,
            "grid_row": null,
            "grid_template_areas": null,
            "grid_template_columns": null,
            "grid_template_rows": null,
            "height": null,
            "justify_content": null,
            "justify_items": null,
            "left": null,
            "margin": null,
            "max_height": null,
            "max_width": null,
            "min_height": null,
            "min_width": null,
            "object_fit": null,
            "object_position": null,
            "order": null,
            "overflow": null,
            "overflow_x": null,
            "overflow_y": null,
            "padding": null,
            "right": null,
            "top": null,
            "visibility": null,
            "width": null
          }
        },
        "38bb5fd9e51d429d95c1e8aa93388b80": {
          "model_module": "@jupyter-widgets/base",
          "model_name": "LayoutModel",
          "model_module_version": "1.2.0",
          "state": {
            "_model_module": "@jupyter-widgets/base",
            "_model_module_version": "1.2.0",
            "_model_name": "LayoutModel",
            "_view_count": null,
            "_view_module": "@jupyter-widgets/base",
            "_view_module_version": "1.2.0",
            "_view_name": "LayoutView",
            "align_content": null,
            "align_items": null,
            "align_self": null,
            "border": null,
            "bottom": null,
            "display": null,
            "flex": null,
            "flex_flow": null,
            "grid_area": null,
            "grid_auto_columns": null,
            "grid_auto_flow": null,
            "grid_auto_rows": null,
            "grid_column": null,
            "grid_gap": null,
            "grid_row": null,
            "grid_template_areas": null,
            "grid_template_columns": null,
            "grid_template_rows": null,
            "height": null,
            "justify_content": null,
            "justify_items": null,
            "left": null,
            "margin": null,
            "max_height": null,
            "max_width": null,
            "min_height": null,
            "min_width": null,
            "object_fit": null,
            "object_position": null,
            "order": null,
            "overflow": null,
            "overflow_x": null,
            "overflow_y": null,
            "padding": null,
            "right": null,
            "top": null,
            "visibility": null,
            "width": null
          }
        },
        "e3395fcf7e4145dd87abf1f969b9dd60": {
          "model_module": "@jupyter-widgets/controls",
          "model_name": "DescriptionStyleModel",
          "model_module_version": "1.5.0",
          "state": {
            "_model_module": "@jupyter-widgets/controls",
            "_model_module_version": "1.5.0",
            "_model_name": "DescriptionStyleModel",
            "_view_count": null,
            "_view_module": "@jupyter-widgets/base",
            "_view_module_version": "1.2.0",
            "_view_name": "StyleView",
            "description_width": ""
          }
        },
        "c7a5e348f6fe422aabddedf5327028a5": {
          "model_module": "@jupyter-widgets/base",
          "model_name": "LayoutModel",
          "model_module_version": "1.2.0",
          "state": {
            "_model_module": "@jupyter-widgets/base",
            "_model_module_version": "1.2.0",
            "_model_name": "LayoutModel",
            "_view_count": null,
            "_view_module": "@jupyter-widgets/base",
            "_view_module_version": "1.2.0",
            "_view_name": "LayoutView",
            "align_content": null,
            "align_items": null,
            "align_self": null,
            "border": null,
            "bottom": null,
            "display": null,
            "flex": null,
            "flex_flow": null,
            "grid_area": null,
            "grid_auto_columns": null,
            "grid_auto_flow": null,
            "grid_auto_rows": null,
            "grid_column": null,
            "grid_gap": null,
            "grid_row": null,
            "grid_template_areas": null,
            "grid_template_columns": null,
            "grid_template_rows": null,
            "height": null,
            "justify_content": null,
            "justify_items": null,
            "left": null,
            "margin": null,
            "max_height": null,
            "max_width": null,
            "min_height": null,
            "min_width": null,
            "object_fit": null,
            "object_position": null,
            "order": null,
            "overflow": null,
            "overflow_x": null,
            "overflow_y": null,
            "padding": null,
            "right": null,
            "top": null,
            "visibility": null,
            "width": null
          }
        },
        "e88a8d0e6776491987237de1602808a1": {
          "model_module": "@jupyter-widgets/controls",
          "model_name": "ProgressStyleModel",
          "model_module_version": "1.5.0",
          "state": {
            "_model_module": "@jupyter-widgets/controls",
            "_model_module_version": "1.5.0",
            "_model_name": "ProgressStyleModel",
            "_view_count": null,
            "_view_module": "@jupyter-widgets/base",
            "_view_module_version": "1.2.0",
            "_view_name": "StyleView",
            "bar_color": null,
            "description_width": ""
          }
        },
        "21e26c6161db49749daad099414f8c33": {
          "model_module": "@jupyter-widgets/base",
          "model_name": "LayoutModel",
          "model_module_version": "1.2.0",
          "state": {
            "_model_module": "@jupyter-widgets/base",
            "_model_module_version": "1.2.0",
            "_model_name": "LayoutModel",
            "_view_count": null,
            "_view_module": "@jupyter-widgets/base",
            "_view_module_version": "1.2.0",
            "_view_name": "LayoutView",
            "align_content": null,
            "align_items": null,
            "align_self": null,
            "border": null,
            "bottom": null,
            "display": null,
            "flex": null,
            "flex_flow": null,
            "grid_area": null,
            "grid_auto_columns": null,
            "grid_auto_flow": null,
            "grid_auto_rows": null,
            "grid_column": null,
            "grid_gap": null,
            "grid_row": null,
            "grid_template_areas": null,
            "grid_template_columns": null,
            "grid_template_rows": null,
            "height": null,
            "justify_content": null,
            "justify_items": null,
            "left": null,
            "margin": null,
            "max_height": null,
            "max_width": null,
            "min_height": null,
            "min_width": null,
            "object_fit": null,
            "object_position": null,
            "order": null,
            "overflow": null,
            "overflow_x": null,
            "overflow_y": null,
            "padding": null,
            "right": null,
            "top": null,
            "visibility": null,
            "width": null
          }
        },
        "ee546663814e4b5aa62a5d7f6ae48c1f": {
          "model_module": "@jupyter-widgets/controls",
          "model_name": "DescriptionStyleModel",
          "model_module_version": "1.5.0",
          "state": {
            "_model_module": "@jupyter-widgets/controls",
            "_model_module_version": "1.5.0",
            "_model_name": "DescriptionStyleModel",
            "_view_count": null,
            "_view_module": "@jupyter-widgets/base",
            "_view_module_version": "1.2.0",
            "_view_name": "StyleView",
            "description_width": ""
          }
        },
        "99b829040f144917818fb3f6171b8b7d": {
          "model_module": "@jupyter-widgets/controls",
          "model_name": "HBoxModel",
          "model_module_version": "1.5.0",
          "state": {
            "_dom_classes": [],
            "_model_module": "@jupyter-widgets/controls",
            "_model_module_version": "1.5.0",
            "_model_name": "HBoxModel",
            "_view_count": null,
            "_view_module": "@jupyter-widgets/controls",
            "_view_module_version": "1.5.0",
            "_view_name": "HBoxView",
            "box_style": "",
            "children": [
              "IPY_MODEL_0e843d811f104b1baafc6099cc8194d4",
              "IPY_MODEL_bce1324d918540aa83c7eac68f598da2",
              "IPY_MODEL_0c8e1b2368a74ad883644c3b20d6c669"
            ],
            "layout": "IPY_MODEL_6d455c4160284b938412c41ce86fa210"
          }
        },
        "0e843d811f104b1baafc6099cc8194d4": {
          "model_module": "@jupyter-widgets/controls",
          "model_name": "HTMLModel",
          "model_module_version": "1.5.0",
          "state": {
            "_dom_classes": [],
            "_model_module": "@jupyter-widgets/controls",
            "_model_module_version": "1.5.0",
            "_model_name": "HTMLModel",
            "_view_count": null,
            "_view_module": "@jupyter-widgets/controls",
            "_view_module_version": "1.5.0",
            "_view_name": "HTMLView",
            "description": "",
            "description_tooltip": null,
            "layout": "IPY_MODEL_7c0b4eb451c9499f85fe2d80dcc8f4d4",
            "placeholder": "​",
            "style": "IPY_MODEL_b7339006384144bcb6df15f777f0499a",
            "value": "100%"
          }
        },
        "bce1324d918540aa83c7eac68f598da2": {
          "model_module": "@jupyter-widgets/controls",
          "model_name": "FloatProgressModel",
          "model_module_version": "1.5.0",
          "state": {
            "_dom_classes": [],
            "_model_module": "@jupyter-widgets/controls",
            "_model_module_version": "1.5.0",
            "_model_name": "FloatProgressModel",
            "_view_count": null,
            "_view_module": "@jupyter-widgets/controls",
            "_view_module_version": "1.5.0",
            "_view_name": "ProgressView",
            "bar_style": "success",
            "description": "",
            "description_tooltip": null,
            "layout": "IPY_MODEL_7044139ce65b4a3297af2592f40a66e5",
            "max": 1563,
            "min": 0,
            "orientation": "horizontal",
            "style": "IPY_MODEL_3b991e7c21c6446b87374d5122ddb518",
            "value": 1563
          }
        },
        "0c8e1b2368a74ad883644c3b20d6c669": {
          "model_module": "@jupyter-widgets/controls",
          "model_name": "HTMLModel",
          "model_module_version": "1.5.0",
          "state": {
            "_dom_classes": [],
            "_model_module": "@jupyter-widgets/controls",
            "_model_module_version": "1.5.0",
            "_model_name": "HTMLModel",
            "_view_count": null,
            "_view_module": "@jupyter-widgets/controls",
            "_view_module_version": "1.5.0",
            "_view_name": "HTMLView",
            "description": "",
            "description_tooltip": null,
            "layout": "IPY_MODEL_f89290beae74487d8e9f33b0ee6c89af",
            "placeholder": "​",
            "style": "IPY_MODEL_5d53ca6c62ac41379956f0f4d42bc0c8",
            "value": " 1563/1563 [02:10&lt;00:00, 10.85it/s]"
          }
        },
        "6d455c4160284b938412c41ce86fa210": {
          "model_module": "@jupyter-widgets/base",
          "model_name": "LayoutModel",
          "model_module_version": "1.2.0",
          "state": {
            "_model_module": "@jupyter-widgets/base",
            "_model_module_version": "1.2.0",
            "_model_name": "LayoutModel",
            "_view_count": null,
            "_view_module": "@jupyter-widgets/base",
            "_view_module_version": "1.2.0",
            "_view_name": "LayoutView",
            "align_content": null,
            "align_items": null,
            "align_self": null,
            "border": null,
            "bottom": null,
            "display": null,
            "flex": null,
            "flex_flow": null,
            "grid_area": null,
            "grid_auto_columns": null,
            "grid_auto_flow": null,
            "grid_auto_rows": null,
            "grid_column": null,
            "grid_gap": null,
            "grid_row": null,
            "grid_template_areas": null,
            "grid_template_columns": null,
            "grid_template_rows": null,
            "height": null,
            "justify_content": null,
            "justify_items": null,
            "left": null,
            "margin": null,
            "max_height": null,
            "max_width": null,
            "min_height": null,
            "min_width": null,
            "object_fit": null,
            "object_position": null,
            "order": null,
            "overflow": null,
            "overflow_x": null,
            "overflow_y": null,
            "padding": null,
            "right": null,
            "top": null,
            "visibility": null,
            "width": null
          }
        },
        "7c0b4eb451c9499f85fe2d80dcc8f4d4": {
          "model_module": "@jupyter-widgets/base",
          "model_name": "LayoutModel",
          "model_module_version": "1.2.0",
          "state": {
            "_model_module": "@jupyter-widgets/base",
            "_model_module_version": "1.2.0",
            "_model_name": "LayoutModel",
            "_view_count": null,
            "_view_module": "@jupyter-widgets/base",
            "_view_module_version": "1.2.0",
            "_view_name": "LayoutView",
            "align_content": null,
            "align_items": null,
            "align_self": null,
            "border": null,
            "bottom": null,
            "display": null,
            "flex": null,
            "flex_flow": null,
            "grid_area": null,
            "grid_auto_columns": null,
            "grid_auto_flow": null,
            "grid_auto_rows": null,
            "grid_column": null,
            "grid_gap": null,
            "grid_row": null,
            "grid_template_areas": null,
            "grid_template_columns": null,
            "grid_template_rows": null,
            "height": null,
            "justify_content": null,
            "justify_items": null,
            "left": null,
            "margin": null,
            "max_height": null,
            "max_width": null,
            "min_height": null,
            "min_width": null,
            "object_fit": null,
            "object_position": null,
            "order": null,
            "overflow": null,
            "overflow_x": null,
            "overflow_y": null,
            "padding": null,
            "right": null,
            "top": null,
            "visibility": null,
            "width": null
          }
        },
        "b7339006384144bcb6df15f777f0499a": {
          "model_module": "@jupyter-widgets/controls",
          "model_name": "DescriptionStyleModel",
          "model_module_version": "1.5.0",
          "state": {
            "_model_module": "@jupyter-widgets/controls",
            "_model_module_version": "1.5.0",
            "_model_name": "DescriptionStyleModel",
            "_view_count": null,
            "_view_module": "@jupyter-widgets/base",
            "_view_module_version": "1.2.0",
            "_view_name": "StyleView",
            "description_width": ""
          }
        },
        "7044139ce65b4a3297af2592f40a66e5": {
          "model_module": "@jupyter-widgets/base",
          "model_name": "LayoutModel",
          "model_module_version": "1.2.0",
          "state": {
            "_model_module": "@jupyter-widgets/base",
            "_model_module_version": "1.2.0",
            "_model_name": "LayoutModel",
            "_view_count": null,
            "_view_module": "@jupyter-widgets/base",
            "_view_module_version": "1.2.0",
            "_view_name": "LayoutView",
            "align_content": null,
            "align_items": null,
            "align_self": null,
            "border": null,
            "bottom": null,
            "display": null,
            "flex": null,
            "flex_flow": null,
            "grid_area": null,
            "grid_auto_columns": null,
            "grid_auto_flow": null,
            "grid_auto_rows": null,
            "grid_column": null,
            "grid_gap": null,
            "grid_row": null,
            "grid_template_areas": null,
            "grid_template_columns": null,
            "grid_template_rows": null,
            "height": null,
            "justify_content": null,
            "justify_items": null,
            "left": null,
            "margin": null,
            "max_height": null,
            "max_width": null,
            "min_height": null,
            "min_width": null,
            "object_fit": null,
            "object_position": null,
            "order": null,
            "overflow": null,
            "overflow_x": null,
            "overflow_y": null,
            "padding": null,
            "right": null,
            "top": null,
            "visibility": null,
            "width": null
          }
        },
        "3b991e7c21c6446b87374d5122ddb518": {
          "model_module": "@jupyter-widgets/controls",
          "model_name": "ProgressStyleModel",
          "model_module_version": "1.5.0",
          "state": {
            "_model_module": "@jupyter-widgets/controls",
            "_model_module_version": "1.5.0",
            "_model_name": "ProgressStyleModel",
            "_view_count": null,
            "_view_module": "@jupyter-widgets/base",
            "_view_module_version": "1.2.0",
            "_view_name": "StyleView",
            "bar_color": null,
            "description_width": ""
          }
        },
        "f89290beae74487d8e9f33b0ee6c89af": {
          "model_module": "@jupyter-widgets/base",
          "model_name": "LayoutModel",
          "model_module_version": "1.2.0",
          "state": {
            "_model_module": "@jupyter-widgets/base",
            "_model_module_version": "1.2.0",
            "_model_name": "LayoutModel",
            "_view_count": null,
            "_view_module": "@jupyter-widgets/base",
            "_view_module_version": "1.2.0",
            "_view_name": "LayoutView",
            "align_content": null,
            "align_items": null,
            "align_self": null,
            "border": null,
            "bottom": null,
            "display": null,
            "flex": null,
            "flex_flow": null,
            "grid_area": null,
            "grid_auto_columns": null,
            "grid_auto_flow": null,
            "grid_auto_rows": null,
            "grid_column": null,
            "grid_gap": null,
            "grid_row": null,
            "grid_template_areas": null,
            "grid_template_columns": null,
            "grid_template_rows": null,
            "height": null,
            "justify_content": null,
            "justify_items": null,
            "left": null,
            "margin": null,
            "max_height": null,
            "max_width": null,
            "min_height": null,
            "min_width": null,
            "object_fit": null,
            "object_position": null,
            "order": null,
            "overflow": null,
            "overflow_x": null,
            "overflow_y": null,
            "padding": null,
            "right": null,
            "top": null,
            "visibility": null,
            "width": null
          }
        },
        "5d53ca6c62ac41379956f0f4d42bc0c8": {
          "model_module": "@jupyter-widgets/controls",
          "model_name": "DescriptionStyleModel",
          "model_module_version": "1.5.0",
          "state": {
            "_model_module": "@jupyter-widgets/controls",
            "_model_module_version": "1.5.0",
            "_model_name": "DescriptionStyleModel",
            "_view_count": null,
            "_view_module": "@jupyter-widgets/base",
            "_view_module_version": "1.2.0",
            "_view_name": "StyleView",
            "description_width": ""
          }
        },
        "d91741cfbfbe408eaa21d89e94cb1d50": {
          "model_module": "@jupyter-widgets/controls",
          "model_name": "HBoxModel",
          "model_module_version": "1.5.0",
          "state": {
            "_dom_classes": [],
            "_model_module": "@jupyter-widgets/controls",
            "_model_module_version": "1.5.0",
            "_model_name": "HBoxModel",
            "_view_count": null,
            "_view_module": "@jupyter-widgets/controls",
            "_view_module_version": "1.5.0",
            "_view_name": "HBoxView",
            "box_style": "",
            "children": [
              "IPY_MODEL_8606697a0388488db0e5248bb9501bf4",
              "IPY_MODEL_a17de5e8dc764a4bba4ffbda35dee78c",
              "IPY_MODEL_c3cb7471a5524e1abf432f065744cfa9"
            ],
            "layout": "IPY_MODEL_ce9b33307b1e4342b32f6a4e04eb0ea2"
          }
        },
        "8606697a0388488db0e5248bb9501bf4": {
          "model_module": "@jupyter-widgets/controls",
          "model_name": "HTMLModel",
          "model_module_version": "1.5.0",
          "state": {
            "_dom_classes": [],
            "_model_module": "@jupyter-widgets/controls",
            "_model_module_version": "1.5.0",
            "_model_name": "HTMLModel",
            "_view_count": null,
            "_view_module": "@jupyter-widgets/controls",
            "_view_module_version": "1.5.0",
            "_view_name": "HTMLView",
            "description": "",
            "description_tooltip": null,
            "layout": "IPY_MODEL_03014168abc84637981bcadb23b5d530",
            "placeholder": "​",
            "style": "IPY_MODEL_f356f0bb1b434e55b56844bad14ab3df",
            "value": "100%"
          }
        },
        "a17de5e8dc764a4bba4ffbda35dee78c": {
          "model_module": "@jupyter-widgets/controls",
          "model_name": "FloatProgressModel",
          "model_module_version": "1.5.0",
          "state": {
            "_dom_classes": [],
            "_model_module": "@jupyter-widgets/controls",
            "_model_module_version": "1.5.0",
            "_model_name": "FloatProgressModel",
            "_view_count": null,
            "_view_module": "@jupyter-widgets/controls",
            "_view_module_version": "1.5.0",
            "_view_name": "ProgressView",
            "bar_style": "success",
            "description": "",
            "description_tooltip": null,
            "layout": "IPY_MODEL_9a08050f519744a1bc0c54cb641a321f",
            "max": 1563,
            "min": 0,
            "orientation": "horizontal",
            "style": "IPY_MODEL_9c12779c6ec8459b96ae88ec23dfc9ba",
            "value": 1563
          }
        },
        "c3cb7471a5524e1abf432f065744cfa9": {
          "model_module": "@jupyter-widgets/controls",
          "model_name": "HTMLModel",
          "model_module_version": "1.5.0",
          "state": {
            "_dom_classes": [],
            "_model_module": "@jupyter-widgets/controls",
            "_model_module_version": "1.5.0",
            "_model_name": "HTMLModel",
            "_view_count": null,
            "_view_module": "@jupyter-widgets/controls",
            "_view_module_version": "1.5.0",
            "_view_name": "HTMLView",
            "description": "",
            "description_tooltip": null,
            "layout": "IPY_MODEL_e572f29d869046e691f917db46daaaa7",
            "placeholder": "​",
            "style": "IPY_MODEL_3094f95abf0d4e429bb46feef0905051",
            "value": " 1563/1563 [02:51&lt;00:00, 13.27it/s]"
          }
        },
        "ce9b33307b1e4342b32f6a4e04eb0ea2": {
          "model_module": "@jupyter-widgets/base",
          "model_name": "LayoutModel",
          "model_module_version": "1.2.0",
          "state": {
            "_model_module": "@jupyter-widgets/base",
            "_model_module_version": "1.2.0",
            "_model_name": "LayoutModel",
            "_view_count": null,
            "_view_module": "@jupyter-widgets/base",
            "_view_module_version": "1.2.0",
            "_view_name": "LayoutView",
            "align_content": null,
            "align_items": null,
            "align_self": null,
            "border": null,
            "bottom": null,
            "display": null,
            "flex": null,
            "flex_flow": null,
            "grid_area": null,
            "grid_auto_columns": null,
            "grid_auto_flow": null,
            "grid_auto_rows": null,
            "grid_column": null,
            "grid_gap": null,
            "grid_row": null,
            "grid_template_areas": null,
            "grid_template_columns": null,
            "grid_template_rows": null,
            "height": null,
            "justify_content": null,
            "justify_items": null,
            "left": null,
            "margin": null,
            "max_height": null,
            "max_width": null,
            "min_height": null,
            "min_width": null,
            "object_fit": null,
            "object_position": null,
            "order": null,
            "overflow": null,
            "overflow_x": null,
            "overflow_y": null,
            "padding": null,
            "right": null,
            "top": null,
            "visibility": null,
            "width": null
          }
        },
        "03014168abc84637981bcadb23b5d530": {
          "model_module": "@jupyter-widgets/base",
          "model_name": "LayoutModel",
          "model_module_version": "1.2.0",
          "state": {
            "_model_module": "@jupyter-widgets/base",
            "_model_module_version": "1.2.0",
            "_model_name": "LayoutModel",
            "_view_count": null,
            "_view_module": "@jupyter-widgets/base",
            "_view_module_version": "1.2.0",
            "_view_name": "LayoutView",
            "align_content": null,
            "align_items": null,
            "align_self": null,
            "border": null,
            "bottom": null,
            "display": null,
            "flex": null,
            "flex_flow": null,
            "grid_area": null,
            "grid_auto_columns": null,
            "grid_auto_flow": null,
            "grid_auto_rows": null,
            "grid_column": null,
            "grid_gap": null,
            "grid_row": null,
            "grid_template_areas": null,
            "grid_template_columns": null,
            "grid_template_rows": null,
            "height": null,
            "justify_content": null,
            "justify_items": null,
            "left": null,
            "margin": null,
            "max_height": null,
            "max_width": null,
            "min_height": null,
            "min_width": null,
            "object_fit": null,
            "object_position": null,
            "order": null,
            "overflow": null,
            "overflow_x": null,
            "overflow_y": null,
            "padding": null,
            "right": null,
            "top": null,
            "visibility": null,
            "width": null
          }
        },
        "f356f0bb1b434e55b56844bad14ab3df": {
          "model_module": "@jupyter-widgets/controls",
          "model_name": "DescriptionStyleModel",
          "model_module_version": "1.5.0",
          "state": {
            "_model_module": "@jupyter-widgets/controls",
            "_model_module_version": "1.5.0",
            "_model_name": "DescriptionStyleModel",
            "_view_count": null,
            "_view_module": "@jupyter-widgets/base",
            "_view_module_version": "1.2.0",
            "_view_name": "StyleView",
            "description_width": ""
          }
        },
        "9a08050f519744a1bc0c54cb641a321f": {
          "model_module": "@jupyter-widgets/base",
          "model_name": "LayoutModel",
          "model_module_version": "1.2.0",
          "state": {
            "_model_module": "@jupyter-widgets/base",
            "_model_module_version": "1.2.0",
            "_model_name": "LayoutModel",
            "_view_count": null,
            "_view_module": "@jupyter-widgets/base",
            "_view_module_version": "1.2.0",
            "_view_name": "LayoutView",
            "align_content": null,
            "align_items": null,
            "align_self": null,
            "border": null,
            "bottom": null,
            "display": null,
            "flex": null,
            "flex_flow": null,
            "grid_area": null,
            "grid_auto_columns": null,
            "grid_auto_flow": null,
            "grid_auto_rows": null,
            "grid_column": null,
            "grid_gap": null,
            "grid_row": null,
            "grid_template_areas": null,
            "grid_template_columns": null,
            "grid_template_rows": null,
            "height": null,
            "justify_content": null,
            "justify_items": null,
            "left": null,
            "margin": null,
            "max_height": null,
            "max_width": null,
            "min_height": null,
            "min_width": null,
            "object_fit": null,
            "object_position": null,
            "order": null,
            "overflow": null,
            "overflow_x": null,
            "overflow_y": null,
            "padding": null,
            "right": null,
            "top": null,
            "visibility": null,
            "width": null
          }
        },
        "9c12779c6ec8459b96ae88ec23dfc9ba": {
          "model_module": "@jupyter-widgets/controls",
          "model_name": "ProgressStyleModel",
          "model_module_version": "1.5.0",
          "state": {
            "_model_module": "@jupyter-widgets/controls",
            "_model_module_version": "1.5.0",
            "_model_name": "ProgressStyleModel",
            "_view_count": null,
            "_view_module": "@jupyter-widgets/base",
            "_view_module_version": "1.2.0",
            "_view_name": "StyleView",
            "bar_color": null,
            "description_width": ""
          }
        },
        "e572f29d869046e691f917db46daaaa7": {
          "model_module": "@jupyter-widgets/base",
          "model_name": "LayoutModel",
          "model_module_version": "1.2.0",
          "state": {
            "_model_module": "@jupyter-widgets/base",
            "_model_module_version": "1.2.0",
            "_model_name": "LayoutModel",
            "_view_count": null,
            "_view_module": "@jupyter-widgets/base",
            "_view_module_version": "1.2.0",
            "_view_name": "LayoutView",
            "align_content": null,
            "align_items": null,
            "align_self": null,
            "border": null,
            "bottom": null,
            "display": null,
            "flex": null,
            "flex_flow": null,
            "grid_area": null,
            "grid_auto_columns": null,
            "grid_auto_flow": null,
            "grid_auto_rows": null,
            "grid_column": null,
            "grid_gap": null,
            "grid_row": null,
            "grid_template_areas": null,
            "grid_template_columns": null,
            "grid_template_rows": null,
            "height": null,
            "justify_content": null,
            "justify_items": null,
            "left": null,
            "margin": null,
            "max_height": null,
            "max_width": null,
            "min_height": null,
            "min_width": null,
            "object_fit": null,
            "object_position": null,
            "order": null,
            "overflow": null,
            "overflow_x": null,
            "overflow_y": null,
            "padding": null,
            "right": null,
            "top": null,
            "visibility": null,
            "width": null
          }
        },
        "3094f95abf0d4e429bb46feef0905051": {
          "model_module": "@jupyter-widgets/controls",
          "model_name": "DescriptionStyleModel",
          "model_module_version": "1.5.0",
          "state": {
            "_model_module": "@jupyter-widgets/controls",
            "_model_module_version": "1.5.0",
            "_model_name": "DescriptionStyleModel",
            "_view_count": null,
            "_view_module": "@jupyter-widgets/base",
            "_view_module_version": "1.2.0",
            "_view_name": "StyleView",
            "description_width": ""
          }
        },
        "fcf837abae0c44cda4804b903bdc7adb": {
          "model_module": "@jupyter-widgets/controls",
          "model_name": "HBoxModel",
          "model_module_version": "1.5.0",
          "state": {
            "_dom_classes": [],
            "_model_module": "@jupyter-widgets/controls",
            "_model_module_version": "1.5.0",
            "_model_name": "HBoxModel",
            "_view_count": null,
            "_view_module": "@jupyter-widgets/controls",
            "_view_module_version": "1.5.0",
            "_view_name": "HBoxView",
            "box_style": "",
            "children": [
              "IPY_MODEL_7283bd5aceda409b89a3d790dcdf410a",
              "IPY_MODEL_09c33bf2f6b54f9da07b1d5928dadedf",
              "IPY_MODEL_17cb67a886cb481cbb6d6f1fc7f7efd4"
            ],
            "layout": "IPY_MODEL_58efc002392347b78b8d6b9ca62d8e5e"
          }
        },
        "7283bd5aceda409b89a3d790dcdf410a": {
          "model_module": "@jupyter-widgets/controls",
          "model_name": "HTMLModel",
          "model_module_version": "1.5.0",
          "state": {
            "_dom_classes": [],
            "_model_module": "@jupyter-widgets/controls",
            "_model_module_version": "1.5.0",
            "_model_name": "HTMLModel",
            "_view_count": null,
            "_view_module": "@jupyter-widgets/controls",
            "_view_module_version": "1.5.0",
            "_view_name": "HTMLView",
            "description": "",
            "description_tooltip": null,
            "layout": "IPY_MODEL_973cead5bc43431e97b088ec58873f00",
            "placeholder": "​",
            "style": "IPY_MODEL_6cb911aa48d948228375ff2e2dfc9620",
            "value": "100%"
          }
        },
        "09c33bf2f6b54f9da07b1d5928dadedf": {
          "model_module": "@jupyter-widgets/controls",
          "model_name": "FloatProgressModel",
          "model_module_version": "1.5.0",
          "state": {
            "_dom_classes": [],
            "_model_module": "@jupyter-widgets/controls",
            "_model_module_version": "1.5.0",
            "_model_name": "FloatProgressModel",
            "_view_count": null,
            "_view_module": "@jupyter-widgets/controls",
            "_view_module_version": "1.5.0",
            "_view_name": "ProgressView",
            "bar_style": "success",
            "description": "",
            "description_tooltip": null,
            "layout": "IPY_MODEL_f115308436bc4695b043616f67a70145",
            "max": 1563,
            "min": 0,
            "orientation": "horizontal",
            "style": "IPY_MODEL_18d75f872dec4b72b7ca62278c3931ff",
            "value": 1563
          }
        },
        "17cb67a886cb481cbb6d6f1fc7f7efd4": {
          "model_module": "@jupyter-widgets/controls",
          "model_name": "HTMLModel",
          "model_module_version": "1.5.0",
          "state": {
            "_dom_classes": [],
            "_model_module": "@jupyter-widgets/controls",
            "_model_module_version": "1.5.0",
            "_model_name": "HTMLModel",
            "_view_count": null,
            "_view_module": "@jupyter-widgets/controls",
            "_view_module_version": "1.5.0",
            "_view_name": "HTMLView",
            "description": "",
            "description_tooltip": null,
            "layout": "IPY_MODEL_974b91c0e5094e08ab0d445e1b699d70",
            "placeholder": "​",
            "style": "IPY_MODEL_0714cc6e8af4411d91622e8ba89bf5ba",
            "value": " 1563/1563 [02:10&lt;00:00, 11.91it/s]"
          }
        },
        "58efc002392347b78b8d6b9ca62d8e5e": {
          "model_module": "@jupyter-widgets/base",
          "model_name": "LayoutModel",
          "model_module_version": "1.2.0",
          "state": {
            "_model_module": "@jupyter-widgets/base",
            "_model_module_version": "1.2.0",
            "_model_name": "LayoutModel",
            "_view_count": null,
            "_view_module": "@jupyter-widgets/base",
            "_view_module_version": "1.2.0",
            "_view_name": "LayoutView",
            "align_content": null,
            "align_items": null,
            "align_self": null,
            "border": null,
            "bottom": null,
            "display": null,
            "flex": null,
            "flex_flow": null,
            "grid_area": null,
            "grid_auto_columns": null,
            "grid_auto_flow": null,
            "grid_auto_rows": null,
            "grid_column": null,
            "grid_gap": null,
            "grid_row": null,
            "grid_template_areas": null,
            "grid_template_columns": null,
            "grid_template_rows": null,
            "height": null,
            "justify_content": null,
            "justify_items": null,
            "left": null,
            "margin": null,
            "max_height": null,
            "max_width": null,
            "min_height": null,
            "min_width": null,
            "object_fit": null,
            "object_position": null,
            "order": null,
            "overflow": null,
            "overflow_x": null,
            "overflow_y": null,
            "padding": null,
            "right": null,
            "top": null,
            "visibility": null,
            "width": null
          }
        },
        "973cead5bc43431e97b088ec58873f00": {
          "model_module": "@jupyter-widgets/base",
          "model_name": "LayoutModel",
          "model_module_version": "1.2.0",
          "state": {
            "_model_module": "@jupyter-widgets/base",
            "_model_module_version": "1.2.0",
            "_model_name": "LayoutModel",
            "_view_count": null,
            "_view_module": "@jupyter-widgets/base",
            "_view_module_version": "1.2.0",
            "_view_name": "LayoutView",
            "align_content": null,
            "align_items": null,
            "align_self": null,
            "border": null,
            "bottom": null,
            "display": null,
            "flex": null,
            "flex_flow": null,
            "grid_area": null,
            "grid_auto_columns": null,
            "grid_auto_flow": null,
            "grid_auto_rows": null,
            "grid_column": null,
            "grid_gap": null,
            "grid_row": null,
            "grid_template_areas": null,
            "grid_template_columns": null,
            "grid_template_rows": null,
            "height": null,
            "justify_content": null,
            "justify_items": null,
            "left": null,
            "margin": null,
            "max_height": null,
            "max_width": null,
            "min_height": null,
            "min_width": null,
            "object_fit": null,
            "object_position": null,
            "order": null,
            "overflow": null,
            "overflow_x": null,
            "overflow_y": null,
            "padding": null,
            "right": null,
            "top": null,
            "visibility": null,
            "width": null
          }
        },
        "6cb911aa48d948228375ff2e2dfc9620": {
          "model_module": "@jupyter-widgets/controls",
          "model_name": "DescriptionStyleModel",
          "model_module_version": "1.5.0",
          "state": {
            "_model_module": "@jupyter-widgets/controls",
            "_model_module_version": "1.5.0",
            "_model_name": "DescriptionStyleModel",
            "_view_count": null,
            "_view_module": "@jupyter-widgets/base",
            "_view_module_version": "1.2.0",
            "_view_name": "StyleView",
            "description_width": ""
          }
        },
        "f115308436bc4695b043616f67a70145": {
          "model_module": "@jupyter-widgets/base",
          "model_name": "LayoutModel",
          "model_module_version": "1.2.0",
          "state": {
            "_model_module": "@jupyter-widgets/base",
            "_model_module_version": "1.2.0",
            "_model_name": "LayoutModel",
            "_view_count": null,
            "_view_module": "@jupyter-widgets/base",
            "_view_module_version": "1.2.0",
            "_view_name": "LayoutView",
            "align_content": null,
            "align_items": null,
            "align_self": null,
            "border": null,
            "bottom": null,
            "display": null,
            "flex": null,
            "flex_flow": null,
            "grid_area": null,
            "grid_auto_columns": null,
            "grid_auto_flow": null,
            "grid_auto_rows": null,
            "grid_column": null,
            "grid_gap": null,
            "grid_row": null,
            "grid_template_areas": null,
            "grid_template_columns": null,
            "grid_template_rows": null,
            "height": null,
            "justify_content": null,
            "justify_items": null,
            "left": null,
            "margin": null,
            "max_height": null,
            "max_width": null,
            "min_height": null,
            "min_width": null,
            "object_fit": null,
            "object_position": null,
            "order": null,
            "overflow": null,
            "overflow_x": null,
            "overflow_y": null,
            "padding": null,
            "right": null,
            "top": null,
            "visibility": null,
            "width": null
          }
        },
        "18d75f872dec4b72b7ca62278c3931ff": {
          "model_module": "@jupyter-widgets/controls",
          "model_name": "ProgressStyleModel",
          "model_module_version": "1.5.0",
          "state": {
            "_model_module": "@jupyter-widgets/controls",
            "_model_module_version": "1.5.0",
            "_model_name": "ProgressStyleModel",
            "_view_count": null,
            "_view_module": "@jupyter-widgets/base",
            "_view_module_version": "1.2.0",
            "_view_name": "StyleView",
            "bar_color": null,
            "description_width": ""
          }
        },
        "974b91c0e5094e08ab0d445e1b699d70": {
          "model_module": "@jupyter-widgets/base",
          "model_name": "LayoutModel",
          "model_module_version": "1.2.0",
          "state": {
            "_model_module": "@jupyter-widgets/base",
            "_model_module_version": "1.2.0",
            "_model_name": "LayoutModel",
            "_view_count": null,
            "_view_module": "@jupyter-widgets/base",
            "_view_module_version": "1.2.0",
            "_view_name": "LayoutView",
            "align_content": null,
            "align_items": null,
            "align_self": null,
            "border": null,
            "bottom": null,
            "display": null,
            "flex": null,
            "flex_flow": null,
            "grid_area": null,
            "grid_auto_columns": null,
            "grid_auto_flow": null,
            "grid_auto_rows": null,
            "grid_column": null,
            "grid_gap": null,
            "grid_row": null,
            "grid_template_areas": null,
            "grid_template_columns": null,
            "grid_template_rows": null,
            "height": null,
            "justify_content": null,
            "justify_items": null,
            "left": null,
            "margin": null,
            "max_height": null,
            "max_width": null,
            "min_height": null,
            "min_width": null,
            "object_fit": null,
            "object_position": null,
            "order": null,
            "overflow": null,
            "overflow_x": null,
            "overflow_y": null,
            "padding": null,
            "right": null,
            "top": null,
            "visibility": null,
            "width": null
          }
        },
        "0714cc6e8af4411d91622e8ba89bf5ba": {
          "model_module": "@jupyter-widgets/controls",
          "model_name": "DescriptionStyleModel",
          "model_module_version": "1.5.0",
          "state": {
            "_model_module": "@jupyter-widgets/controls",
            "_model_module_version": "1.5.0",
            "_model_name": "DescriptionStyleModel",
            "_view_count": null,
            "_view_module": "@jupyter-widgets/base",
            "_view_module_version": "1.2.0",
            "_view_name": "StyleView",
            "description_width": ""
          }
        },
        "6a3e7aa87f3a4c3c87fad1a611bc73dc": {
          "model_module": "@jupyter-widgets/controls",
          "model_name": "HBoxModel",
          "model_module_version": "1.5.0",
          "state": {
            "_dom_classes": [],
            "_model_module": "@jupyter-widgets/controls",
            "_model_module_version": "1.5.0",
            "_model_name": "HBoxModel",
            "_view_count": null,
            "_view_module": "@jupyter-widgets/controls",
            "_view_module_version": "1.5.0",
            "_view_name": "HBoxView",
            "box_style": "",
            "children": [
              "IPY_MODEL_42d5ecbf4fce459a89b3037e457b5393",
              "IPY_MODEL_d8857c7af61e4c2aba4a992d152aebc3",
              "IPY_MODEL_52707590002b4e0cb2334e70e422bc54"
            ],
            "layout": "IPY_MODEL_e948dce61e0648e1b8e027392c8b3b7d"
          }
        },
        "42d5ecbf4fce459a89b3037e457b5393": {
          "model_module": "@jupyter-widgets/controls",
          "model_name": "HTMLModel",
          "model_module_version": "1.5.0",
          "state": {
            "_dom_classes": [],
            "_model_module": "@jupyter-widgets/controls",
            "_model_module_version": "1.5.0",
            "_model_name": "HTMLModel",
            "_view_count": null,
            "_view_module": "@jupyter-widgets/controls",
            "_view_module_version": "1.5.0",
            "_view_name": "HTMLView",
            "description": "",
            "description_tooltip": null,
            "layout": "IPY_MODEL_0c9aec50d32c40208f0375cebe6c0768",
            "placeholder": "​",
            "style": "IPY_MODEL_cb4c3379087f481f8c3b9484d9d70465",
            "value": "100%"
          }
        },
        "d8857c7af61e4c2aba4a992d152aebc3": {
          "model_module": "@jupyter-widgets/controls",
          "model_name": "FloatProgressModel",
          "model_module_version": "1.5.0",
          "state": {
            "_dom_classes": [],
            "_model_module": "@jupyter-widgets/controls",
            "_model_module_version": "1.5.0",
            "_model_name": "FloatProgressModel",
            "_view_count": null,
            "_view_module": "@jupyter-widgets/controls",
            "_view_module_version": "1.5.0",
            "_view_name": "ProgressView",
            "bar_style": "success",
            "description": "",
            "description_tooltip": null,
            "layout": "IPY_MODEL_9172d1f95af84f229dd617ca33a4b1cf",
            "max": 1563,
            "min": 0,
            "orientation": "horizontal",
            "style": "IPY_MODEL_6a19623c883642029a8b8f2b38a1a31e",
            "value": 1563
          }
        },
        "52707590002b4e0cb2334e70e422bc54": {
          "model_module": "@jupyter-widgets/controls",
          "model_name": "HTMLModel",
          "model_module_version": "1.5.0",
          "state": {
            "_dom_classes": [],
            "_model_module": "@jupyter-widgets/controls",
            "_model_module_version": "1.5.0",
            "_model_name": "HTMLModel",
            "_view_count": null,
            "_view_module": "@jupyter-widgets/controls",
            "_view_module_version": "1.5.0",
            "_view_name": "HTMLView",
            "description": "",
            "description_tooltip": null,
            "layout": "IPY_MODEL_bfff83f96a37404aa10d61aa34b6ea45",
            "placeholder": "​",
            "style": "IPY_MODEL_7e9ac916250d4ca598cade9ee3bba95c",
            "value": " 1563/1563 [02:50&lt;00:00, 13.69it/s]"
          }
        },
        "e948dce61e0648e1b8e027392c8b3b7d": {
          "model_module": "@jupyter-widgets/base",
          "model_name": "LayoutModel",
          "model_module_version": "1.2.0",
          "state": {
            "_model_module": "@jupyter-widgets/base",
            "_model_module_version": "1.2.0",
            "_model_name": "LayoutModel",
            "_view_count": null,
            "_view_module": "@jupyter-widgets/base",
            "_view_module_version": "1.2.0",
            "_view_name": "LayoutView",
            "align_content": null,
            "align_items": null,
            "align_self": null,
            "border": null,
            "bottom": null,
            "display": null,
            "flex": null,
            "flex_flow": null,
            "grid_area": null,
            "grid_auto_columns": null,
            "grid_auto_flow": null,
            "grid_auto_rows": null,
            "grid_column": null,
            "grid_gap": null,
            "grid_row": null,
            "grid_template_areas": null,
            "grid_template_columns": null,
            "grid_template_rows": null,
            "height": null,
            "justify_content": null,
            "justify_items": null,
            "left": null,
            "margin": null,
            "max_height": null,
            "max_width": null,
            "min_height": null,
            "min_width": null,
            "object_fit": null,
            "object_position": null,
            "order": null,
            "overflow": null,
            "overflow_x": null,
            "overflow_y": null,
            "padding": null,
            "right": null,
            "top": null,
            "visibility": null,
            "width": null
          }
        },
        "0c9aec50d32c40208f0375cebe6c0768": {
          "model_module": "@jupyter-widgets/base",
          "model_name": "LayoutModel",
          "model_module_version": "1.2.0",
          "state": {
            "_model_module": "@jupyter-widgets/base",
            "_model_module_version": "1.2.0",
            "_model_name": "LayoutModel",
            "_view_count": null,
            "_view_module": "@jupyter-widgets/base",
            "_view_module_version": "1.2.0",
            "_view_name": "LayoutView",
            "align_content": null,
            "align_items": null,
            "align_self": null,
            "border": null,
            "bottom": null,
            "display": null,
            "flex": null,
            "flex_flow": null,
            "grid_area": null,
            "grid_auto_columns": null,
            "grid_auto_flow": null,
            "grid_auto_rows": null,
            "grid_column": null,
            "grid_gap": null,
            "grid_row": null,
            "grid_template_areas": null,
            "grid_template_columns": null,
            "grid_template_rows": null,
            "height": null,
            "justify_content": null,
            "justify_items": null,
            "left": null,
            "margin": null,
            "max_height": null,
            "max_width": null,
            "min_height": null,
            "min_width": null,
            "object_fit": null,
            "object_position": null,
            "order": null,
            "overflow": null,
            "overflow_x": null,
            "overflow_y": null,
            "padding": null,
            "right": null,
            "top": null,
            "visibility": null,
            "width": null
          }
        },
        "cb4c3379087f481f8c3b9484d9d70465": {
          "model_module": "@jupyter-widgets/controls",
          "model_name": "DescriptionStyleModel",
          "model_module_version": "1.5.0",
          "state": {
            "_model_module": "@jupyter-widgets/controls",
            "_model_module_version": "1.5.0",
            "_model_name": "DescriptionStyleModel",
            "_view_count": null,
            "_view_module": "@jupyter-widgets/base",
            "_view_module_version": "1.2.0",
            "_view_name": "StyleView",
            "description_width": ""
          }
        },
        "9172d1f95af84f229dd617ca33a4b1cf": {
          "model_module": "@jupyter-widgets/base",
          "model_name": "LayoutModel",
          "model_module_version": "1.2.0",
          "state": {
            "_model_module": "@jupyter-widgets/base",
            "_model_module_version": "1.2.0",
            "_model_name": "LayoutModel",
            "_view_count": null,
            "_view_module": "@jupyter-widgets/base",
            "_view_module_version": "1.2.0",
            "_view_name": "LayoutView",
            "align_content": null,
            "align_items": null,
            "align_self": null,
            "border": null,
            "bottom": null,
            "display": null,
            "flex": null,
            "flex_flow": null,
            "grid_area": null,
            "grid_auto_columns": null,
            "grid_auto_flow": null,
            "grid_auto_rows": null,
            "grid_column": null,
            "grid_gap": null,
            "grid_row": null,
            "grid_template_areas": null,
            "grid_template_columns": null,
            "grid_template_rows": null,
            "height": null,
            "justify_content": null,
            "justify_items": null,
            "left": null,
            "margin": null,
            "max_height": null,
            "max_width": null,
            "min_height": null,
            "min_width": null,
            "object_fit": null,
            "object_position": null,
            "order": null,
            "overflow": null,
            "overflow_x": null,
            "overflow_y": null,
            "padding": null,
            "right": null,
            "top": null,
            "visibility": null,
            "width": null
          }
        },
        "6a19623c883642029a8b8f2b38a1a31e": {
          "model_module": "@jupyter-widgets/controls",
          "model_name": "ProgressStyleModel",
          "model_module_version": "1.5.0",
          "state": {
            "_model_module": "@jupyter-widgets/controls",
            "_model_module_version": "1.5.0",
            "_model_name": "ProgressStyleModel",
            "_view_count": null,
            "_view_module": "@jupyter-widgets/base",
            "_view_module_version": "1.2.0",
            "_view_name": "StyleView",
            "bar_color": null,
            "description_width": ""
          }
        },
        "bfff83f96a37404aa10d61aa34b6ea45": {
          "model_module": "@jupyter-widgets/base",
          "model_name": "LayoutModel",
          "model_module_version": "1.2.0",
          "state": {
            "_model_module": "@jupyter-widgets/base",
            "_model_module_version": "1.2.0",
            "_model_name": "LayoutModel",
            "_view_count": null,
            "_view_module": "@jupyter-widgets/base",
            "_view_module_version": "1.2.0",
            "_view_name": "LayoutView",
            "align_content": null,
            "align_items": null,
            "align_self": null,
            "border": null,
            "bottom": null,
            "display": null,
            "flex": null,
            "flex_flow": null,
            "grid_area": null,
            "grid_auto_columns": null,
            "grid_auto_flow": null,
            "grid_auto_rows": null,
            "grid_column": null,
            "grid_gap": null,
            "grid_row": null,
            "grid_template_areas": null,
            "grid_template_columns": null,
            "grid_template_rows": null,
            "height": null,
            "justify_content": null,
            "justify_items": null,
            "left": null,
            "margin": null,
            "max_height": null,
            "max_width": null,
            "min_height": null,
            "min_width": null,
            "object_fit": null,
            "object_position": null,
            "order": null,
            "overflow": null,
            "overflow_x": null,
            "overflow_y": null,
            "padding": null,
            "right": null,
            "top": null,
            "visibility": null,
            "width": null
          }
        },
        "7e9ac916250d4ca598cade9ee3bba95c": {
          "model_module": "@jupyter-widgets/controls",
          "model_name": "DescriptionStyleModel",
          "model_module_version": "1.5.0",
          "state": {
            "_model_module": "@jupyter-widgets/controls",
            "_model_module_version": "1.5.0",
            "_model_name": "DescriptionStyleModel",
            "_view_count": null,
            "_view_module": "@jupyter-widgets/base",
            "_view_module_version": "1.2.0",
            "_view_name": "StyleView",
            "description_width": ""
          }
        },
        "363d4070034e450ca44031aa9de74650": {
          "model_module": "@jupyter-widgets/controls",
          "model_name": "HBoxModel",
          "model_module_version": "1.5.0",
          "state": {
            "_dom_classes": [],
            "_model_module": "@jupyter-widgets/controls",
            "_model_module_version": "1.5.0",
            "_model_name": "HBoxModel",
            "_view_count": null,
            "_view_module": "@jupyter-widgets/controls",
            "_view_module_version": "1.5.0",
            "_view_name": "HBoxView",
            "box_style": "",
            "children": [
              "IPY_MODEL_0244fbfb719c4759bc00d64aa8bc4ff5",
              "IPY_MODEL_41a84a2e98354efd8a2ce94ae1679763",
              "IPY_MODEL_101fefacf8b14037856d4fab9ee87bfb"
            ],
            "layout": "IPY_MODEL_f883c8d83ef0468f993397d56bff9ba6"
          }
        },
        "0244fbfb719c4759bc00d64aa8bc4ff5": {
          "model_module": "@jupyter-widgets/controls",
          "model_name": "HTMLModel",
          "model_module_version": "1.5.0",
          "state": {
            "_dom_classes": [],
            "_model_module": "@jupyter-widgets/controls",
            "_model_module_version": "1.5.0",
            "_model_name": "HTMLModel",
            "_view_count": null,
            "_view_module": "@jupyter-widgets/controls",
            "_view_module_version": "1.5.0",
            "_view_name": "HTMLView",
            "description": "",
            "description_tooltip": null,
            "layout": "IPY_MODEL_088e01c180e147a6a490264458e07451",
            "placeholder": "​",
            "style": "IPY_MODEL_8e549abbf6f9410993c587a5a93a8044",
            "value": "100%"
          }
        },
        "41a84a2e98354efd8a2ce94ae1679763": {
          "model_module": "@jupyter-widgets/controls",
          "model_name": "FloatProgressModel",
          "model_module_version": "1.5.0",
          "state": {
            "_dom_classes": [],
            "_model_module": "@jupyter-widgets/controls",
            "_model_module_version": "1.5.0",
            "_model_name": "FloatProgressModel",
            "_view_count": null,
            "_view_module": "@jupyter-widgets/controls",
            "_view_module_version": "1.5.0",
            "_view_name": "ProgressView",
            "bar_style": "success",
            "description": "",
            "description_tooltip": null,
            "layout": "IPY_MODEL_b1bc4b6903f142489ca628a4eb205313",
            "max": 1563,
            "min": 0,
            "orientation": "horizontal",
            "style": "IPY_MODEL_94af2e4996ba482388893952d1c986d1",
            "value": 1563
          }
        },
        "101fefacf8b14037856d4fab9ee87bfb": {
          "model_module": "@jupyter-widgets/controls",
          "model_name": "HTMLModel",
          "model_module_version": "1.5.0",
          "state": {
            "_dom_classes": [],
            "_model_module": "@jupyter-widgets/controls",
            "_model_module_version": "1.5.0",
            "_model_name": "HTMLModel",
            "_view_count": null,
            "_view_module": "@jupyter-widgets/controls",
            "_view_module_version": "1.5.0",
            "_view_name": "HTMLView",
            "description": "",
            "description_tooltip": null,
            "layout": "IPY_MODEL_d233835422b647e8916b254bc5bc6b31",
            "placeholder": "​",
            "style": "IPY_MODEL_030c9823c1ad44b48669666e9adcc87c",
            "value": " 1563/1563 [02:32&lt;00:00, 13.65it/s]"
          }
        },
        "f883c8d83ef0468f993397d56bff9ba6": {
          "model_module": "@jupyter-widgets/base",
          "model_name": "LayoutModel",
          "model_module_version": "1.2.0",
          "state": {
            "_model_module": "@jupyter-widgets/base",
            "_model_module_version": "1.2.0",
            "_model_name": "LayoutModel",
            "_view_count": null,
            "_view_module": "@jupyter-widgets/base",
            "_view_module_version": "1.2.0",
            "_view_name": "LayoutView",
            "align_content": null,
            "align_items": null,
            "align_self": null,
            "border": null,
            "bottom": null,
            "display": null,
            "flex": null,
            "flex_flow": null,
            "grid_area": null,
            "grid_auto_columns": null,
            "grid_auto_flow": null,
            "grid_auto_rows": null,
            "grid_column": null,
            "grid_gap": null,
            "grid_row": null,
            "grid_template_areas": null,
            "grid_template_columns": null,
            "grid_template_rows": null,
            "height": null,
            "justify_content": null,
            "justify_items": null,
            "left": null,
            "margin": null,
            "max_height": null,
            "max_width": null,
            "min_height": null,
            "min_width": null,
            "object_fit": null,
            "object_position": null,
            "order": null,
            "overflow": null,
            "overflow_x": null,
            "overflow_y": null,
            "padding": null,
            "right": null,
            "top": null,
            "visibility": null,
            "width": null
          }
        },
        "088e01c180e147a6a490264458e07451": {
          "model_module": "@jupyter-widgets/base",
          "model_name": "LayoutModel",
          "model_module_version": "1.2.0",
          "state": {
            "_model_module": "@jupyter-widgets/base",
            "_model_module_version": "1.2.0",
            "_model_name": "LayoutModel",
            "_view_count": null,
            "_view_module": "@jupyter-widgets/base",
            "_view_module_version": "1.2.0",
            "_view_name": "LayoutView",
            "align_content": null,
            "align_items": null,
            "align_self": null,
            "border": null,
            "bottom": null,
            "display": null,
            "flex": null,
            "flex_flow": null,
            "grid_area": null,
            "grid_auto_columns": null,
            "grid_auto_flow": null,
            "grid_auto_rows": null,
            "grid_column": null,
            "grid_gap": null,
            "grid_row": null,
            "grid_template_areas": null,
            "grid_template_columns": null,
            "grid_template_rows": null,
            "height": null,
            "justify_content": null,
            "justify_items": null,
            "left": null,
            "margin": null,
            "max_height": null,
            "max_width": null,
            "min_height": null,
            "min_width": null,
            "object_fit": null,
            "object_position": null,
            "order": null,
            "overflow": null,
            "overflow_x": null,
            "overflow_y": null,
            "padding": null,
            "right": null,
            "top": null,
            "visibility": null,
            "width": null
          }
        },
        "8e549abbf6f9410993c587a5a93a8044": {
          "model_module": "@jupyter-widgets/controls",
          "model_name": "DescriptionStyleModel",
          "model_module_version": "1.5.0",
          "state": {
            "_model_module": "@jupyter-widgets/controls",
            "_model_module_version": "1.5.0",
            "_model_name": "DescriptionStyleModel",
            "_view_count": null,
            "_view_module": "@jupyter-widgets/base",
            "_view_module_version": "1.2.0",
            "_view_name": "StyleView",
            "description_width": ""
          }
        },
        "b1bc4b6903f142489ca628a4eb205313": {
          "model_module": "@jupyter-widgets/base",
          "model_name": "LayoutModel",
          "model_module_version": "1.2.0",
          "state": {
            "_model_module": "@jupyter-widgets/base",
            "_model_module_version": "1.2.0",
            "_model_name": "LayoutModel",
            "_view_count": null,
            "_view_module": "@jupyter-widgets/base",
            "_view_module_version": "1.2.0",
            "_view_name": "LayoutView",
            "align_content": null,
            "align_items": null,
            "align_self": null,
            "border": null,
            "bottom": null,
            "display": null,
            "flex": null,
            "flex_flow": null,
            "grid_area": null,
            "grid_auto_columns": null,
            "grid_auto_flow": null,
            "grid_auto_rows": null,
            "grid_column": null,
            "grid_gap": null,
            "grid_row": null,
            "grid_template_areas": null,
            "grid_template_columns": null,
            "grid_template_rows": null,
            "height": null,
            "justify_content": null,
            "justify_items": null,
            "left": null,
            "margin": null,
            "max_height": null,
            "max_width": null,
            "min_height": null,
            "min_width": null,
            "object_fit": null,
            "object_position": null,
            "order": null,
            "overflow": null,
            "overflow_x": null,
            "overflow_y": null,
            "padding": null,
            "right": null,
            "top": null,
            "visibility": null,
            "width": null
          }
        },
        "94af2e4996ba482388893952d1c986d1": {
          "model_module": "@jupyter-widgets/controls",
          "model_name": "ProgressStyleModel",
          "model_module_version": "1.5.0",
          "state": {
            "_model_module": "@jupyter-widgets/controls",
            "_model_module_version": "1.5.0",
            "_model_name": "ProgressStyleModel",
            "_view_count": null,
            "_view_module": "@jupyter-widgets/base",
            "_view_module_version": "1.2.0",
            "_view_name": "StyleView",
            "bar_color": null,
            "description_width": ""
          }
        },
        "d233835422b647e8916b254bc5bc6b31": {
          "model_module": "@jupyter-widgets/base",
          "model_name": "LayoutModel",
          "model_module_version": "1.2.0",
          "state": {
            "_model_module": "@jupyter-widgets/base",
            "_model_module_version": "1.2.0",
            "_model_name": "LayoutModel",
            "_view_count": null,
            "_view_module": "@jupyter-widgets/base",
            "_view_module_version": "1.2.0",
            "_view_name": "LayoutView",
            "align_content": null,
            "align_items": null,
            "align_self": null,
            "border": null,
            "bottom": null,
            "display": null,
            "flex": null,
            "flex_flow": null,
            "grid_area": null,
            "grid_auto_columns": null,
            "grid_auto_flow": null,
            "grid_auto_rows": null,
            "grid_column": null,
            "grid_gap": null,
            "grid_row": null,
            "grid_template_areas": null,
            "grid_template_columns": null,
            "grid_template_rows": null,
            "height": null,
            "justify_content": null,
            "justify_items": null,
            "left": null,
            "margin": null,
            "max_height": null,
            "max_width": null,
            "min_height": null,
            "min_width": null,
            "object_fit": null,
            "object_position": null,
            "order": null,
            "overflow": null,
            "overflow_x": null,
            "overflow_y": null,
            "padding": null,
            "right": null,
            "top": null,
            "visibility": null,
            "width": null
          }
        },
        "030c9823c1ad44b48669666e9adcc87c": {
          "model_module": "@jupyter-widgets/controls",
          "model_name": "DescriptionStyleModel",
          "model_module_version": "1.5.0",
          "state": {
            "_model_module": "@jupyter-widgets/controls",
            "_model_module_version": "1.5.0",
            "_model_name": "DescriptionStyleModel",
            "_view_count": null,
            "_view_module": "@jupyter-widgets/base",
            "_view_module_version": "1.2.0",
            "_view_name": "StyleView",
            "description_width": ""
          }
        },
        "9b88f47741264f999058875cd3e954aa": {
          "model_module": "@jupyter-widgets/controls",
          "model_name": "HBoxModel",
          "model_module_version": "1.5.0",
          "state": {
            "_dom_classes": [],
            "_model_module": "@jupyter-widgets/controls",
            "_model_module_version": "1.5.0",
            "_model_name": "HBoxModel",
            "_view_count": null,
            "_view_module": "@jupyter-widgets/controls",
            "_view_module_version": "1.5.0",
            "_view_name": "HBoxView",
            "box_style": "",
            "children": [
              "IPY_MODEL_93857c234c2d4baa8e2337c94e4d23d9",
              "IPY_MODEL_1b214ca0f18e4c1c84ac8277343bfc4b",
              "IPY_MODEL_6892397fa60341379dcfc2a3ec5f0d29"
            ],
            "layout": "IPY_MODEL_5e8a5614ac204d0cb9a8da01c88a16ad"
          }
        },
        "93857c234c2d4baa8e2337c94e4d23d9": {
          "model_module": "@jupyter-widgets/controls",
          "model_name": "HTMLModel",
          "model_module_version": "1.5.0",
          "state": {
            "_dom_classes": [],
            "_model_module": "@jupyter-widgets/controls",
            "_model_module_version": "1.5.0",
            "_model_name": "HTMLModel",
            "_view_count": null,
            "_view_module": "@jupyter-widgets/controls",
            "_view_module_version": "1.5.0",
            "_view_name": "HTMLView",
            "description": "",
            "description_tooltip": null,
            "layout": "IPY_MODEL_fce9b6f4016a40748e84f08264bf23a8",
            "placeholder": "​",
            "style": "IPY_MODEL_d860232d00ed419e9cea66d8ef9bba0c",
            "value": "100%"
          }
        },
        "1b214ca0f18e4c1c84ac8277343bfc4b": {
          "model_module": "@jupyter-widgets/controls",
          "model_name": "FloatProgressModel",
          "model_module_version": "1.5.0",
          "state": {
            "_dom_classes": [],
            "_model_module": "@jupyter-widgets/controls",
            "_model_module_version": "1.5.0",
            "_model_name": "FloatProgressModel",
            "_view_count": null,
            "_view_module": "@jupyter-widgets/controls",
            "_view_module_version": "1.5.0",
            "_view_name": "ProgressView",
            "bar_style": "success",
            "description": "",
            "description_tooltip": null,
            "layout": "IPY_MODEL_645c747a7ee04e8db517fc00804715f8",
            "max": 1563,
            "min": 0,
            "orientation": "horizontal",
            "style": "IPY_MODEL_23c353aa8d0c40169e814ab7d27f9118",
            "value": 1563
          }
        },
        "6892397fa60341379dcfc2a3ec5f0d29": {
          "model_module": "@jupyter-widgets/controls",
          "model_name": "HTMLModel",
          "model_module_version": "1.5.0",
          "state": {
            "_dom_classes": [],
            "_model_module": "@jupyter-widgets/controls",
            "_model_module_version": "1.5.0",
            "_model_name": "HTMLModel",
            "_view_count": null,
            "_view_module": "@jupyter-widgets/controls",
            "_view_module_version": "1.5.0",
            "_view_name": "HTMLView",
            "description": "",
            "description_tooltip": null,
            "layout": "IPY_MODEL_7897b8bf8f344dcba8994c0fae8cec72",
            "placeholder": "​",
            "style": "IPY_MODEL_97d6ceb5d25b489cba4168e4387516ad",
            "value": " 1563/1563 [02:11&lt;00:00, 11.19it/s]"
          }
        },
        "5e8a5614ac204d0cb9a8da01c88a16ad": {
          "model_module": "@jupyter-widgets/base",
          "model_name": "LayoutModel",
          "model_module_version": "1.2.0",
          "state": {
            "_model_module": "@jupyter-widgets/base",
            "_model_module_version": "1.2.0",
            "_model_name": "LayoutModel",
            "_view_count": null,
            "_view_module": "@jupyter-widgets/base",
            "_view_module_version": "1.2.0",
            "_view_name": "LayoutView",
            "align_content": null,
            "align_items": null,
            "align_self": null,
            "border": null,
            "bottom": null,
            "display": null,
            "flex": null,
            "flex_flow": null,
            "grid_area": null,
            "grid_auto_columns": null,
            "grid_auto_flow": null,
            "grid_auto_rows": null,
            "grid_column": null,
            "grid_gap": null,
            "grid_row": null,
            "grid_template_areas": null,
            "grid_template_columns": null,
            "grid_template_rows": null,
            "height": null,
            "justify_content": null,
            "justify_items": null,
            "left": null,
            "margin": null,
            "max_height": null,
            "max_width": null,
            "min_height": null,
            "min_width": null,
            "object_fit": null,
            "object_position": null,
            "order": null,
            "overflow": null,
            "overflow_x": null,
            "overflow_y": null,
            "padding": null,
            "right": null,
            "top": null,
            "visibility": null,
            "width": null
          }
        },
        "fce9b6f4016a40748e84f08264bf23a8": {
          "model_module": "@jupyter-widgets/base",
          "model_name": "LayoutModel",
          "model_module_version": "1.2.0",
          "state": {
            "_model_module": "@jupyter-widgets/base",
            "_model_module_version": "1.2.0",
            "_model_name": "LayoutModel",
            "_view_count": null,
            "_view_module": "@jupyter-widgets/base",
            "_view_module_version": "1.2.0",
            "_view_name": "LayoutView",
            "align_content": null,
            "align_items": null,
            "align_self": null,
            "border": null,
            "bottom": null,
            "display": null,
            "flex": null,
            "flex_flow": null,
            "grid_area": null,
            "grid_auto_columns": null,
            "grid_auto_flow": null,
            "grid_auto_rows": null,
            "grid_column": null,
            "grid_gap": null,
            "grid_row": null,
            "grid_template_areas": null,
            "grid_template_columns": null,
            "grid_template_rows": null,
            "height": null,
            "justify_content": null,
            "justify_items": null,
            "left": null,
            "margin": null,
            "max_height": null,
            "max_width": null,
            "min_height": null,
            "min_width": null,
            "object_fit": null,
            "object_position": null,
            "order": null,
            "overflow": null,
            "overflow_x": null,
            "overflow_y": null,
            "padding": null,
            "right": null,
            "top": null,
            "visibility": null,
            "width": null
          }
        },
        "d860232d00ed419e9cea66d8ef9bba0c": {
          "model_module": "@jupyter-widgets/controls",
          "model_name": "DescriptionStyleModel",
          "model_module_version": "1.5.0",
          "state": {
            "_model_module": "@jupyter-widgets/controls",
            "_model_module_version": "1.5.0",
            "_model_name": "DescriptionStyleModel",
            "_view_count": null,
            "_view_module": "@jupyter-widgets/base",
            "_view_module_version": "1.2.0",
            "_view_name": "StyleView",
            "description_width": ""
          }
        },
        "645c747a7ee04e8db517fc00804715f8": {
          "model_module": "@jupyter-widgets/base",
          "model_name": "LayoutModel",
          "model_module_version": "1.2.0",
          "state": {
            "_model_module": "@jupyter-widgets/base",
            "_model_module_version": "1.2.0",
            "_model_name": "LayoutModel",
            "_view_count": null,
            "_view_module": "@jupyter-widgets/base",
            "_view_module_version": "1.2.0",
            "_view_name": "LayoutView",
            "align_content": null,
            "align_items": null,
            "align_self": null,
            "border": null,
            "bottom": null,
            "display": null,
            "flex": null,
            "flex_flow": null,
            "grid_area": null,
            "grid_auto_columns": null,
            "grid_auto_flow": null,
            "grid_auto_rows": null,
            "grid_column": null,
            "grid_gap": null,
            "grid_row": null,
            "grid_template_areas": null,
            "grid_template_columns": null,
            "grid_template_rows": null,
            "height": null,
            "justify_content": null,
            "justify_items": null,
            "left": null,
            "margin": null,
            "max_height": null,
            "max_width": null,
            "min_height": null,
            "min_width": null,
            "object_fit": null,
            "object_position": null,
            "order": null,
            "overflow": null,
            "overflow_x": null,
            "overflow_y": null,
            "padding": null,
            "right": null,
            "top": null,
            "visibility": null,
            "width": null
          }
        },
        "23c353aa8d0c40169e814ab7d27f9118": {
          "model_module": "@jupyter-widgets/controls",
          "model_name": "ProgressStyleModel",
          "model_module_version": "1.5.0",
          "state": {
            "_model_module": "@jupyter-widgets/controls",
            "_model_module_version": "1.5.0",
            "_model_name": "ProgressStyleModel",
            "_view_count": null,
            "_view_module": "@jupyter-widgets/base",
            "_view_module_version": "1.2.0",
            "_view_name": "StyleView",
            "bar_color": null,
            "description_width": ""
          }
        },
        "7897b8bf8f344dcba8994c0fae8cec72": {
          "model_module": "@jupyter-widgets/base",
          "model_name": "LayoutModel",
          "model_module_version": "1.2.0",
          "state": {
            "_model_module": "@jupyter-widgets/base",
            "_model_module_version": "1.2.0",
            "_model_name": "LayoutModel",
            "_view_count": null,
            "_view_module": "@jupyter-widgets/base",
            "_view_module_version": "1.2.0",
            "_view_name": "LayoutView",
            "align_content": null,
            "align_items": null,
            "align_self": null,
            "border": null,
            "bottom": null,
            "display": null,
            "flex": null,
            "flex_flow": null,
            "grid_area": null,
            "grid_auto_columns": null,
            "grid_auto_flow": null,
            "grid_auto_rows": null,
            "grid_column": null,
            "grid_gap": null,
            "grid_row": null,
            "grid_template_areas": null,
            "grid_template_columns": null,
            "grid_template_rows": null,
            "height": null,
            "justify_content": null,
            "justify_items": null,
            "left": null,
            "margin": null,
            "max_height": null,
            "max_width": null,
            "min_height": null,
            "min_width": null,
            "object_fit": null,
            "object_position": null,
            "order": null,
            "overflow": null,
            "overflow_x": null,
            "overflow_y": null,
            "padding": null,
            "right": null,
            "top": null,
            "visibility": null,
            "width": null
          }
        },
        "97d6ceb5d25b489cba4168e4387516ad": {
          "model_module": "@jupyter-widgets/controls",
          "model_name": "DescriptionStyleModel",
          "model_module_version": "1.5.0",
          "state": {
            "_model_module": "@jupyter-widgets/controls",
            "_model_module_version": "1.5.0",
            "_model_name": "DescriptionStyleModel",
            "_view_count": null,
            "_view_module": "@jupyter-widgets/base",
            "_view_module_version": "1.2.0",
            "_view_name": "StyleView",
            "description_width": ""
          }
        },
        "60fd9d40b5814145b5f4981ee31138e1": {
          "model_module": "@jupyter-widgets/controls",
          "model_name": "HBoxModel",
          "model_module_version": "1.5.0",
          "state": {
            "_dom_classes": [],
            "_model_module": "@jupyter-widgets/controls",
            "_model_module_version": "1.5.0",
            "_model_name": "HBoxModel",
            "_view_count": null,
            "_view_module": "@jupyter-widgets/controls",
            "_view_module_version": "1.5.0",
            "_view_name": "HBoxView",
            "box_style": "",
            "children": [
              "IPY_MODEL_b09a427515f445b7915406d4e5a75694",
              "IPY_MODEL_055e317ae07644b681a3771868cb6f9c",
              "IPY_MODEL_303b9bf01d9e43e2b70fdc80d05a4ca1"
            ],
            "layout": "IPY_MODEL_97252f5b268c42f89a9fd0400c0e8631"
          }
        },
        "b09a427515f445b7915406d4e5a75694": {
          "model_module": "@jupyter-widgets/controls",
          "model_name": "HTMLModel",
          "model_module_version": "1.5.0",
          "state": {
            "_dom_classes": [],
            "_model_module": "@jupyter-widgets/controls",
            "_model_module_version": "1.5.0",
            "_model_name": "HTMLModel",
            "_view_count": null,
            "_view_module": "@jupyter-widgets/controls",
            "_view_module_version": "1.5.0",
            "_view_name": "HTMLView",
            "description": "",
            "description_tooltip": null,
            "layout": "IPY_MODEL_29e7ebab170845bdbba34dedf2059728",
            "placeholder": "​",
            "style": "IPY_MODEL_d02b479be7524b57903673b522bff363",
            "value": "100%"
          }
        },
        "055e317ae07644b681a3771868cb6f9c": {
          "model_module": "@jupyter-widgets/controls",
          "model_name": "FloatProgressModel",
          "model_module_version": "1.5.0",
          "state": {
            "_dom_classes": [],
            "_model_module": "@jupyter-widgets/controls",
            "_model_module_version": "1.5.0",
            "_model_name": "FloatProgressModel",
            "_view_count": null,
            "_view_module": "@jupyter-widgets/controls",
            "_view_module_version": "1.5.0",
            "_view_name": "ProgressView",
            "bar_style": "success",
            "description": "",
            "description_tooltip": null,
            "layout": "IPY_MODEL_a443b0019f04421394f255edf8fb2c96",
            "max": 1563,
            "min": 0,
            "orientation": "horizontal",
            "style": "IPY_MODEL_f0a4d0121c134b1aa9e0cf347d2f840d",
            "value": 1563
          }
        },
        "303b9bf01d9e43e2b70fdc80d05a4ca1": {
          "model_module": "@jupyter-widgets/controls",
          "model_name": "HTMLModel",
          "model_module_version": "1.5.0",
          "state": {
            "_dom_classes": [],
            "_model_module": "@jupyter-widgets/controls",
            "_model_module_version": "1.5.0",
            "_model_name": "HTMLModel",
            "_view_count": null,
            "_view_module": "@jupyter-widgets/controls",
            "_view_module_version": "1.5.0",
            "_view_name": "HTMLView",
            "description": "",
            "description_tooltip": null,
            "layout": "IPY_MODEL_b50aec04683e4cceb27e655f91d26520",
            "placeholder": "​",
            "style": "IPY_MODEL_e4ce2edafa6241fc9e53a0bd3405e07e",
            "value": " 1563/1563 [02:52&lt;00:00, 13.09it/s]"
          }
        },
        "97252f5b268c42f89a9fd0400c0e8631": {
          "model_module": "@jupyter-widgets/base",
          "model_name": "LayoutModel",
          "model_module_version": "1.2.0",
          "state": {
            "_model_module": "@jupyter-widgets/base",
            "_model_module_version": "1.2.0",
            "_model_name": "LayoutModel",
            "_view_count": null,
            "_view_module": "@jupyter-widgets/base",
            "_view_module_version": "1.2.0",
            "_view_name": "LayoutView",
            "align_content": null,
            "align_items": null,
            "align_self": null,
            "border": null,
            "bottom": null,
            "display": null,
            "flex": null,
            "flex_flow": null,
            "grid_area": null,
            "grid_auto_columns": null,
            "grid_auto_flow": null,
            "grid_auto_rows": null,
            "grid_column": null,
            "grid_gap": null,
            "grid_row": null,
            "grid_template_areas": null,
            "grid_template_columns": null,
            "grid_template_rows": null,
            "height": null,
            "justify_content": null,
            "justify_items": null,
            "left": null,
            "margin": null,
            "max_height": null,
            "max_width": null,
            "min_height": null,
            "min_width": null,
            "object_fit": null,
            "object_position": null,
            "order": null,
            "overflow": null,
            "overflow_x": null,
            "overflow_y": null,
            "padding": null,
            "right": null,
            "top": null,
            "visibility": null,
            "width": null
          }
        },
        "29e7ebab170845bdbba34dedf2059728": {
          "model_module": "@jupyter-widgets/base",
          "model_name": "LayoutModel",
          "model_module_version": "1.2.0",
          "state": {
            "_model_module": "@jupyter-widgets/base",
            "_model_module_version": "1.2.0",
            "_model_name": "LayoutModel",
            "_view_count": null,
            "_view_module": "@jupyter-widgets/base",
            "_view_module_version": "1.2.0",
            "_view_name": "LayoutView",
            "align_content": null,
            "align_items": null,
            "align_self": null,
            "border": null,
            "bottom": null,
            "display": null,
            "flex": null,
            "flex_flow": null,
            "grid_area": null,
            "grid_auto_columns": null,
            "grid_auto_flow": null,
            "grid_auto_rows": null,
            "grid_column": null,
            "grid_gap": null,
            "grid_row": null,
            "grid_template_areas": null,
            "grid_template_columns": null,
            "grid_template_rows": null,
            "height": null,
            "justify_content": null,
            "justify_items": null,
            "left": null,
            "margin": null,
            "max_height": null,
            "max_width": null,
            "min_height": null,
            "min_width": null,
            "object_fit": null,
            "object_position": null,
            "order": null,
            "overflow": null,
            "overflow_x": null,
            "overflow_y": null,
            "padding": null,
            "right": null,
            "top": null,
            "visibility": null,
            "width": null
          }
        },
        "d02b479be7524b57903673b522bff363": {
          "model_module": "@jupyter-widgets/controls",
          "model_name": "DescriptionStyleModel",
          "model_module_version": "1.5.0",
          "state": {
            "_model_module": "@jupyter-widgets/controls",
            "_model_module_version": "1.5.0",
            "_model_name": "DescriptionStyleModel",
            "_view_count": null,
            "_view_module": "@jupyter-widgets/base",
            "_view_module_version": "1.2.0",
            "_view_name": "StyleView",
            "description_width": ""
          }
        },
        "a443b0019f04421394f255edf8fb2c96": {
          "model_module": "@jupyter-widgets/base",
          "model_name": "LayoutModel",
          "model_module_version": "1.2.0",
          "state": {
            "_model_module": "@jupyter-widgets/base",
            "_model_module_version": "1.2.0",
            "_model_name": "LayoutModel",
            "_view_count": null,
            "_view_module": "@jupyter-widgets/base",
            "_view_module_version": "1.2.0",
            "_view_name": "LayoutView",
            "align_content": null,
            "align_items": null,
            "align_self": null,
            "border": null,
            "bottom": null,
            "display": null,
            "flex": null,
            "flex_flow": null,
            "grid_area": null,
            "grid_auto_columns": null,
            "grid_auto_flow": null,
            "grid_auto_rows": null,
            "grid_column": null,
            "grid_gap": null,
            "grid_row": null,
            "grid_template_areas": null,
            "grid_template_columns": null,
            "grid_template_rows": null,
            "height": null,
            "justify_content": null,
            "justify_items": null,
            "left": null,
            "margin": null,
            "max_height": null,
            "max_width": null,
            "min_height": null,
            "min_width": null,
            "object_fit": null,
            "object_position": null,
            "order": null,
            "overflow": null,
            "overflow_x": null,
            "overflow_y": null,
            "padding": null,
            "right": null,
            "top": null,
            "visibility": null,
            "width": null
          }
        },
        "f0a4d0121c134b1aa9e0cf347d2f840d": {
          "model_module": "@jupyter-widgets/controls",
          "model_name": "ProgressStyleModel",
          "model_module_version": "1.5.0",
          "state": {
            "_model_module": "@jupyter-widgets/controls",
            "_model_module_version": "1.5.0",
            "_model_name": "ProgressStyleModel",
            "_view_count": null,
            "_view_module": "@jupyter-widgets/base",
            "_view_module_version": "1.2.0",
            "_view_name": "StyleView",
            "bar_color": null,
            "description_width": ""
          }
        },
        "b50aec04683e4cceb27e655f91d26520": {
          "model_module": "@jupyter-widgets/base",
          "model_name": "LayoutModel",
          "model_module_version": "1.2.0",
          "state": {
            "_model_module": "@jupyter-widgets/base",
            "_model_module_version": "1.2.0",
            "_model_name": "LayoutModel",
            "_view_count": null,
            "_view_module": "@jupyter-widgets/base",
            "_view_module_version": "1.2.0",
            "_view_name": "LayoutView",
            "align_content": null,
            "align_items": null,
            "align_self": null,
            "border": null,
            "bottom": null,
            "display": null,
            "flex": null,
            "flex_flow": null,
            "grid_area": null,
            "grid_auto_columns": null,
            "grid_auto_flow": null,
            "grid_auto_rows": null,
            "grid_column": null,
            "grid_gap": null,
            "grid_row": null,
            "grid_template_areas": null,
            "grid_template_columns": null,
            "grid_template_rows": null,
            "height": null,
            "justify_content": null,
            "justify_items": null,
            "left": null,
            "margin": null,
            "max_height": null,
            "max_width": null,
            "min_height": null,
            "min_width": null,
            "object_fit": null,
            "object_position": null,
            "order": null,
            "overflow": null,
            "overflow_x": null,
            "overflow_y": null,
            "padding": null,
            "right": null,
            "top": null,
            "visibility": null,
            "width": null
          }
        },
        "e4ce2edafa6241fc9e53a0bd3405e07e": {
          "model_module": "@jupyter-widgets/controls",
          "model_name": "DescriptionStyleModel",
          "model_module_version": "1.5.0",
          "state": {
            "_model_module": "@jupyter-widgets/controls",
            "_model_module_version": "1.5.0",
            "_model_name": "DescriptionStyleModel",
            "_view_count": null,
            "_view_module": "@jupyter-widgets/base",
            "_view_module_version": "1.2.0",
            "_view_name": "StyleView",
            "description_width": ""
          }
        },
        "96afc6d20eee40b5bd2f9a097a4e94b7": {
          "model_module": "@jupyter-widgets/controls",
          "model_name": "HBoxModel",
          "model_module_version": "1.5.0",
          "state": {
            "_dom_classes": [],
            "_model_module": "@jupyter-widgets/controls",
            "_model_module_version": "1.5.0",
            "_model_name": "HBoxModel",
            "_view_count": null,
            "_view_module": "@jupyter-widgets/controls",
            "_view_module_version": "1.5.0",
            "_view_name": "HBoxView",
            "box_style": "",
            "children": [
              "IPY_MODEL_0feeda99f34b40539939a1b336d0f305",
              "IPY_MODEL_646a1bc82a924513b3cea1ffd7ae1f6a",
              "IPY_MODEL_c717f0c1b83a410da4ecd4732c88d1bb"
            ],
            "layout": "IPY_MODEL_14bb27520bc5476cb58710f645d00046"
          }
        },
        "0feeda99f34b40539939a1b336d0f305": {
          "model_module": "@jupyter-widgets/controls",
          "model_name": "HTMLModel",
          "model_module_version": "1.5.0",
          "state": {
            "_dom_classes": [],
            "_model_module": "@jupyter-widgets/controls",
            "_model_module_version": "1.5.0",
            "_model_name": "HTMLModel",
            "_view_count": null,
            "_view_module": "@jupyter-widgets/controls",
            "_view_module_version": "1.5.0",
            "_view_name": "HTMLView",
            "description": "",
            "description_tooltip": null,
            "layout": "IPY_MODEL_35412fdeca5a4412bcd0f319d8dd3d89",
            "placeholder": "​",
            "style": "IPY_MODEL_aa35ba327e5a43cfa441089a25345aac",
            "value": "100%"
          }
        },
        "646a1bc82a924513b3cea1ffd7ae1f6a": {
          "model_module": "@jupyter-widgets/controls",
          "model_name": "FloatProgressModel",
          "model_module_version": "1.5.0",
          "state": {
            "_dom_classes": [],
            "_model_module": "@jupyter-widgets/controls",
            "_model_module_version": "1.5.0",
            "_model_name": "FloatProgressModel",
            "_view_count": null,
            "_view_module": "@jupyter-widgets/controls",
            "_view_module_version": "1.5.0",
            "_view_name": "ProgressView",
            "bar_style": "success",
            "description": "",
            "description_tooltip": null,
            "layout": "IPY_MODEL_fe4281706c0249c7aa07be0e970ebde1",
            "max": 1563,
            "min": 0,
            "orientation": "horizontal",
            "style": "IPY_MODEL_01e2eb9e0f344b4ab3437c35e1be1dea",
            "value": 1563
          }
        },
        "c717f0c1b83a410da4ecd4732c88d1bb": {
          "model_module": "@jupyter-widgets/controls",
          "model_name": "HTMLModel",
          "model_module_version": "1.5.0",
          "state": {
            "_dom_classes": [],
            "_model_module": "@jupyter-widgets/controls",
            "_model_module_version": "1.5.0",
            "_model_name": "HTMLModel",
            "_view_count": null,
            "_view_module": "@jupyter-widgets/controls",
            "_view_module_version": "1.5.0",
            "_view_name": "HTMLView",
            "description": "",
            "description_tooltip": null,
            "layout": "IPY_MODEL_1ab52055eae14ec8ac0da17cac1a7042",
            "placeholder": "​",
            "style": "IPY_MODEL_ac5fedfec321448086c329bebbb96562",
            "value": " 1563/1563 [02:11&lt;00:00, 13.80it/s]"
          }
        },
        "14bb27520bc5476cb58710f645d00046": {
          "model_module": "@jupyter-widgets/base",
          "model_name": "LayoutModel",
          "model_module_version": "1.2.0",
          "state": {
            "_model_module": "@jupyter-widgets/base",
            "_model_module_version": "1.2.0",
            "_model_name": "LayoutModel",
            "_view_count": null,
            "_view_module": "@jupyter-widgets/base",
            "_view_module_version": "1.2.0",
            "_view_name": "LayoutView",
            "align_content": null,
            "align_items": null,
            "align_self": null,
            "border": null,
            "bottom": null,
            "display": null,
            "flex": null,
            "flex_flow": null,
            "grid_area": null,
            "grid_auto_columns": null,
            "grid_auto_flow": null,
            "grid_auto_rows": null,
            "grid_column": null,
            "grid_gap": null,
            "grid_row": null,
            "grid_template_areas": null,
            "grid_template_columns": null,
            "grid_template_rows": null,
            "height": null,
            "justify_content": null,
            "justify_items": null,
            "left": null,
            "margin": null,
            "max_height": null,
            "max_width": null,
            "min_height": null,
            "min_width": null,
            "object_fit": null,
            "object_position": null,
            "order": null,
            "overflow": null,
            "overflow_x": null,
            "overflow_y": null,
            "padding": null,
            "right": null,
            "top": null,
            "visibility": null,
            "width": null
          }
        },
        "35412fdeca5a4412bcd0f319d8dd3d89": {
          "model_module": "@jupyter-widgets/base",
          "model_name": "LayoutModel",
          "model_module_version": "1.2.0",
          "state": {
            "_model_module": "@jupyter-widgets/base",
            "_model_module_version": "1.2.0",
            "_model_name": "LayoutModel",
            "_view_count": null,
            "_view_module": "@jupyter-widgets/base",
            "_view_module_version": "1.2.0",
            "_view_name": "LayoutView",
            "align_content": null,
            "align_items": null,
            "align_self": null,
            "border": null,
            "bottom": null,
            "display": null,
            "flex": null,
            "flex_flow": null,
            "grid_area": null,
            "grid_auto_columns": null,
            "grid_auto_flow": null,
            "grid_auto_rows": null,
            "grid_column": null,
            "grid_gap": null,
            "grid_row": null,
            "grid_template_areas": null,
            "grid_template_columns": null,
            "grid_template_rows": null,
            "height": null,
            "justify_content": null,
            "justify_items": null,
            "left": null,
            "margin": null,
            "max_height": null,
            "max_width": null,
            "min_height": null,
            "min_width": null,
            "object_fit": null,
            "object_position": null,
            "order": null,
            "overflow": null,
            "overflow_x": null,
            "overflow_y": null,
            "padding": null,
            "right": null,
            "top": null,
            "visibility": null,
            "width": null
          }
        },
        "aa35ba327e5a43cfa441089a25345aac": {
          "model_module": "@jupyter-widgets/controls",
          "model_name": "DescriptionStyleModel",
          "model_module_version": "1.5.0",
          "state": {
            "_model_module": "@jupyter-widgets/controls",
            "_model_module_version": "1.5.0",
            "_model_name": "DescriptionStyleModel",
            "_view_count": null,
            "_view_module": "@jupyter-widgets/base",
            "_view_module_version": "1.2.0",
            "_view_name": "StyleView",
            "description_width": ""
          }
        },
        "fe4281706c0249c7aa07be0e970ebde1": {
          "model_module": "@jupyter-widgets/base",
          "model_name": "LayoutModel",
          "model_module_version": "1.2.0",
          "state": {
            "_model_module": "@jupyter-widgets/base",
            "_model_module_version": "1.2.0",
            "_model_name": "LayoutModel",
            "_view_count": null,
            "_view_module": "@jupyter-widgets/base",
            "_view_module_version": "1.2.0",
            "_view_name": "LayoutView",
            "align_content": null,
            "align_items": null,
            "align_self": null,
            "border": null,
            "bottom": null,
            "display": null,
            "flex": null,
            "flex_flow": null,
            "grid_area": null,
            "grid_auto_columns": null,
            "grid_auto_flow": null,
            "grid_auto_rows": null,
            "grid_column": null,
            "grid_gap": null,
            "grid_row": null,
            "grid_template_areas": null,
            "grid_template_columns": null,
            "grid_template_rows": null,
            "height": null,
            "justify_content": null,
            "justify_items": null,
            "left": null,
            "margin": null,
            "max_height": null,
            "max_width": null,
            "min_height": null,
            "min_width": null,
            "object_fit": null,
            "object_position": null,
            "order": null,
            "overflow": null,
            "overflow_x": null,
            "overflow_y": null,
            "padding": null,
            "right": null,
            "top": null,
            "visibility": null,
            "width": null
          }
        },
        "01e2eb9e0f344b4ab3437c35e1be1dea": {
          "model_module": "@jupyter-widgets/controls",
          "model_name": "ProgressStyleModel",
          "model_module_version": "1.5.0",
          "state": {
            "_model_module": "@jupyter-widgets/controls",
            "_model_module_version": "1.5.0",
            "_model_name": "ProgressStyleModel",
            "_view_count": null,
            "_view_module": "@jupyter-widgets/base",
            "_view_module_version": "1.2.0",
            "_view_name": "StyleView",
            "bar_color": null,
            "description_width": ""
          }
        },
        "1ab52055eae14ec8ac0da17cac1a7042": {
          "model_module": "@jupyter-widgets/base",
          "model_name": "LayoutModel",
          "model_module_version": "1.2.0",
          "state": {
            "_model_module": "@jupyter-widgets/base",
            "_model_module_version": "1.2.0",
            "_model_name": "LayoutModel",
            "_view_count": null,
            "_view_module": "@jupyter-widgets/base",
            "_view_module_version": "1.2.0",
            "_view_name": "LayoutView",
            "align_content": null,
            "align_items": null,
            "align_self": null,
            "border": null,
            "bottom": null,
            "display": null,
            "flex": null,
            "flex_flow": null,
            "grid_area": null,
            "grid_auto_columns": null,
            "grid_auto_flow": null,
            "grid_auto_rows": null,
            "grid_column": null,
            "grid_gap": null,
            "grid_row": null,
            "grid_template_areas": null,
            "grid_template_columns": null,
            "grid_template_rows": null,
            "height": null,
            "justify_content": null,
            "justify_items": null,
            "left": null,
            "margin": null,
            "max_height": null,
            "max_width": null,
            "min_height": null,
            "min_width": null,
            "object_fit": null,
            "object_position": null,
            "order": null,
            "overflow": null,
            "overflow_x": null,
            "overflow_y": null,
            "padding": null,
            "right": null,
            "top": null,
            "visibility": null,
            "width": null
          }
        },
        "ac5fedfec321448086c329bebbb96562": {
          "model_module": "@jupyter-widgets/controls",
          "model_name": "DescriptionStyleModel",
          "model_module_version": "1.5.0",
          "state": {
            "_model_module": "@jupyter-widgets/controls",
            "_model_module_version": "1.5.0",
            "_model_name": "DescriptionStyleModel",
            "_view_count": null,
            "_view_module": "@jupyter-widgets/base",
            "_view_module_version": "1.2.0",
            "_view_name": "StyleView",
            "description_width": ""
          }
        },
        "8c53ed06d8544cc392a4cd6e045bc32e": {
          "model_module": "@jupyter-widgets/controls",
          "model_name": "HBoxModel",
          "model_module_version": "1.5.0",
          "state": {
            "_dom_classes": [],
            "_model_module": "@jupyter-widgets/controls",
            "_model_module_version": "1.5.0",
            "_model_name": "HBoxModel",
            "_view_count": null,
            "_view_module": "@jupyter-widgets/controls",
            "_view_module_version": "1.5.0",
            "_view_name": "HBoxView",
            "box_style": "",
            "children": [
              "IPY_MODEL_429c31075c714e63b7ceba1f0f6282b0",
              "IPY_MODEL_ab933b2b693242329a05fa348c8e6c11",
              "IPY_MODEL_60bd9799d91d4558b776f93f307c7384"
            ],
            "layout": "IPY_MODEL_60b5ebe18e214c16a21ca1802b0bf54b"
          }
        },
        "429c31075c714e63b7ceba1f0f6282b0": {
          "model_module": "@jupyter-widgets/controls",
          "model_name": "HTMLModel",
          "model_module_version": "1.5.0",
          "state": {
            "_dom_classes": [],
            "_model_module": "@jupyter-widgets/controls",
            "_model_module_version": "1.5.0",
            "_model_name": "HTMLModel",
            "_view_count": null,
            "_view_module": "@jupyter-widgets/controls",
            "_view_module_version": "1.5.0",
            "_view_name": "HTMLView",
            "description": "",
            "description_tooltip": null,
            "layout": "IPY_MODEL_af4c5cc81751400681731a7dfbf9ee10",
            "placeholder": "​",
            "style": "IPY_MODEL_f259742e19fa4874bdb31b4fd4785be3",
            "value": "100%"
          }
        },
        "ab933b2b693242329a05fa348c8e6c11": {
          "model_module": "@jupyter-widgets/controls",
          "model_name": "FloatProgressModel",
          "model_module_version": "1.5.0",
          "state": {
            "_dom_classes": [],
            "_model_module": "@jupyter-widgets/controls",
            "_model_module_version": "1.5.0",
            "_model_name": "FloatProgressModel",
            "_view_count": null,
            "_view_module": "@jupyter-widgets/controls",
            "_view_module_version": "1.5.0",
            "_view_name": "ProgressView",
            "bar_style": "success",
            "description": "",
            "description_tooltip": null,
            "layout": "IPY_MODEL_e15921db1b6c49c4b4d155f48f99f634",
            "max": 1563,
            "min": 0,
            "orientation": "horizontal",
            "style": "IPY_MODEL_f709745a8b604784bf4f7f2fc42e116a",
            "value": 1563
          }
        },
        "60bd9799d91d4558b776f93f307c7384": {
          "model_module": "@jupyter-widgets/controls",
          "model_name": "HTMLModel",
          "model_module_version": "1.5.0",
          "state": {
            "_dom_classes": [],
            "_model_module": "@jupyter-widgets/controls",
            "_model_module_version": "1.5.0",
            "_model_name": "HTMLModel",
            "_view_count": null,
            "_view_module": "@jupyter-widgets/controls",
            "_view_module_version": "1.5.0",
            "_view_name": "HTMLView",
            "description": "",
            "description_tooltip": null,
            "layout": "IPY_MODEL_44fde712ca15414ea36291039aba1b08",
            "placeholder": "​",
            "style": "IPY_MODEL_697d25f58189443ba6621185829d212b",
            "value": " 1563/1563 [02:51&lt;00:00, 13.73it/s]"
          }
        },
        "60b5ebe18e214c16a21ca1802b0bf54b": {
          "model_module": "@jupyter-widgets/base",
          "model_name": "LayoutModel",
          "model_module_version": "1.2.0",
          "state": {
            "_model_module": "@jupyter-widgets/base",
            "_model_module_version": "1.2.0",
            "_model_name": "LayoutModel",
            "_view_count": null,
            "_view_module": "@jupyter-widgets/base",
            "_view_module_version": "1.2.0",
            "_view_name": "LayoutView",
            "align_content": null,
            "align_items": null,
            "align_self": null,
            "border": null,
            "bottom": null,
            "display": null,
            "flex": null,
            "flex_flow": null,
            "grid_area": null,
            "grid_auto_columns": null,
            "grid_auto_flow": null,
            "grid_auto_rows": null,
            "grid_column": null,
            "grid_gap": null,
            "grid_row": null,
            "grid_template_areas": null,
            "grid_template_columns": null,
            "grid_template_rows": null,
            "height": null,
            "justify_content": null,
            "justify_items": null,
            "left": null,
            "margin": null,
            "max_height": null,
            "max_width": null,
            "min_height": null,
            "min_width": null,
            "object_fit": null,
            "object_position": null,
            "order": null,
            "overflow": null,
            "overflow_x": null,
            "overflow_y": null,
            "padding": null,
            "right": null,
            "top": null,
            "visibility": null,
            "width": null
          }
        },
        "af4c5cc81751400681731a7dfbf9ee10": {
          "model_module": "@jupyter-widgets/base",
          "model_name": "LayoutModel",
          "model_module_version": "1.2.0",
          "state": {
            "_model_module": "@jupyter-widgets/base",
            "_model_module_version": "1.2.0",
            "_model_name": "LayoutModel",
            "_view_count": null,
            "_view_module": "@jupyter-widgets/base",
            "_view_module_version": "1.2.0",
            "_view_name": "LayoutView",
            "align_content": null,
            "align_items": null,
            "align_self": null,
            "border": null,
            "bottom": null,
            "display": null,
            "flex": null,
            "flex_flow": null,
            "grid_area": null,
            "grid_auto_columns": null,
            "grid_auto_flow": null,
            "grid_auto_rows": null,
            "grid_column": null,
            "grid_gap": null,
            "grid_row": null,
            "grid_template_areas": null,
            "grid_template_columns": null,
            "grid_template_rows": null,
            "height": null,
            "justify_content": null,
            "justify_items": null,
            "left": null,
            "margin": null,
            "max_height": null,
            "max_width": null,
            "min_height": null,
            "min_width": null,
            "object_fit": null,
            "object_position": null,
            "order": null,
            "overflow": null,
            "overflow_x": null,
            "overflow_y": null,
            "padding": null,
            "right": null,
            "top": null,
            "visibility": null,
            "width": null
          }
        },
        "f259742e19fa4874bdb31b4fd4785be3": {
          "model_module": "@jupyter-widgets/controls",
          "model_name": "DescriptionStyleModel",
          "model_module_version": "1.5.0",
          "state": {
            "_model_module": "@jupyter-widgets/controls",
            "_model_module_version": "1.5.0",
            "_model_name": "DescriptionStyleModel",
            "_view_count": null,
            "_view_module": "@jupyter-widgets/base",
            "_view_module_version": "1.2.0",
            "_view_name": "StyleView",
            "description_width": ""
          }
        },
        "e15921db1b6c49c4b4d155f48f99f634": {
          "model_module": "@jupyter-widgets/base",
          "model_name": "LayoutModel",
          "model_module_version": "1.2.0",
          "state": {
            "_model_module": "@jupyter-widgets/base",
            "_model_module_version": "1.2.0",
            "_model_name": "LayoutModel",
            "_view_count": null,
            "_view_module": "@jupyter-widgets/base",
            "_view_module_version": "1.2.0",
            "_view_name": "LayoutView",
            "align_content": null,
            "align_items": null,
            "align_self": null,
            "border": null,
            "bottom": null,
            "display": null,
            "flex": null,
            "flex_flow": null,
            "grid_area": null,
            "grid_auto_columns": null,
            "grid_auto_flow": null,
            "grid_auto_rows": null,
            "grid_column": null,
            "grid_gap": null,
            "grid_row": null,
            "grid_template_areas": null,
            "grid_template_columns": null,
            "grid_template_rows": null,
            "height": null,
            "justify_content": null,
            "justify_items": null,
            "left": null,
            "margin": null,
            "max_height": null,
            "max_width": null,
            "min_height": null,
            "min_width": null,
            "object_fit": null,
            "object_position": null,
            "order": null,
            "overflow": null,
            "overflow_x": null,
            "overflow_y": null,
            "padding": null,
            "right": null,
            "top": null,
            "visibility": null,
            "width": null
          }
        },
        "f709745a8b604784bf4f7f2fc42e116a": {
          "model_module": "@jupyter-widgets/controls",
          "model_name": "ProgressStyleModel",
          "model_module_version": "1.5.0",
          "state": {
            "_model_module": "@jupyter-widgets/controls",
            "_model_module_version": "1.5.0",
            "_model_name": "ProgressStyleModel",
            "_view_count": null,
            "_view_module": "@jupyter-widgets/base",
            "_view_module_version": "1.2.0",
            "_view_name": "StyleView",
            "bar_color": null,
            "description_width": ""
          }
        },
        "44fde712ca15414ea36291039aba1b08": {
          "model_module": "@jupyter-widgets/base",
          "model_name": "LayoutModel",
          "model_module_version": "1.2.0",
          "state": {
            "_model_module": "@jupyter-widgets/base",
            "_model_module_version": "1.2.0",
            "_model_name": "LayoutModel",
            "_view_count": null,
            "_view_module": "@jupyter-widgets/base",
            "_view_module_version": "1.2.0",
            "_view_name": "LayoutView",
            "align_content": null,
            "align_items": null,
            "align_self": null,
            "border": null,
            "bottom": null,
            "display": null,
            "flex": null,
            "flex_flow": null,
            "grid_area": null,
            "grid_auto_columns": null,
            "grid_auto_flow": null,
            "grid_auto_rows": null,
            "grid_column": null,
            "grid_gap": null,
            "grid_row": null,
            "grid_template_areas": null,
            "grid_template_columns": null,
            "grid_template_rows": null,
            "height": null,
            "justify_content": null,
            "justify_items": null,
            "left": null,
            "margin": null,
            "max_height": null,
            "max_width": null,
            "min_height": null,
            "min_width": null,
            "object_fit": null,
            "object_position": null,
            "order": null,
            "overflow": null,
            "overflow_x": null,
            "overflow_y": null,
            "padding": null,
            "right": null,
            "top": null,
            "visibility": null,
            "width": null
          }
        },
        "697d25f58189443ba6621185829d212b": {
          "model_module": "@jupyter-widgets/controls",
          "model_name": "DescriptionStyleModel",
          "model_module_version": "1.5.0",
          "state": {
            "_model_module": "@jupyter-widgets/controls",
            "_model_module_version": "1.5.0",
            "_model_name": "DescriptionStyleModel",
            "_view_count": null,
            "_view_module": "@jupyter-widgets/base",
            "_view_module_version": "1.2.0",
            "_view_name": "StyleView",
            "description_width": ""
          }
        }
      }
    }
  },
  "cells": [
    {
      "cell_type": "markdown",
      "metadata": {
        "id": "view-in-github",
        "colab_type": "text"
      },
      "source": [
        "<a href=\"https://colab.research.google.com/github/tony3ynot/DDPM_and_DDIM/blob/main/DDPM_%26_DDIM_on_CIFAR_10.ipynb\" target=\"_parent\"><img src=\"https://colab.research.google.com/assets/colab-badge.svg\" alt=\"Open In Colab\"/></a>"
      ]
    },
    {
      "cell_type": "code",
      "execution_count": 9,
      "metadata": {
        "id": "L614QQYQnq_R",
        "colab": {
          "base_uri": "https://localhost:8080/"
        },
        "outputId": "bfa9186a-1af0-4031-9a90-6ba1037dbf5b"
      },
      "outputs": [
        {
          "output_type": "stream",
          "name": "stdout",
          "text": [
            "Drive already mounted at /content/drive; to attempt to forcibly remount, call drive.mount(\"/content/drive\", force_remount=True).\n"
          ]
        }
      ],
      "source": [
        "import torch\n",
        "import torch.nn as nn\n",
        "from torch.nn import functional as F\n",
        "from einops import rearrange\n",
        "import math\n",
        "\n",
        "from torchvision import datasets\n",
        "from torchvision import transforms\n",
        "\n",
        "import matplotlib.pyplot as plt\n",
        "import numpy as np\n",
        "import time\n",
        "\n",
        "from tqdm.auto import tqdm\n",
        "from google.colab.patches import cv2_imshow\n",
        "\n",
        "from google.colab import drive\n",
        "drive.mount('/content/drive')\n",
        "\n",
        "device = \"cuda\" if torch.cuda.is_available() else \"cpu\""
      ]
    },
    {
      "cell_type": "markdown",
      "source": [
        "# 1. DDPM\n",
        "\n",
        "Implementation of DDPM ([Ho, et al., \"Denoising Diffusion Probabilistic Models\", 2020.](https://arxiv.org/abs/2006.11239))"
      ],
      "metadata": {
        "id": "jTun4sL_o2Iv"
      }
    },
    {
      "cell_type": "markdown",
      "source": [
        "## 1-1. U-Net Architecture"
      ],
      "metadata": {
        "id": "Glq9UE0NpaI3"
      }
    },
    {
      "cell_type": "markdown",
      "source": [
        "You can just simply import from diffusers!"
      ],
      "metadata": {
        "id": "MqfoTfPg6b1A"
      }
    },
    {
      "cell_type": "code",
      "source": [
        "from diffusers import UNet2DModel\n",
        "\n",
        "model = UNet2DModel(in_channels=3, out_channels=3, block_out_channels=(32, 64, 128, 128))"
      ],
      "metadata": {
        "id": "8ANqw9Bw6ZLa"
      },
      "execution_count": 10,
      "outputs": []
    },
    {
      "cell_type": "markdown",
      "source": [
        "Or you can implement from the scratch like below.\n",
        "\n",
        "[Reference code 1](https://github.com/w86763777/pytorch-ddpm/blob/master/model.py)\n",
        "\n",
        "[Reference code 2](https://github.com/CodingVillainKor/SimpleDeepLearning/blob/main/DDPM_notebook.ipynb)"
      ],
      "metadata": {
        "id": "7RbAvUQ09ZVb"
      }
    },
    {
      "cell_type": "code",
      "source": [
        "## Sinusoidal time embedding (similar to Transformer)\n",
        "class SinusoidalTimeEmbedding(nn.Module):\n",
        "    def __init__(self, dim):\n",
        "        super().__init__()\n",
        "        self.dim = dim\n",
        "        self.layer1 = nn.Linear(dim // 4, dim)\n",
        "        self.silu = nn.SiLU()\n",
        "        self.layer2 = nn.Linear(dim, dim)\n",
        "\n",
        "    def forward(self, time):\n",
        "        half_dim = self.dim // 8\n",
        "        emb = math.log(10000) / (half_dim-1)\n",
        "        emb = torch.exp(torch.arange(half_dim, device=time.device) * -emb)\n",
        "        emb = time[:,None] * emb[None, :]\n",
        "        emb = torch.cat((emb.sin(), emb.cos()), dim=1)\n",
        "\n",
        "        emb = self.silu(self.layer1(emb))\n",
        "        emb = self.layer2(emb)\n",
        "        return emb\n",
        "\n",
        "\n",
        "## Residual Block w/ Group Normalization\n",
        "class ResidualBlock(nn.Module):\n",
        "    def __init__(self, in_channels, out_channels, time_channels, group_num = 32, dropout = 0.1):\n",
        "        super().__init__()\n",
        "        self.silu = nn.SiLU()\n",
        "        self.dropout = nn.Dropout(dropout)\n",
        "\n",
        "        self.norm1 = nn.GroupNorm(group_num, in_channels)\n",
        "        self.conv1 = nn.Conv2d(in_channels, out_channels, 3, padding=1)\n",
        "\n",
        "        self.norm2 = nn.GroupNorm(group_num, out_channels)\n",
        "        self.conv2 = nn.Conv2d(out_channels, out_channels, 3, padding=1)\n",
        "\n",
        "        if in_channels != out_channels:\n",
        "            self.shortcut = nn.Conv2d(in_channels, out_channels, 1)\n",
        "        else:\n",
        "            self.shortcut = nn.Identity()\n",
        "\n",
        "        self.time_emb = nn.Linear(time_channels, out_channels)\n",
        "\n",
        "    def forward(self, x, time):\n",
        "        h = self.conv1(self.silu(self.norm1(x)))\n",
        "        h += self.time_emb(self.silu(time))[:, :, None, None]\n",
        "        h = self.conv2(self.dropout(self.silu(self.norm2(h))))\n",
        "\n",
        "        out = h + self.shortcut(x)\n",
        "        return out\n",
        "\n",
        "\n",
        "## Attention Block (similar to Multi-Head Attention)\n",
        "class AttentionBlock(nn.Module):\n",
        "    def __init__(self, in_channels, n_heads=1, d_k=None, group_num=32):\n",
        "        super().__init__()\n",
        "        self.n_heads = n_heads\n",
        "\n",
        "        if d_k is None: # Head Dimension\n",
        "            self.d_k = in_channels\n",
        "        else:\n",
        "            self.d_k = d_k\n",
        "\n",
        "        self.norm = nn.GroupNorm(group_num, in_channels)\n",
        "\n",
        "        self.fc_q = nn.Linear(in_channels, in_channels)\n",
        "        self.fc_k = nn.Linear(in_channels, in_channels)\n",
        "        self.fc_v = nn.Linear(in_channels, in_channels)\n",
        "        self.fc = nn.Linear(in_channels, in_channels)\n",
        "\n",
        "        self.scale = self.d_k ** -0.5\n",
        "\n",
        "    def forward(self, x):\n",
        "        # b = batch size / c = in_channels / h = height / w = width\n",
        "        b, c, h, w = x.shape\n",
        "        qkv = self.norm(x) # [b, c, h, w]\n",
        "        qkv = rearrange(qkv, 'b c h w -> b (h w) c') # [b, h*w, c]\n",
        "\n",
        "        Q = self.fc_q(qkv)\n",
        "        K = self.fc_k(qkv)\n",
        "        V = self.fc_v(qkv)\n",
        "\n",
        "        # L = h*w / H = heads / D = dimension\n",
        "        Q = rearrange(Q, 'b L (H D) -> b H L D', H = self.n_heads)\n",
        "        K = rearrange(K, 'b L (H D) -> b H L D', H = self.n_heads)\n",
        "        V = rearrange(V, 'b L (H D) -> b H L D', H = self.n_heads)\n",
        "\n",
        "        attn = Q @ K.transpose(-2, -1)\n",
        "        attn = attn * self.scale\n",
        "        attn = torch.softmax(attn, dim=-1)\n",
        "        attn = attn @ V\n",
        "\n",
        "        res = rearrange(attn, 'b H L D -> b L (H D)') # [b, h*w, c]\n",
        "        res = self.fc(res)\n",
        "        res = rearrange(res, 'b (h w) c -> b c h w', h = h, w = w)\n",
        "        out = res + x\n",
        "        return out\n",
        "\n",
        "\n",
        "## Down Sampling by 1/2x\n",
        "class DownSample(nn.Module):\n",
        "    def __init__(self, in_channels):\n",
        "        super().__init__()\n",
        "        self.conv = nn.Conv2d(in_channels, in_channels, 3, stride=2, padding=1)\n",
        "\n",
        "    def forward(self, x, time):\n",
        "        x = self.conv(x)\n",
        "        return x\n",
        "\n",
        "\n",
        "## Up Sampling by 2x\n",
        "class UpSample(nn.Module):\n",
        "    def __init__(self, in_channels):\n",
        "        super().__init__()\n",
        "        self.up = nn.Upsample(scale_factor = 2, mode = 'nearest')\n",
        "        self.conv = nn.Conv2d(in_channels, in_channels, 3, stride=1, padding=1)\n",
        "\n",
        "    def forward(self, x, time):\n",
        "        x = self.conv(self.up(x))\n",
        "        return x\n",
        "\n",
        "\n",
        "## Down Block in U-Net\n",
        "class DownBlock(nn.Module):\n",
        "    def __init__(self, in_channels, out_channels, time_channels, attn=False):\n",
        "        super().__init__()\n",
        "        self.res = ResidualBlock(in_channels, out_channels, time_channels)\n",
        "        if attn:\n",
        "           self.attn = AttentionBlock(out_channels)\n",
        "        else:\n",
        "           self.attn = nn.Identity()\n",
        "\n",
        "    def forward(self, x, time):\n",
        "        x = self.res(x, time)\n",
        "        x = self.attn(x)\n",
        "        return x\n",
        "\n",
        "\n",
        "## Middle Block in U-Net\n",
        "class MiddleBlock(nn.Module):\n",
        "    def __init__(self, in_channels, time_channels):\n",
        "        super().__init__()\n",
        "        self.res1 = ResidualBlock(in_channels, in_channels, time_channels)\n",
        "        self.attn = AttentionBlock(in_channels)\n",
        "        self.res2 = ResidualBlock(in_channels, in_channels, time_channels)\n",
        "\n",
        "    def forward(self, x, time):\n",
        "        x = self.res1(x, time)\n",
        "        x = self.attn(x)\n",
        "        x = self.res2(x, time)\n",
        "        return x\n",
        "\n",
        "\n",
        "## Up Block in U-Net\n",
        "class UpBlock(nn.Module):\n",
        "    def __init__(self, in_channels, out_channels, time_channels, attn=False):\n",
        "        super().__init__()\n",
        "        self.res = ResidualBlock(in_channels + out_channels, out_channels, time_channels)\n",
        "        if attn:\n",
        "           self.attn = AttentionBlock(out_channels)\n",
        "        else:\n",
        "           self.attn = nn.Identity()\n",
        "\n",
        "    def forward(self, x, time):\n",
        "        x = self.res(x, time)\n",
        "        x = self.attn(x)\n",
        "        return x"
      ],
      "metadata": {
        "id": "7oqTwu4InxE1"
      },
      "execution_count": 11,
      "outputs": []
    },
    {
      "cell_type": "code",
      "source": [
        "## U-Net Architecture\n",
        "class UNet(nn.Module):\n",
        "    def __init__(self, img_channels=3, n_channels=32, expansion=(1, 2, 2, 1), attn=(False, False, True, True), n_blocks=2):\n",
        "        super().__init__()\n",
        "        n_resolutions = len(expansion)\n",
        "\n",
        "        self.conv1 = nn.Conv2d(img_channels, n_channels, 3, padding=1)\n",
        "        self.time_emb = SinusoidalTimeEmbedding(n_channels*4)\n",
        "\n",
        "        # down sampling (encoder)\n",
        "        down = []\n",
        "        out_channels = in_channels = n_channels\n",
        "        for i in range(n_resolutions):\n",
        "            out_channels = in_channels * expansion[i]\n",
        "            for _ in range(n_blocks):\n",
        "                down.append(DownBlock(in_channels, out_channels, n_channels*4, attn[i]))\n",
        "                in_channels = out_channels\n",
        "            if i < n_resolutions - 1:\n",
        "                down.append(DownSample(in_channels))\n",
        "        self.down_layers = nn.Sequential(*down)\n",
        "\n",
        "        # connection\n",
        "        self.middle_layers = MiddleBlock(out_channels, n_channels*4)\n",
        "\n",
        "        # up sampling (decoder)\n",
        "        up = []\n",
        "        in_channels = out_channels\n",
        "        for i in reversed(range(n_resolutions)):\n",
        "            out_channels = in_channels\n",
        "            for _ in range(n_blocks):\n",
        "                up.append(UpBlock(in_channels, out_channels, n_channels*4, attn[i]))\n",
        "            out_channels = in_channels // expansion[i]\n",
        "            up.append(UpBlock(in_channels, out_channels, n_channels*4, attn[i]))\n",
        "            in_channels = out_channels\n",
        "            if i > 0:\n",
        "                up.append(UpSample(in_channels))\n",
        "        self.up_layers = nn.Sequential(*up)\n",
        "\n",
        "        self.norm = nn.GroupNorm(8, in_channels)\n",
        "        self.silu = nn.SiLU()\n",
        "        self.conv2 = nn.Conv2d(in_channels, img_channels, 3, padding=1)\n",
        "\n",
        "    def forward(self, x, time):\n",
        "        x = self.conv1(x)\n",
        "        t = self.time_emb(time)\n",
        "\n",
        "        res = [x]\n",
        "\n",
        "        for layer in self.down_layers:\n",
        "            x = layer(x, t)\n",
        "            res.append(x)\n",
        "\n",
        "        x = self.middle_layers(x, t)\n",
        "\n",
        "        for layer in self.up_layers:\n",
        "            if isinstance(layer, UpSample):\n",
        "                x = layer(x, t)\n",
        "            else:\n",
        "                skip = res.pop()\n",
        "                x = torch.cat((x,skip), dim=1)\n",
        "                x = layer(x, t)\n",
        "\n",
        "        out = self.conv2(self.silu(self.norm(x)))\n",
        "        return out"
      ],
      "metadata": {
        "id": "QtvIZeCeDlkQ"
      },
      "execution_count": 12,
      "outputs": []
    },
    {
      "cell_type": "code",
      "source": [
        "model2 = UNet().to(device)\n",
        "x = torch.rand([2,3,32,32]).to(device)\n",
        "t = torch.rand(1).to(device)\n",
        "model2(x, t).shape"
      ],
      "metadata": {
        "colab": {
          "base_uri": "https://localhost:8080/"
        },
        "id": "pUAJmhOXONQP",
        "outputId": "b21f60f8-897b-4d06-ac22-ff1d5ae4cb80"
      },
      "execution_count": 13,
      "outputs": [
        {
          "output_type": "execute_result",
          "data": {
            "text/plain": [
              "torch.Size([2, 3, 32, 32])"
            ]
          },
          "metadata": {},
          "execution_count": 13
        }
      ]
    },
    {
      "cell_type": "markdown",
      "source": [
        "## 1-2. DDPM Training & Sampling\n",
        "![image.png](data:image/png;base64,iVBORw0KGgoAAAANSUhEUgAAA80AAADzCAYAAAC8LvS1AAAAAXNSR0IArs4c6QAAAARnQU1BAACxjwv8YQUAAAAJcEhZcwAAEnQAABJ0Ad5mH3gAANplSURBVHhe7N11WFTb9z/wNyWglB0oBgZ2ImIhdmCD18Kuq6hXLKxrfOzuvtY1sBULEwO92IiBYmKgokg3M+v3x5c5P86GoQRBXa/nOc8zs9Y6hwEG9uxzzt5bg4gIjDHGGGOMMcYYS0ZTDDDGGGOMMcYYY+z/cKeZMcYYY4wxxhhTgzvNjDHGGGOMMcaYGtxpZowxxhhjjDHG1OBOM2OMMcYYY4wxpgZ3mhljjDHGGGOMMTW408wYY4wxxhhjjKnBnWbGGGOMMcYYY0wN7jQzxhhjjDHGGGNqcKeZMcYYY4wxxhhTgzvNjDHGGGOMMcaYGtxpZowxxhhjjDHG1NAgIhKDSV2+fBmXL18Ww4wxxhj7TmXKlMGAAQPEcDI7duzAmzdvxDBjjDHGvlOzZs3QrFkzMSxHaZg5cyYB4I033njjjTfesnizsbERm90U2djYJNuXN95444033nj7/m3mzJlis5sMX2lmjDHGcghfaWaMMcZyVnquNKfZaWaMMcYYY4wxxn5XPBEYY4wxxhhjjDGmBneaGWOMMcYYY4wxNbjTzBhjjDHGGGOMqfFdY5r9/f3h7u6O4cOHiykZPz8/fPz4UXqupaWFxo0by2pyi7dv32LdunUoXbo0hg8fDi0tLbEkGfH7AwAbGxvZ89zo0qVLiI+PR5s2bcRUrubr64tv376hUaNGYirDsvJYjDGWEzZs2AA7OzuUKlVKTMmIbVVubot3794Nb29vDBw4EFWrVhXTKRK/P+TitjgkJAQeHh548uQJypUrh6ZNm8LU1FQsS5cvX77g9evXKFWqFIoXLw4A+Pr1K3R0dGBsbCyW/xQeP34MPT09mJuby+LcZjPGcow4nXZGuLi4kL6+PgUFBYkpGXd3dypVqpQ0rbeBgYFYkmtYWFhIr3PZsmVimoiIAgMDSaFQSM8vX75M1atXl01dnltFRUXRli1bqFq1agSAXFxcxBK1zMzMqFixYhnaxo4dKx7mu0RFRZGhoSEBIB8fHzGdIVl5LMYYywnfvn0jfX19mjx5sphK5mdpi/ft2ye9xsKFC1N0dLRYQvQTt8WnTp2iYsWKyV5nvnz5aN26dWJpqp48eUI2Njakr69PlpaWVKJECapcuTI5OzuTjY0NHTt2TNwlV/P09KSBAweSmZkZAaAdO3bI8txmM8ZyUqZvz46Pj8e2bdsQHR2Nbdu2iWmZNm3aYOTIkWI414mPj8eLFy+k50+ePJHlAeDTp0+oXr06goODpZiNjQ1GjRolq8tt3r9/j6lTp6JUqVIYOnQoHj16JJakiojw9u1bmJmZYcuWLbhy5Qru37+PiRMn4tOnT/j06ROuXLmCO3fu4Pz585g9ezbi4+Px+fNn8VDfRV9fH5aWljA3N8/0WXmVrDwWY4zlhF27diE6Ohpbt25FTEyMmJb5Wdrip0+fSo+/fPmCr1+/yvL4idviGzduoEuXLvj06ZMsHhkZCScnJ1y6dEkWV+fLly9o0aIFvn37hlevXuHWrVv48OEDtm7dimPHjuHKlSsICAgQd8vVGjRogCVLlsDExERMAdxmM8ZyWKY7zUePHkVgYCAAYP369VAqlWKJTOHChcVQrqOjo4OJEycCAAoVKoQ///xTlk9ISECvXr1S7Aiq+yefW+zYsQMdOnTAjBkzxFS6xMTEwMDAAG5ubrCzs0PFihVRrFgx2a1fRYsWhampKapVq4Zhw4ZhxYoViI6Olh0nK1y8eBEvXrxAgQIFxFSGZeWxGGPsR9u0aRMAICgoCPv27RPTyfwMbXG/fv1QsmRJAMDAgQOlxyo/a1scGxuL3r17488//8SlS5fw77//okGDBlKeiLBo0SLZPuosX74cHz9+xKRJk1CsWDEp3rBhQ9y8eROmpqb48OGDbJ/cTktLCwULFkz1dnxusxljOSXTneaNGzdKj1+/fo1Tp07J8j+r+fPnIzg4GAEBAahbt64UVyqVGDp0KC5fviyr/1lMnz4djRo1Qp8+fcRUukRHR6N169YoWrSomFKrW7duaZ5MYYwxljlXr16Fr6+v9HzNmjWy/M+qXLlyePPmDb59+5bsTrafuS3etWsXhg0bhlWrVsHW1hZ9+/bFhQsXUKVKFanG29tbto869+7dAxJPIIgKFSqE5cuX/3RXmlXSM5cMY4z9aJnqNPv5+eH58+eyWFY01vHx8Xj06BGOHTuG06dP4+3bt2JJMhEREbh69SouXryI0NBQMY34+HgEBQXJNlUj4+fnh6NHj+Ljx49QKpVSXqFQICwsTLpKqlAo0K9fP+zYsUM6rqo2Li5OiqXk5cuXcHNzg5+fnyye9OupNtXX+/LlC06dOoUTJ07g27dvsv0eP36MI0eO4O7du8jMHG6GhoZiKF2MjIywYcMGMZyqfPnyyU6uIPFMuoq6DrVCoRBDKVL3/YtxdV8nKXEflfS83pRkpJYxxjJj48aNsttU79+/jxs3bshqMuPz58+4cuUKDh06hOvXr6fZzgHAixcv4ObmhqdPn6b4/zQ0NFTW3oWFhQGJV1/d3d2lTnBERASCgoIQEhIitZMq2dEWq75e0k3l1q1bOHToEG7fvi3bJyoqCu7u7jhz5gy+fPkiy6WmYsWKmDRpkiyWL18+2NvbS881NdP3sSxPnjwAgMWLFyMyMlJMo3PnztDT0xPDksy2s+r2UxdXEY/zvW2keDwVbrMZY9lGHOScHs7OzrRx40Zq0KCBNImFhoYG+fr6iqWSrVu3SrUpTT6ydetWMjU1pQIFCtCSJUvIwcGBAFCZMmXIwsKCLCws6H//+59UHxoaSv369SNtbW2aMGECTZ8+nfLkyUNdu3alr1+/SnW+vr5kbW0tfW0AdO3aNXJxcSENDQ0CQEZGRuTt7U1t27aV1c2aNYuIiJYuXUqampqynJaWFmlra9Phw4eJiMjV1VWWf/PmDdWvX18WGz58uOz1d+nSRZZfuHAhLV++nPLkySPF8uXLRxcvXqSoqCjq2bOnrN7GxobCw8OlY6ZHTEyM7BgZmQgsJUl/ryEhIWKaiIhCQkJo27Zt1LhxY3J1daXLly9T6dKlqUCBAnT16lUiIoqOjqa5c+dSp06d6K+//qIOHTpQ27Zt6c2bN7JjffjwgZYvX0716tWjkydPSvHIyEg6duwYOTo6Uo0aNUipVNLq1aupWrVqpKOjQ82aNaO3b9+m61hPnz6lhQsXUp06dWjHjh304sUL6tq1KxkZGVGRIkVo5cqVsuOofPz4kRwdHalv377UpEkTqlevHo0bN45cXV3pwoULdPPmTXEXxhjLlC9fvlC5cuXo5MmTsv/pvXr1EktlUmuL/f39ycHBgTQ0NKhr1660dOlSKlSoEBkYGEjtsIWFBQUHB0v7nDlzhkxNTalOnTq0dOlSsra2pkKFCtHBgwdlx543bx7lzZtX+totW7YkX19fKlu2rBQbPXo07d69mwoXLiz7nlSyoy3et28fmZqaSjk9PT3y9/enunXryvbp2LEjxcfH07lz56hQoUJSPF++fLRv3z7peJmxe/du2ddJj3Xr1kn71KlTJ1lbmZL0trOvX7+mNWvWUNOmTWnevHkUEhJCzs7OVKZMGdLS0iI7OzsKDw8nhUJBa9asoYoVK5KGhgaVL1+eLl++LB0nISGBzp49S/369SNra2sKCwsjZ2dnqlSpEunp6VHTpk3p7t27sq9NRNS3b19CChOBcZvNGMtJGe40R0dHU8mSJSk0NJR27dola1ScnJzEcklqDXXS3PLly4mISKFQSLNLFitWjFasWEEeHh5EiR3O8uXLEwAaPHiwdJwxY8YQADI1NaXAwEAp/u7dO9nr7NKlC1WrVo309PSk2J49e0ihUJCxsbEUU3WaiYguXLggO0bSjjml0FBbWVnRhg0baN68eaSlpSXFjx49Ktsv6QyadevWpT/++IMOHTpEtra2UrxEiRLUvXt3mjt3Lm3dupWKFi0q5aZOnSo7Xlp+dKf55cuXNGrUKOlEwPTp08nBwYFatWpFAGjFihVERGRnZ0eFCxemuLg4osTGtlChQmRqairF/vvvPxo6dChpa2sTAFmjefXqVRo4cKD08xo0aBBNmTKFjhw5Qt27dycA1Lp1a6le3bEiIiJo3bp1VKJECQJAgwYNIjs7O9q+fTtt3LiRTExMCADduHFDOhYlzmBbsmRJmjFjhhRzdnYmJL7f7e3tadKkSbJ9GGMssxYvXkzTpk0jpVIptYcASEdHhwICAsRyibq2OCwsjKpUqUIAqECBAhQfH09EROvXr5fqBwwYQCtXrpRms167di0h8aS5v78/ERF9/vyZdHR0CADNnz9fOj4R0eDBg6Vj1a5dm6pWrSpbsaJChQpERLRs2TIpBuHcfna0xRs2bJDiOjo61KpVK9qwYQMtXbpU9jmhb9++1LJlSzp06JDsJLahoWGaq4ikxsXFRTrWmTNnxHSK4uLiqGnTptJ+efPmpQULFkjtZUrS087Gx8fT5s2bpRU2unTpQp07d6Z//vmHrly5Qu3atSMA9Oeff9Iff/xB8+bNo8uXL9PGjRspT548VLBgQYqJiSFKfK/VqVOHAFDZsmWpdevW5OzsTAsWLJBOSuTNm5du374te50pdZq5zWaM5bQMd5r//fdfcnR0JErsgCU9I2xoaEhhYWHiLkSpNNSUuJSRKpf0LGX79u2l+IkTJ6T4yJEjpfju3bul+NGjR6X4wIEDpTj93/060taoUSNSKpV0/Phx0tXVpbJly9KXL1+IhCWnvqfT/OzZMynXsGFDKT5mzBjZfvXq1ZNyXbp0keJeXl6y4+3du1fKjRs3Too3bNhQiqfHj+40q9jY2BAAsrOzI6VSSUREN2/epLi4OPr27RsBoOLFi8v26dWrFyHxzoCkVI1t0k4zJZ6FBkB58uSRnb2OjIyUrnCI7091xxo6dCgBoD/++IMSEhKk+MyZMwkAjR8/XlY/ceJEAiBr/IODg0lXV5e0tLSk9xdjjH0vpVJJFSpUoBcvXhCl0MmcOXOmuItEXVu8bds2Kd6sWTMpfuvWLSlet25dKf769Wvp/2r58uWlOBFRzZo1CQDp6urK2sJZs2bJXufZs2cpKiqKbG1tSVtbmxYuXEiUQnuaVHa0xeLVem9vbymX9A60atWqSZ3L0NBQ2T7nzp2T9smIhIQE6aRH7969xXSqIiMjqXfv3rLXUbVqVfL09BRLM9zOLly4kABQq1atZG3gkydPpK916dIl2T6dOnUiAHT69Gkp5unpSUjsHL9+/VqKx8TESBcHWrVqJcVJTadZhdtsxlhOSd/gmSQ2btyIwYMHAwB0dXWlxwAQHh6OnTt3JqlOW1hYmGzssoGBgfQ46fhbT09PILE+6TjZChUqSI/Nzc2lxzt27FA71qhLly7Q0NBAp06d8O3bN7x48QKFChUSy75LxYoVpcdJZytVzTiekvLly0uPCxYsKMslPV7SWSNTO15uovoZODg4QENDAwBQv3596OjoIH/+/Jg7dy5Wrlwp2ydv3rxACt+jutlfdXV1gcT96tSpI8Xz5s0rzb767t07KY50HMva2lo2KUmlSpUAINl4e9U4wqTjokxMTGBtbQ2FQoGXL18mqWaMscy7ePEiTE1NpTZv4MCB0NfXl/KbNm1CfHx8kj3S9vDhQ+mxunb43r170twba9euRVRUFCC0w0jSFsfGxmL16tWynIqRkRFatGgBfX19XLp0CcHBwZg8ebJY9t2ysi0uU6YMdHR0gMTXn7RtSO14qdm7dy9evHiBxo0bY+vWrWI6VXnz5sWePXtw7tw56Wf++PFjNG3aFOvWrZPVZrSdVY2HrlSpkuz7TPo5q2HDhtJjAChdujSQuMSliuo45cqVQ5kyZaS4rq4u/ve//wEAzp8/L1s6LDXcZjPGckqGOs2PHj3Cp0+f0LRpUyk2YsQI2cQVa9euVTtBQ0qMjIxkyyWoGmEkTtChUqpUKQDAgwcPZP/kkjboqn/+wP9NBpH0Q0BSZcuWlR7nzZs33RNvZJaqk5gRqe2TWi63UzVsomnTpqFHjx4AgGvXrmHcuHH477//gMTJ3L6XatKU7z2WuuOofifiJDOqSXpU71/GGPtemzZtkp2wzp8/P3r37i09//TpEw4dOiQ9Tw9V5wKptMOFChWSOkH379+X4uIEk0nbYh8fH1lOxczMTNa5SdpRzy6ZaTtT2ye1XHoEBATA2dkZjRs3xqlTp2QnPjKiVatWePjwISZNmgRtbW0olUo4OTnJJkxDFrWzqjYwJar2XZzAVJ1GjRpJy1aKk8tmFW6zGWNZJUO9xU2bNkGhUKBHjx5wcHCAg4MDJkyYgHz58kk1z549w4ULF2T7pWXWrFnS4wcPHgCJnV7VY2NjY7Rv3x4A4O/vL9UicW1lFbHBefXqlew5y93c3NzQpk0bPH/+HIsWLUp2Fjs369mzJwDgn3/+kcW9vLzQuHFjlChRQhZnjLHM+PTpE44fP459+/ZJ7bCDgwMePXokq1u7dq3seVr69euHcuXKAYlXnVUnp5N2jnv27Cl1NpK2xUnbYQhtMbfDKVMqlejTpw/q1KmDs2fPwsjISMqlNBt2WvT19bFo0SK4urpCW1sbADBhwgTpzgCV3NbOmpmZAemYfTurcZvNGMuodHeao6KisHfvXqxcuRIjRoyQbTNnzpTVZnT5qeHDh2PTpk0oVKgQZs+ejeXLl6N37954//49zM3Ncf78eenqcNJbgwDIlpmIjY2V5VQfAFjuN2zYMAwaNAibN2/GoEGDUj2bnRuNGjUKM2bMwPXr1zFgwABcvnwZc+bMQbFixeDq6iqWM8ZYpmzbtg1dunSBs7OzrB2eN28eatSoIdXduHFDWss3PfT19XH16lW0a9cOX758Qc+ePbF8+XLMmDED2traGDVqlOzW3qRtsbjcU9K2mNvhlM2YMQMmJiZwc3OTXZlXKBSyJahScvDgQdy9e1cMAwC6d+8uXYgICgqSnUzJje2s6s7EypUri6lsxW02Yyyj0t1p3rdvH+rXr4/OnTujRYsWsu2vv/6S3cpy6tQpvHjxQrZ/WmrVqoU6deqgX79+qFChAvr374/79+/Dz88PlpaWUl3VqlVlt1MnPSOb9LGGhgaqV68uPWe519GjR7Flyxb88ccf0pion1GvXr3Qu3dvtGvXDi9fvkSrVq1w7do12TqqjDGWWUqlEps3b8b48eOTtcMtWrSAk5OTrH7VqlWy52kpWLAgbGxs0LRpU7Rt2xYWFhY4cOAAPnz4gLVr18ra3qQddPHKaNLnNWvWlOXY/13dPHfuHCZPnoxHjx7h7t27uHnzJs6cOYM//vhDNm9JSvT09PD333+LYUnbtm2lx6rb6XNrO/v27VtUqFABJiYmYirbcZvNGMuIdHeaV69eDUdHRzEMANDS0pLGySCxYV+xYoWsJuk4Z3HM8+7du9GwYUN8/foVy5YtQ8eOHdG2bVvUqlUr2XhjIyMj/Pnnn9LzpJM7vH79Wno8aNAgtRNGpLaIvfjaVMSxSyEhISAi6aq6uv3Sktn9Mivp+DQAiImJkT3PqKRXFBISEmS5pFTfZ0rf77Vr1wAg2cRtqufiWCTV70/8PaZ0bBWxViWjxxLrVJ49e4Z+/fph69at+OOPPzB48GBYW1sne98wxlhmHTt2DHny5IGVlZWYAgD06NFDNk543759+PDhg6xGXVscFRWFhg0bwsXFBRMmTMCgQYPQvn17NG3aFEWKFJHqVEaPHi1dIRUnWVK1xbq6uhg7dqwUT/r11P0vRSr/f5FNbXFm9smsEydOYMSIEbhz5w6sra1Rr1491KtXDw0aNED79u1x+PBh1K9fX9xNpnz58jh9+rTaK6Jfv34FEk+CVK1aFchEO5uen4lYIz5PKqXchQsXEBYWhtmzZ8viKdWqcJvNGMsp6eo079ixAz4+PihevLiYkiSdRAQAtm7dCl9fX+n5s2fPpMeRkZH4/Pmz9HzKlClQKBS4f/8+bGxs0KtXLzg6OqJfv35wcXHBoUOHZONd5s6dK93ydf78eSmuGkttZmaGRYsWSfGknemUnqsoFAoEBARIz5POtJx08jAAcHZ2Rs+ePaXXJX5oSLpv0rFfb968kR4Tkex50hknxVmekz5PWhcWFiY9To8rV67Int+5c0f2PKOS3lGQ2myTqteZ9PeuorpL4eTJkzh06BCuXr2K0aNHS2PhLl26BA8PD2l2TVUjHxQUlOQo//fhCQCio6NlJwOISJoZNDw8XIojHccSJzRRvX7xOLNnz8bdu3fRq1cvTJo0SZql9J9//oGnp6fahpsxxtIjKioK06dPT7UdNjY2lk2sGR8fjylTpshq1LXF+/btk8YvjxgxAt26dUOfPn3g6OiIESNGYNGiRbL2yszMDAsWLAAAPHnyRGo7P3/+LE3COWfOHNlM1Enb3oCAgGS3dauI7V/SNi872mJx3LW6tjjp48+fP8tOFIeGhkqP1bl69Sp69OiR6glmAGpPiqiUK1cOmpqaGDhwIPbv3y/LhYeHS7dnb9myRbrwkNF2VtUGirNaJ/3MIXbAVe2iGEfihFs3b96UnoeGhsLFxQV2dnbS+GIVVac/pc833GYzxnKMuAaVaNy4caSlpUUAqGDBgmRvb0+hoaFS/vnz59S1a1fKnz8/IclagQCoaNGitGfPHlq5ciXlyZNHlqtcubK0vqJq3b3UNktLS4qMjJS+bkhICPXp04d0dHTor7/+ogkTJlCePHnIwcGBvn37JtU9ePCAKlWqJDuWnp4eOTg4yL6P4OBgsrS0lNXlyZOHli1bJtVMmDBBymlqatJff/1FSqWSNm3aREZGRrJ9zc3N6f379zRo0CBZXENDgwYOHEjBwcGyNSMBkLa2Ns2fP5/u378vW7saiT/Lmzdv0pIlS0hfX1+Wa9SoEUVFRUmvMyUTJ06kdu3akY6OjmxfAFS9enXq378/BQUFibupdfjwYXJ0dJT9XkuVKkXjx4+nR48eSXXPnj2j4cOHS++hIkWK0Jw5c2RrZ0ZERMh+FpaWluTl5UWnT58mbW1tAkCjR4+my5cvk5OTk1RXrlw5Wr58OcXExND169epVatWUq53795069YtevnyJQ0YMECKN2jQgM6ePUtXr15Ve6x58+ZRvnz5CIlrWi5btowUCgXt2LGDSpUqRQBIR0eHpk2bJr2HLly4QCVKlJCOJ25WVlYUEREhfc+MMZZePj4+ZG5uLv0/sba2TraG7aJFi6hevXrJ/vcAoNatW1NUVFSqbfGJEyeS7Sdu2tratHfvXtnXPXnyJJUoUYJq1apF8+fPp3r16lHRokXpyJEjsroJEyYka3+qV69OO3fulNVt2LCBDAwMZHUVK1aUrceclW3xpk2byNjYONk+Hz9+pFGjRpGmpqYsN2DAAPr48SNVq1ZNFi9QoABt375d9r0kFRoamuy1pbTp6OhQdHS0uHsy5cqVo6FDh5K1tTXVq1ePhg4dSgMGDKBixYpR2bJlyc3NTVaf3nY2MjKSli9fTsWKFSMAZGhoSIsXL6YvX76Qh4cHdevWTTpGixYtyM3NjcLCwmjOnDnSz7FIkSK0ZMkSioiIoDt37hAAKlOmDNnb21PHjh1p6NChVKtWLXJxcSGFQiG9xrt379KYMWOkzwtmZma0dOlSCg4O5jabMZbjNEjdPS0/kLe3N5ydneHh4SGmZNasWZNszFZkZCTu378PhUKBOnXqJFv6Iqv5+/vjzZs3KF++PI97yUJKpRJ+fn4oUKCA7FbAL1++IC4uLtf/rK9fv44DBw7A2dkZ7969Q0hICCIjI6UrOQcPHkT//v1ltyoyxlhuoVAoMH/+fKxYsSLZ1cWkChYsKF0JTOrVq1fw9fVFxYoVUb58+Wy/zfV3b4u9vb1Rq1YtIPGqq4+PDyIiIlCpUiWYm5vLbtNXyYl29u7du6hXrx6qVauGhw8f4v379wgPD4eFhUW2v0dSw202YyyjcrzTrFQqMXHiRGzfvh3Tp09H3bp1Zbnnz59jxYoVePr0KSZOnIjFixfL9mcsp3l5eaFdu3Z4/fq12slMHj16hKNHj2LGjBliijHGctzt27cxcuRIKJVKLFmyRNbpCg0NxcWLF7F69WpoaGggLCzsh6yrzH5+Yqc5N+A2mzGWGTneafbw8EDz5s1RsWJF2VirpDZv3ozhw4fj2LFj6Ny5s5hmLEe1atUKN27cwKdPn9Te6TBjxgw4ODjIZpxljLHcwsbGBlevXsXevXvRq1cvMQ0AKFGiBIoWLSpbu5mx1OTGTjO32YyxzEjXRGDZqXr16ihQoABevnyJ/fv3J5sg486dO1izZg1GjBiBTp06yXKM5QblypWTZp7dtm0b7t27h+fPn+O///7D1q1b0a1bN9SsWZMbX8ZYrmVjYwMkLockzrgdGhqKhQsXIiEhATt37pTlGEtNdHQ0kMLKHTmJ22zGWGbk+JVmJM5IuX79enh4eCAiIgKGhobInz8/iAhlypRB37590ahRI3E3xnKF2NhYTJkyBdu3b5dm8NTQ0ICZmZk0M2f+/PnF3RhjLFfZv38/Dh48iMePH0NfXx/58+eHvr4+NDQ00L59+3StIcyYyvXr1zF//nycPn0aALBw4UI0btw4xz/PcZvNGMuMXNFpZuxXEB8fD39/f4SHh6NChQo85o8xxthvy9vbG7GxsbKYlpYW6tWrJ4vlFG6zGWMZwZ1mxhhjjDHGGGNMjRwf08wYY4wxxhhjjOVW3GlmjDHGGGOMMcbU4E4zY4wxxhhjjDGmRppjmnfs2IEdO3aIYcYYY4x9p1q1amHlypViOJm//voL3t7eYpgxxhhj32nAgAEYMGCAGJZJs9PMGGOMMcYYY4z9rvj2bMYYY4wxxhhjTA3uNDPGGGOMMcYYY2pwp5kxxhhjjDHGGFODO82MMcYYY4wxxpga3GlmjDHGGGOMMcbU4E4zY4wxxhhjjDGmBneaGWOMMcYYY4wxNbjTzBhjjDHGGGOMqZFtnWalUglXV1e8fv1aTDHGGGOMMcYYYz+FLO80ExEOHjyI6tWro1evXggMDBRLWCpOnz6N+/fvi2HGGGOMMcYYYzkgyzvNp06dQsGCBaFUKsUUS8Pr16/Rp08fvH37VkwxxhhjjDHGGMsBWd5ptrOzQ/PmzVGnTh0xxVIREhKCTp06ISQkREwxxhhjjDHGGMshWd5pVtHUzLZDp+rt27cICAgQw1AqlfD19cWnT5/EVIoSEhLw+PFjREVFiSmZ4OBgPHr0CPHx8WJKEhERgcePH+Phw4cICwsT0wgKCkKLFi3w6NEjMcUYY4wxxhhjLAflTM8WwNGjR1G7dm1cvXpVTKXL8OHDkTdvXujr60NfXx///fcfRowYgTJlysDMzAwrVqwAEjvLc+bMQaFChbB9+3b07t0btWvXxrNnzwAAjx8/RrVq1aTj1K1bF1u2bEGBAgVQrVo1GBsbY9iwYYiLi5N9fV9fX1haWqJ9+/bYvXs3ihcvjnnz5oGIpJqgoCD07NkTzZo1w86dOzFkyBAYGxujbdu28PX1ler69u0rG8fcs2dPGBoa4vDhw1KMMcYYY4wxxlgOoGzSt29fAkBeXl5iioiI+vfvTwDIxcVFTKWbpaUlASAAZGtrS61atSINDQ0CQJaWlkRE9OeffxIAGjRoEBERhYSEkI6ODhUrVowiIiKIiOjmzZvScfLnz09Dhw6lwMBAWrNmjRQfMGCA9HVfvnxJ+fLlIwD09u1bIiKaNGkSAaBly5ZJdS1btiQA5OrqKsVq165NAMjU1JQiIyOleJcuXaSvdezYMSnOGGOMsZ9bWFgYLV68mHr16kX9+/cX05KQkBBSKpViOMd8+/ZNDDHG2G8px640L168GLt27cKUKVPEVLoVLVpUelyyZEmcO3cOGzZsQLVq1TBu3Dg8efIEmzdvBgBYWVkBAIyNjVGyZEl8+vQJmzZtSnYcDQ0NrF27FoULF4aTk5OU+/fff/H8+XMAwLRp0xAZGYnixYujVKlSAICqVasCAObPn4/4+HgQEa5fvw4A2LVrl3R8CwsLAMCHDx/g5eUlxRljjDH283j37h0UCoUYTubz58+oUqUKJk2ahH379kFbW1ssAQD4+PjA0dExXcf8UaZPn45Lly6JYcYY++3kWKe5SJEicHR0hJGRkZjKlNatWwOJt20/fPgQvXr1gpubm9T4aGpq4vPnz/j8+TP09PQAAB4eHrJjAICRkRHy5MkjPa9ZsyYAQKFQ4Nq1ayAiHD9+XKpVHTMhIQFIvCXbx8cHGhoamDhxIqpWrYp+/fpJx9PQ0JAeBwcHS48ZY4yxrBYREYGVK1eKYfadNm/ejDJlyqRriJmLiwuKFSuGzZs348KFCyn+Pt6+fYu+ffti3bp1ajvV8fHxePXqFT58+CAbCpZRT548gaWlJRo2bIjGjRujSZMmaNKkCRo1agRra2s4ODhItStXrsSSJUvw4MED2TEYY+x3k2Od5qyWP39+MQQ/Pz/p8cqVKzFkyBAMGTIE5ubmsLOzQ9myZWX1KTExMZEev3jxAu/evUN0dDQA4NWrV9Ixjx49Cjs7O9jZ2UmTgs2ePRuPHj1C48aNsWTJEtja2uL8+fPS8RhjjLHsEBkZiSVLlqBs2bLfdUcXS9mJEyegVCrTnHskPDwcoaGhuH37NoYOHYoWLVrAwMBAVkNE6NWrF1asWCHdvZaUn58funfvDkNDQ/Tt2xddunSBoaEhnJycEBoaKpanqXTp0li7di1WrFiB6OhoeHp6wtPTEy1atMDKlSsxY8YMqVZHRwfLli3DH3/8gZiYGNlxGGPsd/LLdJpTknRGawcHB5w4cUK2rV69WlafEi0tLemxgYGB7JhKpRLHjh1LdtwGDRoAiVeSBwwYgDJlyuD+/fs4duwYWrRoIe3PGGOMZbXY2Fi4ubmhRo0a+Pbtm5hmWeDNmzfQ1tbGkSNHoFQqxbTkzJkzsLOzE8MyO3bsgLa2doqfD/z8/NCwYUOcPXsWN2/exI0bN3D79m2sXbsW69atg62trXQiP73y5csHKysrWFlZye72Mzc3h5WVFWrUqCGrr1KlClq1aoWFCxfK4owx9jv5pTvNFSpUkB4nna06I5LeQl2+fHmUKVMGOjo6QOIt26pxzqLIyEi0bNkSO3fuRPHixbFz504YGxuLZYwxxliW0tXVRa9evdCmTRsUK1ZMTLPvFBsbiwIFCqB58+b4+PEjbty4IZZITp8+jQ4dOohhmbVr12LMmDFiGADg7OyMoKAg2NvbS8PFAGDAgAEoX7487t+/j2XLlsn2yQ6jRo3CsmXLEBkZKaYYY+y3kG2d5vSMt0lpzeLMSunrtWrVSnp84sQJfPz4UXoeGRmJ5cuXS89VxPWWvb29gcSrzM2bN4eWlhZsbW2lvGqiMRU3Nzc8ePAA58+fx7179wAApqamUkdbNfY5NbGxsQCAu3fviinGGGMs3TQ1s62Z/209f/4cdevWxR9//AEA2Lt3r1gCJH4u+fLli2yyUdHTp0/x4sULdOnSRUwhMjIS586dAwBUrFhRTEuxY8eOiaksZ2FhgZIlS+LgwYNiijHGfgvZ1pp+/foVAJKtb6wyf/585M+fH9u2bRNT6RYYGCg9/vLliywHANbW1ujatSsAICoqSrryu23bNrRo0UJ21lblw4cPWL58ORISErB582Z8+vQJAPDXX3+hUKFCAICFCxdKt22vWLECzs7OOHbsGCZNmiTN3p30bOydO3ewefNmzJkzRzam+c2bN3j37h2QODGayo4dO7B06dI0x0oxxhhj32PGjBlo1KiRrD1Nr/v372PcuHGYPHkyJk+ejHHjxmHnzp1Sfv369Zg4caKUO336tGz/n5WPjw/q16+P7t27Q09PD66urtLJ7qS8vb1T/JyR1O7du1G3bl3ZUDAVT09P6UR+gQIFxDQKFiwIJP4eMjO2OaOaN2/+y/wOGWMso7K803zlyhXMmjULFy5cABInw9qxY0eyBjkoKAhKpRIhISGyeHoNHToUd+7ckZ67uLjg77//ltUAwJ49ezB48GBoaGjgyZMnGDBgAGbMmIHZs2enOH7IzMwMMTExMDIywvDhw6GtrQ0XFxfMmTNHqqlduzYuXLiAkiVLAokd527duiEgIACHDx+GlpYWunXrhvr16wOJV5cnTZqE0qVLY9++fdJxNm3ahKioKADAmDFjpI7zmTNncOPGDcyaNUuqZYwxxrLav//+ixs3buD+/ftiKk358uVDyZIlcf36dSxevBirV6+WzfysoaGBpUuX4uLFi8ifP79sYs3slNoY46xw5coV1K9fH8bGxujYsSOCg4Nx4sQJsQznz59Hy5YtxbCMl5cXLC0txTCQeEVbJemqHmJMqVTKJj7NLlWrVpWW0mSMsd+OuHDzj6JUKunVq1diONuEhYXRtWvX6ObNmxQXFyfLvXnzhgAQACpTpgwREQUGBtKNGzcoIiJCVpuUUqkkPz8/unjxIr19+1ZMU0JCAnl5eZG3tzfFx8dLcX9/f7p161ay1xEREUH//fcfPXv2TBZnjDHGMqNkyZKkp6cnhiUPHz6kQ4cOkUKhEFPpFhwcTFWqVCEAZGNjQzExMRQfH08dOnSgpk2bUlRUlLhLtnj69Cm1atWK9PT0qGjRojRt2jSKjY0Vy2SmTJkihtLUsmVL6fGJEycIANnZ2clqiIg6duyY5vduYWFBGzZsEMNERLRgwQLps8n27dvFNA0bNkzKe3h4iOl0adasmXSMHTt2iGmZM2fOkKamJiUkJIgpxhj75WX5leb00tDQSNeST1nF0NAQjRs3Rv369aXxxakpXLgwrK2tkS9fPjEl0dDQQIUKFdC8efMUl4nQ0tKClZUVatasKTv7bmZmBktLy2SvI1++fGjQoEGKY5cYY4yxrFatWjV07979u8Y+m5iY4MyZMyhevDiuXLmC/v37o3///vj48SNOnDgBfX19cRdMnz4drVq1wsCBAzF69Gj06dMHtra2GDBgAEaPHo1BgwahefPm2Lhxo7hrit6/fw9bW1tYWFjg4MGDmDNnDtzc3GBraysNsxKFh4fj7du3YjhVHz9+lH12adeuHUqUKAF3d3cEBARI8bi4OMTGxqb4vSf14cMH2QzWSSkUCjEkk3Qul+y+ug4AxsbGUCqV0vA7xhj7nWS+lfyFJJ2ci2eGZIwxxjLGzMwMp06dgoGBAfbv34+zZ8/C3d09xQ5haGgoLly4gB07dmD79u1Ys2YNqlSpgvv372PLli1Ys2YNtm3bht69eycb2qXOwoUL8b///Q+rV6+GnZ0dhg0bhjt37qBmzZqoW7duircVr1ixAtbW1mI4Ve7u7rIlpLS0tDBgwAAkJCTI5mi5efMm6tWrJz1PSWRkJMLDw9WenE8aT6lTnPSzi6GhoSyXHfLmzQsAvIwZY+y39Nt3mqOiomTjjL98+YJ9+/YhJiZGVscYY4wx9WrXrg0HBwcgcd4SdbNKHz58GCtWrICpqakUu3z5Mpo0aSK7A6tmzZooX7689Dw1Dx48wODBg2WxPHnyYP369Zg/fz7atWuHv//+G35+fnj69CmmT5+Obdu2YdCgQbJ90nL+/Hm0bt1aFhs+fDi0tLSwYcMGaeKuK1euoGnTprI6keoONNXcJiIzMzPpcUon9JOu9pH0Z5ldVOtBqyYgY4yx38lv32l+//49DA0NsXLlSmkLDAzErVu3xFLGGGOMqbFu3TqcPHkSs2fPBhLXGE5pFYhixYrJrvDGx8fjxo0baNasmazOxMQkzY6nSpkyZcSQpH///rh48SKOHDmCSpUqoXLlynBzc8PFixfTvH06qZCQEGhra0NPT08WNzMzQ/fu3REQEIB//vkHAHD9+nU0bNhQVifS1dWFkZGR2pmvbWxsoKGhAai5uquaSNXCwgIlSpQQ01kuLCwMOjo6KFy4sJhijLFf3m/faa5YsSLGjh2bbEtvQ80YY4zlVknHvaaEiBARESGGM2zfvn2YPn06zp49i7///huzZ8+GUqlE3759k90a3b59e9nz27dvIyoqKlmnuUKFCtIqFWlZv369GJKxtLTEw4cP8ezZM7x58wY+Pj4wNzcXy1K1d+9e9OjRQwwDACZOnAgA+Pvvv/H161fExMSk65Zpc3NzfP78WQwDiVd0GzRoAAB49OiRmMaLFy8AAB06dJDFIyMjce3aNVksK7x9+xampqZSR54xxn4nv32nmTHGGPsVKZVKBAcHIyEhQW3nuU2bNihatCiePHkiptIUGxuLgIAAbNiwAf3798fq1atRu3ZtILHz6ODggJiYGHTq1AkPHjxQe0X1ypUrMDIyQq1atcRUuqWng6qhoYGKFSuidOnSYkqtxYsXw9/fH4GBgTh8+HCyDr9KvXr14ODggC9fvsDBwQF169YVS1JkbW2Nu3fvimHJihUroK+vj1OnTsHHx0eKr127Fk+fPoWZmRmmTp0q26dHjx5o2rSpbM3spBQKBUJDQxEaGiobFx0VFYXQ0FCEh4fL6lXu3buHGjVqiGHGGPstcKf5N5bZNbIzKjQ0VO0HNsYYY1nP1dUV/fr1Q1RUFBISEjBy5Ejs3bs32f/ioKAgxMTEpDhmNi0bN25EuXLl4OLiAl1dXWzatEmWP3LkCPLmzYuEhAQ0adJE7VVj1fhfLS0tMZWjzp8/j8mTJ6NMmTIoUaIEBg0alOos48uWLYOBgQGuXLkimywsNa1bt4aXl5cYllhZWeHixYuoWbMmGjRogO7du6NRo0ZwdnZGt27dcOPGDRQoUEC2j7W1NUqWLKl27W1vb28ULVoUJUuWhI+PD4yNjWFkZITJkyejRIkSaNKkibgLAODOnTvo3bu3GGaMsd+CBoktKPvlERHGjBmD5s2bo2vXrmI6yz148ADLly/H5s2boaurK6YZY4zlkJiYGHz79u2HjIlNSUJCAvLnz49Zs2Zh/PjxYjpHvXr1Cl27doWPjw8GDRokjVdOzZkzZ6Cjo4OWLVuKqRTFx8ejZMmScHNzg5WVlZiW+fjxI/z9/aGrq4uyZcvCxMRELJGZNWsWZs2aJYYz5cWLF6hbty4+ffqUoXHgjDH2q8jyTrNSqcTx48fh5eWFPHnywMbGJt2NB/sxpk6dCqVSiYULF4qpbOPu7o49e/bg33//FVOMMcZ+U15eXrC2tsadO3fSfUvzjxYREQEDAwMxnGUWLFgAHx8f2Uoe3+vTp0/Yu3cvnJ2dxVSmODs7Izo6Ghs2bBBTjDH2W8jSTvPHjx/Ro0cPeHp6yuIODg5wdXVN9bYm9mOcPXsWCxYswMWLF3/4rXB9+vSBjY0Nhg0bJqYYY4z9Rvbv348bN27g5s2b8PX1hb29PUxMTLBo0SJpKabfRWxsLGrVqoVTp06hXLlyYjpTZs6ciVGjRqFIkSJiKsMCAwPRsGFDeHl5oVChQmKaMcZ+C1naaW7Tpg3at2+PgQMHIiEhAcePH8e4ceMQGhqKpUuX5rpbr3438fHxqFKlCjZv3gxbW1sxne0CAgJgaWkJHx8fXueRMcYYS3T37l2MHTsW58+f/+7bn8+fPw8/Pz+MGjVKTGVYQkIC2rRpg7Fjx6JTp05imjHGfhtZ1mn29PTEqVOnsGDBAll89+7dcHR0hLW1NW7cuCHLsR/rxIkTmDp1Kh4+fCimfpiePXuicuXKmDlzpphijDHGflsnTpzA0aNHsW3bNjGVIdHR0d/d8VaZNGkSypcvz3eIMcZ+e1nWad6zZw/at2+P/Pnzy+JRUVEwNDREqVKl8ObNG1mO/Vg9e/ZE3bp1pfUkc8L+/fvh4uKCV69e8VqPjDHGWBKPHz9GpUqVcs0t6t7e3t+1FBhjjP0qsqzTrE58fDzy5s2Lli1b4syZM1L86NGjmDNnDlatWoWmTZvK9slKkZGRmDp1KvT09IDEW4309fUxd+5cAMC5c+dw9uxZ6OjoID4+HmZmZhg7dqxwlNxNoVDg5MmTuHv3Lho0aIC2bdsiKCgIz549Q+PGjQEA4eHhKFq0KNzd3ZP9vA8cOICbN29CR0cHSqUScXFx6NGjBxo2bAgAGD9+PLS1tUFEiI2NhZOTEypUqCA7Rnp9+fIFRYoUwePHj1GlShUxzRhjjDHGGGO5SrbPzPXw4UMkJCSgX79+svjx48fh7e0t60hnB01NTZiZmeHTp09YvHgxli9fjq9fv0p5AwMDbNu2DTt37oSenl6WTJqREiJKtj5mVggMDIStrS3u3buHCRMmQKlU4n//+x/at28PPz8/qe7BgweIjY1FnTp1ZPsDQMGCBVG8eHHs2rULS5Yswb59+2Qzhb5//x6LFy/GixcvULRoUekERGYULlwYhQsXxvXr18UUY4wxxhhjjOU62X6lecyYMbhz5w48PT1ls2cHBgbi7Nmz6Ny5M4yMjGT7ZAcigqOjI/bs2YNixYrhv//+Q5kyZbBgwQKsXr0anp6eMDc3F3fDw4cP4ebmBoVCgVq1amV4IoyIiAiMHj0aJ06cQExMDDp37oxly5ahWLFiYqlk2rRpmDt3bpq3LwcHB6N27dpo2bIltm7dKsUHDhyIHTt24NWrVyhbtiyQeFv02LFj8enTpyRHkLt37x5sbGwQERGByZMnY+HChQgICEDjxo1hb2+PxYsXi7sgLi4Oe/fuxdu3b6Gvr4++ffuiePHiYpmM6mp4Vq0fyRhjjDHGGGPZJVs7zc+fP0fz5s1x+fLlFDukP1pcXBzatm0LDw8PVKpUCYMGDcKiRYtw+fJlVK9eXSyHp6cnli5dil27dkFfXx9r1qxBUFAQ5s2bJ5amiIjQqFEjFCxYEAMGDEBCQgJ2796Ne/fu4fDhw2jQoIG4CwCgU6dOcHNzE8PJjBgxAnv37sXHjx+RL18+Kd6zZ0/cuHEDb9++lWLLly/Hxo0bZVefU3LmzBl06tQJCQkJmD9/Pvbs2QNra2ts2bJFLAURoVOnThg9ejRat24Nf39/9O3bFwcOHEi149ymTRuUK1eO13tkjLFsEhISgqNHj8Lb2xslSpSAnZ0dqlatKpZlifj4eMyePRseHh7Q19eHhoYGxowZg44dO4qlv5XVq1fj9u3bYjhV5cqVw+zZs8XwL+HMmTNo27ZtmhcE1Ll9+zY2btwIpVIpxSZOnMhDvRhjPwZlk9jYWGrVqhXduHFDTOWo4OBgqlq1KgEgAHTp0iWxhIiIFAoFlS5dmu7duyfFlEollSxZku7fvy+rVefgwYPUp08fMUybN28mIyMj2rhxo5iiK1eukIODgxhO5tWrV6SpqUl9+/YVU1S0aFHq16+fLDZhwgSqVauWLKbO5s2bpZ+Pra0tKRQKsYSIiP755x/q1KmTLLZx40bq2rWrLCbq0qUL9ejRQwwzxhjLAjdu3KBSpUpJ/8cBkLa2Ni1btkwszRJt2rQhANSlSxdSKBRkampKmpqa6W4rs0poaCitWbOG4uPjxdQPFx4eTnnz5qUJEyaQt7c3BQYGUlRUFPn6+hIAKleuHH3+/JmioqIoJCSEHj9+TF26dKFWrVqJh/ppKRQK+vr1K7m7u1OnTp0IAH39+lUsy5CwsDAyNzeX3tcXLlwQSxhjLFtk25jmMWPGYMKECbC2thZTOcrExASTJk2Snq9du1Z21lLl0aNH8Pf3R6VKlaSYhoYGzM3N4e7uLqtV58yZMykurTR06FBcvHgRc+fORc+ePXH79m28ffsW27dvh729PaZMmSLukoyXlxeUSiVatWoliz9+/BifP39Gs2bNZHFtbW1ERUXJYuoMGDBA+r69vLxw69YtsQQAcPLkSdnPBwAqVaqEc+fOISEhQRZPKjo6mtdpZoyxbBAUFIThw4dj48aNiI6Oxtu3bzFlyhQoFApMnDhR7f/zzLp37x7Onj0LJF4lDQgIwIcPH6BUKlMdDpQdtm7dijFjxiAsLExM/XDHjh3DmDFjsGTJEtSsWROFCxeGvr6+tORj+/btUaRIEejr68PY2BhVqlTBhAkTULFiRfFQPy03NzdMnz4dQUFByJs3r5jOFENDQ5QpU0YMM8ZYtsuWTvPUqVPRrl07tG7dWhZPqXP6o928eROjR4/G/PnzYWRkhCNHjsDZ2Vksw+PHj6GhoZHsH72BgQEePXoki6kTFxendpbpevXq4e7du4iMjET9+vVRunRpTJo0Cdu3b0ft2rXF8mQePHgAAKhfv74s7uHhAQDJOs1FihRBaGioLJYSpVIJR0dHFChQAP369UN0dDQ6duyI58+fi6V4/PgxDA0NZTEDAwNERkamurxYWFgYTE1NxTBjjLHvtGHDBixZsgTt27eHnp4eSpUqhfnz52PQoEFQKpU4duyYuMt3uXPnjvRYU1MTJUuWxIEDB7B58+ZkJ3Wz2/nz51G9enUUKFBATP1w7u7umDFjhhjG5cuXgRTaaADQ0dFJdiL6Z9alSxds2LABvXv3homJiZjOtMze3s0YY98jyzvN8+fPR40aNdC5c2dZnIiSjdP50WeDnzx5gg4dOmDZsmWYMmUKDh8+DB0dHaxatQrLly+X1cbExKT4j1lLSwsxMTFiOEXr168XQzJFihTBiRMn8OHDBzx69AiBgYHo0KGDWJYi1XrYJUuWlMXPnj0LMzMzaQIwFXNzc3z79i3VK8AAMGrUKPj6+uLUqVP4559/0Lp1a3z9+hXt2rVDYGCgrDaln4OWlpbanMrbt2+TvW7GGGPfz8TEBG3atBHDsLe3BwAEBASIqe+SUjvu4OCAoUOHSu0BAHz+/BlPnz7N0Mnzt2/fpvv1xsfH49q1ayl2Rn+0b9++oUiRIslOuiOx06yhoZFs6UcAye5uY/+HiODr65vie02diIgI+Pj4IDY2VkwxxlimZGmnefXq1di4cSNOnToFR0dHaevduzeqVKmCwoULS7Xz589H/vz5sW3bNtkxsppCocCXL19w9uxZtG7dGp07d8aQIUMAAC1btsSKFSsAABMmTMDevXsRGhoKhUIBIyMjKJXKZA18fHx8umf7Fq/CqlOiRAlUrVo1xU66Oq1bt4ampiaePXsmxVatWoWTJ0/C1tZWVovEGavj4+Ph4+MjphAeHo6XL19i5MiR2L59Ow4dOoT8+fNDW1sbrq6uqFixIl6+fAk7OzsEBgYiMjISAGBkZJSsEx4fHy/lUhIYGIgPHz6gRo0aYooxxth3cnJyEkMAAF1dXQBA5cqVZfEZM2agUaNGyU6KpoeDgwOmTZsmPV+1ahUMDQ2xefNmKXbq1CmYm5tjyJAh2LZtG4oWLYrx48cjLi5Oqhk+fDjy5s0LfX196Ovr47///sOIESNQpkwZmJmZSe10Ss6fP4/Dhw9j5cqViIyMBBHh8OHDObqsoYmJSYqrQwQGBuLJkyeoWrWq7POQSocOHVJsv39ne/bsQaFChVClShXkz58f06dPT/a5LKlnz56hcePGaNq0KQ4ePIiqVauiY8eO+Pjxo1jKGGMZIw5yzqx9+/aRhoaGbOKRpJu+vj4FBwdL9c7OzgQg2yYmUfH29iYdHR0yNDQkQ0ND0tHRoZiYGClva2tL+vr6ZGRkREZGRqSrq0teXl70+vVrAkABAQGy49WqVYvWrVsni+WUlStXUqtWrWjHjh00YsQImjFjBgGg7du3i6VEqbz2rl27Sj+DvHnz0pQpU6Tc5cuXSUdHhwwMDMjY2Jjy5ctH7du3JyKi/v3707Bhw5IciejYsWNUuHBhWSypU6dOkYWFhRhmjDGWjZYtW0ba2tr09u1bWbx06dIEgNzd3WXx9Fq4cKHUzk+YMEGW27BhgzTplWpyrvHjxxMAatKkiWySSUtLS+k4tra21KpVK+kzhaWlZZKjyrm5uZGrqyt1796dNDQ0aOfOneTq6krXr18XS5MJCwujT58+ZXhL+hkiIw4cOEAAaPTo0WLqlzdixAhCBicC279/v/SeGDVqFH379o3WrVtHmpqaUjzpRGB3796lvHnzEgB69eoVERGdOHGCAFDhwoWTfZ5jjLGMyLJOc0YplUrpn1puZWtrS8eOHZOeh4SEkKmpKb1//15Wl5OCg4Pp4cOHlJCQQKtXryYA9Pr1a7GMiIhWrVpFbdu2FcOZ5uHhQXXq1JHFpk6dShMnTpTFkurbty/NnTtXDDPGGMtGNWrUoMmTJ4thevjwIR06dEjtKglpUddpfvfuHRkaGhIA2SoSx44dk+qTriBhZ2cnxR0dHYkSV2OoVq0a7d27V6pTp127dlSzZk0xnKqWLVuShYVFhjcXFxfxUOkycuRIAkCHDx8WU7+8jHaaExISqEKFCgSAtLS0KCQkRMo1bNgwWadZoVBQ3bp1CQCZmppKtSEhIVJtz549pThjjGVUjnWafwbv37+nFi1akKurK3l4eJC9vb2sE53bdO/enczMzMSwJCQkhIoWLUq+vr5iKtPmzZtHo0ePpuvXr9OGDRuoY8eOFBsbK5YREVFgYCAZGRmRv7+/mGKMMZZNdu3aRdbW1hQdHS2mvpu6TvPKlSuleNJO5u3bt6V4w4YNpXjSTvO///4rxdMjPj6eDA0NaezYsWIqV6lSpQppaGjQly9fxNQvL6Od5lu3bknvhypVqshyLVu2TNZp9vb2lmINGjSQ1efLl4+Q2PnOjr8BxtjvIUvHNP9qTE1N4e7uDnNzc2hqamLz5s3JJjjLLZRKJa5cuZLqJCjGxsaYP38+Fi9eLKYyberUqXBxcUFMTAwaN24MNzc35MmTRywDAKxcuRJ//fUXzMzMxBRjjLFs4O/vjw0bNuD48ePQ09MT09km6fwZSb9u0smx1K1EoZroMr3u3r2L8PDwVNu/nKYaz1ytWjUUKlRITDPBixcvpMfpmQ1d3fsNSd5zCoUCT548keUYYyy9uNOcBm1tbdSrVw9NmzbNcEP+IyiVSixbtgy9e/fG169f4efnhyVLlqidKGPQoEGIioqCq6urmMq0EiVKoHnz5qhWrZqYkpw7dw6enp6YOnWqmGKMMZYNwsLC4OTkBFdX1xQnnvpRdHR0pMdJZ9RWKBRq26qM8PDwUDsjdW5x5coVAOCJvtIp6RKZGZkkFcL7DcJ7Tpy8lDHG0os7zT85TU1NtGvXDrNnz8arV6+wc+dOdOjQAZqa6n+127dvx759+3D//n0xlS38/f2xePFiHD58WJrBlTHGWPaJjo7GsGHDsGLFimR392RFRzUtVatWlR5HR0dLj1WrLyCxJrW2Kr0uX76MGjVqSFcklUql7EqlOiNHjoSDg0OGt9WrV4uHSlNq6zOz5MzNzaXHSTvQ6qh7vyHJe05DQ0NWxxhjGfH9rRXLcVWqVEGlSpVQtmxZVKxYEVWqVBFLZPT19XHw4MEf1oFNSEjAsWPH+JY0xhj7AeLj4zF8+HD8/fffKF++vCwXHByMVatWSc+JCBEREbKazCIi6XHnzp2lNubLly9SPOnjnj17So+TSnqctCQkJOD69euyq8yurq6y5RjVGTFiBJycnDK8ZWaYVmrrM6fkw4cPePDggRhO5sOHD+n6Xn18fBAUFCSGk0lPnVKphKenp+wESFarW7cu8uXLBwDw8/OTrbecdL1m1QmgGjVqwMLCAhDeY9HR0dLr7Nixo3RMxhjLMHGQM2OMMcZ+TgkJCWRvb09169alvn37yrZu3bpRsWLFyMfHR6pv1aoV5c2blx4/fiw7Tnqplo8EQP369ZPlZs+eTQCoWrVqUky1NGLt2rWlZaiIiOrXry8dZ9u2bVI8LdHR0aSlpUVr164lIqKAgAAaPny4WJajfHx8CEC6l1uMi4sjExMT0tbWphcvXohpSVxcHBUoUIC0tLRSXU7p7t27BIAqV64spmTSW7d48WICQAMGDBBTajk6OhKAZEuepcbFxUV6TyxZsoQUCkWyJacmT54svY8uXrxIWlpapKGhQYGBgVIMABkZGaldWYQxxtKDO83sl5N0PXB1oqOj6dmzZ/T582cxxTLA39+ffH1907Vczbdv38QQYyyLqWYpVrdZW1vL6uvUqUOampp069YtWTw91q9fT/nz55eOraurSwMGDJB1wLds2ULGxsbUr18/mj9/PhkbG9PAgQMpPDxcqhkyZIisI1SkSBGaMWOGlE/LX3/9RW3atKHNmzfT2LFjKTIyUiz54a5du0Z//PEHdevWjcqWLUvGxsZUoEAB6tixI9nb29OePXvEXWTatWtHFSpUoJ07d4opGTs7O6pdu3aqs0J//PiRKlSoQMOGDRNTMumtO3PmDJUoUYKaNGkipmSuXr1KvXv3Jjs7OypYsCAZGxtTjRo1qFevXuTs7CyWJ5OQkEAjR46U1uvW09OjiRMnUpcuXShPnjxUuXJl6tixo2wJr+vXr1OFChWoUaNGtHz5cqpYsSI1atQo1ZMPjDGWHhqUkfug2G8hISEBz549Q7FixVCwYEExnWsREcaMGYPmzZuja9euYhpIvG3L2dkZr169QufOndGrVy+UKlVKLGPp5O3tjePHj+P06dOwtrbG3LlzYWBgIJYBAEaNGoXu3bujefPmYooxlkNiYmLw7ds3lChRQkxlGaVSiWfPniEkJAQ1a9aUzaCdVV6+fAkDAwMULVpUTP20/P39cenSJQwcOFBM5QqzZs3CrFmzxHCW+/btGx4/fgwLCwsULlwYr169gqmpaapDzN6/f49Xr16hatWqP9XnGMZY7pUtnebjx4/jxo0bICLY2NigQ4cOYslv7927d3B2dkZERAQ0NTWReNUfBgYGWL58udSRe/z4MZydnaGpqQktLS3Ex8ejXLly2LBhg3jIdDty5AhKlSoFS0tLMYWLFy9iwoQJGDp0KLZs2YLWrVtj0aJFYlmuNHXqVCiVSixcuFBMAYmd6qpVq6JAgQK4evVqmhPQfPjwAV+/fkXNmjXF1C/j/Pnz2LVrlxhOlZaWFjZs2AB9fX0pFh4eDisrK5ibm+PEiROyepX4+Hh06tQJCxcu/KV/powxlhX2798Pc3Nz1KtXT0zlChMnTsSSJUvEMGOM/ZrES8/fIywsjJo1a0Z16tSh1q1bk7GxMQGgwYMHi6U5xs/PL83bon6kN2/eSLek+fv7i2mixHFLS5YsoZIlS9KTJ0/EdIZ4e3sTACpYsCAplUpZzt/fn4yMjKRbnYoVK0Y1a9aU1eRW7u7uZGNjQwkJCWJKohpXtn37djEliY6OpqdPn9LSpUupUKFC5OTkJJb8Uho3bkwdO3YkDw8PCggIoPDwcIqMjKTSpUuThoYG3b17l6KioigsLIzevHlDs2bNIl1d3RRvx549e7banMrjx4+pUqVKqd5KyBhjv7uEhAQaNWqUGM41Tp06RW5ubmKYMcZ+WalfassgFxcXTJkyBXfv3sXZs2fh5+cHc3Nz/PPPP3j48KFYniPGjx+fq66cli5dGnp6etDT00u2LIiKjo4Ohg0bBltbW1SuXFlMZ0ilSpXQtWtXjBw5MtnahydPnkRERIR0Z8CdO3dw8eJFWU1uFB8fDycnJ8ycOVO2HqMoKioKAGBkZCSmJCNGjMCBAwdgYWGBr1+/iulfytu3b6GlpYXDhw+jWbNmKF68OAwMDBAREQF/f39UrVoVderUgb6+PgwNDVG6dGlMnz5d7TIxefLkQWxsLMLDw8WUpEqVKmjVqpXauwEYY4wBCxcuRP/+/cVwrvDp0yecOHECHTt2FFOMMfbLSv7JN5M+fvyIJk2aoHXr1lKsSJEiGDFiBACka83E7JaQkIDLly//lOskamlppdohTC89PT0cOXIEc+bMEVN4/vw58ufPL40TMjU1/SnGArm7u0NPTw+2trZiKkWp/Rx37NiBGTNm5Nrb4bKSq6srFi5cCB0dHVn8ypUrgJr1RLW0tNSeuBFPwqgzatQoLFu2LFuXK2GMsZ+Zs7NzikOocoNChQphzZo1Ypgxxn5pWdZpLl68eIprLiqVSuTJkwf169cXUz/crVu3EB4enmJngP2f9HZ8cpM9e/agX79+Ypil4cmTJ2jQoIEYxuXLlwE1neYvX76ovSMivSwsLFCyZEkcPHhQTDHGGANkc0bkNtra2tDW1hbDjDH2S8uyTnNKEhIScOjQIezYsQOmpqay3NGjR1G7dm1cvXpVFs9q0dHROHr0KA4fPozNmzcDAAIDA3H48GH4+fmJ5T+VCxcuYN26dZgzZw5u3boFpVKJI0eO4O+//8aaNWvw/v17WX1kZCR27tyJ5cuXY/r06VJc9fN4/vw5YmNjcfjwYRw+fBhPnz6V7f/o0SMsWbIEzs7OmDt3Lm7fvi3Lv3v3Dv/88w8WLVqEbdu2gYhw6NAhzJ07F76+vtIxNm/ejAULFsDV1RUAcP36dcyZMwdz587Ff//9Jx3vyZMnWLBgAWbPno2zZ89K8aTCw8Ph5uYGKysrMcXSsGLFCjEEJHaaNTQ00LRpUzGFwoULY/LkyWI4w5o3b47Tp0+LYcYYY4wxxnKdbOs0f/v2Dd27d4eRkRFsbGzENI4fPw5vb2+cOXNGTGWphIQExMfHIyEhAbdu3UKFChVgYmKChISEFMdlpkapVIqhHEVEePToEWbOnAkvLy+MHTsWhQsXhouLCyIiIlCtWjW8fPlSVp+QkID169fLxnWr4kqlEpGRkUhISJCeq8ydOxczZsxA7969sXz5cvTp0weLFy/GuHHjkJCQACT+fGJiYrB48WIcPHgQy5cvh5GRES5fvoyWLVtCqVSCiBAWFoaZM2fi1KlT2LBhA968eQNnZ2fY2tqiWbNm2LlzJ9zd3eHu7o7hw4ejd+/eGDRoUIpLWzx48ACxsbGoU6eOmFIro7/3X1X+/PnFEAIDA/HkyRNUq1YNhQsXFtMAAGNjYzGUYVWrVsX169fFMGOM/fTevHmDyZMno3v37mpPTgJASEiIGMoxoaGhyIbFVBhj7NchzgyWFZYvX05mZmbSrNCFChWip0+fymo+f/5Mu3btotDQUFk8u8THx5OhoSGNHTtWTKXp2LFjVLduXdLS0iILCwvatWuXWCITGBhIy5cvF8Nq6enpkZ6enhiWiYiIoAEDBohh+vTpEwEgCwsLevv2bbK4i4uLrJ6IyMnJibS1tcUw/fXXXynG//nnHzIxMaHIyEhZPD4+nipWrEjz58+Xxe3s7Mjc3Jy2bNlClLj/xIkTZTUWFhZUrly5ZLNv2tjYUMmSJWnFihWy+MiRI8nAwCDZ7Niurq5UtGhRWUydffv2EQB68OCBmEpG9fP71WfPFh04cIAA0OjRo8VUmnbu3EkAyNvbW0wlc+bMGdLU1Ez2+2SMsdzo9evXYihFHh4epKOjI33++ffff8USUiqV5OTkREeOHBFTOcbb25v69etHMTExYooxxlhWz56tMm7cOPj7++PmzZuoXbs2vn79ivHjx8tqihQpAkdHx1RnMs5Kd+/ezdR45lOnTmH48OFwcHCAm5sbHB0dMWHCBPz555+Ij48XywEAt2/fRt68ecVwtlCNK6pSpYq0tjMAFC1aFIaGhnj37l2S6v+TkbFIsbGxGD9+PNq3b5/se9LW1kbHjh0xe/ZsfPnyRRZ//fo1unfvDgAYNGgQFi9enGTP/6sJDg5ONvtmwYIF8f79e/To0UMWL1SoECIiIhAcHCyLf/jwIV3vocePH2Pq1Kno27cvatSoIaZZotTGM6fFwcEBjRo1wsiRI/H582cxLWNsbAylUvnLz1DOWE6JiorC1q1bMWbMGMyaNQsPHjwQS1g6OTo6okqVKmlOXqhUKjFs2DDY2dnB1dUV165dQ58+fcQyTJs2Dfny5UPXrl3FlCQ4OBjPnj1L82umZdeuXbCyskLDhg3RuHFjNGnSBE2aNEGjRo1gZWUlrWRQs2ZN9OrVC0OGDBEPkabjx4/D0dExWfus8ujRIyxatAidO3eGi4uL7A64n9Hdu3fTbOOySkREBE6fPo1Ro0b99D+37ERE+PjxI16+fIm4uDgxzVjWEHvRWS0oKIgKFChA+vr6qa7fmt0WLlxIGhoaFBQUJKZSVb9+ffLx8ZHFAgICqHHjxmRtbU3v37+X5YiIWrRoQQ8fPhTDan3PleavX7+qvaJsYmJCPXv2FMNqryinFL9z5w4BoOnTp8viKqtXryYAdOrUKSnWpUsXMjMzk9WJqlWrRg0aNBDDZG9vTwYGBmKYZs2aRQDo06dPsviECROoVq1aslhSDx8+JCsrK9LV1U11fWbR73qluUqVKqShoUFfvnwRU+miVCpp9uzZlDdvXmrbti0FBgaKJURJ1gv/3nXHGWPJ+fj4UIUKFahZs2bUpEkT0tbWJk1NTdqxY4dYytLB0NCQANDBgwfFlMz58+dp4cKFYljG3d2dbGxs1N5ls2rVKjIzM6OiRYtS27ZtqUCBAlSnTh06efKkWJouAQEB5OXlRV5eXtLVbwB09OhR8vLySnYFvXfv3rRp0yZZLC12dnYEgM6dOyem6Pr169SwYUMKDw+nixcvkra2NnXu3FksS+bixYt07do1MZwjlEolhYeH061bt6TPSYcOHRLLstyrV6/IxcVFev+l5y6u301YWBiNHTuWDA0NycLCglq0aEF6enrUuXNnevz4sVjO2HfJlivNSRUoUAD29vaIjY1FTEyMmP5hPDw8UKNGDRQoUEBMqfXu3TuUL18e1atXl8WLFy8ODw8P1KtXD3Xq1MG2bdvw7t073L59G127doWJiQmqVasm2yc1xYoVQ1xcXKpjpj9//pzsSm9SGbl6nBH+/v5AKss0qZYrevPmjSye2mtVUfea1cVToq2tLa2/nJJq1arh+vXr2L17N1xcXLB8+XKxhCVSjWeuXr06ChUqJKbTZdSoUdi+fTuOHz+OEydOqB0XHR0dDSTeWcAYyzrx8fFwcXHB2bNn4eHhgatXr+Lq1avQ0tJKdscXS9uHDx+kx4cOHZLlREeOHIGDg4MYlsTHx8PJyQkzZ85MsU0dM2YMxo4di2bNmiEgIABnzpzBq1evoFAo0KlTJ+zdu1fcJU3FixeHlZVVsskya9euDSsrK5QpU0YWX7JkCWbPno2goCBZPDXr16/H0aNH0aJFCzGFsWPHonbt2jAwMEDz5s3h7u6O+fPni2UyCoUC3bt3zzUrLPj5+WH06NG4efMmihUrJs3jkt3Kli2LBQsWpPhzZf93J2Tz5s2xatUqrFixAr6+vrhw4QJu3bqFS5cuoXHjxnjy5Im4G2OZlu2dZiTOuFupUqV0daSyQ0JCAq5fvy675fTLly9qbyVSef/+PRo1aiSGgcTO2urVq7F48WK4uLjAzMwMDRo0gIaGBnbt2iWWp8rS0hJKpRKfPn0SU5IHDx6gVq1aYjjbqU4YqJuwRBXPqVueixQpgtDQUDEso6WlBXt7e/z9998YP348nj17JpawNNZnTg93d3ds2LAB//zzD1q2bJnqyY+wsDDo6Oio7VQzxjLn3LlzWLFiBcqWLSvFrK2t0bp1awQFBaXZ7jE5X19fDBs2DIaGhjh16pR0wi8lr1+/Rrly5cSwxN3dHXp6erC1tRVTuH37trT28ezZs6UJK42NjTFhwgQolUqMHj0a4eHhwp5Zq0SJEmjSpAnWrl0rptQqVaoUunTpkmySzTdv3uDOnTuySSdbtGiBKlWqyOpEd+7cQUhISIbaouHDh2PChAn4+PGjmPpulSpVwvbt2+Hk5JTsJMOPYGJiIoYYgDVr1uDOnTsoW7YsBg0aJMWrV6+OHj16IDg4GGPGjJHtw9j3+CGd5nv37uGPP/4QwwgLCxND2eLOnTuIiIiQLaEzf/58tWOSVSwtLWV/iCnp378/3r9/jwcPHuDr1684cuRIhk8OODo6AgDc3NzElMTV1RWdOnUSw9mufPnyqFmzJi5duiSmgMQr+GXKlEG9evXE1A9hbm6Ob9++pevMb+3atQEgyzrNkZGRuHbtmhhO5sOHD+n6mumt8/HxSddVAB8fH9lVkrR8z3hmJI5bA5Cumczfvn0LU1PTn3JdcMZysw4dOqBixYpiGEqlElWrVk1x1nym3tOnT9G0aVN06dIFEREROHHihFgCJHauq1atKoZl9uzZg379+olhAMCxY8eAxLu3xI5ZpUqVgMRVSVQnN7NT165dsWPHju+eTVtc9jK9Ll68qHbZQ3UWLVoEY2NjWFpaYuTIkcnufmO/nqNHjwKJn1PFzxKqvxkPD480L6wwll5Z1mn+/PkzBg8ejP3798v+0Z45cwZRUVGydYGR2GnNnz8/tm3bJotnB9WZWdUf0aVLl1CmTBkUKVJEqJTT1taGnp6eGE4mT548qFGjRqY/jHTs2BHDhg3D1KlTU2xkli1bhiZNmqBo0aJiSrrlPTY2VkwhNjY2xUlEYmJioFAokuVU8aQnMzQ0NLB79268fPkS+/btk9WfOXMGnp6e2LFjh+znFBMTg2/fvslqRTExMSm+5piYmBQncVB9n+JrbtCgAeLj4+Hj4yOLp0R1Fjw9HwRUXye1W7979OiBpk2bYufOnWJKEh8fjxo1aqBq1aqpngFPb929e/dQs2ZNNGnSREzJ3L59GzVr1kTjxo3FVIqio6OlD4MNGzYU0+miUCiAxPdMWu7du5djdycw9rt58+YN/Pz8sH//fjGFGTNmoFGjRggMDBRTWW7Tpk34888/1W6jR4/+YSfT08vHxweWlpbo27cvAKj9f+/u7o7WrVuLYUl4eDjc3NyS3SatojoxndIQsqTDWFQnN7NT8+bN8ebNG/j6+oqpZGJjY3H06FHY29vjwIEDQGJ73bVrV7i4uAAADhw4gK5du6Jr165qO7MfPnzA4cOHcfjwYRw9ehRFihTB5cuXcfjw4TQ/TyDxauyMGTPw7NkzmJubw8bGBgMGDEjXieicdPv2bTg6OqJx48aoU6cO5syZI7Wladm7dy/69++P+fPnY/jw4SlO4pbZ448fPz7Z32fSbe7cueIuP1RERARu3boFpPE3o1Qq03Vxg7F0EQc5Z5afnx8ZGRkRAKpVqxZNmzaNJk+eTFu3bqX4+HixnJydnQkALVu2TExluejoaGrQoAGNHz+elixZQosWLRJLcpxCoaAVK1ZQuXLlaMWKFeTp6Um7d++mbt26qZ3AatasWdSwYUMyMjKikiVLkr29Pb1+/Zo2btxILVu2JCMjIzI2NiY7Ozv677//yM/Pj+zt7al48eJkbGxMtra2dPToUfLz86Pu3btT8eLFycjIiBo2bEgODg6yJaaeP39OrVu3JkdHR1qxYgUNGzaMbGxsZBNTXL9+nbp27UoFChQgIyMjatmyJQ0ePFjKU+KSRnZ2dtJr69y5M506dYr+++8/6tatGxUsWFDad/PmzfT27Vuyt7enUqVKkZGREdWqVYumTp0qO2atWrVo3bp1slhKVBOhHDt2TExJ/vrrL+rVqxdVr16djI2NqWDBgtSxY0fq3bs3Xb9+XVb7v//9j0qWLJnmMmZ2dnZUu3Ztio6OFlMy6an7+PEjVahQgYYNGyamZD58+EAVKlQgc3Nz8vf3F9NERPTlyxfq3bs32dvbU61atcjY2JiMjIzIxsaG7O3tk/2c07Jw4UICQCEhIWIqGUtLS3J1dRXDjLEs5uPjQxYWFuTs7ExRUVFimkqXLk0AyN3dXUxluRYtWpCmpiYNGjSIdu/eTefPn6fVq1eThoYGAaAKFSpkeMmj7J5gtEWLFkRElJCQQMWKFSMtLS36+PGjWEZdunRJ8eercu3aNdLU1KTw8HAxRUREBQsWJABUqlQpMUXv3r2TJvBq3769mE63pBOBvXnzRkzLFC5cmDZv3iyGZeLi4mjx4sVUtmxZApBsorkLFy4QAJowYYIsnpJXr16Rq6sr7d69m7S0tKhz587k6upK+/fvT1ebIoqJiaENGzaQubk5OTg40P3798WSTHF1dSUAWTIR2OHDh6lv374UGxtLRES7du0iAOTg4CCrGzBgAEGYCOzMmTNUsmRJ6fN1UFAQFS1aVPb3kN7jp0RbW5sMDQ1pxowZdOjQIbpw4QINGTJEev/069dP3CUZhUJBnz9/pk+fPmVo+/r1q3ioZB4+fCi9FkdHRzFN//77r5RfvHixmGYsU7Ks00yJs9hdvnyZrl27luabXqlU0qtXr8RwtlEoFOTj45NsreHcJiQkhC5dukTr1q2j8+fPq21gc0pERAR5e3tTWFiYmMoxq1atorZt24rhZNLTac6MmTNniqFcY8eOHT/s7yy9nebnz5+TkZFRqh8wGWPfJyQkhMaMGSPNvAuA6tatm6xT+vDhQzp06FC2dz4p8QTnyJEjpechISFUsWJFAkAGBgb06NEjWX1qjh07RnXr1iUtLS2ysLCgXbt2iSUygYGBtHz5cjGcqoCAAOrfv7/0fPz48QSAli5dKquLi4ujdu3ayWIiV1dXKlq0qBiW6OrqEgAqXbq0mKKAgADpd2hjYyOm0011DKSj02xlZZXutm3mzJmE7+w0q9y8eZOQOLt3VoiPj6edO3dS5cqVqUOHDnTjxg2xJEOyqtP85csXKlKkCAUEBMjiJUuWJACyVVtS6jSPHDmSqlSpQkqlUorNnDlTalczcnxRSEgIAaADBw5Isbt375K+vj4BoGrVqlFERIRsn5QcO3aMLCwsMrxVqVJF7cl+lf/++096Lyf9G1XZu3evlE/v+5ixtGTZ7dkAYGhoCBsbGzRu3DjNWXE1NDRkE5VkN01NTVSvXj3D441/NGNjY9ja2mLkyJFo2bIlDAwMxJIclS9fPtSsWROGhoZiKsf0798f9+/fx9OnT8VUtvv06VO61onOKU+ePEHp0qXFcLZIbfb3pNavX4/evXtDX19fTDHGsoixsTFWrVqFb9++4eDBgyhYsCDu3r0rTTalUq1aNXTv3j3ZJE7ZISgoCF26dAHwf8Nk+vbtCz8/P2hoaGDHjh1pjglWOXXqFIYPHw4HBwe4ubnB0dEREyZMwJ9//ql2rpLbt29nuP2/fPmy7JbrwYMHA0CyYWU3b95E3bp1ZTHRhw8fUm0rUrtlNumQovT+n/1exsbG6V6LOCs/D3h4eEBDQyPNIUjppa2tjX79+uHRo0cYOHAgnJyc0Lx5c1y8eFEs/aHc3NwQHByMkSNHSreud+3aVRqKdv36dXEXmeLFi+PJkyfo27evNLnfuHHjkCdPHuA7jx8UFARNTU107NgRAPD161d069YN0dHRyJ8/P44dO4Z8+fKJuyXTuXNn+Pr6Znh7/PgxzMzMxMPJpPb3ghz6m2G/vuxvJRnLZsbGxpg/fz4WL14spmRUH1jS+mebERs2bJDGuuU2nz59Qt68eX/Ih2EkjjFCKsuTIXFZKzc3N/zvf/8TU4yxbKCtrQ17e3tpuaQLFy6IJT/Mv//+K82ZMHPmTJw8eRIAMHXqVHTv3l2oVm/OnDk4f/48Jk+ejPbt22Pq1Knw9vbGo0ePYGNjk+IEiMuXL1e7GoY6Fy5cQNu2baXnlStXRsOGDfHkyRN4enpKcQ8PjzQnrfr48WOqHQ1VLqUP+EknuszKDmpq8ubNm66xxFnt8uXLqFGjRpoXXjJKU1MT3bt3x927d9G1a1e0atUqQzOEZ7VHjx6hcOHCOHTokGz79OkTEhISMGzYMHEXGScnJ1SvXh179+5FxYoVsXXrVhgZGUnt7/ccv0iRIvDw8ICenh4SEhLQo0cP+Pv7Q1NTE/v27YO5ubm4yw+X9G8pt/zNsF/fj/k0zVg2GzRoEKKiouDq6iqmJOXKlUPBggVx9uxZMZUp58+fR5EiRdKcUC6nTJky5Yctt6BQKHD27FlYWVmpvTsiISEBvXr1wvLlyzO9DjRjLHOaNWuGihUrql0+8EewsbFBvnz5cOzYMWkioXbt2mHOnDkAgF27duHt27fCXnLv3r1D+fLlpeUQVYoXLw4PDw/Uq1cPderUwbZt2/Du3Tvcvn0bXbt2hYmJCapVqybbJzUJCQkIDw9PNsnQyJEjAQCrVq2SYtevX4e1tXWSquS0tbVTnVhSdWVNnOwSiRNFqpQsWVKWyy7R0dFZ3nFNS0JCAjw9PTO9gkNaHj16hD59+mDp0qVYvny5dOdATnj//j0+f/6MhIQEaGlpJdvSOtltYmICT09PDB8+HEFBQRg6dCjatGkjnbz+nuMbGBhIJ4EmTpwIDw8PAMC8efPQpk0bREVFYdWqVSl2Vn+UkiVLSpOO5pa/GfbrU/9Xw9hPZvv27di3bx/u378vpgAAurq6OHXqFG7cuIH+/fvj/PnzqX6ISUvjxo0xatQoMZxrrF+/PtMzuqdXaGgoTpw4gQ4dOiBfvnzS1ayUTJ06FX/88UeOLJ3GGAMKFy6criXhspOvry/69esHIkL58uWxd+9e6QO8k5NTmrN4v3//Xu0VY21tbaxevRqLFy+Gi4sLzMzM0KBBA2hoaGDXrl1iearOnz+f4nrKPXr0gKmpKY4ePYrHjx8jPj4ecXFxak8WqhQpUiTVpW9UXyskJCRZZyTpiY7mzZvLctklLCwMpqamYjhbqZYHTdppfv78uawmM27duoUuXbqga9eusLGxwfPnz/HXX3/l6BAhMzMzKBQKnD59WkwBadw+jSS3+2/cuBG3bt1C9erVcf78eaxcuRLIguMDwO7du6Xj2dvbS7Oh+/r6YurUqal2vJF4B4aDg0OGt549e6Z4t0hShQoVkk6cpXRHRNK/mZT+jhnLjNTf8Yz9RPT19XHw4EHo6uqKKYmVlRUePnyIyZMnIyAgAK9evRJL0i0nG9z0+BGv79GjR4iPj8fq1atx5cqVVM/o9u7dO9Vbwhhj2Sc2NhZPnz6Fg4ODLE5E0tWp7BYaGoouXbogPDwcBgYGOHbsGExMTAAA165dQ3h4OIoVKybuJmNpaYlBgwaJYZn+/fvj/fv3ePDgAb5+/YojR45keDzz3r170aNHDzEMHR0djBs3DgqFAuPGjcOdO3dQr149sSwZc3NzfPv2TXbbaFIdOnQAEm819RWWenrx4gUAQE9PDy1atJDlfHx80uxgZMbbt29T/X+elGr8qLico7q4OqrltFTjmRUKxXcN5bly5Qpat26NQYMGwcHBAU+fPsWwYcOkcb/ZISEhQe2yWklZWloCAP76669kJ4ouXryIu3fvymKiZcuWSUPN6tWrh+vXryN//vy4ceMGkAXHv3fvntReV6tWDTt27JByp0+fRvHixZNUp6xOnToYPXo0nJycMrSNHj06zf8DSPI34+vrm+xEk+pvpm7duuk6FmPpIs4MxhhjjLGfk6enJw0ePJhu3rwpi0+ePJmmTZsmixERtWrVivLmzUuPHz8WU1lKqVSSnZ2dNKOtavbhyMhIunTpElWoUIE0NDQoLi5O3PWHCA4OpgULFlBYWBh5enrS0KFDxRJJdHQ0mZmZEQBq1qwZnThxQixJ5vPnzwSA7t69K6Yk3bp1IwDUt29faVbkr1+/SjOML1myRFZ/69YtAkBlypSRxZOKiYmhkJAQaUZk1ebj40MhISEprmKgeq337t0TUymaMWMGAaC1a9fK4gcOHCAAyZaeVGfq1KlUqFAh6fmCBQsyNdv1qVOnqGHDhlSvXj06cuSIbIbp7/XPP/8QALWztdetW5eQjhmbFQoFVa1alQBQpUqV6H//+x8dOnSIxo0bR61atZLNcm9vb08AyMvLS4oNGDCA/v33X+m5QqGgMmXK0Ny5c6Xn6T2+6MuXL9JSdPnz56cXL14QEdG3b99o27ZtZGhoSI0bNxZ3++FCQkKk5c62bNkixb28vChv3rykq6tLnp6esn0Y+x7caf6FeHp60p9//kkdOnSgS5cuiWmixKUxctMyVt++fRNDjDHGMmnv3r3Susd2dnY0Y8YMmjRpEp07d04sJSKiOnXqkKamJt26dUtMZalHjx6RpqYmASANDQ0yMTEhY2NjWUcuaYfpR5s6dSoBIE1NTcqXLx/5+fmJJTJHjx6VOhXBwcFiOkW1atWidevWiWFJXFwcTZo0iQwNDal69erk4OBAhQsXJjMzM1mnQOXDhw9UoUIFMjc3V7tEz9KlS0lPT48MDQ3JyMiIjI2NycjIiAwNDUlfX59Gjx4t7kKnTp0iCwsLMZxMWFgYrVu3jkxNTaXO2datWykuLo42b95M1atXJwBkbGxMCxYsSPWEARHRs2fPqFixYrR582aaMmVKuk5GqCgUCjp48CDVqlWLmjZtSmfPnhVLMi0oKIh69epF9vb2ZGZmRsbGxlS6dGlycHCgXr16yX7/9erVIwBUpEgR2TFSEhAQQC1atJD+XrW1tWn48OEUGhpKlPj7/d///ict9dS6dWtyc3MjIqKBAweSubk5zZo1iw4ePEj9+vWjfv36yU46pXV8dTZs2CD9Tero6JCJiQnly5dP9rdqb28v7pYjAgICyN7enrS1talFixbUvn170tfXp/r169O1a9fEcsa+iwal974Z9sMpFAp8/PgxXbdIzZs3D9OnTwcSx3X5+fklW9IrJCQEffv2xdq1a1GmTBlZLqds27YNX79+xaRJk8QUY4yxTAgICMCTJ09QoEABWFhYpHprckxMDL59+4YSJUqIqd/KqVOnMGTIEHz58gVbtmzBwIEDxZJkNm/eDBsbG1SqVElMpWj16tU4c+YMzpw5I6ZkYmJi8Pr1awQFBaFEiRIoXbp0qqsS7Ny5E02bNk3W5meWo6MjLCwsMG3aNDGV7SIjI/Hq1StUrVo1zTGzSdnb2yMyMhLTpk1D48aNxfQPQ0Tw9/dHr1698N9//4npFIWGhuLdu3cwNzdP97CqmJgY6OnpITw8HG/evEGJEiXUTtyWmeP/bEJCQvD69WvExsaidOnS6bp9nLGMyvZO88WLF3Hnzh1MnjxZTLFUxMTEoEaNGihevDiuXLkipmVev36NWrVqoX///mjZsiXMzc2TrXcZHx+PNm3aYMKECWjfvr0sp0JE+PTpE6KiolCqVKnvGvczduxY3Lx5UzZLIxFBqVQiISEB8+fPR8uWLQEALi4uKF++PIYMGSIchTHGGPtxIiMjU10a6nuEhoaiUqVKuHz5MiwsLMR0pk2ePBkLFizIUCdTnS9fvqB8+fJ4+PBhmmvl5iaxsbGpzmfyI61cuRJlypSR1iRnjP0asrXTHBgYiBo1aqBy5crSlPUsfe7evYt69epBU1MTAQEBKFq0qFgimT59Ojp27AgrKysxJZkyZQq0tbVTnFQjPDwcM2bMwLZt22BqagpTU1Ncv34dbdq0wfz581GlShVxlzQ9e/YMISEhuHfvnrRER/HixXH06FEAQIUKFaSlPGJjY1GrVi0cPHgwQ0uCMMYYYz+Tbdu2wdPTE9u2bRNTmfLp0yds2rQJM2fOFFOZMm3aNGhra2P27NliiqXDoUOHYGRkhNatW4spxthP7vtPS6bCyckpxangWdqePn0KQ0NDKJVKqaOpzp07d1LtMPv5+WHz5s2YOHGimEJsbCyaN2+OVatWYcWKFfD19cWFCxdw69YtXLp0CY0bN8aTJ0/E3dJUqVIlWFlZyTrcurq6sLKygpWVlWztS11dXcydOxdOTk5SjDHGGPvVDBo0CFFRUXB1dRVTmTJlyhSMGTNGDGfKuXPn4OnpialTp4oplk729vbcYWbsF5VtneZNmzahadOm2Xab06/O19cXEyZMABLPXKrz+vVrmJubi2GZTZs2oXfv3jAyMhJTWLNmDe7cuYOyZcvKlvGoXr06evTogeDg4CxrkFPTpUsXPH/+PM1b0RljjLGf2fbt27Fv3z7cv39fTGXY+vXrkT9/fjGcYf7+/li8eDEOHz6ca25zZoyx3CRbOs1+fn44e/YsRo0aJaZYOj179gyjR4+GmZkZLl++jI8fP4olAAB3d3e0a9dODEuUSiVcXV3Rr18/MQUA0lXs8uXLQ0NDQ5ZTTW7i4eGB0NBQWS6raWlpoVOnTti+fbuYYowxxn4Z+vr6OHjwYJZ0TrNqYqeEhAQcO3YMhQoVElOMMcayo9McHx+PMWPGYN26dck6YUkdPXoUtWvXxtWrV8VUtnv+/Dk2bdqEOXPmYMyYMXBxcUFCQoJYlqNiYmKQP39+9OnTBwqFArt37xZLgMSJ1po1ayaGJZcuXUJQUBBq1aolphAREYFbt24BgOx2aRXVTIxKpRLXrl0T01muefPmac4qyhhjjP3s8uTJk6n5QrKLubk5DAwMxDBjjLFEWd5pnj17NoYOHZrmdO/Hjx+Ht7f3D+0kPXv2DG3btkXFihWxfPlyvH79GoULF0bp0qWhra0tlqdKqVSKoSzz8eNH6Xarvn37AolLSogSEhIQExOTakPn5eWFmjVrQkdHR0zhzZs30smClGbKThrz9fWV5bJD1apVERgYiOfPn4spxhhjjDHGGMsRWdpp9vT0xKdPn9C9e3cxlczixYuxa9cuTJkyRUxli1u3bqFevXo4e/Ysxo8fjydPnmD79u2YMWMG/vzzT7FcrXnz5sHc3Bx6enpo1qwZbt68KZbIHDt2TLqam16XL19G8+bNAQBVqlRB3bp18fjxY9y9e1dWd/v2bdSpU0cWE3348EHt2o0RERHS45SWqki6LmRkZKQslx3KlSsHJL5mxhhjjP0aZs2ahXXr1olhxn4Ld+7cQe/evREbGyum2E8keU8pk8LCwvD3339jxYoVYipFRYoUgaOjY4qTU2W1+Ph4/PHHH4iIiECtWrWwePFiWYcwvVxcXLBv3z5MmzYNhw8fRo0aNdCyZUts3bpVLJXcuHEDxsbGYjhVly9fRqtWraTnqvWLxSUqLl68CBsbG1lM9OHDB7U/Y4VCIYZkkq5Glp1X1lX09PSQJ08efP78WUwxxhhj7Cc0b9483Lx5E8OHDxdTjP0W6tWrh+rVq6NTp06Ijo4W0+wnkWWd5rFjx2LOnDkwNDQUUznu4MGDePPmDZB4S/PgwYMxcOBADBw4EE5OToiLixN3SebDhw9wd3eHl5cXBg0ahI4dO2L16tU4d+4cZs2ahWHDhiU7gxQUFISzZ8+mObu1KDAwEKamptLzXr16QV9fH7t375Zd8fX09ESDBg2k5yn5+PGj2hnMk8ZT6hQnHef9o36vefPm5WXKGGOMsV/Ali1b4OrqigMHDmR4GBxjv5IpU6agRIkSGDx4sJhiP4ks6zTv3r0bTZo0gYaGhmwLCQnB5cuXoaGh8cM6XqKktzV37NgR1apVk7ZatWqlOJ5XdOnSJYwaNSrZ+GFra2vcv38fz549Q6NGjXDmzBkEBATg7NmzaNq0KYYOHZqhhuL+/fuoW7euLGZsbIw+ffogLCwMO3bsAADExcUhPj5ebYdYRVtbG1FRUWIYAFCyZElpsraUbr+Oj4+XHpcsWVKWyy7R0dHSBGSMMcYY+zk9evQI48ePx7///ptjn/8Yy03Wrl2LmzdvYtWqVWKK/QSyrNO8adMmbN26NdlmZGSESpUqYevWrVi7dq242w+RdLzuzJkzMX78eGlT3fqclvfv36NRo0ZiGABQuHBhaRbrrl27wtTUFF27dkWPHj3g5OQklqfK1dUV3bp1E8MYN24cNDQ0sHTpUsTExODOnTuwtLQUy5IpUqSI2uWiChUqhOrVqwNAild3Q0JCpMe2trayXHaIi4tDbGys7Co7Y4wxxn4ucXFx6NOnD8aOHZvi6h2M/Y7y5cuHf/75B9OnT0dgYKCYZrlclnWaBw0ahMGDByfb8ubNi+LFi2Pw4MHo37+/bJ+wsDDZ8+zSsGFD6XFmxxI4OTmlujyEtrY2li5dis+fP8Pb2xvBwcGYOXOmWJaqhIQE+Pr6pvh1qlSpgg4dOuDNmzdYvnw5rl69iqZNm4plyZibm6c6RrhDhw5A4uzY4i3aL168AADUrVsXxYoVk+JKpRKenp4pXp3+Hm/fvgV+4FVtxhhjjGW9DRs24MWLFxg3bpyYYuy31qxZMzRu3Bhz584VUyyXy7JOc0bNnz8f+fPnTza5VXbo1KkTOnbsCCRO5pV0rK6npyeGDRsmm/QqJem9tcjY2Bg1a9aErq6umErR7du3sXv3biQkJGDZsmVwcHAQSyTz58+HlpYWFixYgKNHj6q98p2UtbU17t27l6xDrDJ58mSULVsWnz9/lv0ubt68iV27dkFXVzfZbSTLli1DkyZNUr2KHhkZidDQUNkM3UqlEqGhoQgNDZXd+q1y7949FChQgK80M8YYY9/p5MmT8PLyEsPZLjw8HPPmzcOAAQNQoEABMf3b8vX1xZ49e8Qw+w3NmTMHmzZtwuvXr8UUy8VyrNMcFBQEpVIpuwU4u2hpaWH//v1YtGgRzp49i9KlS6Nt27aoUqUKBg4ciKpVq0pje3+0v/76C46OjtDX18euXbvQs2dPsURSvXp1ODk5ISIiAnnz5k3XrNy2traIjo7G06dPxRSQ2Mm/fv067O3t8eeff6Jly5bo0KEDbG1tUa1aNVy4cCFZ57x69eooUaIEXr58KYsn1bt3b5QoUQK9evWCkZERjI2NERISglKlSqFYsWJwc3MTd8GdO3fQo0ePDI0BZ4wxxtj/5+zsDBcXFwwZMiTZUpU/wubNm/H161eMHTtWTP2W1q9fj0mTJqFfv344duyYmGa/IUtLS9SsWRN///23mGK5mAaldYk1mxAR3rx5o3YN4ewUERGBjx8/wtjYGEWKFBHTP9Ts2bOxZMkS6Orq4uLFi2mO/YmKisLGjRsxcOBA5M+fX0ynqFu3brCyssLkyZPFlExISAhev36N2NhYlC5dGsWLFxdLZGbNmoVZs2aJ4UxRKpUoV64c9uzZk6yTzhhjjLGMqV27NoYMGYJRo0aJqWxVuXJlVKxYEcePHxdTv7Vx48bh/fv3OHjwoJhiKQgNDYWRkVGOXdTKiODg4HR/JldZs2YN/vrrLwQEBKBo0aJimuVCOXalWUNDI0c6zABgYGCAChUq5HiHGYkTk4WEhCAgICDNDjMSl2RydnbO0B/nhAkTsG7dOtlt6SkxMTFB7dq10aBBgzQ7zFAz43ZmnTx5Ennz5pWNP2eMMcbYz8PLywtPnz5N9a45lvXevXuHEydO4Pbt22Lqp+Tj4wNHR0coFAoxlSsdPXoUixcvFsOp+uOPP6BUKnHu3DkxxXKpHOs0s/9PW1s73WOgM6Nhw4Zo1qwZ9u7dK6Yy7fTp0+maiCw9lEolli5dirVr1/4UZxQZY+xns27dOr7yx7LdpUuXgMT5VFj2CwwMRM+ePbFt2zaUKVMGHh4esLOzQ0JCApRKJdzd3cVdcOjQoTQvouSkt2/fom/fvli3bt1PM1xv0KBB+PbtG7Zu3Sqm1CpSpAjKly+f4u+I5U7caf5NrF69GuvWrcOzZ8/EVIZ9+vQJJ06ckCZX+14zZ86ElZUVmjdvLqYYY4x9Jw8PD4wZMwbe3t5iirEs5enpiWLFiqFMmTJiimWxuLg42NnZoVGjRpg5cyaqV6+OSZMm4eXLl9i9ezdOnDiRbJLb4OBgDBw4UO3ksDmNiNCrVy+sWLECpUqVEtO5wqVLl+Dp6SmGMXv2bCxbtgyPHj0SU2pZWlri3Llzufb3weS40/ybMDExwd69ezFmzJjvXuqrUKFCWLNmjRjOFDc3N7x79w6LFi0SU4wxxr5TSEgIxowZwx/KWLYjIvz33398lTkThg4dCltb21S3Fi1a4Pnz59I+u3fvhr+/P4YNGyY7lo2NDS5fvowLFy6gXbt2AID4+Hg8fvwYrq6uqFSpEp4/f464uDjZfrnBjh07oK2tjRYtWoipXEGhUKB79+4pjkvX1dXF3LlzU11ZRmRpaYmvX79myYR9sbGxGfraLOO40/wbMTc3x7///itbBioztLW1s+yWmdKlS2P79u3Q1OS3ImOMZbUxY8bwWrnsh3j8+DFCQkK405wJW7ZsgYeHR6rbxYsXUaFCBWmfmzdvonHjxsmG9xUpUgRnzpyRzV4eFxeHBw8e4ODBg6hcuTK8vb0RFBQk2y83WLt2LcaMGSOGc407d+4gJCQEzZo1E1MAgC5duuD58+e4cuWKmEqRpaUlAODixYtiKsMiIiJw9uxZMcyyEPdUfjNFihRBiRIlxHCOqVmzJo9jZoyxbLB7925UrlwZdevWFVPsN6BQKH7oREo3b94EAFhYWIgplg2/j8qVK+PLly+yWEREBB49eoTy5cujfPny0u3Z+fLlQ+/evRESEoI///wTffr0SdeErz/S06dP8eLFC3Tp0kVM5RoXL16EhoaG2jl9tLS00KlTJ2zfvl1MpUg1AXDSOwhY7pVjS04xxhhjLHv4+/tj5MiROHHiBB4+fIhatWph1qxZmDlzpqxuxowZuHTpEo4ePZqtK0rcv38fu3btQp48eYDEK1+1atVC//79gcS1bF+/fg1NTU3ExcWhVatWaN++vXAUlh5///03goKCsG/fPpQpUwbNmjVDixYt0KFDB7E0S82bNw/Tp0/HtWvX0LhxYzEtmT9/PoKDg6GlpYWEhATExcVhxowZKFy4MN68eYNVq1YhT548UCqViImJybLhYDll586duH//Pk6dOoWYmBh07doV5ubm372OdXx8PAYNGoT8+fOjVq1a+Pz5MzQ1NeHg4IBevXqhb9++KFSoEHr16gUkjmc2MzPDt2/foKOjIx4uU4gIN2/ehJeXF4KCgvDt2zfUrFkz2S3j6TF9+nTcuHFDmkwuqZx8z3z48AFeXl4AgIULF+Ldu3dYt24dAMDW1hYFChSQ1R88eBBOTk74/PmzLK6Onp4eGjZsmOL3nRFBQUFo0KBBlnXAnz17Bj8/v2S38WtoaMDa2jpdJ102bdqU6lwa2tramDdvHoyMjMRU7kSMMcYY+2UoFArq0KEDvXr1ioiIvL29CQDNmjVLLKXSpUsTAHJ3dxdTWerZs2e0dOlSatSoEQEgTU1N2r17t5Rfv349AaC6devS7Nmz6fr167L9cxOFQkGfP3+mT58+ZWj7+vWreKhfyvjx4wkAPXz4UEzJbN++nWbMmEFaWloEgBo0aEDBwcFERPThwweqVasW6erq0siRI2nBggXi7kwQGRlJgYGBYpjCwsJkz0+ePEktWrQgIiIPDw/y9PSU5TPqzJkzVKlSJQJADRs2JCcnJ5o7dy6dOnVKLCVK/Lv59OmTGJa0aNGCJk2aJIaJcvg98+rVK3J1daXdu3eTlpYWde7cmVxdXWn//v0UEhIiltPjx48JAPn5+YmpFBUtWpTMzc3FcIZ9/fqVypcvL4Yz7Pnz51S/fn0CkOKmqalJO3fuFHdLUYsWLUhTU5MGDRpEu3fvpvPnz9Pq1atJQ0ODAFCFChUoJiZG3C3XypYrzY8ePcLLly9lsadPn2LIkCEoWLCgLJ7dvn79iuvXr4thtbS1tdN1Nvbdu3dwd3fHkydPsGLFCjH9S3nz5g1OnjyJqKgoTJo0SYofP34chw4dwurVqzO0bvSPRkS4f/8+3NzcUKdOHXTq1EksYYyxX8aCBQtQokQJ6SrugwcP1F5pfvToEZ49e4auXbv+kLklQkJC0KhRIzx58gQ2NjY4e/YstLS00KVLF4SHh8Pd3R36+vribtnm5MmTKFSoEBo0aCCm1Dp+/DhcXFzEcJo0NTVx5swZmJmZialfwuDBg7Ft2za8e/cOJUuWFNPJbNmyBcOGDYOWlhaOHTsGOzs7eHh4oFOnTtizZw+31Vns5cuXGDZsGBwcHBAbG/tdV7rXr1+PUaNGQUtLC/v370f37t3FEhlPT0+sXbsWDRs2hKenJ/bs2ZPsanflypUxduxYjBgxQhZPKiffM7du3YKVlRWOHj2a6i3kMTEx0NfXh4eHh9qxz0lZWFggODg43Vem1cmKK80XL16Evb09HB0dMWbMGBQuXBh79uzBqFGjsH37djg6OkJDQyPdbUXt2rXRsGFD6cp8aGgo6tevDz8/PxgYGMDLywtVq1YVd8u9xF7091IoFFSxYsVkZyY6duwolv4Q7u7uBIAKFy5M9vb2NGTIEOrUqRMBIG1tbRoxYgQNGDCA2rVrR3ny5CE9PT3xEMlcvXqVevToQQDIwsJCTP9SLl68SM2aNSMAZG9vL8vZ2dkRADp37pwsntts3LiRypcvTwBo7dq1Ypoxxn4Zd+/epZ49e8piqV1pzgn+/v5UvHhxAkB//PEH9e7dm+rUqUOhoaFiqeTr169UokSJLLsqMW7cOJo8eTIVLVqU24Us0rVrVwJA4eHhYkqtadOmEQDKmzcvbdq0iYyNjWnXrl1imcz58+elK6YsY+Lj4ykyMlIMZ8jjx49JW1ubANDo0aPFdDIPHz4kS0tLioqKIiIiR0dHOnjwoFhGhoaGtGfPHjGcTGbeMzNnzvzu/38LFy4kDQ2NdN0xkidPHnJ1dRXDKbKysqJ8+fKJ4Qz73ivN3759oyJFitDw4cPFFNWqVYsGDBgghiU2Njbk4eEhhqlUqVJSH0GpVEr9Bg0NDTp06JBYnutleaf5yJEj1KFDB9q6datse/78uVj6Qxw9epSqVq0q/bESEV2+fJkAkIGBgazWx8eHdHV1SaFQyOIpSUhIIA0NjV++00xE9ODBgxQ7zW/fvqWjR4+m6+f1vV69ekWxsbFiON1WrVr1y3aanz59KoYyLTY2ll6/fi2GGWM/gaioKLK1tU32oS63dZqJiO7du0cGBgYEgAoWLJji7aVJHThwgCpWrCiGv1utWrVyZbswc+ZMQgq3Rv7ozcbGRnxparVo0YI0NDTEcJr69Okjfb2///5bTCczcuRIGjZsmBhWq0+fPlSmTJkMbWvWrBEPkyIbG5tkP7NfbRM7Q0OHDpVyLVu2pAEDBkjb0qVLZbUKhYIsLCzo2LFjUmzs2LE0ceJEWV1ERAQBkNWlJqPvmSpVqtDevXvFcIa0bduWatasKYZTZGJiQuvXrxfDKWrRogVpaWmJYbVsbGySvV/LlClDpUqVIm1t7WRx1TZhwgTxUDKjRo2iggULpvhZ29bWltq0aSOGiYjo8+fPpKGhQR8+fBBTdPnyZYqIiCAiohkzZki/s2nTpomlP4Us7zQ3btyYXr58KYZzzL59+2jr1q2ymLpOMxFR586d030WTltb+7foNL948YKQQqf5R4mJiaG6desm+yCYEVu3biX8gp3mgwcPkpOTkxjOtFGjRv2UZ/8YY0Senp7JPvCmtNnZ2Ym75oiBAwdKr2nlypVimijxhKmXlxf17NmT2rdvT15eXhm6kpmW3Npp/hm1a9eOAKT7M5TKy5cvpSuXFSpUoC9fvoglRIknf7y8vKhixYo0ffp0unPnTrpO2ickJFBERESGNqVSKR6GJapTpw4BIBMTE1q6dKlsE+dGOHz4MBUuXJgSEhKkmJ2dXbKxyzExMQQg3R3b9Lxn4uLiyMvLi86fP08A6MiRI+Tr6yuWpUt8fDwZGBjQ2LFjxVSKdHV1af/+/WI4RVZWVpQ/f34xrFZcXFyy92tERAS9efOGypUrlyyu2tL6WylVqhT9+eefYpiUSiUVKVKEpkyZIosHBQWRl5cXLV68mIoVK0ZeXl4pdpwp8QKmahxzu3btpNeyc+dO8vf3F8tzrSwd03zt2jV06NABPXv2hLW1Nezs7FC4cGGx7Id6/fo1TExMZGNur1y5gmbNmsHAwADh4eGyeh8fH1hYWEgzfKZGR0cH5cuXh6+vr5j6pbx8+RLly5eHvb19igu6ZzfVOKmvX79mekz8P//8gyFDhmDt2rUYNWqUmP4pPX78GNbW1ujfv3+WzBS5a9cu9O/fH4cOHUpzfBJjLPf5/PkzTp48KYbx8eNHzJgxA506dUKnTp1QqlQptG7dWiz7odatW4fZs2fDyckJM2fOhKamJg4cOJDsf8/t27fh5+eHsWPHYsCAAahduzYaN26M0qVLy+oyq3bt2hgyZEiG2gUPDw+sX79eDKdJS0sLy5Ytg6mpqZj6JTg4OODQoUMICAhI18y6SByH2aRJEzRr1gw3btzAgwcP0KBBA1y6dCnZ2PaTJ0/i+fPncHZ2xpYtW5A3b1507do1Wd3PYPLkyWjbtu1PseSmOC7X0tISd+7cgbW1NW7cuCHLiVq0aAEiwvjx46XY4MGDsXDhQgwYMEBWa2xsjEWLFqU6phkZeM9ERUXBzc0Nly5dwoULF/C///0PRkZG6Nixo+x46eHl5QVra2vZeObnz5/L1s1WiYuLg66uLjw9PdGoUSMxnYyFhQUSEhLw4sULMZUh3zOmOTAwEEWLFsXOnTvRr18/We7UqVOws7PDmTNn0LZtWyn+9u1bXLt2DRs3boSRkRF69+6NChUqoH79+rL9fX19YWVlhfDwcJQvXx63b9+GiYkJAMDIyAiXLl1CvXr1ZPvkVlnaae7SpQuOHz8uPc+TJw+mTZuGKVOmJBvwf/ToUcyZMwerVq1Su95Zdkmt04zEN/zKlSvh6+sLXV1dPHv2DD179sTw4cNldWKn+ezZs9i6dStCQ0PRtGlTtGrVClZWVgCAgIAAzJ8/Hy9fvsSbN2/QsGFDLF68OF2dwOjoaMyZMwehoaF49eoV9PX10bx5c1SrVg158uRBnTp1oKGhgVOnTmHbtm2YN28e/vvvP8yfPx8dOnTAxo0bgcRp8I8fP45ChQpJS5AsWLAg2QmCS5cuYefOndDS0kJsbCxsbW0xdOhQWac5NjYWp0+fxp49e9CjRw/06NFDdox9+/bh+PHjePLkCfLnz49Ro0ZJNREREXB3d8fBgwdhbW2NTp06SctUVKhQAZs3b0b58uUBAGPHjsW6deugUCjQrl076OrqYvbs2ahRo4bs64k2bdoET09P6XsrXrw45s2bl6zTnJ7fy8ePHzFnzhwYGhoiX7588Pf3R/v27WFvby/VIHFN1PPnzyM+Ph5v3rxB165d4ezsDC0tLanm9u3bWL16NV6/fo2oqCh06dIF06ZNg5aWFhQKBTw9PXHo0CGEhIRgw4YNmDVrFtzc3KCnp4eFCxdKS7A8fPgQdnZ2ePv2LcqWLYuaNWuicuXKmD9/fpJXJHf79m2sWbMGZcuWRWRkJEJDQzFu3DhUqVIF+/btw5AhQxAVFQVLS0uYmprCwcEBvXv3BtLxcwoODsahQ4ewZ88erF27Ft7e3vjnn3/w6tUrNG7cGMuXL0fRokWFV5Tc69evsXjxYujo6ODZs2fQ09PD8OHDZUvPfPz4EcePH8f+/fuxcOFCREREYPHixXj8+DFatmyJtWvXwsDAQHZcxn5nz549g4WFRYoTgRERIiP/X3t3Hldj/v4P/HXaFyFCGSpFtmTPvg3ZTcYyY9+Kj2XGEiJMtkFRZMkWxhjbGEJk35c01pDsQqFE2pfTqev3x7dz/859d0qlyLiej8d5POq63mfpPqdz39e9XO/kz/o/s2vXLowfPx5nzpxBw4YNsWDBAsydOxd6eno4depUjg3Nt2/fwtTUFG/evMnX90hBFKZojo+Px+3bt4U5cPNLS0sLzZs3F60TilpoaCgGDhyYr22L/GjQoAF8fHykYbVGjhyJrVu3IiwsDLVr15amc0hKSsL333+P2rVrY+vWrXj9+jWaN2+OyMhIODo6wt/fP0fDoX/++Qdz585FWFiYKP41OXv2LDZu3Jhjm7KkkhbNkyZNwqpVq9CgQQPcunVLlJMqX748Jk6cKDTae/z4MX799VeEhISgfv36orGNGjWCo6Njju8oVYX5zEyYMAFElOuOrlevXuHdu3c5Xo8qDw8PuLm5CQdvMjMzMXLkSGzbtk06FE+ePEGNGjXw/PnzfO3cq1SpEiwsLHD16lVpqkA+pWhOTU1FqVKlsH///hzN1Dp27AgjIyMcOHBAFFeqW7cu5s6dm6MOwEcaf128eBFt27bNd+PAEkF66PlTvHnzho4ePUpLly6lhg0bCqddde7cOcepLsOHDycANHPmTFH8c8jr9GwiogEDBpCVlZVwOsm+ffsIQI4GBdLTs589e0a1a9emc+fOicaFh4dTq1athFb7Dx48IAMDA7K0tKSk7HP9c5OVlUUdOnSgwYMHE6lMJYLsFv/Ozs705s0bWrhwIRkbGxMAmjZtGrm4uFCdOnXI3NyciIg2bNhAAIQpSN6+fUuampo0evRo0fP5+flRzZo1KTIykij7Gldl4zTl6dlyuZyWLl1K1apVIwC0detW0WNMmjRJuB4oMzOTnJ2dCQD5+voSEdHly5eFhiE9evSggQMHkr+/Py1btoxkMhk1a9ZM9HidOnUiAPk+PXvEiBH0ww8/CNdlvHnzRphWRfU0vPy+L82bN6d169YJvy9atCjHNTSDBg0iFxcX4XO+bNkyAkBTpkwRxuzbt4+GDBkivK5t27YRAOrfvz8RET169IjmzJlDAMjOzo769etHW7dupV27dlGFChXI0NBQtAyUp2Lm5/TsqKgoMjY2pnv37hFlvy9dunShM2fOCGN+//13ApDj9OyPLSe5XE7u7u5Uvnx5AkBDhw6lYcOG0Zo1a4T3zsLC4qOnVB4/fpxMTEwoODhYiPn4+BAk3xN79+6lunXrEgAaPHgwTZo0iQIDA2nEiBEEgGbMmCGMZYz93/8scrmm2cHBgQwMDITvhuKSlpZGr169orVr15K2tnaOxj39+/cnAFSuXDkKCQkRTeXy999/U+3atUXjlZydnal9+/Z53r7//vtcp3/5r52e7eDg8MUukVOuv4KCgqQpkXfv3tGNGzeoXbt2OXrOXL16lQwMDAgAjR8/nuLi4kTN38aNG6f2FNKvRWZmJrVp0ybH1EuxsbE5rgcuqd68eSNs/6n+H2dkZNCOHTto8eLFRNnbHQBEn8eFCxdSq1athN9VjR8/PtemwZ/ymaldu3aup0rL5XIqW7YsaWlp0ZMnT6RpwaxZs8jExET4fcmSJbl+zv/++28qV64cZWRkSFNq6ejoUOfOnaXhAvvURmA9evSgOXPmiGILFiygunXrUnR0tCiuFBUVRTKZLMfnmSSNv1S3LZOTk+nMmTNUo0YNkslkJJfLpXctsYq0aJYKCAigsmXLEtRcrxQdHU3btm3Ls1tmcflY0VymTBmyt7cXfo+NjSUANHz4cNE41aL59u3b1KNHD4qIiBCNISL6/vvvadeuXaKYsonBqlWrRHGpI0eOECQF++XLlwlquhb+/PPPBIA8PT2Jsr+clcvX0dGRtLS0RMvbzs6OLCwshN8jIyNJX19fNHcmEVFwcDBBzTXNykYlqkXzuXPnclzn/fjxYwJAJiYmQlGp7Grep08f0Q6V1q1bEwCKjY0VYgUpmvft20eampr0/PlzUdzDw4MgKZrz877ExMQQANEXblJSkmjjc/PmzVS9enXRNTsxMTFUpkwZ6tatm/B7xYoV6fXr18IYIqIqVaoQALpz5w6RynU9FhYWoo1G5caIv7+/ECtI0bxnzx6SyWT05s0bIXb27Fk6cuSI8HtuRXN+lpNqTLVjpEKhIAcHBwKQ59yJSUlJZG5unmMnDmVvBMpkMtHOqJkzZxIk3yspKSmkra1NdnZ2QowxlnfR3KhRI9LQ0KCrV69KU0XKx8eHdHV1qXTp0lSqVKkcG86amppkYGBApUuXJiMjI9H6WbVQUigU+VoX5Nd/qWjeu3fvF91puGXLFgJAhw4dkqZEypcvT4aGhlS6dGnS1dUVXQc7b9480tXVJSMjIypTpgzp6+uTh4eHkFctgN6/f/9VbXATEW3cuFH09xw/fpymTZtGffr0ERVlReXy5cvk7Oyc46Z6IKAwIiIi6Ndff6UyZcpQnTp1qHPnzlSlShVq0aIFHT9+nEilaFYeKMjIyCAbG5tcPx8HDhygChUqSMNEn/CZURZ1ym0fdcVdt27dqEaNGnnOPfzw4UMyNTWljRs3kpubW65/AxHR9OnTaezYsdKwWsnJyYTsAwCf6lOL5jdv3lD37t1p0aJF5OfnR4MGDaIpU6ZQamqqdKhAukNTdfmGhoaShoYGIbtbdtmyZalMmTIElf4axfGZL07FWjQTEV28eJEAUOvWraWpL+ZjRXNwcLCo27dyovIffvhBNE5ZNJ85c4b69++v9qjx06dPCQB16NCBevfuLdxq1apFyJ5uIy/KI5aqe/MUCgVpaWmRg4ODaKzyiK66jZ/nz5/TxYsXhd8/fPhANWrUoNKlSwsxFxcXgpriNLdGYF5eXgRJ0Tx06FAyMzMT/a2Ojo5CAwBlE4ZTp04Rso+Kqxo0aBABEB31KEjR3KhRI7K1tZWGczQCy+/7kpqaSoaGhlS+fHk6fPiw8Hjv378Xfq5RowZNmDBB+F0pNjZWWKFv3ryZtLW1Rc/Vu3dvMjExIQDCCkyhUBAAatKkieixNm7cSFA5Wk8FLJqV/4cNGzaksLAwouydKh8+fBDGqCua87ucKPsIPwAKCQkRYkREJ06cIAB5ThGyc+dOAkAbN26UpmjXrl0EyUpFuRNB9T0hIqpcuXKuK13GWE6pqam5Nm8pKezt7YWdubNnz6aHDx9KhxRavXr1aOXKldLwVyctLY2aN2+u9kDEy5cvKSAgQO22QVE6f/48ARCONBa15ORkkslkFBkZSRkZGTR8+PCvqmiOj4+n5s2bq5027cCBA19dAaH07t07evjwISUkJIjiWVlZZGFhIXy/eHt7i86+k5LL5VSxYkXR2Waf6siRI0Ih+eLFC5o6dap0CFH2NvKWLVukYZGkpCS6c+dOng21MjMzycLCgi5duiRNqXXnzh2CmgOLhfGpRbNSREQEhYWF5ThDWB1XV1dydnYmyj5QKj2D6L8mf7NTf4LWrVujXbt2X9X1J82aNYO1tTWOHj2KGTNm4MyZMwCArKws6VDExcWhV69eePXqVY5rg5F9fRGyJ4Lfu3evcAsNDYVCocCOHTukdxFp1KgRAODff/8VYllZWdDV1UXNmjVVRv5/0us5AMDCwgKtW7fGnTt3MHv2bPj5+UFDQ0P0N928eRO6urqfdC1UaGgo2rdvL/pb9+3bh4yMDCgUilxfs5LytRf0WjEAyMjIwN27d/PVZCW/74uenh58fHwQGxuLnj17wtHREc+fP0e5cuWA7Otrnjx5AlNTU9HjA4CxsbFwLX9oaCgqVKggeq69e/ciKioKCoUCY8aMkd5d5FOWC7L/D4cOHYpbt26hfv36cHV1RUpKitCMITf5XU55UTZ4CA8Pl6YEyueR9j4AgHr16gEAbt++LU3loKGhUehlxNi3SE9PD5UrV5aGS5SffvoJZ8+ehZubG5o2bQobGxvpkAJzd3fHhAkTEBkZia1bt8LFxQWBgYHSYV8NHx8fjBo1CqVLlxZib9++xYABA7BlyxZYWlri7Nmz6NmzJxQKBbKysnDs2DHRY3wqe3t76Ovr49q1a9JUkTAwMICjoyO2bNkCFxcXtf1ySrJFixZh2rRp0NXVlaaK1YcPH3Dy5EmcPn0acrlcmv5k5cuXh42NDYyMjERxmUwGHx8fuLu7w93dHREREfD29haNUaWtrY3Jkyfn+xr6/GjZsiXKli2L5cuXY/Xq1bleLx0cHCxsa+TG0NAQ9erVU7uNrXT48GEYGBigZcuW0pRaV65cAYAcfRwKQ09PT+gH9CmqVKmC2rVr56tJXc+ePfH8+XN4eHjg4cOHGDp0qHTIf0ru73wRqlu3rqh7dUn35MkTtG3bFk+ePIGHhwdGjhwpHSIoW7Ys3N3dERQUhMmTJ0vTiIyMBLIbDWhqaqq95aVNmzZo2bIl/vzzT4SEhAAAjhw5glKlSsHNzU06PFeJiYlwdnbGihUr4ObmhunTp+f4gnv27BnS09ORlpYmihdEZGQkIiIicvyNylt+/gkLKzIyEhkZGYiPj5emcijI++Ls7Ixjx46hWrVqCAgIQL169bBv3z4AQEREBIgIL1++FMarExkZiejoaCgUihzPo6mpmeeXcFHZunUrfHx8oKuri2XLlqF+/fof7fxekOWUG2NjY2hpaeXZTTU1NRXIfh4p5U6Qr2njiDFWdKZOnYrly5dj0aJFcHR0lKYLZcGCBfD19UVsbCxu3ryJ5cuXo0ePHtJhXwVl13QnJychJpfL0bNnT7Rq1Qpz585FvXr14OrqiqdPn2L79u04dOiQ2h2Me/fuhUKhkIbzRU9PD+3bt//khkZ52b9/P3755ResWrXqozvhS5Jnz57h1q1bObrDF6eMjAzMnTsXEydORJkyZZCamoqmTZsK6/XPsZOod+/eWL16NVxdXbFixYqPbgO6uLggJCQEz549k6YKpUyZMrh69SqcnJywbNmyHNu9AJCZmYmLFy9+cgfnrKwseHl5Yc2aNR/9O5WuXLkCQ0NDNGjQQJoqMENDQxw9elQaLlZt2rRBYGAgJk6ciGnTpknT/znFv6We3T0tP50US4J3796hZcuWsLKywq+//pqvD/706dPRo0cPrF27Flu3bhXlzM3NAQABAQGiuNLNmzfzLFK1tbVx9uxZ2NnZ4bfffsPkyZNx/fp13L17t0BHBxwdHXH27Fls2rQp1y6pysd78OCBNJVv5ubmCA4ORkxMjDQFIvro9ASfwtTUFDKZDI8fP0ZmZqY0LZLf9yUtLQ2xsbHo3LkzwsLCMHfuXKSkpGD48OFIS0uDpaUlZDIZTp8+rXZD482bN5DL5TA3N0dmZiaOHDkiHQIAuHz5sjRUpF6/fg2ZTIZJkybh0aNH6Nu3L549e4Zff/1VOlQkv8spLx8+fIBCoUCdOnWkKYGtrS2Q3RVcKiEhAVA54swY+/aULl36s+xc/BrNmTMH8+fPFy2f7du348WLFznOYmrXrh3OnTuHU6dOoVu3bqLchw8fMHLkSLVn1eVX165d8erVK7x580aaKjIl8SBMSkoK3Nzcct0RPWPGDHh4eEjDxWratGm4d+8etm3bBnt7e/Ts2RMtWrTAnDlz8PbtW7U7N86fP1/k752+vn6u251Surq62L59O4YNGybsTP9UMpkMZcqUkYYFHh4eGD58uDRcYHPnzkWzZs3w/fffS1O5CgoKQrNmzaClpSVNfTV0dHRgYGAgDf8nFfsaSC6X4+LFi5g0aZI0JWwMf27KgkrdiuHIkSOIiYkRTWuh/MdVNx7Z/5B//vknqlatinHjxuHGjRtCrkGDBtDS0sL69etx8eJF0f0iIyOxefNm6OnpieJSs2bNgo+PDw4dOgQfHx8sXLiwQPNfv3z5EmfPnkX58uVFRwZTU1NFf5NybrUNGzYIMQBCMSj9+5V7qVX3Vjdt2hQKhULtivf3339Xewq7KnV7vpWvOT09XZoS0dfXR7169fD+/Xvs3btXlJP+Dfl9X6Kjo4UpBfT09DBv3jzMnz8fycnJuHPnDvT19dG0aVM8e/YMixYtEj1OQkICPD09oaOjg6ZNmwIAJk+ejLdv34rGnT59WvSZUedTlgsAnDx5Uji92czMDP/88w86deoknBqEXB4vv8spL0FBQZDJZDk23lR169YNRkZGOHToUI5p4JSFtHROR3XULSfGGPuaXb58GfPnz5eGAQAhISGIjY3NsaH+77//onXr1jlOBa5YsSKOHj0q2ibLyMjAvXv3sHv3btSsWROPHz8u9Gm8ykI8ODhYmvrPksvl8PT0xPXr1zFjxgxpGufPn0fp0qWFy+0KytfXFx06dPjoTXkGHAA8ffoUq1atwpw5c0QHf9q3b49Lly7B19dX7TRrkydPxtOnT6Xhz6px48aYMWOG2tdXHFxcXIRttMIKCAhAREQEPD09palcvX//Ho8ePfrs0+6yTyC9yLmwAgICqEWLFrRy5UpRF+Hp06eTq6uraCxlT9ujoaFBmzdvlqaKnXKqHwA5mmbs3r2bAJC5uTldv36dzp07R7/88gtpampSrVq16OnTpxQREUGZmZkkk8lE3acvX75MWlpaZGZmJmpkNXbsWAJAxsbGNGXKFPrnn3/Iw8ODGjZsKEwBlZsjR46QhoYGTZw4kdatW0e7d++mwMBA+vfffyk5OVk0dsiQIQRANI0QZXfEQ3b3ur1791JoaCjNmzePTE1NCQCFhoZSaGgovX79mkqVKkUymYxWrFhBKSkplJycTCNHjiQAZGlpSYcPHxaaWPz2228ESUfq58+fk66uLiG7eZSvry/t3LmT+vTpI+rqefDgQUL29ACqlO3pb9y4IcRGjRpFAGjDhg2UmppKgYGBovuoCggIEJb18ePHSaFQ0IsXL6hp06YEgLp06UKXL18myuf78vz5c6pdu7ao2cjmzZvJ2NhYmELp7NmzQqOznj170po1a2j58uXUuHFjunv3LlF2cwjlNEk1a9akhQsX0t69e2nKlCnk4OAgLNP4+HgCQHXq1BGej1Sarnl7ewuxly9fEgCytbWl9+/f0/nz53NtlrZ161ZycnISxYYOHUqdOnUSflf+XwwbNozS09OFTt35WU6k0ghMtVlZamqqMDXax/j6+hIkU0YpFArq2LEjjRo1SjR2ypQpBID27NkjxLKyssjIyIiMjIxEYxlj7GsVGBgobC9dv35dmqbOnTuLGpcqrVixgtq0aSOKJSYm0o8//kgtW7Ykyv7OpOwGRzt27KAOHTrQkCFDaPv27TlmeigIKysrGjRokDT8n3fnzh3S0NAQNYFSTjH1seVZ1I3Adu7cSeXKlZOG6fTp06StrZ1jloxHjx7Rv//+Szo6OnTjxg3RDCZfSmhoaL6nbfrSQkJC8tU4S5Wfnx/JZLI8p7piJUuRFc2HDh0iHR0dAkD16tUjFxcXGjFihKgtvCplp2bVIqC4hYeHk7u7O3333XeE7KK5devW5OnpKRT66enp1LZtWwJAmpqa1L9/f3r37h1169aNkN3V+Pz58zRs2DDhMdzc3Oj+/fsUEhJC5ubmhOy5JmfMmEFxcXGUnp5OEyZMIG1tbeE+nTp1ogcPHkhfYg4vXrwgW1tb4X6qt7Jly1JgYCAlJibSwoULycjIiABQo0aNyM/PT7TzYsaMGcL9GjduTLdv3yZPT08CQBUqVKB///2XiIhu3LhBtWvXJgCko6NDNWvWpIMHD5Kenh7169eP9u/fT3FxceTr6yssx5o1a9KmTZuE5woKCqLq1auLXqfq/IOXLl2ili1bEgCqWLEibdy4kbKyssjLy4v09PQI2cXn7du3iYjoypUrpK+vTwCoVatWFBMTIzyWOtu3b6dy5coRADIwMKDOnTuTt7c3VahQgSZMmCB0ZszP+/L8+XMqX748OTg40I4dO2jlypXUqlWrHDsmDh8+TGZmZsLj1K9fn65duyYa8/r1a+rYsaNQYGtpadH//vc/YcdNeHi4MH85AFq4cCG9e/eODh48SFZWVgSAatWqJdppoJzvumzZsnlOIbF161YyMzMjZ2dn2rt3L/3222/Url07evHihTAmLi6OLC0tCQBVrVpV+EzkZzmRStE8aNAgat++PU2fPp3atm1L7u7u+V6Z+Pv7k4WFBfXr14+WLl1Kffv2paVLl4ruv2PHDmFZ29vb04kTJygqKoomTJggvL6pU6d+9HPCGGNfi379+uWYMcPf3z/HDBRKcrmchgwZQr/++itt3ryZFi9eTB4eHvT06VOyt7enVatW0c6dO0X3adiwobBT+VMsW7aMDA0N1c4o8l83bNgw0WwxmzZtylc38X379pGxsbE0XGg3b94kQ0NDUUfrrKwsWrx4MclkMkpPTxetVw8cOEDjx4+nxo0b0/bt2+nWrVtCjhW9rKwsqlOnTp6zirCSR0ZFeD5jbGws7ty5A11dXdStW1fUxVGKiPD8+XNUq1ZNmvriiAiPHj2CqampcB1EVlYWnj59Cmtr60JfV5Weno7Hjx+jcuXKQvflj3n58iUWLFgAd3d3REVFIS4uDsnJyUhKSsL9+/dx9OhR3Lp1S3o3tZTNH6pUqSLEwsPDYWZmluMU2zdv3iA9PR2WlpZIT09Henp6nu+nOq9fv0ZSUhKsrKw++XqN9+/fIykpCRYWFtKUWkSEJ0+eoFy5cihfvjzi4uJQqlQpta8jr/clKysLmZmZ0NTURGRkJJKTk2FjY5NrA6zw8HBoa2uLlrFUfHw8IiIiYG1tDX19fWm6QLKysvDo0SNUq1Ytx2l4qtLS0qCnpwe5XI7w8HDo6empXZapqal4+fIlbGxsclzPn9dyAoCRI0di69atCAkJgbm5OaKiolCzZs1C/b9ERUUhJSUFVlZW0hRjjH1zHj16hLp16+LYsWPo2LEj5HI52rVrh2PHjuV5vWZKSgqSk5NzXNKVmJgoaor04cMHmJubIzY29pObLqalpcHGxgaurq745ZdfpOn/tBcvXqBmzZrYt28f2rZtCwcHB5w7dy7HNpbSpUuX4O/vj6tXr+LOnTvo378/ypYtC09PT7XbKwWxfPlyBAUFoXv37nj37h1SU1PRr18/LF68GDVq1ICOjg5mzZoljHdxcYGJiYkoxorHsWPH0K1bN5w4cQIODg7SNCuhirRoZkUrISEBDRo0wJ9//ok2bdpI0wCACRMmwNfXVxpm7LNTLZrr168vTTPGGPsEY8eOxY0bN3Dt2jWhE/DYsWOlwwolMDAQK1aswKlTp3Du3Dloa2t/0jQ4f/zxB9zd3fH06dOP9jL5r5kyZQpOnz6Nrl27okmTJvjpp5+kQz4bhUIh9OlR3YEt3WkCAA0bNoSvr2++p0tihefg4ICsrCycPn1ammIlWMEPAbHP5uTJkwgPD8edO3ekKSB76oXCNpZgrKipawzHGGOsaMydOxdhYWFYu3YtDhw4gNGjR0uHFFqtWrVARFi/fj1u3779SQUzAAwbNgylS5fG6tWrpan/vNmzZ+PFixe4cuXKFy2YAQjTPUrP+JIWzImJiXj06BGaNm2K6OhobNq0SZRnRef69eu4cOECli9fLk2xEo6PNJdg7969Q4sWLfDkyRM0b94cjRs3hoGBAWJiYvDy5UsMHjwYo0aNkt6NsS/CwcEBp06dwoEDB4psLlXGGGP/36xZs7BkyZJiOa1ToVBALpcX2fQxp06dQp8+fXD79u0SeSlecdq1axfq16+f51SLJUlmZibat2+PkSNH4vnz53B1dc33NFEs/+RyOZo0aYKhQ4di+vTp0jQr4bhoLuESExOxa9cuBAUFITExETY2NqhXrx769OmT6zUyjH1OiYmJ8PHxwc2bNwEAhoaGsLe3x+jRoz/5mm3GGGP/X3x8PDZt2oSpU6dKUyXS4sWLcfToUZw+ffqbO037a5SQkFDg/jUs/5RzZwcGBuY4+s9KPi6aGWOMMcZYsRgzZgzkcjm2bt0qTTH2zdi4cSO2bt2KkydPwtDQUJpmXwEumhljjJU4CoUCe/bsQUhICMqWLYvu3bujQYMG0mGMsRKOiDBt2jRUq1btm+umzRgA3LhxA5MmTcKhQ4dgbGwsTbOvBBfNjDHGSpS0tDSMGjUKY8eOhb29Pa5fv45BgwZh7NixPB0KY4wxxj47LpoZY4yVKDt37sQff/yB48ePC9d9/fnnnxg5ciSio6NzzDnLGGOMMVac+Cr0b8zdu3fx7NkzUSw4OBhRUVGiGGOMFbUTJ04gNTVVFDt06BAyMzNFMRsbG5QqVUo0fVmFChVARHj9+rVoLMvduXPncPDgQeG2f/9+LFu2TDrsq7Bz506MHDlSdMvKypIOU2vr1q3o2rUrmjdvjo4dO8LLy4unxmOMMVYgfKT5GzNr1iyYmppi4sSJQmzUqFHo1KkTBg0aJBrLGGNFqWXLlli/fj3s7OyEmJWVFS5duoTKlSuLxkqNHz8egYGBCA8P566j+fDixQtUr14dCoVCFPf29oaLi4so9rUICwtD3bp1hd8VCgU0NTVFY6Q8PDzg5uaGihUrIjIyEsOGDcPu3buxcuVK0XqQMcYYywsXzd8YNzc3mJqaYtKkSUJs5MiR6NSpEwYPHiway9jXysvLC9u2bUO5cuWkqf+0c+fOSUMlSosWLbB+/XrUr19fiFWrVg2XLl3Cd999Jxqr6tSpUxg6dCgCAgLQtGlTaZqpMWnSJGhpaYnmiZXJZOjfvz+MjIxEY78mWlpawpkJHyuaMzIyYGZmhvfv36NRo0a4ceMGatSogSdPnmDGjBnw8PCQ3oUxxhhTi4vmbwwXzfkXFxeHsmXLSsOFEhcXh06dOqFUqVLSVJEo6cXS5xQXF4fatWvj1q1bMDU1laZZEZPL5VAoFDAwMJCmcihM0RwcHIzZs2dj8+bNsLS0lKaZGrGxsejYsSOuX7+eZ1H5NdLW1haOnn+saH706BFq1qwJAGjSpAmuXbuGa9eu4fz58xgxYgRMTEykd2GMMcbU4nPcGJMgIvz66684e/asNFVoPj4+aNeuHc6dO1csN/b/rVy5EgMHDuSC+TNJT0/H0KFDERERIU19suPHj2P79u04cuQILC0tcfHiRTx58kQ6jEn4+voiPj4erq6uCAgIyHEdeXGJiIjA48eP8329sFwux927d5GUlCRNCdLT0xEaGoqMjAxp6qMSEhKkITRt2hTTpk0TFczR0dF48OBBvq+RBoAPHz7g0aNH0jBjjLH/KC6aP4MPHz6gbdu2aNOmTaFubdu2xYcPH6QPy4rJ7NmzYWhoiB9//FGaKpT4+Hhs3LgR06dPl6ZYEUtISMCGDRvg6uoqTQHZG+CnT5+WhtknMDIywsqVKzFkyBC1RUph7dq1C2vWrEHXrl1x6tQpBAQEYOnSpXx08CPkcjlWr16N8PBwLF++HI6OjrC0tMQ///wjHQoA+O2339CqVSu8fftWmsq3gwcPokqVKpg+fTo8PT1RqVIlHD58WMjPnz8fRkZG0NfXh76+Pvbv3w83NzcYGxvDzs4OlSpVwp9//il6zKysLLi4uKBs2bKoV68eypcvj/3794vG5GXVqlVo27at8PvNmzdhZGSEoUOHCrHAwEBYW1vD2dkZW7ZsQaVKlTB16lTI5XJhjJ+fHypUqCC8di8vL2zatAnfffcdatasiT59+ghjGWOM/YcR+yx69+5NAKhUqVJUvXr1fN/MzMzoxx9/lD5coc2cOZN8fHxEsREjRtD27dtFsW/VsWPHqF27dqRQKKSpQps/fz5NnjxZGmbFYOHChTRp0iRRLCMjgyIjI+mvv/4iOzs7srW1FeVZ/sXHx9Pq1aspIyNDmqKNGzfSwIEDpWGR5s2bU0hIiChmaWlJkZGRolhAQADJZDICILp99913onFMvYcPH9LevXtp1qxZVLlyZWH5/f7779KhZGFhQQDo2LFj0lS+7N69mwBQ9erVKSsri4iI7O3tSSaT0fXr14VxHTt2FF5HmzZtaOnSpbR582bS09MjAKSnp0dRUVHC+PHjxxMAkslktG3bNnr79i05OTmJPg8f+54ODg4WxjZp0kSUW7duHQEgKysr4fM8depU4fVlZmYKY6dPny48Ttu2bal58+ZkbGwsvL6EhASVR2aMMfZfxEXzZ3Lnzh2SyWRUqVIlSk5OlqZzNXbsWLpz5440XGhcNOdOLpdT9erV6cyZM9JUocXHx5OZmRm9fv1amqKpU6dS69atc71duHBBepevhp+fHwUHB0vDxSohIYEqV65Mr169EsUXL15MU6dOpaNHj5K1tXWJK5q/ps+Bt7c3yWQyev/+vTRFmZmZVL9+/Tz/f/JbNLOiI5fLadGiRaShoUFaWlqiQpaI6O7du7R3715RkZhfaWlpQtGtusNk5MiRBIB69eolxAYMGCAUnitWrBDirVu3FuJHjhwhIqKnT5+SlpYWAaCmTZsKY1NTU0lDQ+OTi+aIiAgyMjIiADR48GAhfuDAAWH8+vXrhbiXl5cQt7S0JIVCQVeuXKF69erR9OnThXGMMcb+u/j07M+kXr16+PnnnxEdHY01a9ZI02qFh4cjJSUF9erVk6ZYMTh27Bj09PTQoUMHaarQVq9ejf79+8PMzEyagpeXFy5evJjrrU2bNtK7fDVu37792a89Xb16Nfr27Ztj6iI3Nzd4eXmha9eu0NbWFuVKgq/pc3Dy5EnUq1dPbVdyDQ0NjB07FgsWLJCm2Bekra2NWbNmYcGCBVAoFDhw4IAob2tri759+xZqGq9bt27hxYsXAAA9PT1ER0cjOjpaeKzc+kJUqFBB+Fm1AZzy9P59+/YJzb5Uu6Xr6ekV6nVK7du3D4mJiQCAqlWrCnHV17Jt2zbhZ1UdO3aEpqYmmjdvjjt37mDp0qXSIYwxxv6DPn3tw/Jt3rx50NTUxNKlS4UVdl4WLVqE2bNnS8OsmOzYsQPDhg2ThgstMTERa9euxYwZM6QpVsSSkpJ4WRezjIwMXLx4Ee3bt5emBL1798aFCxfw7NkzaYp9YVOnToWuri7CwsKkqUJTbYR19OhRODs7w9nZGdHR0ejZsyfat2+P5ORk0X2kZDKZNCTa4aZuB82nunPnjvCznp6e8LNqB/jQ0FDhZ1XGxsbSEGOMsW8AF82fUc2aNTF06FC8f/8ePj4+0rTIw4cPIZPJYGNjI019Ee/evcOOHTuwZMkSuLi4YPz48YiMjJQO++yK6nUlJiYiICAAzZo1k6YKzdfXF3369Mlx5FPV/fv34e3tjd9++w379u0rUPdWVbdu3cKUKVMwY8YMzJgxA1OmTBE11lm7di2mT58u5I4cOSK6/9fO19cXvXv3znXaopKuqD4HUmlpaTh8+DC8vLwwc+ZMjBs3rsDd1k+ePIl9+/bBx8cHycnJICLs27cPly9flg6FqakpatWqhWPHjklT7AvT09ODtbV1kRZ9qh2ta9WqhUOHDuW4GRoaiu6TH/Hx8cLP6orqoqR69onq9FWZmZlF9n/IGGPs68dF82fm7u4ObW1teHt759kRe9GiRZg1a5Y0nENcXFyxTicSFxeHiRMnwszMDFOmTMGtW7dgZGQECwuLQm0MFZXCvK68ltXt27eRnp6ORo0aSVOFkpycjDVr1mDmzJnSFJDdxXnKlClwcXFBly5d4Orqivv376Nly5ai6VfOnDkjul9uDA0NUaVKFVy+fBlLly7FqlWroKWlJeRlMhm8vLxw+vRpGBsbF9n80yXBx5Z1SVbUnwOlzMxMrF69GpUrV0a/fv1w5swZEBGqVq2K8uXLS4fnKS0tDQqFAv/++y9kMhmaNGkChUKRazFTt25dtQU1+/Li4+NRu3ZtabjQatSoIfz88OHDfE819THW1tbCz6oFdFGpW7eu8LPqOkH1qHjdunWL5FRwxhhj/w28RvjMqlWrBicnJ8THx8Pb21uaBrJPCzMyMkK1atWkKUFmZiYmTJiA1atXY/To0Th+/Lh0yCf78OEDWrRogdWrV6Nt27Z48OAB9uzZg/nz52PGjBlFesSiIAr6uvKzrF69eoUKFSqgVKlS0lShrF27Ntcjn3K5HO3bt0dYWBgOHjwIW1tbGBkZYfbs2YiIiIC7uzuQvTGX2zQxUjY2Npg6dSoOHz6MOnXqICsrC35+fkhPT4dCoUBgYCDatm2Lixcvwt3dHS1bthTd/9ixY1i4cCF+//133Lx5U5T7ksLCwpCSkiINi6xbtw4//PADqlSpIk2VaMXxOQD+b57xwYMHY+LEiTA0NMT169dx5MgReHp6YtasWQXukdCrVy/8/PPPSElJgZ2dHYYNG4aff/45x2dIycrKCq9evZKG2Rd2//59pKWlYciQIaI4EeU5T3JeGjZsKOyEefPmDQ4dOiTKL1++/KOnZ6ujOlWU6qnUSUlJoqO/BTkSrFrQOzo6QldXFwAQExMjxFV/HjBggPCzqqLaMcAYY+wrI+0MxopfREQE6erqUqlSpSgmJkaapgEDBny0m6yTkxNt2rSJKLvTaN26daVD1HJ2diZ3d3dRrGfPnuTr6yuKERENGjSIAJCurq7a7s9fSkFfV36Wlbe3N9WoUUMazkEul9OtW7ekYZHk5GSqUqUKRURESFNE2R3MZTIZPX36VJqiMWPGUJUqVYiIaOvWrXT+/HnpEGrXrh2dPXtWGha8ePGCzMzMCAD9/PPPNGjQIGrUqBHFx8dLhxJld5desGAByeVySkhIoAEDBhR6+hmlX3755ZM6smdlZdGKFStIR0eHPD09pWlBcnIyVa1alV6+fClNqVWrVq0S0z27uD4HGzduFDr97tu3T5oulIyMDDIyMsoxnZc6ixcvplq1aknDRERUu3Ztunr1qihWqVKlfL9/7OPmzZtH7du3p6NHjwqxxMRE6tatG/n7+4vGEhE5ODiQgYEB3bt3T5rKl5UrVwqfNyMjI1q+fDnt2bOH+vXrR/PmzRPGderUSRi3cuVKtfF169YJ8RYtWhAA0tLSoqCgIEpNTaUhQ4aIpiI7dOiQMF6dgIAAYayFhYUoN3/+fAIg+j747bffCAA1bNhQNK2aq6ur8DjDhg0T4owxxr4dXDR/IZMmTSIANG3aNFH8+vXrH53Td8eOHdSwYUNhTswPHz4QAEpKSpIOzWH06NE0d+5cUaxXr16ijRXKLuyVU3uYmJjQiBEjhJuTkxM9fPhQNF6dwYMHk6WlZYFuq1evlj6MSEFfV36X1bRp06hBgwaimNTTp0/J3t6eypcvn+e0YV5eXjRu3DhpmCj7MTQ1NalLly7SFBERubu7EwB6//69aCoUpejoaJLJZDmmVZK6efMmlSpVigBQ+fLl6e3bt9IhRET04MEDqlSpkmjqlgcPHpCpqSmlp6eLxkr5+/vneP+UNyMjIzIxMckRt7S0JGtra3rx4oX04UTc3d3p6NGjVKFCBTI1NaW0tDTpECIiWr58OY0dO1YazlVhiubi+BwX5+egRo0awgb+kCFDRP8jHysycqOcumf//v3SVA4+Pj5UsWJFaZiIiOrUqZOjaDY1NeWiuQi5ubkJ73/Xrl1p0qRJNHr0aHr06JF0KBERNWrUiDQ0NHK8LwWxevVq0tfXF57XwMCAPDw8hLy7uztpa2sL+UqVKtGZM2fI29tbFDc3N6eLFy8SEVFMTAy1adNGyBkbG9Pu3bvJxMSEjIyMqFGjRtS/f/9ci/2zZ89SrVq1hPsDoB49etDBgweFMX5+flSmTBkaNmwYLV68mMqUKUMjR46kxMREYcyGDRuE6akAkI6ODg0fPpw+fPggjGGMMfbfx0XzFxIVFUUGBgakr69Pb968EeJ9+/alqKgo0VgpOzs7WrVqlfD79evXSSaT5SgE1cnvPM2qe+h/+ukn8vLyEm4+Pj4UGxsrGq+OQqGgpKSkAt2UxW1uCvq68rusZs6cSTY2NqKYqtDQUJo2bZpwdEL1SImqlJQUqlq1aq5FofKozJ9//ilNERHR0qVLCQCNHz9e2HgkInr//j0FBwfT0qVLydTUlIKDg9UWTKqUc6UCyPGeK61cuVI0Dyplv2+ampp05coVUVwd6funvI0ZM4Y2bdqUI56UlESpqanSh8nVggULCABt2LBBmqLU1FQyNzfPdVmrU5iiuTg+x8X1OUhISBDe88aNG4v+P7y9vSk0NFQYWxBLlizJdX5mqSVLllDt2rWlYSKep/mzCQ8Pp5MnT9Lt27dz3eGklJqa+tHvkvyQy+V048YNunDhQpEWlOHh4XT58mVKyv7Ovn///kf/vwoiMzOTwsLCKCgoKM+doYwxxr5tfE3zF1KpUiX8+uuvSE1NxeLFiwEAQUFBqFGjBipVqiQdLrh48SLu3LkDfX19BAYGIjAwEDt27IC5uXmuDbAKQ7UBipOTE6ZOnSrcJk2alOO6YXU0NTVhaGhYoFtuzYWUCvK6CrKsKlasmGfDmbp162LZsmWYMmUKypYtC29vb1HnWKUNGzage/fuMDc3l6aA7Ov+AOTacEzZydXAwACtW7cW4klJSXjy5AkCAgLQqFEjPHnyJM8u4b6+vjh8+DDmz58PAHBxccG+ffukw3Dv3j0YGRmJYpqamtDT08t1yhVV0vdPedPR0YGenl6OuKGhoWiKl4+ZMGECSpUqhaVLlyIzM1OU27BhA7p27Zrrsi4qxfE5Ls7PgfJ/pHPnzqL/DxcXF1EDpII4d+4c7OzshOl/srKycp2HOyEhQe21/OzzsbS0RKdOnWBnZydcu5sbPT29PDv855e2tjYaNWqENm3aFGmjQUtLS7Rs2RKG2d/ZtWrV+uj/V0FoaGigdu3aaNGihWjKKcYYY0wVF81fkKurK0qXLo2NGzciIiICy5Ytw/Tp06XDREJCQlC9enVUrVoVWlpa0NLSQlBQEBo2bCgd+klatGghbJjk1nH6SyjI6yrIsrK2tkZsbCwUCoU0JWJkZITx48fj5cuX2LVrlyiXlpYGHx8fuLm5ieKqrKysACDXhmPKv23UqFGiuLm5OQYPHozY2FgMHz4cgwcPhr29vWiM0q5duzBnzhwcP34c7u7umD9/PrKysjBkyJAcXY3T0tJEvytpamrmmvucypUrh9GjR+Pp06eioj89PR0rVqzIc1mXZMX1OTAyMoKtrS2Qj/8PZBe/ly5dyrNZk0KhwOXLl0XNmXbv3o2HDx+Kxim9fPnyq2vKxhhjjDGWFy6av6By5cphypQpSE9PR79+/dCgQQPhSE5uwsLC0KJFC3Tp0gVdunRBu3btcO/ePUyYMEE69JOUK1cOHh4eAIAFCxYgLi5OyD179gy//PILwsPDVe7xeRTkdRVkWTVv3hwZGRmiTq25mTRpEvT09ODp6SnqpOrn54fOnTvDwsJCNF6Vo6MjypUrh2vXroniWVlZ2LhxI27cuAFkH63LyMhAUFCQMCY6Ohr3799Hu3btVO75f9LT0/H69WusW7cOw4cPx6pVq4SdA+7u7ujfvz/S0tLwww8/4Pbt28JR9dKlS6vdUZCRkYHSpUtLw1+Ei4sLtLW1hfcd2cvawcEBlpaWorEfk5KS8tFu3J9DcX0OAGDVqlXQ1dXF5s2bERYWJsTj4+OxZMkSBAQECDFvb2+0adMGv/zyixCTUigUSE1NRc2aNYHso+QXLlxAjx49pEMBADdv3oSdnZ00zBhjjDH21eKi+QubMmUKypUrh8ePH2PKlCnStFqqR3H27NmDmjVrolOnTqIxRcHV1RW7d++GlpYWzM3N0alTJ7Ro0QItW7aEpqYmKlSoIL3LZ1GQ15XfZVWxYkU0aNAAwcHB0lQOFStWxMiRIxEWFiZMsZKeno7ly5d/dG7tihUr4sCBA/D29saaNWuwc+dOzJs3D1OmTIGtrS22bdsGJycnrFmzBhMmTBCdynz+/HnUqlVLOH0/OjpayK1fvx5WVlaYOXMmdHV1sWHDBiEHAP7+/jAwMIBCoUCbNm2E5dK4cWNERUWJxsbHxyM1NRVNmjQRxb+UKlWqYPDgwbh16xZOnDgBuVyer2WttHHjRgwaNAjt2rVDfHw83r17hw4dOmDQoEHYtGmTdPhnUVyfAwBo164dLly4gE6dOqFx48Zo2bIlOnbsCBsbG1y7dk00T2+9evVQuXJlPH36VPQYqvT09PDrr7/i0KFD8PPzg6enJ5YvXy4dBqicPv7zzz9LU4wxxhhjXy/pRc7s8/vrr7/or7/+kobV2rJlC40ePZqIiOLi4qhRo0b0+PFj6bBc5bcRmFR6ejo9e/aMnj9/XqRNWD5VXq+roMtq5cqV1LVrV2lYLWX34xYtWhARka+vLzk5OUmH5SorK4uePn1Kd+/eVdt85sWLFzma6bi6upKzszNRdkO0bdu2ifKFERMTQ999951o6rMTJ05Qs2bNcizPgvjUKaekwsLCSCaTUYcOHWjt2rUFWtYlWXF/DjIzM+nVq1f0+PHjPLuhSzvqq/PkyZOPNinctGkTderUSRoWcCMwxhhjjH2N+EhzCTBkyBAMGTJEGlZr4MCBiI2NxZo1azB69Ghs2LAB1atXlw4rcjo6OqhWrRosLCyKtAnLp8rrdRV0WQ0fPhy3bt3CgwcPpKkcrKys0L9/f1y5cgUnT56Et7d3vo98IvuaVSsrK9ja2qptPmNubp6jmU7Pnj3x/PlzeHh44OHDhxg6dKgoXxgmJibYsmULRo8ejZMnT+LgwYPw8PDArl27cizPgqhUqVKRnolQu3Zt/PDDDzh79izmzp1boGVdkhX350BDQwOVK1dG9erVoaOjI00L8rqmWcna2jrPJoUAsHbtWjg7O0vDjDHGGGNfNRmpXpTJvhoxMTEwMTEpcGHj5uYGU1NTTJo0SYiNHDkSnTp1wuDBg0Vj/ysKsqy2bNmCS5cuYcuWLdJUDiEhIWjYsCGMjY3x448/YvPmzdIhRU4ul0OhUKgtsD5FQkICbt++DV1dXTRo0CDPAutLuXLlClq2bImRI0fm6/35LyvKz8GRI0eQmZmJXr16SVMFcvLkSSxatAjnzp2TpgQtWrTA+vXrUb9+fSFWrVo1XLp0iTtuM8YYY6zE4iPNX6kKFSrkqwhkBVtWo0aNQkpKCnbv3i1N5dCgQQN07twZiYmJn+3Ip46OTpEUSlKlS5dGmzZtYG9vXyILZmQXXC4uLnB3d5emvjlF9TmIiorCoUOHPrlgfvXqFaZOnYo//vhDmmKMMcYY++px0cyYxB9//IFdu3bh1q1b0lQOCxcuxO+//w5ra2tpihUDb2/vAnfMZrkzMTHB6tWrpeECycjIwP/+9z9s2rQJ1apVk6ZZCZCWloa///4bkydPxuLFi/Ock54xxhhjOXHRzJiEvr4+/vnnH+jq6kpTOdjb22PGjBnSMGNfBeX85Z8iJSUFq1evznXecPblKBQKbNy4ETVr1sStW7fg5uaGWbNmoUyZMtKhJcqzZ8+wa9cuaZgxxhj7Yrho/sbIZLIcpyqri33rdHR0UKdOHWmYMSZRpkyZfB9hVvddoy7GPl1SUhK6d++O2bNnY8eOHfDw8PhoI7eSID09HQMGDMDVq1elKcYYY+yL4aL5GzNkyBA4OjqKYuPHj1c7dzFjjBWlRYsWwcbGRhRbt27dV1HMfU0UCgW6dOmCU6dOYfv27WjdurV0SIlERBg9ejSuXbsmTTHGGGNfFBfN35g6derAwsJCFGvSpAkqVqwoijHGWFHr0KED9PT0RLEuXbpAU1NTFGOf5vfff0dQUBDGjx+PLl26SNPFLj09HXfv3kVWVpY0hQ8fPiA0NBQZGRmieFZWFpycnPDXX3+J4kXt3r17SEpKkoZF4uLicO/evRyvkTHG2Ler2IvmM2fOYPbs2Zg1axbu378vTX+1AgMD0bBhQzg7OyMzMxMA4OLigpEjRwq358+fS+/GismHDx/w999/Y+zYsdIUY4x9MxISErB06VIAgJOTE96+fYtr164hNjZWOhQA8Ntvv6FVq1Z4+/atNPVRwcHBsLGxgb6+PvT19fHDDz/g6tWrsLKygp2dHapVqyYUqPfv30fTpk3RvXt3bN++HWZmZli0aBGUs14uXboUf/75p/DYvr6+MDIywuTJk7Fq1SqULVtWeJ5NmzYBACZOnIjSpUvniH/48AGtW7cW4mXLlkVMTAxatWoFW1tbmJmZ4cKFC/jhhx+EMfr6+nj58iV69OgBExMT2NrawtraGjdu3BBekzp79uzB1KlTMXPmTLi6umLy5MkICgoS8lOnTsWMGTPg6uqKSZMm4fHjx6L7M8YY+0pQMTlx4gQ1bdqUevbsSWFhYdL0V8Xb25tSUlJEsbp16xIAAkDHjh0jIqJXr16RgYGBEL9+/broPqx4PH78mEaNGkUAyMTERJpmjLFvxqZNmwgAlS5dmkaMGEEtWrSgihUrEgDq1KkTRUREiMZbWFiI1mMFFRgYKKzzbG1tqUmTJlSrVi0hFhgYSE+fPiVDQ0MCQC9fviQiIldXVwJA3t7ewmP5+PgI95s8ebLKsxD169dPyK1fv16I9+jRQ208ISGBNDU1CQDp6OhQly5dqFWrVsLY6dOnk1wuJz09PSHWp08f2rlzJ02fPl2INWzYUHhMdU6dOkXLli0jMzMzAkAVK1ak27dvC/mffvqJANCPP/5IixYtEv5+xhhjX5diOdI8e/ZsdOnSBSNHjsShQ4dQu3Zt6ZCvhr+/P6ZOnQq5XC6KN2jQAMjuPlu3bl0AQOXKlVGrVi3ROFb8qlevjs2bN8PY2FiaYoyxb8q///4LAGjevDnWrFmDoKAgREdHY+7cuTh16hR69eolOm368OHD2Lt3LxwcHFQeJf9Ur0cPDQ3F7t27ceHCBXTo0AE9evRA27ZtMXv2bCQnJ8PMzAxVq1YFAGG9uXjx4nydBm1iYiINAQDMzMykIQCAkZER9PX1AQByuRw//fQTLly4gDFjxsDe3h6DBw+GtrY2ypYtK9znt99+w8CBA7FgwQKhq3xISAiSk5OFMVIdO3bEtGnTcPjwYZQqVQpv377Fzp07AQCvX7/GtWvXMH36dPj7+2PWrFnC388YY+zrUuRFs6urKxYvXgw3NzeMGzdOmv6qhISEYPjw4dIwAGDr1q0IDAxEeHg4qlSpIsQ1NIp8kbJ8MjQ0lIYYY+ybEhkZCWSfmq36nThv3jzY2toiJCQEBw8eFOK2trbo27dvkay7rK2tYW1tjQoVKuDMmTM4fPgwDA0NhecrXbo0oqOjER0dDYVCAQB4//497ty5I3mkote5c2doaGhgw4YN+Pfff1G/fn3pEFSoUAEAoKenh/LlywP4v+ZkH7sGGgAaNWqEPXv2QEtLC56enliyZAk6d+6Mjh07CqfLS8nlcmzduhULFizAsmXL8ObNG+kQxhhjJcSnryVVnD17Fl5eXrCzs8OCBQuk6RIpt4YfN27cQMeOHXNdWWppaaF79+6igpkxxhj7kpTzy6seQVXq27cvAOD27dvSVJFQd7ZPREQEUlNTgez5l52dneHs7Iz9+/ejZ8+e6NmzZ471b3FQ99ryUphp0Lp164a1a9cCAGbNmoWKFStiw4YN0mFAdjHet29fVK5cGe7u7vjpp5/w008/ceHMGGMlVJEWzXPmzAERYcSIEUhNTcXNmzcREREhHQYA2L9/Pxo2bIgLFy5IUx/19u1bNG7cWGjeYWlpCQC4ePEi7O3tc8TlcnmBGn6kpqaiS5cuosYp3333HYyMjPD27VuMGTNG9FgXL14UxhXG9u3bMXz4cAwaNAgtW7bEsmXLhOZiSuHh4Rg3bhwmTpyILl26wNHREUeOHBGNuXfvHhYsWIAGDRqAiLB27Vo0a9YMVlZWWLJkCQAgLS0Nbm5ucHBwgIODA2bOnInExEQgu3nKpEmT4ODgIKz4kX2K2S+//IJu3bqhdu3acHJywvv374V8Wloa9u3bhx49eiAkJATr1q1D1apVRU25Ll++jGHDhmH48OH4/vvv4eLiAn9/f1y+fBkPHz4UPdbvv/+Ovn37olatWujVq5faDbznz59jzJgxGDFiBIYNG4b169er7dTKGGPfEuWUXjExMdIUzM3Ngeyju5+LakGclZWFAwcO4NChQ6Jb8+bNRff5mo0YMQI1a9YEshul5Tbf9B9//AENDQ107twZAGBhYYEhQ4ZgwoQJ0qGMMcZKAulFzoX1+PFjoXHG0KFDqXXr1lSjRg0CQNbW1nTp0iXR+OHDhxMAmjlzpiieX6GhocLzmZqaCvFr166pjRem4UfZsmWFXFxcnChnY2Mj5M6dOyfEmzRpIsTz0whs0KBB5OLiQllZWUREtGzZMgJAU6ZMEcYcP36cTExMKDg4WIgpG6Yol198fDxt2LCBSpUqRZqamjRmzBhatmwZHT58mOzt7QkAHT16lIiI0tLSyMrKigDQhQsXhMckIjp//jy1atVK+D08PJxatWpFUVFRRET04MEDMjAwIEtLS0pKSqLU1FRauHAhGRsbEwCaNm0aubi4UJ06dcjc3JyIiE6fPk0aGhr0+PFjIiIKCgoiDQ0N0tPTI2dnZ9qwYQNR9nvUtm1bunr1KlH239SgQQPS09OjGzduCK/p2rVrVLVqVdFyX7JkCYEbgTHGvnF//PEHAaBFixZJU7RlyxYCQGvWrJGmCu369evCOq9JkybSNCkUCtLW1hbG3L9/XzpEkFcjsLFjxwo51YZfzs7OauNERKVKlRJySUlJopySqampMCYyMlJtXLn++5jMzEz6+eefqUWLFjRs2DBC9jrp0aNH0qH0448/0vTp00Wxs2fPkqGhIWVkZIjijDHGvrwiK5p37NhBAMjMzIxevHghxAMDA0lfX58MDAxEXTujo6Np27ZtFB8fL8QKIioqSlihqRbHkZGRauMkWQneunWLiIhSU1NJS0uLAJBMJhOtWPMqmlu3bi3kCls0b968mapXr04KhUKIxcTEUJkyZahbt25ERJSUlETm5uY0evRolXv+HwcHB5LJZKLnb968OQGgkJAQIXbq1CkCQBMnThRifn5+hOwOoqrmzJlD/v7+wu/ff/897dq1SzRm8ODBBIBWrVolxH7++WcCQJ6enkTZGw/K99be3p5q1KghjKXs1w6A3r17J8Tmz59P//vf/0TjlK+zT58+RNmP26BBA3J2dhaNUygUZGhoyEUzY+ybFhsbS/r6+tS0aVNpiubOnUsaGhoUGhoqxLKysigxMVE0riBUi+bGjRtL00RE1LlzZ2GM6g5hIqKDBw8K6yvVonncuHFERHT37l1KT08nFxcXIefl5SXc38nJSYivXbtWiJOkaM7tbyzKonns2LFkZ2dHsbGxlJGRIfzd1tbWFB0dLRprY2NDCxYsEMWUO/2VO5gZY4yVHEV2eray+Ujv3r2FU8AAoHv37nByckJKSgqWLVsmxCtWrIihQ4eidOnSQuxz+pSGH0XFw8MDXbp0gaamphAzMTFBeHi40DglICAAL1++RNOmTVXu+X9GjRoFIoKfn58QU3b8rF69uhBTvh+q10oNHToUJiYm2Lp1q9AZPCsrCydOnECvXr2A7OvPzpw5g40bN+LHH38UbsrT2C9fviw8npGREQCgQ4cOQHZDNOV7e+/evRynm7du3RoARKdmb9q0CUFBQaLnUs7bqXyuwMBAhISEoGvXrsL9AEBTU7PA16wxxth/jbGxMebPn49r167h8OHDQjwjIwO7d+/GmDFjhM7VANClSxdUqlQJYWFhQqwgVOd3VndKOLLXdcr13IoVK+Di4oIDBw7A1dUV69atg62tLZC9XaB04sQJbN68GXPmzIG2tjYaNmwo5Pz9/XHz5k34+fnhn3/+EeLBwcHC6eBJSUnCtdTI5bUpFArEx8cLvytPW8/IyEBCQoIQ//Dhg/CzVGJiIp4+fYrx48fjjz/+wN69e2FsbAwtLS3s3r0bNjY2ePr0KXr27Im3b98KnbjT0tKkDyUsI3U5xhhjX1aRFc1fsvnIpypMw49PlZSUhCdPnsDU1FSagrGxMbS1tYHsKTwACL+rqlevHpCP5arsikpEQkxXVxdOTk6IiYmBv78/AODkyZNwcHAQCm/lc69duxZ79+4VbqGhoVAoFNixY4fweErqOrA2atQIL1++RFRUlBDT0tKCTCZDjRo1AAAJCQmIiIjAhAkTRM917tw5KBQKvHr1CgBw8+ZNIPsac8YYYzlNnz4dmzZtgrOzM9zc3PDXX3/B0dERffv2xerVq0Vj379/j7S0tDynVcpNcHCwaJaMly9folu3brh+/bpoXMOGDXHq1CmhceaKFSvQp08fvH79Gvv27ROKRUdHRzRp0gQA8PTpU3h7e2PVqlWQyWQYOHAgevbsCQAICgpCs2bNEBERgQEDBkBfXx/169dHXFwc9uzZgw8fPsDBwUG0s7Z3797YtWuX8LtcLoejo6OosB46dCiioqIwYMAApKSkCPERI0aoLboBYPjw4ahXrx527NgBTU1N/PHHH0Luzp07CA8PR6lSpfDo0SNYWVnhp59+ArI7iSs7iCspC/4vdTCBMcZY7nJWOIVU0pqPlHQREREgIrx8+VKaElGu0JVFoypl4aiuoM6PcePGQUNDAxs3bgSyp9FycnIS8sqzB169egVNTU21t/yYOnUqkD0dGRFBoVDgwIEDmDNnjnDEX/lckZGROZ5D9bmePXsGAKKjA4wxxsScnJwQGRmJgQMHombNmvD398eiRYuEnaJKly9fRkREhNqzmT6mefPmeP78ObIv9QIR4ejRo0Lhq6p9+/Z4+fIlHj16hNOnT+PFixfYvn07DAwMhDEGBgYIDg7GzZs3cePGDdy9e1fYftDU1MShQ4dw7949XLhwAe/evcOCBQswZ84cxMXFCVNpDR48GMbGxrhy5Yrodd2+fRsDBw4UnktHRweBgYE5xpiammLfvn2ieHBwsLCukvL390dKSgri4+ORnJyMxYsXC7l27dpBLpcjMTERcXFxSEpKQmBgIACgcePGoh3JyD4brEKFCqKz9RhjjJUMRVY0165dGwDw4sULaUo4klurVi1p6ptlaWkJmUyG06dP59jbjOyVp1wuF05bu3v3rnSIcPqY8ohzQVlYWKBHjx44e/YsgoODkZKSgmrVqgl55Yo7ICBA5V7/382bN/N1GpmjoyN27dqF27dvY/DgwZg5cybc3NxE05JVrVoVAHDo0CGVe/5/sbGxePDgASpXrgwAuH//vnQIY4wxFVpaWrCzs4O9vT309PSkaSD7EiXl92pxU55d9P333wvf+VKamppo2LAhGjVqpHbHbJ06ddCmTRuUKVMGyF536OjoSIeVeCNGjMhxRP7q1asYMWKEKMYYY6xkKLKi2dLSEs2aNcP58+dzXP+jLKQ7duwoiqteM1RQ+vr6ws/JycnCqceqpyAX5RRE6enpyMzM/Oip0Pmlr6+Ppk2b4tmzZ1i0aJEol5CQAE9PT+jo6KBbt24wMjLCoUOHhKmhlJSF9MdWsqrLREo5vUX//v0xfPhwUa5BgwbQ0tLC+vXrc0yrFRkZic2bN+e6Iabq4cOHOHXqFG7duoWdO3fCy8sLP/74o2iMkZERatWqhdu3b8PT01OUS09Px9SpU1G1alXY29sDAPz8/HL8XQqFokjfc8YYY6w4tG/fHn379sXEiRMRFBSE9evX4+7du/j999+lQxljjJUARVY0A4C3tzeIKEcRuG3bNtja2sLZ2VmILV68GMbGxtiyZYtobH6VLl0a1tbWQHYjjk2bNuH69esYM2aMMCYmJkY4IlmYhh+qTUm8vLwwevRooZmW6qnmqvM5qzbbio6OFn5Wx9PTEzKZDPPmzUOvXr3g6+uLFStW4PvvvxeWlZmZGTw8PJCSkiJarpmZmVixYgVGjRolNN9C9g4EAKLrsZR/d3p6uhBT6ty5M2rUqIGMjAyhAZhSlSpV4OzsLFz75eLigr1798LT0xM//PADpk2bJoxVHnFWtyNk2LBhuHr1Kry8vPDXX3/hwIEDOHXqFMLDw0Xj5s2bBwCYNWsWhg0bhh07dsDPzw9t2rRBnz59YGhoiN69e6NJkyYICwvDsGHD8O7dO2RlZcHX1xfv379HXFwctm3b9tFlzxhjjH1Js2bNwsyZM5GWlobWrVsjICDgqzxqzhhj3wRpO+1PdeXKFbKysqKhQ4fStm3baNy4ceTo6EgxMTGiccrpI7y9vUXxgjh27BiVKVNGmBbC1taWTp48SQCoatWq1K5dOxo6dCjFx8dT9+7dhXEAyM7Ojt68eUN9+vQRxZs1a0Zv374lIqLt27eTjo4OASAtLS1avHgxERGNHj2aZDKZcB8rKyt6+PChMO2S8la9enV6+PCh5FWLHT58mMzMzIT71K9fn65duyYdRv7+/mRhYUH9+vWjpUuXUt++fWnp0qXC/M4pKSm0aNEi0tDQIAA0ZMgQCg0NpZs3b1KnTp0IAJUqVYpWrlwpfWjy9vamOXPmSMNERJSenk4TJkwQzbPZqVMnevDgARERJSYm0sKFC8nIyIgAUKNGjcjPz080jZanp6cwrZf01rNnT5LL5cJYPz8/0XtqY2NDR44cEfJERG/fvqXu3buTTCYjmUxGFStWpD179lDVqlWpbdu2tH79+hxThDHGGGOMMcZYYchIeo5rEQkPD0dERATq1aundiogIsLz589F19AWRlxcHO7evYuKFSvCxsYGCoUCr1+/hoWFhXRoobx9+xaPHz+GtbW12k7XRSU8PBza2tpCd9HcREVFISUlBVZWVtJUoaWkpCAzM1OYNkqd9PR0PH78GJUrV0a5cuWk6TytXLkSpqamsLOzQ3R0NJKSkpCcnIz379/j77//xtixY0UNWogIjx8/hoGBQZ7LIyEhAa9fv0aNGjWgqamJmJiYXJu1MMYYY4wxxlhhFFvRzBgArFmzBvv378fp06elKSB76pDw8HAMHjxYmmKMMcYYY4yxL65Ir2lmTGrDhg2IiIhAXFycNIW4uDjs3LlTmHuTMcYYY4wxxkoaPtLMipWPjw+mTJmCcuXKoUuXLqhSpQpSU1Px/PlzlCtXDgsXLuQ5KRljjDHGGGMlFhfNrNhdv34df//9N549ewZjY2PUqVMHHTt2RP369aVDGWOMMcYYY6xE4aKZMcYYY4wxxhjLBV/TzBhjjDHGGGOM5YKLZsYYY4wxxhhjLBdcNDPGGGOMMcYYY7ngopkxxhhjjDHGGMsFF82MMcYYY4wxxlguuGhmjDHGGGOMMcZywUUzY4wxxhhjjDGWi4/O03zu3DmcO3dOGmaMMcbYJ7K0tMSIESOk4RxCQkIQFxcnDTPGGGPsE1laWsLS0lIaFuGimTHGGPtC8ls0T548GSEhIdIwY4wxxj7RiBEjProu/mjRzBhjjDHGGGOMfav4mmbGGGOMMcYYYywXXDQzxhhjjDHGGGO54KKZMcYYY4wxxhjLBRfNjDHGGGOMMcZYLrhoZowxxhhjjDHGcsFFM2OMMcYYY4wxlov/B6U+AjXMsNiHAAAAAElFTkSuQmCC)"
      ],
      "metadata": {
        "id": "TpSu3xlRQGwA"
      }
    },
    {
      "cell_type": "markdown",
      "source": [
        "- Training Function\n"
      ],
      "metadata": {
        "id": "ZBn-sGwAbERe"
      }
    },
    {
      "cell_type": "code",
      "source": [
        "T_steps = 1000\n",
        "beta = torch.linspace(1e-4, 0.02, T_steps).to(device)\n",
        "alpha = 1. - beta\n",
        "alpha_bar = torch.cumprod(alpha, dim=0)\n",
        "alpha_bar_prev = torch.cat([torch.tensor([1.0], device=device), alpha_bar[:-1]])\n",
        "sigma2 = (1 - alpha_bar_prev) / (1 - alpha_bar) * beta\n",
        "\n",
        "def gather(coeff, t, x):\n",
        "    B, *dims = x.shape\n",
        "    out = torch.gather(coeff, index=t, dim=0)\n",
        "    return out.view([B] + [1]*len(dims))\n",
        "\n",
        "## DDPM Loss Function (Training)\n",
        "def ddpm_loss(model, x_0):\n",
        "    t = torch.randint(T_steps, size=(x_0.shape[0], ), device=x_0.device)\n",
        "\n",
        "    # sample x_t\n",
        "    mu = gather(alpha_bar, t, x_0)**0.5 * x_0\n",
        "    var = 1 - gather(alpha_bar, t, x_0)\n",
        "    eps = torch.randn_like(x_0) # Gaussian noise\n",
        "    x_t = mu + var**0.5 * eps\n",
        "\n",
        "    eps_theta = model(x_t, t)\n",
        "\n",
        "    loss = F.mse_loss(eps_theta, eps)\n",
        "    return loss"
      ],
      "metadata": {
        "id": "xKeIMoHsQJm4"
      },
      "execution_count": 14,
      "outputs": []
    },
    {
      "cell_type": "markdown",
      "source": [
        "- Inference (Sampling) Function"
      ],
      "metadata": {
        "id": "UM_vpJ_TbKUb"
      }
    },
    {
      "cell_type": "code",
      "source": [
        "# DDPM Sampling\n",
        "def sample(model, x_T):\n",
        "    x_t = x_T\n",
        "    for step in reversed(range(T_steps)):\n",
        "        t = torch.full((x_T.shape[0],), step, device=device)\n",
        "        eps_theta = model(x_t, t) # predict noise\n",
        "\n",
        "        coef = beta / (1 - alpha_bar)**0.5\n",
        "        mu = gather(1. / alpha**0.5, t, eps_theta) * (x_t - gather(coef, t, eps_theta)*eps_theta)\n",
        "        var = gather(sigma2, t, eps_theta)\n",
        "        z = torch.randn_like(x_t) if step else 0 # Gaussian noise (except last step)\n",
        "\n",
        "        x_t = mu + (var**0.5) * z # sample x_{t-1}\n",
        "    x_0 = x_t\n",
        "    return x_0"
      ],
      "metadata": {
        "id": "XBdsTDgNbC5e"
      },
      "execution_count": 15,
      "outputs": []
    },
    {
      "cell_type": "markdown",
      "source": [
        "- Training on CIFAR-10 images"
      ],
      "metadata": {
        "id": "JBJpGg6quJK3"
      }
    },
    {
      "cell_type": "code",
      "source": [
        "dataset = datasets.CIFAR10(\n",
        "    root=\"./data\", train=True, download=True,\n",
        "    transform=transforms.Compose([\n",
        "        transforms.ToTensor()\n",
        "    ])\n",
        ")\n",
        "\n",
        "dataloader = torch.utils.data.DataLoader(dataset, batch_size=32, shuffle=True, num_workers=4)\n",
        "\n",
        "epochs = 20\n",
        "model = UNet(n_channels=32).to(device)\n",
        "#model = UNet2DModel(in_channels=3, out_channels=3, block_out_channels=(32, 64, 128, 128)).to(device)\n",
        "optim = torch.optim.Adam(model.parameters(), lr=2e-4)\n",
        "scheduler = torch.optim.lr_scheduler.CosineAnnealingLR(optim, T_max=epochs)"
      ],
      "metadata": {
        "colab": {
          "base_uri": "https://localhost:8080/"
        },
        "id": "DAHhJbNsuR0W",
        "outputId": "6116fad7-e5ca-4c01-ba2a-791b191cf652"
      },
      "execution_count": null,
      "outputs": [
        {
          "output_type": "stream",
          "name": "stderr",
          "text": [
            "100%|██████████| 170M/170M [00:18<00:00, 9.19MB/s]\n",
            "/usr/local/lib/python3.11/dist-packages/torch/utils/data/dataloader.py:624: UserWarning: This DataLoader will create 4 worker processes in total. Our suggested max number of worker in current system is 2, which is smaller than what this DataLoader is going to create. Please be aware that excessive worker creation might get DataLoader running slow or even freeze, lower the worker number to avoid potential slowness/freeze if necessary.\n",
            "  warnings.warn(\n"
          ]
        }
      ]
    },
    {
      "cell_type": "code",
      "source": [
        "for epoch in range(epochs):\n",
        "    model.train()\n",
        "    for i, (x, _) in enumerate(tqdm(dataloader)):\n",
        "        optim.zero_grad()\n",
        "        img = x.to(device)\n",
        "        loss = ddpm_loss(model, img)\n",
        "        loss.backward()\n",
        "        optim.step()\n",
        "        print(\"\\r[Epoch: {} , Loss: {:.3f}]\".format(i+1, loss.item()), end='')\n",
        "    scheduler.step()\n",
        "\n",
        "    # sampling images every epoch\n",
        "    print(\"\\n> Epoch {} Samples\".format(epoch))\n",
        "    model.eval()\n",
        "    with torch.no_grad():\n",
        "        x_T = torch.randn(4, 3, 32, 32).to(device)\n",
        "        x_0 = sample(model, x_T)\n",
        "        x_0 = x_0.permute(0, 2, 3, 1).clamp(0, 1).detach().cpu().numpy() * 255\n",
        "        for i in range(4):\n",
        "            cv2_imshow(x_0[i])"
      ],
      "metadata": {
        "colab": {
          "base_uri": "https://localhost:8080/",
          "height": 1000,
          "referenced_widgets": [
            "094b68c1cfd347d2b35476ddce98f339",
            "d695a7c8f8ce4a46801016baca0b8275",
            "9358e2bbc9fd4895a0ac1a97447e8b19",
            "a4fe1f2df97f400c8737d2d141103ceb",
            "d6307e0a3501489ba3605adc6e4b3c7a",
            "48a65568c9f54f17a92cd767201954cc",
            "30868bb06f264c878cb7001f1842a19d",
            "b342a5810343487491a87ffc14c38a8c",
            "5c87f2f9d1a546228e611ec3724b5587",
            "b30ad7bd71194692b7316d467bfe7dfe",
            "3a256b4c40be4a2984b694dcb97b37e3",
            "c53b8bb805d1453ba47b89579283dbd3",
            "4d67ba1287f343799695e6fc7377ca0d",
            "65cc766f92ba41e1a28af4224754eaf5",
            "3428191472d34dc89e86502fa410f768",
            "31a7ca7c89934d80aa45c496b175709d",
            "8d124f879ca64062bdb40f09674681a3",
            "fbb9093ce82d46a6b07ecb838f1f8713",
            "fd44f1344ba74e739749b66ba9322d98",
            "bd198c165c214a0c8036f17efcc5f5e5",
            "ef6ec6021a4342f29807ea187501459c",
            "f7e060b7d2e44330a005ba2fa09652c7",
            "9223568acab04018a231952676020d80",
            "59a1bb27d7464eb6b8b909b34aee5902",
            "9fd135ed6f53499fa6f23af50071cce4",
            "1b19341c2de6441fbfd38f1fde1d7385",
            "a8b84dda7f794113b9d899193d6eeb7c",
            "94b2a957f48544f49cfdb5b17a6180a7",
            "6f7ccb96316846b4a0308f6945d76bd6",
            "b5d6653549c9492da7bc64cbd99d6f88",
            "a12d7e6fd9f54888b5da7bdb61e16ef5",
            "08d034c75ced424390d39f96dac13b66",
            "9bfb3023965546b984257bb860198b77",
            "b20f3e5a30ca489ea22cb754cf4ba9f8",
            "f38fe61863bd433384f224a9701122b6",
            "3c783464d45f4c33b2938fc9151b02d3",
            "864d0922996a45648c5afff41c7003a1",
            "f4e276dafe6240d79e0c6b6572e92b3a",
            "2a2710dfc0b2492a8e1d452cdcbf6dd0",
            "399b53e607f1434f8536dc0450bb75c7",
            "6eb1b90823a74f338b7171dbbf55755f",
            "0ffd1eae54dc4713b43e604cd8a1a8f2",
            "d85676aaf97946b7bc732e22beb19e7a",
            "43f0efb7027d4b438b0c7e5bb2078f32",
            "d55bfcbdf4e34b9c875b3b5f9946a2ea",
            "8b0efd5eeecc4797b1ea0f6617d719fe",
            "86bbd30f715f49b68e50b2cb2f22a140",
            "4bd3ccd45d7e46688b94f04f7d3a7563",
            "7077604b11cd42a3adf6cfff286ffc8a",
            "04cf573b37224238b686cfd9d6b5396e",
            "f1fae5d1a6184b49a01edad58eb36eac",
            "db02896b289144a688dd0dfcb113dd65",
            "56bc5b039fe44f138c5874dba52f9bd0",
            "3edabd44e0124a8db35ccbd8af8b020a",
            "bfd60434aa20409fa302431251b8e8bb",
            "e79d64c0d7cc465ebfc1d7dfc3b1dfa1",
            "ad5cdcc0e52a49beaadf6b7c549e011f",
            "c467dcaf24584495bf730b22ffa933bd",
            "e0b81d571ed74249b0f99c5da9e7480d",
            "7a276ae90ce6440cb44ceb0f7eed7d13",
            "976cff0efc0a48618d01e06d35c69e10",
            "51a364e68fd849a1b4b24e2ba2d05fb8",
            "105ea31f7b754aa8a9757d524dc6439f",
            "a2ba460164514b068fa4e402c1773e20",
            "8d59fb72089f4c3ea047a9d43908b960",
            "816b24f4ecaa44019ef707dc42266a35",
            "fa435aab900940689341a8f75f8c1974",
            "376c3c57dc7143ef98c1bc9b4ebb6354",
            "8393787b8b6544c1b494f682e71f3f2a",
            "5c954d4c36ae4ba0a47284ab2175eb70",
            "137555f9a5b943c7b0828a1fc756b556",
            "debc3c5ad57d4d52a4a3023c86460e88",
            "fad42c544acd46afa4e1fbc4797eca77",
            "2fe84fef02f443c085f01b255660c311",
            "f51ea85f736543d486c06771208399ba",
            "f01b41511c6e42328ad8dbf7130e24fc",
            "f486b6e39f3146f88b8709550052b7e4",
            "1efa8a090c3142d5b6ded85ae3476f59",
            "dd696f2c66ba431388979eb55f989926",
            "1e580debba984eddbd6d13b31d8d2224",
            "cbdba8fcea894202a74642d272a001f8",
            "a825f9cbadaa45bd880f32ac24419a5d",
            "f76ae5307475487586bfd89c05ae234c",
            "6c2c267821c543949ca025d6eb57eec5",
            "d5a4eff2db834eaeb5fe3a85ca1a2290",
            "f0497e7a51154fcc8daaeb5a8568b4e8",
            "eb5cb0039f86428da83d79c042b8b74b",
            "bd3f275ce3754fd98f9f4828c212e521",
            "8655b330dce845479a4b5abce6d304d3",
            "6ea44c201c3f4c19a6afe63c7d94b144",
            "6b02091a1c134fdeb85958da14a300d0",
            "b1f21d59e4be49c3becba563e12ac8d6",
            "8b43169b4e304669ba3f2635b9464e3a",
            "9b1e047361674024bc62bb7a5ef31791",
            "2b303ceb95a24a74ac8505206816af0e",
            "d14893b3877d4beb84e0ddc64b7b9c42",
            "b06d18ef0fdc4928b4d9bd25b0528d88",
            "2fd1ec9f1ae349718a60f1de22ba37d7",
            "8ce5ab5c3bc24c86983613ce499b8a02",
            "9817fb703047459fa66bd593c05ac0fa",
            "a977efaa61df4f1fb9769117ce0f68ac",
            "17f0cfa4e03b42679fd26eaa4fad15c4",
            "f32f274c63044d0eb491dd49c6ca7f40",
            "5c3f858cff4d4d5eb171ecefdfd73d45",
            "d4d64e23e991441b84b1b19c551fc3ec",
            "e427af3f41f04569bd832aaea04ee0a1",
            "90d557e5e36e4b8196123967a409f061",
            "50bc6f2ac4b246cb9fc73f604af1d81c",
            "bd670c119ebc4e13b878cc7a5e8a86a7",
            "01c4f0c22fc54d3a9155f302e44e660b",
            "38a10b1b807b47d2a0a664946056cbb6",
            "fce41ef7efaf4f80ad1875e46f4f8de5",
            "53574e581b3040a282cea0433890a105",
            "762b1e42c6374df49b058eb4649a0b56",
            "8e5c2ce464324aed9050f49fbe54bcf9",
            "38bb5fd9e51d429d95c1e8aa93388b80",
            "e3395fcf7e4145dd87abf1f969b9dd60",
            "c7a5e348f6fe422aabddedf5327028a5",
            "e88a8d0e6776491987237de1602808a1",
            "21e26c6161db49749daad099414f8c33",
            "ee546663814e4b5aa62a5d7f6ae48c1f",
            "99b829040f144917818fb3f6171b8b7d",
            "0e843d811f104b1baafc6099cc8194d4",
            "bce1324d918540aa83c7eac68f598da2",
            "0c8e1b2368a74ad883644c3b20d6c669",
            "6d455c4160284b938412c41ce86fa210",
            "7c0b4eb451c9499f85fe2d80dcc8f4d4",
            "b7339006384144bcb6df15f777f0499a",
            "7044139ce65b4a3297af2592f40a66e5",
            "3b991e7c21c6446b87374d5122ddb518",
            "f89290beae74487d8e9f33b0ee6c89af",
            "5d53ca6c62ac41379956f0f4d42bc0c8",
            "d91741cfbfbe408eaa21d89e94cb1d50",
            "8606697a0388488db0e5248bb9501bf4",
            "a17de5e8dc764a4bba4ffbda35dee78c",
            "c3cb7471a5524e1abf432f065744cfa9",
            "ce9b33307b1e4342b32f6a4e04eb0ea2",
            "03014168abc84637981bcadb23b5d530",
            "f356f0bb1b434e55b56844bad14ab3df",
            "9a08050f519744a1bc0c54cb641a321f",
            "9c12779c6ec8459b96ae88ec23dfc9ba",
            "e572f29d869046e691f917db46daaaa7",
            "3094f95abf0d4e429bb46feef0905051",
            "fcf837abae0c44cda4804b903bdc7adb",
            "7283bd5aceda409b89a3d790dcdf410a",
            "09c33bf2f6b54f9da07b1d5928dadedf",
            "17cb67a886cb481cbb6d6f1fc7f7efd4",
            "58efc002392347b78b8d6b9ca62d8e5e",
            "973cead5bc43431e97b088ec58873f00",
            "6cb911aa48d948228375ff2e2dfc9620",
            "f115308436bc4695b043616f67a70145",
            "18d75f872dec4b72b7ca62278c3931ff",
            "974b91c0e5094e08ab0d445e1b699d70",
            "0714cc6e8af4411d91622e8ba89bf5ba",
            "6a3e7aa87f3a4c3c87fad1a611bc73dc",
            "42d5ecbf4fce459a89b3037e457b5393",
            "d8857c7af61e4c2aba4a992d152aebc3",
            "52707590002b4e0cb2334e70e422bc54",
            "e948dce61e0648e1b8e027392c8b3b7d",
            "0c9aec50d32c40208f0375cebe6c0768",
            "cb4c3379087f481f8c3b9484d9d70465",
            "9172d1f95af84f229dd617ca33a4b1cf",
            "6a19623c883642029a8b8f2b38a1a31e",
            "bfff83f96a37404aa10d61aa34b6ea45",
            "7e9ac916250d4ca598cade9ee3bba95c",
            "363d4070034e450ca44031aa9de74650",
            "0244fbfb719c4759bc00d64aa8bc4ff5",
            "41a84a2e98354efd8a2ce94ae1679763",
            "101fefacf8b14037856d4fab9ee87bfb",
            "f883c8d83ef0468f993397d56bff9ba6",
            "088e01c180e147a6a490264458e07451",
            "8e549abbf6f9410993c587a5a93a8044",
            "b1bc4b6903f142489ca628a4eb205313",
            "94af2e4996ba482388893952d1c986d1",
            "d233835422b647e8916b254bc5bc6b31",
            "030c9823c1ad44b48669666e9adcc87c",
            "9b88f47741264f999058875cd3e954aa",
            "93857c234c2d4baa8e2337c94e4d23d9",
            "1b214ca0f18e4c1c84ac8277343bfc4b",
            "6892397fa60341379dcfc2a3ec5f0d29",
            "5e8a5614ac204d0cb9a8da01c88a16ad",
            "fce9b6f4016a40748e84f08264bf23a8",
            "d860232d00ed419e9cea66d8ef9bba0c",
            "645c747a7ee04e8db517fc00804715f8",
            "23c353aa8d0c40169e814ab7d27f9118",
            "7897b8bf8f344dcba8994c0fae8cec72",
            "97d6ceb5d25b489cba4168e4387516ad",
            "60fd9d40b5814145b5f4981ee31138e1",
            "b09a427515f445b7915406d4e5a75694",
            "055e317ae07644b681a3771868cb6f9c",
            "303b9bf01d9e43e2b70fdc80d05a4ca1",
            "97252f5b268c42f89a9fd0400c0e8631",
            "29e7ebab170845bdbba34dedf2059728",
            "d02b479be7524b57903673b522bff363",
            "a443b0019f04421394f255edf8fb2c96",
            "f0a4d0121c134b1aa9e0cf347d2f840d",
            "b50aec04683e4cceb27e655f91d26520",
            "e4ce2edafa6241fc9e53a0bd3405e07e",
            "96afc6d20eee40b5bd2f9a097a4e94b7",
            "0feeda99f34b40539939a1b336d0f305",
            "646a1bc82a924513b3cea1ffd7ae1f6a",
            "c717f0c1b83a410da4ecd4732c88d1bb",
            "14bb27520bc5476cb58710f645d00046",
            "35412fdeca5a4412bcd0f319d8dd3d89",
            "aa35ba327e5a43cfa441089a25345aac",
            "fe4281706c0249c7aa07be0e970ebde1",
            "01e2eb9e0f344b4ab3437c35e1be1dea",
            "1ab52055eae14ec8ac0da17cac1a7042",
            "ac5fedfec321448086c329bebbb96562",
            "8c53ed06d8544cc392a4cd6e045bc32e",
            "429c31075c714e63b7ceba1f0f6282b0",
            "ab933b2b693242329a05fa348c8e6c11",
            "60bd9799d91d4558b776f93f307c7384",
            "60b5ebe18e214c16a21ca1802b0bf54b",
            "af4c5cc81751400681731a7dfbf9ee10",
            "f259742e19fa4874bdb31b4fd4785be3",
            "e15921db1b6c49c4b4d155f48f99f634",
            "f709745a8b604784bf4f7f2fc42e116a",
            "44fde712ca15414ea36291039aba1b08",
            "697d25f58189443ba6621185829d212b"
          ]
        },
        "id": "FqRlHy4M36Qt",
        "outputId": "b9ea86cd-e490-4c5e-d711-e53707f5da50"
      },
      "execution_count": null,
      "outputs": [
        {
          "output_type": "display_data",
          "data": {
            "text/plain": [
              "  0%|          | 0/1563 [00:00<?, ?it/s]"
            ],
            "application/vnd.jupyter.widget-view+json": {
              "version_major": 2,
              "version_minor": 0,
              "model_id": "094b68c1cfd347d2b35476ddce98f339"
            }
          },
          "metadata": {}
        },
        {
          "output_type": "stream",
          "name": "stdout",
          "text": [
            "[Epoch: 1563 , Loss: 0.081]\n",
            "> Epoch 0 Samples\n"
          ]
        },
        {
          "output_type": "display_data",
          "data": {
            "text/plain": [
              "<PIL.Image.Image image mode=RGB size=32x32>"
            ],
            "image/png": "[encoded data removed]",
            "image/jpeg": "[encoded data removed]"
          },
          "metadata": {}
        },
        {
          "output_type": "display_data",
          "data": {
            "text/plain": [
              "<PIL.Image.Image image mode=RGB size=32x32>"
            ],
            "image/png": "[encoded data removed]",
            "image/jpeg": "[encoded data removed]"
          },
          "metadata": {}
        },
        {
          "output_type": "display_data",
          "data": {
            "text/plain": [
              "<PIL.Image.Image image mode=RGB size=32x32>"
            ],
            "image/png": "[encoded data removed]",
            "image/jpeg": "[encoded data removed]"
          },
          "metadata": {}
        },
        {
          "output_type": "display_data",
          "data": {
            "text/plain": [
              "<PIL.Image.Image image mode=RGB size=32x32>"
            ],
            "image/png": "[encoded data removed]",
            "image/jpeg": "[encoded data removed]"
          },
          "metadata": {}
        },
        {
          "output_type": "display_data",
          "data": {
            "text/plain": [
              "  0%|          | 0/1563 [00:00<?, ?it/s]"
            ],
            "application/vnd.jupyter.widget-view+json": {
              "version_major": 2,
              "version_minor": 0,
              "model_id": "c53b8bb805d1453ba47b89579283dbd3"
            }
          },
          "metadata": {}
        },
        {
          "output_type": "stream",
          "name": "stdout",
          "text": [
            "[Epoch: 1563 , Loss: 0.030]\n",
            "> Epoch 1 Samples\n"
          ]
        },
        {
          "output_type": "display_data",
          "data": {
            "text/plain": [
              "<PIL.Image.Image image mode=RGB size=32x32>"
            ],
            "image/png": "[encoded data removed]",
            "image/jpeg": "[encoded data removed]"
          },
          "metadata": {}
        },
        {
          "output_type": "display_data",
          "data": {
            "text/plain": [
              "<PIL.Image.Image image mode=RGB size=32x32>"
            ],
            "image/png": "[encoded data removed]",
            "image/jpeg": "[encoded data removed]"
          },
          "metadata": {}
        },
        {
          "output_type": "display_data",
          "data": {
            "text/plain": [
              "<PIL.Image.Image image mode=RGB size=32x32>"
            ],
            "image/png": "[encoded data removed]",
            "image/jpeg": "[encoded data removed]"
          },
          "metadata": {}
        },
        {
          "output_type": "display_data",
          "data": {
            "text/plain": [
              "<PIL.Image.Image image mode=RGB size=32x32>"
            ],
            "image/png": "[encoded data removed]",
            "image/jpeg": "[encoded data removed]"
          },
          "metadata": {}
        },
        {
          "output_type": "display_data",
          "data": {
            "text/plain": [
              "  0%|          | 0/1563 [00:00<?, ?it/s]"
            ],
            "application/vnd.jupyter.widget-view+json": {
              "version_major": 2,
              "version_minor": 0,
              "model_id": "9223568acab04018a231952676020d80"
            }
          },
          "metadata": {}
        },
        {
          "output_type": "stream",
          "name": "stdout",
          "text": [
            "[Epoch: 1563 , Loss: 0.034]\n",
            "> Epoch 2 Samples\n"
          ]
        },
        {
          "output_type": "display_data",
          "data": {
            "text/plain": [
              "<PIL.Image.Image image mode=RGB size=32x32>"
            ],
            "image/png": "[encoded data removed]",
            "image/jpeg": "[encoded data removed]"
          },
          "metadata": {}
        },
        {
          "output_type": "display_data",
          "data": {
            "text/plain": [
              "<PIL.Image.Image image mode=RGB size=32x32>"
            ],
            "image/png": "[encoded data removed]",
            "image/jpeg": "[encoded data removed]"
          },
          "metadata": {}
        },
        {
          "output_type": "display_data",
          "data": {
            "text/plain": [
              "<PIL.Image.Image image mode=RGB size=32x32>"
            ],
            "image/png": "[encoded data removed]",
            "image/jpeg": "[encoded data removed]"
          },
          "metadata": {}
        },
        {
          "output_type": "display_data",
          "data": {
            "text/plain": [
              "<PIL.Image.Image image mode=RGB size=32x32>"
            ],
            "image/png": "[encoded data removed]",
            "image/jpeg": "[encoded data removed]"
          },
          "metadata": {}
        },
        {
          "output_type": "display_data",
          "data": {
            "text/plain": [
              "  0%|          | 0/1563 [00:00<?, ?it/s]"
            ],
            "application/vnd.jupyter.widget-view+json": {
              "version_major": 2,
              "version_minor": 0,
              "model_id": "b20f3e5a30ca489ea22cb754cf4ba9f8"
            }
          },
          "metadata": {}
        },
        {
          "output_type": "stream",
          "name": "stdout",
          "text": [
            "[Epoch: 1563 , Loss: 0.012]\n",
            "> Epoch 3 Samples\n"
          ]
        },
        {
          "output_type": "display_data",
          "data": {
            "text/plain": [
              "<PIL.Image.Image image mode=RGB size=32x32>"
            ],
            "image/png": "[encoded data removed]",
            "image/jpeg": "[encoded data removed]"
          },
          "metadata": {}
        },
        {
          "output_type": "display_data",
          "data": {
            "text/plain": [
              "<PIL.Image.Image image mode=RGB size=32x32>"
            ],
            "image/png": "[encoded data removed]",
            "image/jpeg": "[encoded data removed]"
          },
          "metadata": {}
        },
        {
          "output_type": "display_data",
          "data": {
            "text/plain": [
              "<PIL.Image.Image image mode=RGB size=32x32>"
            ],
            "image/png": "[encoded data removed]",
            "image/jpeg": "[encoded data removed]"
          },
          "metadata": {}
        },
        {
          "output_type": "display_data",
          "data": {
            "text/plain": [
              "<PIL.Image.Image image mode=RGB size=32x32>"
            ],
            "image/png": "[encoded data removed]",
            "image/jpeg": "[encoded data removed]"
          },
          "metadata": {}
        },
        {
          "output_type": "display_data",
          "data": {
            "text/plain": [
              "  0%|          | 0/1563 [00:00<?, ?it/s]"
            ],
            "application/vnd.jupyter.widget-view+json": {
              "version_major": 2,
              "version_minor": 0,
              "model_id": "d55bfcbdf4e34b9c875b3b5f9946a2ea"
            }
          },
          "metadata": {}
        },
        {
          "output_type": "stream",
          "name": "stdout",
          "text": [
            "[Epoch: 1563 , Loss: 0.063]\n",
            "> Epoch 4 Samples\n"
          ]
        },
        {
          "output_type": "display_data",
          "data": {
            "text/plain": [
              "<PIL.Image.Image image mode=RGB size=32x32>"
            ],
            "image/png": "[encoded data removed]",
            "image/jpeg": "[encoded data removed]"
          },
          "metadata": {}
        },
        {
          "output_type": "display_data",
          "data": {
            "text/plain": [
              "<PIL.Image.Image image mode=RGB size=32x32>"
            ],
            "image/png": "[encoded data removed]",
            "image/jpeg": "[encoded data removed]"
          },
          "metadata": {}
        },
        {
          "output_type": "display_data",
          "data": {
            "text/plain": [
              "<PIL.Image.Image image mode=RGB size=32x32>"
            ],
            "image/png": "[encoded data removed]",
            "image/jpeg": "[encoded data removed]"
          },
          "metadata": {}
        },
        {
          "output_type": "display_data",
          "data": {
            "text/plain": [
              "<PIL.Image.Image image mode=RGB size=32x32>"
            ],
            "image/png": "[encoded data removed]",
            "image/jpeg": "[encoded data removed]"
          },
          "metadata": {}
        },
        {
          "output_type": "display_data",
          "data": {
            "text/plain": [
              "  0%|          | 0/1563 [00:00<?, ?it/s]"
            ],
            "application/vnd.jupyter.widget-view+json": {
              "version_major": 2,
              "version_minor": 0,
              "model_id": "e79d64c0d7cc465ebfc1d7dfc3b1dfa1"
            }
          },
          "metadata": {}
        },
        {
          "output_type": "stream",
          "name": "stdout",
          "text": [
            "[Epoch: 1563 , Loss: 0.016]\n",
            "> Epoch 5 Samples\n"
          ]
        },
        {
          "output_type": "display_data",
          "data": {
            "text/plain": [
              "<PIL.Image.Image image mode=RGB size=32x32>"
            ],
            "image/png": "[encoded data removed]",
            "image/jpeg": "[encoded data removed]"
          },
          "metadata": {}
        },
        {
          "output_type": "display_data",
          "data": {
            "text/plain": [
              "<PIL.Image.Image image mode=RGB size=32x32>"
            ],
            "image/png": "[encoded data removed]",
            "image/jpeg": "[encoded data removed]"
          },
          "metadata": {}
        },
        {
          "output_type": "display_data",
          "data": {
            "text/plain": [
              "<PIL.Image.Image image mode=RGB size=32x32>"
            ],
            "image/png": "[encoded data removed]",
            "image/jpeg": "[encoded data removed]"
          },
          "metadata": {}
        },
        {
          "output_type": "display_data",
          "data": {
            "text/plain": [
              "<PIL.Image.Image image mode=RGB size=32x32>"
            ],
            "image/png": "[encoded data removed]",
            "image/jpeg": "[encoded data removed]"
          },
          "metadata": {}
        },
        {
          "output_type": "display_data",
          "data": {
            "text/plain": [
              "  0%|          | 0/1563 [00:00<?, ?it/s]"
            ],
            "application/vnd.jupyter.widget-view+json": {
              "version_major": 2,
              "version_minor": 0,
              "model_id": "fa435aab900940689341a8f75f8c1974"
            }
          },
          "metadata": {}
        },
        {
          "output_type": "stream",
          "name": "stdout",
          "text": [
            "[Epoch: 1563 , Loss: 0.051]\n",
            "> Epoch 6 Samples\n"
          ]
        },
        {
          "output_type": "display_data",
          "data": {
            "text/plain": [
              "<PIL.Image.Image image mode=RGB size=32x32>"
            ],
            "image/png": "[encoded data removed]",
            "image/jpeg": "[encoded data removed]"
          },
          "metadata": {}
        },
        {
          "output_type": "display_data",
          "data": {
            "text/plain": [
              "<PIL.Image.Image image mode=RGB size=32x32>"
            ],
            "image/png": "[encoded data removed]",
            "image/jpeg": "[encoded data removed]"
          },
          "metadata": {}
        },
        {
          "output_type": "display_data",
          "data": {
            "text/plain": [
              "<PIL.Image.Image image mode=RGB size=32x32>"
            ],
            "image/png": "[encoded data removed]",
            "image/jpeg": "[encoded data removed]"
          },
          "metadata": {}
        },
        {
          "output_type": "display_data",
          "data": {
            "text/plain": [
              "<PIL.Image.Image image mode=RGB size=32x32>"
            ],
            "image/png": "[encoded data removed]",
            "image/jpeg": "[encoded data removed]"
          },
          "metadata": {}
        },
        {
          "output_type": "display_data",
          "data": {
            "text/plain": [
              "  0%|          | 0/1563 [00:00<?, ?it/s]"
            ],
            "application/vnd.jupyter.widget-view+json": {
              "version_major": 2,
              "version_minor": 0,
              "model_id": "1efa8a090c3142d5b6ded85ae3476f59"
            }
          },
          "metadata": {}
        },
        {
          "output_type": "stream",
          "name": "stdout",
          "text": [
            "[Epoch: 1563 , Loss: 0.012]\n",
            "> Epoch 7 Samples\n"
          ]
        },
        {
          "output_type": "display_data",
          "data": {
            "text/plain": [
              "<PIL.Image.Image image mode=RGB size=32x32>"
            ],
            "image/png": "[encoded data removed]",
            "image/jpeg": "[encoded data removed]"
          },
          "metadata": {}
        },
        {
          "output_type": "display_data",
          "data": {
            "text/plain": [
              "<PIL.Image.Image image mode=RGB size=32x32>"
            ],
            "image/png": "[encoded data removed]",
            "image/jpeg": "[encoded data removed]"
          },
          "metadata": {}
        },
        {
          "output_type": "display_data",
          "data": {
            "text/plain": [
              "<PIL.Image.Image image mode=RGB size=32x32>"
            ],
            "image/png": "[encoded data removed]",
            "image/jpeg": "[encoded data removed]"
          },
          "metadata": {}
        },
        {
          "output_type": "display_data",
          "data": {
            "text/plain": [
              "<PIL.Image.Image image mode=RGB size=32x32>"
            ],
            "image/png": "[encoded data removed]",
            "image/jpeg": "[encoded data removed]"
          },
          "metadata": {}
        },
        {
          "output_type": "display_data",
          "data": {
            "text/plain": [
              "  0%|          | 0/1563 [00:00<?, ?it/s]"
            ],
            "application/vnd.jupyter.widget-view+json": {
              "version_major": 2,
              "version_minor": 0,
              "model_id": "8655b330dce845479a4b5abce6d304d3"
            }
          },
          "metadata": {}
        },
        {
          "output_type": "stream",
          "name": "stdout",
          "text": [
            "[Epoch: 1563 , Loss: 0.016]\n",
            "> Epoch 8 Samples\n"
          ]
        },
        {
          "output_type": "display_data",
          "data": {
            "text/plain": [
              "<PIL.Image.Image image mode=RGB size=32x32>"
            ],
            "image/png": "[encoded data removed]",
            "image/jpeg": "[encoded data removed]"
          },
          "metadata": {}
        },
        {
          "output_type": "display_data",
          "data": {
            "text/plain": [
              "<PIL.Image.Image image mode=RGB size=32x32>"
            ],
            "image/png": "[encoded data removed]",
            "image/jpeg": "[encoded data removed]"
          },
          "metadata": {}
        },
        {
          "output_type": "display_data",
          "data": {
            "text/plain": [
              "<PIL.Image.Image image mode=RGB size=32x32>"
            ],
            "image/png": "[encoded data removed]",
            "image/jpeg": "[encoded data removed]"
          },
          "metadata": {}
        },
        {
          "output_type": "display_data",
          "data": {
            "text/plain": [
              "<PIL.Image.Image image mode=RGB size=32x32>"
            ],
            "image/png": "[encoded data removed]",
            "image/jpeg": "[encoded data removed]"
          },
          "metadata": {}
        },
        {
          "output_type": "display_data",
          "data": {
            "text/plain": [
              "  0%|          | 0/1563 [00:00<?, ?it/s]"
            ],
            "application/vnd.jupyter.widget-view+json": {
              "version_major": 2,
              "version_minor": 0,
              "model_id": "9817fb703047459fa66bd593c05ac0fa"
            }
          },
          "metadata": {}
        },
        {
          "output_type": "stream",
          "name": "stdout",
          "text": [
            "[Epoch: 1563 , Loss: 0.012]\n",
            "> Epoch 9 Samples\n"
          ]
        },
        {
          "output_type": "display_data",
          "data": {
            "text/plain": [
              "<PIL.Image.Image image mode=RGB size=32x32>"
            ],
            "image/png": "[encoded data removed]",
            "image/jpeg": "[encoded data removed]"
          },
          "metadata": {}
        },
        {
          "output_type": "display_data",
          "data": {
            "text/plain": [
              "<PIL.Image.Image image mode=RGB size=32x32>"
            ],
            "image/png": "[encoded data removed]",
            "image/jpeg": "[encoded data removed]"
          },
          "metadata": {}
        },
        {
          "output_type": "display_data",
          "data": {
            "text/plain": [
              "<PIL.Image.Image image mode=RGB size=32x32>"
            ],
            "image/png": "[encoded data removed]",
            "image/jpeg": "[encoded data removed]"
          },
          "metadata": {}
        },
        {
          "output_type": "display_data",
          "data": {
            "text/plain": [
              "<PIL.Image.Image image mode=RGB size=32x32>"
            ],
            "image/png": "[encoded data removed]",
            "image/jpeg": "[encoded data removed]"
          },
          "metadata": {}
        },
        {
          "output_type": "display_data",
          "data": {
            "text/plain": [
              "  0%|          | 0/1563 [00:00<?, ?it/s]"
            ],
            "application/vnd.jupyter.widget-view+json": {
              "version_major": 2,
              "version_minor": 0,
              "model_id": "38a10b1b807b47d2a0a664946056cbb6"
            }
          },
          "metadata": {}
        },
        {
          "output_type": "stream",
          "name": "stdout",
          "text": [
            "[Epoch: 1563 , Loss: 0.019]\n",
            "> Epoch 10 Samples\n"
          ]
        },
        {
          "output_type": "display_data",
          "data": {
            "text/plain": [
              "<PIL.Image.Image image mode=RGB size=32x32>"
            ],
            "image/png": "[encoded data removed]",
            "image/jpeg": "[encoded data removed]"
          },
          "metadata": {}
        },
        {
          "output_type": "display_data",
          "data": {
            "text/plain": [
              "<PIL.Image.Image image mode=RGB size=32x32>"
            ],
            "image/png": "[encoded data removed]",
            "image/jpeg": "[encoded data removed]"
          },
          "metadata": {}
        },
        {
          "output_type": "display_data",
          "data": {
            "text/plain": [
              "<PIL.Image.Image image mode=RGB size=32x32>"
            ],
            "image/png": "[encoded data removed]",
            "image/jpeg": "[encoded data removed]"
          },
          "metadata": {}
        },
        {
          "output_type": "display_data",
          "data": {
            "text/plain": [
              "<PIL.Image.Image image mode=RGB size=32x32>"
            ],
            "image/png": "[encoded data removed]",
            "image/jpeg": "[encoded data removed]"
          },
          "metadata": {}
        },
        {
          "output_type": "display_data",
          "data": {
            "text/plain": [
              "  0%|          | 0/1563 [00:00<?, ?it/s]"
            ],
            "application/vnd.jupyter.widget-view+json": {
              "version_major": 2,
              "version_minor": 0,
              "model_id": "99b829040f144917818fb3f6171b8b7d"
            }
          },
          "metadata": {}
        },
        {
          "output_type": "stream",
          "name": "stdout",
          "text": [
            "[Epoch: 1563 , Loss: 0.011]\n",
            "> Epoch 11 Samples\n"
          ]
        },
        {
          "output_type": "display_data",
          "data": {
            "text/plain": [
              "<PIL.Image.Image image mode=RGB size=32x32>"
            ],
            "image/png": "[encoded data removed]",
            "image/jpeg": "[encoded data removed]"
          },
          "metadata": {}
        },
        {
          "output_type": "display_data",
          "data": {
            "text/plain": [
              "<PIL.Image.Image image mode=RGB size=32x32>"
            ],
            "image/png": "[encoded data removed]",
            "image/jpeg": "[encoded data removed]"
          },
          "metadata": {}
        },
        {
          "output_type": "display_data",
          "data": {
            "text/plain": [
              "<PIL.Image.Image image mode=RGB size=32x32>"
            ],
            "image/png": "[encoded data removed]",
            "image/jpeg": "[encoded data removed]"
          },
          "metadata": {}
        },
        {
          "output_type": "display_data",
          "data": {
            "text/plain": [
              "<PIL.Image.Image image mode=RGB size=32x32>"
            ],
            "image/png": "[encoded data removed]",
            "image/jpeg": "[encoded data removed]"
          },
          "metadata": {}
        },
        {
          "output_type": "display_data",
          "data": {
            "text/plain": [
              "  0%|          | 0/1563 [00:00<?, ?it/s]"
            ],
            "application/vnd.jupyter.widget-view+json": {
              "version_major": 2,
              "version_minor": 0,
              "model_id": "d91741cfbfbe408eaa21d89e94cb1d50"
            }
          },
          "metadata": {}
        },
        {
          "output_type": "stream",
          "name": "stdout",
          "text": [
            "[Epoch: 1563 , Loss: 0.017]\n",
            "> Epoch 12 Samples\n"
          ]
        },
        {
          "output_type": "display_data",
          "data": {
            "text/plain": [
              "<PIL.Image.Image image mode=RGB size=32x32>"
            ],
            "image/png": "[encoded data removed]",
            "image/jpeg": "[encoded data removed]"
          },
          "metadata": {}
        },
        {
          "output_type": "display_data",
          "data": {
            "text/plain": [
              "<PIL.Image.Image image mode=RGB size=32x32>"
            ],
            "image/png": "[encoded data removed]",
            "image/jpeg": "[encoded data removed]"
          },
          "metadata": {}
        },
        {
          "output_type": "display_data",
          "data": {
            "text/plain": [
              "<PIL.Image.Image image mode=RGB size=32x32>"
            ],
            "image/png": "[encoded data removed]",
            "image/jpeg": "[encoded data removed]"
          },
          "metadata": {}
        },
        {
          "output_type": "display_data",
          "data": {
            "text/plain": [
              "<PIL.Image.Image image mode=RGB size=32x32>"
            ],
            "image/png": "[encoded data removed]",
            "image/jpeg": "[encoded data removed]"
          },
          "metadata": {}
        },
        {
          "output_type": "display_data",
          "data": {
            "text/plain": [
              "  0%|          | 0/1563 [00:00<?, ?it/s]"
            ],
            "application/vnd.jupyter.widget-view+json": {
              "version_major": 2,
              "version_minor": 0,
              "model_id": "fcf837abae0c44cda4804b903bdc7adb"
            }
          },
          "metadata": {}
        },
        {
          "output_type": "stream",
          "name": "stdout",
          "text": [
            "[Epoch: 1563 , Loss: 0.010]\n",
            "> Epoch 13 Samples\n"
          ]
        },
        {
          "output_type": "display_data",
          "data": {
            "text/plain": [
              "<PIL.Image.Image image mode=RGB size=32x32>"
            ],
            "image/png": "[encoded data removed]",
            "image/jpeg": "[encoded data removed]"
          },
          "metadata": {}
        },
        {
          "output_type": "display_data",
          "data": {
            "text/plain": [
              "<PIL.Image.Image image mode=RGB size=32x32>"
            ],
            "image/png": "[encoded data removed]",
            "image/jpeg": "[encoded data removed]"
          },
          "metadata": {}
        },
        {
          "output_type": "display_data",
          "data": {
            "text/plain": [
              "<PIL.Image.Image image mode=RGB size=32x32>"
            ],
            "image/png": "[encoded data removed]",
            "image/jpeg": "[encoded data removed]"
          },
          "metadata": {}
        },
        {
          "output_type": "display_data",
          "data": {
            "text/plain": [
              "<PIL.Image.Image image mode=RGB size=32x32>"
            ],
            "image/png": "[encoded data removed]",
            "image/jpeg": "[encoded data removed]"
          },
          "metadata": {}
        },
        {
          "output_type": "display_data",
          "data": {
            "text/plain": [
              "  0%|          | 0/1563 [00:00<?, ?it/s]"
            ],
            "application/vnd.jupyter.widget-view+json": {
              "version_major": 2,
              "version_minor": 0,
              "model_id": "6a3e7aa87f3a4c3c87fad1a611bc73dc"
            }
          },
          "metadata": {}
        },
        {
          "output_type": "stream",
          "name": "stdout",
          "text": [
            "[Epoch: 1563 , Loss: 0.036]\n",
            "> Epoch 14 Samples\n"
          ]
        },
        {
          "output_type": "display_data",
          "data": {
            "text/plain": [
              "<PIL.Image.Image image mode=RGB size=32x32>"
            ],
            "image/png": "[encoded data removed]",
            "image/jpeg": "[encoded data removed]"
          },
          "metadata": {}
        },
        {
          "output_type": "display_data",
          "data": {
            "text/plain": [
              "<PIL.Image.Image image mode=RGB size=32x32>"
            ],
            "image/png": "[encoded data removed]",
            "image/jpeg": "[encoded data removed]"
          },
          "metadata": {}
        },
        {
          "output_type": "display_data",
          "data": {
            "text/plain": [
              "<PIL.Image.Image image mode=RGB size=32x32>"
            ],
            "image/png": "[encoded data removed]",
            "image/jpeg": "[encoded data removed]"
          },
          "metadata": {}
        },
        {
          "output_type": "display_data",
          "data": {
            "text/plain": [
              "<PIL.Image.Image image mode=RGB size=32x32>"
            ],
            "image/png": "[encoded data removed]",
            "image/jpeg": "[encoded data removed]"
          },
          "metadata": {}
        },
        {
          "output_type": "display_data",
          "data": {
            "text/plain": [
              "  0%|          | 0/1563 [00:00<?, ?it/s]"
            ],
            "application/vnd.jupyter.widget-view+json": {
              "version_major": 2,
              "version_minor": 0,
              "model_id": "363d4070034e450ca44031aa9de74650"
            }
          },
          "metadata": {}
        },
        {
          "output_type": "stream",
          "name": "stdout",
          "text": [
            "[Epoch: 1563 , Loss: 0.022]\n",
            "> Epoch 15 Samples\n"
          ]
        },
        {
          "output_type": "display_data",
          "data": {
            "text/plain": [
              "<PIL.Image.Image image mode=RGB size=32x32>"
            ],
            "image/png": "[encoded data removed]",
            "image/jpeg": "[encoded data removed]"
          },
          "metadata": {}
        },
        {
          "output_type": "display_data",
          "data": {
            "text/plain": [
              "<PIL.Image.Image image mode=RGB size=32x32>"
            ],
            "image/png": "[encoded data removed]",
            "image/jpeg": "[encoded data removed]"
          },
          "metadata": {}
        },
        {
          "output_type": "display_data",
          "data": {
            "text/plain": [
              "<PIL.Image.Image image mode=RGB size=32x32>"
            ],
            "image/png": "[encoded data removed]",
            "image/jpeg": "[encoded data removed]"
          },
          "metadata": {}
        },
        {
          "output_type": "display_data",
          "data": {
            "text/plain": [
              "<PIL.Image.Image image mode=RGB size=32x32>"
            ],
            "image/png": "[encoded data removed]",
            "image/jpeg": "[encoded data removed]"
          },
          "metadata": {}
        },
        {
          "output_type": "display_data",
          "data": {
            "text/plain": [
              "  0%|          | 0/1563 [00:00<?, ?it/s]"
            ],
            "application/vnd.jupyter.widget-view+json": {
              "version_major": 2,
              "version_minor": 0,
              "model_id": "9b88f47741264f999058875cd3e954aa"
            }
          },
          "metadata": {}
        },
        {
          "output_type": "stream",
          "name": "stdout",
          "text": [
            "[Epoch: 1563 , Loss: 0.024]\n",
            "> Epoch 16 Samples\n"
          ]
        },
        {
          "output_type": "display_data",
          "data": {
            "text/plain": [
              "<PIL.Image.Image image mode=RGB size=32x32>"
            ],
            "image/png": "[encoded data removed]",
            "image/jpeg": "[encoded data removed]"
          },
          "metadata": {}
        },
        {
          "output_type": "display_data",
          "data": {
            "text/plain": [
              "<PIL.Image.Image image mode=RGB size=32x32>"
            ],
            "image/png": "[encoded data removed]",
            "image/jpeg": "[encoded data removed]"
          },
          "metadata": {}
        },
        {
          "output_type": "display_data",
          "data": {
            "text/plain": [
              "<PIL.Image.Image image mode=RGB size=32x32>"
            ],
            "image/png": "[encoded data removed]",
            "image/jpeg": "[encoded data removed]"
          },
          "metadata": {}
        },
        {
          "output_type": "display_data",
          "data": {
            "text/plain": [
              "<PIL.Image.Image image mode=RGB size=32x32>"
            ],
            "image/png": "[encoded data removed]",
            "image/jpeg": "[encoded data removed]"
          },
          "metadata": {}
        },
        {
          "output_type": "display_data",
          "data": {
            "text/plain": [
              "  0%|          | 0/1563 [00:00<?, ?it/s]"
            ],
            "application/vnd.jupyter.widget-view+json": {
              "version_major": 2,
              "version_minor": 0,
              "model_id": "60fd9d40b5814145b5f4981ee31138e1"
            }
          },
          "metadata": {}
        },
        {
          "output_type": "stream",
          "name": "stdout",
          "text": [
            "[Epoch: 1563 , Loss: 0.013]\n",
            "> Epoch 17 Samples\n"
          ]
        },
        {
          "output_type": "display_data",
          "data": {
            "text/plain": [
              "<PIL.Image.Image image mode=RGB size=32x32>"
            ],
            "image/png": "[encoded data removed]",
            "image/jpeg": "[encoded data removed]"
          },
          "metadata": {}
        },
        {
          "output_type": "display_data",
          "data": {
            "text/plain": [
              "<PIL.Image.Image image mode=RGB size=32x32>"
            ],
            "image/png": "[encoded data removed]",
            "image/jpeg": "[encoded data removed]"
          },
          "metadata": {}
        },
        {
          "output_type": "display_data",
          "data": {
            "text/plain": [
              "<PIL.Image.Image image mode=RGB size=32x32>"
            ],
            "image/png": "[encoded data removed]",
            "image/jpeg": "[encoded data removed]"
          },
          "metadata": {}
        },
        {
          "output_type": "display_data",
          "data": {
            "text/plain": [
              "<PIL.Image.Image image mode=RGB size=32x32>"
            ],
            "image/png": "[encoded data removed]",
            "image/jpeg": "[encoded data removed]"
          },
          "metadata": {}
        },
        {
          "output_type": "display_data",
          "data": {
            "text/plain": [
              "  0%|          | 0/1563 [00:00<?, ?it/s]"
            ],
            "application/vnd.jupyter.widget-view+json": {
              "version_major": 2,
              "version_minor": 0,
              "model_id": "96afc6d20eee40b5bd2f9a097a4e94b7"
            }
          },
          "metadata": {}
        },
        {
          "output_type": "stream",
          "name": "stdout",
          "text": [
            "[Epoch: 1563 , Loss: 0.009]\n",
            "> Epoch 18 Samples\n"
          ]
        },
        {
          "output_type": "display_data",
          "data": {
            "text/plain": [
              "<PIL.Image.Image image mode=RGB size=32x32>"
            ],
            "image/png": "[encoded data removed]",
            "image/jpeg": "[encoded data removed]"
          },
          "metadata": {}
        },
        {
          "output_type": "display_data",
          "data": {
            "text/plain": [
              "<PIL.Image.Image image mode=RGB size=32x32>"
            ],
            "image/png": "[encoded data removed]",
            "image/jpeg": "[encoded data removed]"
          },
          "metadata": {}
        },
        {
          "output_type": "display_data",
          "data": {
            "text/plain": [
              "<PIL.Image.Image image mode=RGB size=32x32>"
            ],
            "image/png": "[encoded data removed]",
            "image/jpeg": "[encoded data removed]"
          },
          "metadata": {}
        },
        {
          "output_type": "display_data",
          "data": {
            "text/plain": [
              "<PIL.Image.Image image mode=RGB size=32x32>"
            ],
            "image/png": "[encoded data removed]",
            "image/jpeg": "[encoded data removed]"
          },
          "metadata": {}
        },
        {
          "output_type": "display_data",
          "data": {
            "text/plain": [
              "  0%|          | 0/1563 [00:00<?, ?it/s]"
            ],
            "application/vnd.jupyter.widget-view+json": {
              "version_major": 2,
              "version_minor": 0,
              "model_id": "8c53ed06d8544cc392a4cd6e045bc32e"
            }
          },
          "metadata": {}
        },
        {
          "output_type": "stream",
          "name": "stdout",
          "text": [
            "[Epoch: 1563 , Loss: 0.059]\n",
            "> Epoch 19 Samples\n"
          ]
        },
        {
          "output_type": "display_data",
          "data": {
            "text/plain": [
              "<PIL.Image.Image image mode=RGB size=32x32>"
            ],
            "image/png": "[encoded data removed]",
            "image/jpeg": "[encoded data removed]"
          },
          "metadata": {}
        },
        {
          "output_type": "display_data",
          "data": {
            "text/plain": [
              "<PIL.Image.Image image mode=RGB size=32x32>"
            ],
            "image/png": "[encoded data removed]",
            "image/jpeg": "[encoded data removed]"
          },
          "metadata": {}
        },
        {
          "output_type": "display_data",
          "data": {
            "text/plain": [
              "<PIL.Image.Image image mode=RGB size=32x32>"
            ],
            "image/png": "[encoded data removed]",
            "image/jpeg": "[encoded data removed]"
          },
          "metadata": {}
        },
        {
          "output_type": "display_data",
          "data": {
            "text/plain": [
              "<PIL.Image.Image image mode=RGB size=32x32>"
            ],
            "image/png": "[encoded data removed]",
            "image/jpeg": "[encoded data removed]"
          },
          "metadata": {}
        }
      ]
    },
    {
      "cell_type": "code",
      "source": [
        "torch.save(model.state_dict(), \"/content/drive/MyDrive/Colab Notebooks/results/ddpm_model.pth\")"
      ],
      "metadata": {
        "id": "25he2pXP0Y2H"
      },
      "execution_count": null,
      "outputs": []
    },
    {
      "cell_type": "markdown",
      "source": [
        "- Sampling Experiment (+ Inference Time Check)"
      ],
      "metadata": {
        "id": "_0jyAzsXzX5y"
      }
    },
    {
      "cell_type": "code",
      "source": [
        "DDPM_model = UNet(n_channels=32).to(device)\n",
        "DDPM_model.load_state_dict(torch.load('/content/drive/MyDrive/Colab Notebooks/results/ddpm_model.pth'))\n",
        "\n",
        "## Check inference time for 1000 samples\n",
        "start_time = time.time()\n",
        "\n",
        "with torch.no_grad():\n",
        "    x_T = torch.randn(1000, 3, 32, 32).to(device)\n",
        "    x_0 = sample(DDPM_model, x_T)\n",
        "    x_0 = x_0.permute(0, 2, 3, 1).clamp(0, 1).detach().cpu().numpy() * 255\n",
        "    for i in range(5):\n",
        "        cv2_imshow(x_0[i])\n",
        "\n",
        "end_time = time.time()\n",
        "elapsed_time = end_time - start_time\n",
        "min, sec = divmod(elapsed_time, 60)\n",
        "\n",
        "print(f\"Inference Time: {int(min)}m {sec:.2f}s\")"
      ],
      "metadata": {
        "colab": {
          "base_uri": "https://localhost:8080/",
          "height": 249
        },
        "id": "cq1oDF8UzuRN",
        "outputId": "42db6817-6def-403a-85c2-c09ff72f781e"
      },
      "execution_count": null,
      "outputs": [
        {
          "output_type": "stream",
          "name": "stderr",
          "text": [
            "<ipython-input-21-f012e2f21052>:2: FutureWarning: You are using `torch.load` with `weights_only=False` (the current default value), which uses the default pickle module implicitly. It is possible to construct malicious pickle data which will execute arbitrary code during unpickling (See https://github.com/pytorch/pytorch/blob/main/SECURITY.md#untrusted-models for more details). In a future release, the default value for `weights_only` will be flipped to `True`. This limits the functions that could be executed during unpickling. Arbitrary objects will no longer be allowed to be loaded via this mode unless they are explicitly allowlisted by the user via `torch.serialization.add_safe_globals`. We recommend you start setting `weights_only=True` for any use case where you don't have full control of the loaded file. Please open an issue on GitHub for any issues related to this experimental feature.\n",
            "  model.load_state_dict(torch.load('/content/drive/MyDrive/Colab Notebooks/results/ddpm_model.pth'))\n"
          ]
        },
        {
          "output_type": "display_data",
          "data": {
            "text/plain": [
              "<PIL.Image.Image image mode=RGB size=32x32>"
            ],
            "image/png": "[encoded data removed]",
            "image/jpeg": "[encoded data removed]"
          },
          "metadata": {}
        },
        {
          "output_type": "display_data",
          "data": {
            "text/plain": [
              "<PIL.Image.Image image mode=RGB size=32x32>"
            ],
            "image/png": "[encoded data removed]",
            "image/jpeg": "[encoded data removed]"
          },
          "metadata": {}
        },
        {
          "output_type": "display_data",
          "data": {
            "text/plain": [
              "<PIL.Image.Image image mode=RGB size=32x32>"
            ],
            "image/png": "[encoded data removed]",
            "image/jpeg": "[encoded data removed]"
          },
          "metadata": {}
        },
        {
          "output_type": "display_data",
          "data": {
            "text/plain": [
              "<PIL.Image.Image image mode=RGB size=32x32>"
            ],
            "image/png": "[encoded data removed]",
            "image/jpeg": "[encoded data removed]"
          },
          "metadata": {}
        },
        {
          "output_type": "display_data",
          "data": {
            "text/plain": [
              "<PIL.Image.Image image mode=RGB size=32x32>"
            ],
            "image/png": "[encoded data removed]",
            "image/jpeg": "[encoded data removed]"
          },
          "metadata": {}
        },
        {
          "output_type": "stream",
          "name": "stdout",
          "text": [
            "Inference Time: 7m 27.65s\n"
          ]
        }
      ]
    },
    {
      "cell_type": "markdown",
      "source": [
        "# 2. DDIM\n",
        "Implementation of DDIM sampler ([Song, et al., \"Denoising Diffusion Implicit Models\", 2022.](https://arxiv.org/abs/2010.02502))"
      ],
      "metadata": {
        "id": "VIV5uQ8-jF2O"
      }
    },
    {
      "cell_type": "markdown",
      "source": [
        "- Inference (Sampling) Function\n",
        "\n",
        "Since the training loss is proved to be same with DDPM, we can omit the training process and just use pre-trained model.\n",
        "We only need to implement \"accelerated generation process\".\n",
        "\n",
        "Here we set $\\eta=0.0$, for 'pure' DDIM.\n",
        "\n",
        "![image.png](data:image/png;base64,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)\n",
        "![image.png](data:image/png;base64,iVBORw0KGgoAAAANSUhEUgAAAf4AAAArCAYAAACZ6+oNAAAAAXNSR0IArs4c6QAAAARnQU1BAACxjwv8YQUAAAAJcEhZcwAAEnQAABJ0Ad5mH3gAABiOSURBVHhe7d1pVBRX2gfwf4PRxDW2EQSNHkDUBM3BqIARnagoLgRFHRciGZNolGgymsSMYiuOmuQNqJi44BYx6owyGEcUBc0QAWFIBBmCoiMjsrmBMkQWWZqu5/1C99C3q7urWRu5v3Pqg89T1Qe76qlbXffWLRkRETiO4ziOe2YQUZyFhcV4Ng4AFmyA4ziO47hnF2/4OY7jOK4d4Q0/x3Ecx7UjMt7Hzxni4eGBp0+fomPHjmyK4zgjnJ2dsWPHDjbcaEqlEk5OTrC1tWVTXDsXFxcHGOnj5w0/p1dZWRkGDRqEgoICdOjQgU1zHNdKLl68iF27duHMmTNsiuMAIw0/v9XP6RUdHY1JkybxRp/jzMzp06cxc+ZMNsxxkvCGn9Pr73//O3x8fNgwx3GtiIgQFRUFb29vNsVxkvCGnxNVU1ODuLg4eHp6simO41rRL7/8Ant7e7z00ktsiuMk4Q0/Jyo2NhZubm7o3Lkzm+I4rhXxO3FcY/GGnxPFTy4cZ554/z7XWLzh53QIgoDz58/Dy8uLTXEc14oyMzPRtWtXDBgwgE1xnGS84ed0JCcnY8iQIZDL5WyK47hWdPr0aX4njms03vBzOvhtfo4zT7w2uabQ5hv+xs4/1Njtn0WRkZGS+xD599fyBEFgQyaT8hl830oj5btsCvn5+SgrK4OTkxOb4hqgpfabOWrTDX9eXh78/f3ZsGRlZWXw9/dHaWkpm2q3MjIyIJfL0bdvXzalpaqqCsuWLUNRURGb4ppZRkYGNmzY0OCGmYgwYsQIVFdXsymNxtZWe7JmzRrcuHGDDTc5Pqiv6UipgWdZm234i4uLMW/ePGzYsIFNSdatWzesWLECCxYsgFKpZNPtkpRbiUSEt99+G7Nnz4a1tTWb1igtLW3XV9XNxdnZGXZ2dli/fj2bkiQpKQlyuRydOnViU4AJtfXbb7+xoXYpMDAQK1aswN27d9lUk5JSm+B1J4mxGnjWtdmG38/PD5s3b270SyqGDh2KWbNmISAggE21S1IGD3399dd49dVXMWnSJDYF1L1AJDw8HA4ODi3yS6g9evfdd5Gfn4+oqCg2ZdTRo0fxzjvvsGENY7X15MkTbN68GUOGDGFT7VKXLl2we/du+Pr6NluDW1xcjOzsbLi6urIpDV530hmrgWcetUE//PADTZs2jQ03mEqlosGDB9O1a9fYVLuSk5NDr7zyChvWUlBQQC+//DI9ffqUTVFERAR5eXmRn58feXh4EABKT09nV+OaSHZ2Ng0cOJAqKyvZlF5VVVVka2tLpaWlbIrISG1t2LCBvL29acmSJeTo6Egvvvgiu0q7tmjRItq7dy8bbhJhYWHk7+/Phol43ZnMWA08KwRBuMS29xrsyuZOEAQaNGgQRUdHs6lG2bVrF82YMYMNtyvbt2+ngIAANqxlyZIl9Kc//YkN69iyZQs/AbWAOXPmUEhICBvWKyIigt5++202TGRibXl4ePCGn3Ht2jWysrKi6upqNtVo3t7edPHiRTasg9edcYZq4FliqOFvc7f6ExISUF1d3eRzyPv6+iI6OhoPHjxgU+2GsT7EiooKHD9+HB988AGb4lrJwoULcfDgQTas19GjR+Hn58eGgWasrfZi6NChsLW1bfJX5VZUVCAlJQVvvvkmm+IawFANtBdtruEPDw+Hu7s7ZDIZm9Kora1lQ0BdH5g+PXv2xODBg3Hq1Ck21apUKhUbAupeotOUHj16hIKCAowcOZJNaZw7dw7du3eHvb09m2qTmvo7bA3u7u64ceMGMjMz2ZSOx48fIz09HR4eHmwKkFhbbUlr7N+xY8ciPDycDTdKTEwMJk6ciOeee45NtUmtsV/UjNUAqzX/1ubU6IY/KioKvr6+cHFxwfDhw3WW/fv3s5s0SkJCAlxcXNiwxrZt2/DFF1/Azc0Njx49QmFhIdavXw+FQoElS5bAw8MD9+/fZzcD6oo2ISGBDbeakydPIjg4GK6urkhKSkJtbS2Cg4MREBCAtWvXYtSoUbh8+TK7WYNERkbirbfeYsNaEhISDA4uaguICN988w18fX0RFBQEX19ffPTRR232kc5evXrhlVdekXTcnjhxAr///e9haWnJpgAJtdUWlJaWYuXKlVi6dCm++uorvPXWW9i1a1ezDbpjNcc5xNiduLbAXOrOWA3ADI6hFsH2C0hVU1NDH3zwAfXo0YN8fHxo2bJl1L9/fwJAy5cvJ4VCQYGBgZSVlcVu2mC1tbVkYWFBP/30E5siIqLExEQ6duwYERENHDiQ3nvvPQoICKCqqirNOqNGjaL333+/3lb/s2PHDnJ0dGTDel28eJGOHTtm8hIREUGCILAfp6WiooI+/fRTIiJavHgxjRo1itauXUv37t3TrLN69WpycHCot1XDTZ8+Xe/3qjZu3DjasGEDGxZljn2Njx49Ik9PT/r4449JpVJp4osXL9Ya3/Hvf/+bIiIiNP82dzNnzqQlS5awYR0uLi7066+/smEiCbXFMsc+/rS0NBo8eDCdOHFCE1MqlTRkyBDasWOHJnbo0CG6f/++5t9NKT09nQBo1Wlj1NTUkI2NDVVUVLApUbzuDDNUA2Qmx1BTaZY+/lmzZiEtLQ23bt3CqVOnEBoaipSUFHTt2hV2dnbYvHkzNm7cCEdHR3bTBnv8+DEEQUCvXr3YFAAgIiICs2fPhiAIKCwsxJUrV6BQKLSe1ZTL5bh586bWdmpyuRz5+fmSJ0ZJT09HampqgxZjE0dERkZqXpJz//59XL9+HYsWLdJ6xEoulyM7O1tvF4bU8Qrl5eX417/+hXHjxrEpLUVFRXq/e3MnCAJmzpwJpVKJkJAQWFj879BftmwZIiMjkZSUBNT1Ab7xxhv1tjZvcrkcubm5bFhLVlYWqqqq8Nprr7EpQEJtmbuHDx9i4sSJWLBgAebNm6eJd+jQAYsXL4ZCodDUXEJCAmxsbOpt3XTU77cwtj+k1mZcXBxcXFza7OuxzanujNWAuRxDLYK9SpDi+PHj1LFjRyooKGBT9Oabb9L06dPZcJPIyMggAJSbm8umiIg0V2mpqakEgI4fP86uQn369KEFCxawYSIiOnfuHAGQfHXdnE6dOkU1NTWkUqmoR48etHTpUnYVmj9/PtnY2LBhIiK6fv062dvba11h6xMeHk6LFi1iwzrkcjkdPnyYDYtq6C+Pu3fv0u3bt01aSkpK2I/RERISQgAoMTGRTVF5eTkBoG+//ZZqa2vpww8/ZFcxa6tXr6ZRo0axYS0KhYK2bt3KhjWM1RarIb/4VSoV3blzR2f/GVvq37HTZ8aMGfTiiy9SWVkZm6KoqCgCQBkZGXTz5k2TnoIwVUVFBQGgc+fOsSmNI0eOkI+PDxsW5e/vL7nmiNedQcZqwFyOoaYiCMJTQRBqBUHII6L/a1TDLwgC9evXj+bMmcOmiIho8ODB5O3tzYabxOXLlwkAPXjwgE1p2bp1KwGghw8fasWzsrIIAO3bt08rrnbp0iUCYFbPd6ovYsLDw9kU2drail7EPHz4kAYOHEgAKDk5mU3rmD9/PkVGRrJhHZaWlqIXU2IacgJSKpXk6elJ7u7uJi0bN25kP0qLUqkkuVxOL7/8MpvSsLS0pBUrVlBISAj9/PPPbNqsBQYG0uuvv86GNQRBIAcHB4O3JqXWllpDGv6MjAwaN26czv4ztpw+fZr9KC1Xr14lAOTn58emiOr9306ePEnvv/++6Im9qQiCQADozJkzbIqIiOLj46lLly7UrVs3qqmpYdNaBEGg/v37U3FxMZvSi9edOGM1YE7HUHMRBCGlwQ3/rVu3CIBoMVZWVlKHDh1ozZo1bKpJpKSkEAD6z3/+w6a0TJ8+nZycnNgw7d+/nwDQrVu32BQREUVGRlKnTp3YcKsKDg4mmUxGRUVFWnF9FzFPnz6l5cuX086dOwmA0T756upqsrGxEZ2Qh9WlSxc6cOAAGxbVkBNQc7ly5QoBoD/84Q9sSqNTp07k6elJq1evZlNmb9WqVeTp6cmGNeLj4w3myYTaUmtIw99cgoKCCACFhYWxKSIiSk5OJgA0e/Zsrb7b5vDkyROCngvurKwsWr9+Pfn5+REAo+MpkpOTacKECWzYIF534ozVgDkdQ81JEIQv0JA+/vT0dAAQfewrPDwcRARfX182hfz8fMyZMwf29vaws7PTWtzd3dnVRan7t588ecKmNFQqFS5fviz6zGt8fDxsbGwwaNAgNgXUzT1uZWXFhvWaMmUKbGxsTF4GDRqEyspK9uNEXbp0Ca+++ip69+6tFY+PjwcAnf9nZmYmFAoFZs+eDZlMhujoaK08KzY2Fm+88QZeeOEFNqXD1tbW4HdvrkpKSgAAw4YNY1MaFhYWuHnzpuj89AcOHMCwYcN0jls7OztERESwq7c4Y8etlOeWpdSWuTK2f9X9yoIgaPXdAkBlZSU+++wzDB48WGffOjg4IC8vT2t9Y9TvLxDbH7dv30ZgYCCmTZsGAEZrs62P5je2X9CCdWesBoz9rS15DDUVIhKI6D9M2AsNafj79OkDADqDTdSPa3z++ec6X15RURFWrFiBuXPn4q9//SvGjRuH4OBgnDhxAidOnMCRI0c06+bm5uLs2bNa26vZ2Nigc+fOBr/ItLQ0lJaWig5Ui4+Px/jx49mwxr1790wasBETE4MHDx6YvGRlZUlqaFUqFRITE/X+X8QuYkaOHIk+ffrAxsYGzs7OSE1NNfgGPSlz86u15kHcGOoBpuwxq1ZTUwMLCwt4eHiga9euWrmgoCDk5ubi22+/xaFDh+Dk5KQ5bsPDw7UegQwLC0NZWZnW9g2RmZlp0mOwho7bqqoqxMTEGN3HUmrLXBnbv+rBr+x3QERYunQp7O3tcejQIaxcuRILFizQ7N8ffvgBAwYM0HzG3r17tbYXc+/ePchkMtGXV02dOhWWlpaYPHkyLC0tcf78eXYVLaa8HtscGdsvLVV3UmrA2N/akseQMdXV1Thw4ABu377NprQUFBRkA9CadEUmk70mCMILJjf8rq6uGDhwIH7++WeteEBAAKytrREYGKgVR92o9KNHj2Lu3Llwc3NDdnY2fHx84OrqCldXV60JYQRB0PuMpUwmg6urK9LS0tiURlxcHADgd7/7nVY8Ozsbd+/e1fmFXF9KSgrc3NzYcKtRX8SI/c1xcXEGL2JQd6IhIly4cIFNAXXfdXR0NKZPn86mRI0ePdrgd1+f+pejoYJsKXZ2dpg6dSp++eUXNoUbN27g448/xtChQzXPFCcmJqKiogIA4OLigi+++ALjx49HeXk53N3dNceti4sLnn/+ea3Pqz9q2VTql9/s3bsXYWFhbFqv1NRUvcftmTNnMHHiRL0nNDUptVXfkydPUFVVpfeJkpakfkuk2P49e/YsTp48iZ49e2r2b0xMDFA3adWaNWvw4YcfYsyYMcjPz4e3t7dm/zo7O2s+R6VSoUOHDpp/65OSkoJhw4ahS5cubEpDLpfD1dUVmZmZyM/PZ9NA3XHZvXt39OvXj00ZxOtOl5QaMKdjyJAzZ85g+/bt2Lp1K7Kzs9m0lrS0tG4ymUysMe1lch8/EdGvv/5KEydOpMOHD9PBgwdp4cKFtG3bNqPPphMR5efnk5ubGxuWbMuWLQb7avz8/ERHOH/33XdG+zD79eund1BOa/juu++oc+fO9OjRI614dnY2ATDa364ekCI2AJDq5j2YPHkyG9YrMTGRunTpQrW1tWyKiIgSEhJo1qxZNHnyZOrVqxf16NGD7OzsaMaMGeTj42N0MFNzKiwsJC8vL1q3bh3FxMRQWFgYKRQKCg0NJaVSSSkpKeTo6EjHjh3TzJ/Aeu+99yTNY99Y//jHPyTXyO3bt+m5556jx48fsykiIvLy8qLY2Fg2LMpYbe3Zs4d8fHxozJgx1L17d+rRowc5OzuTj48Pff755+zqLSo1NZVGjx5NoaGhFBMTQ7t376bVq1dr9teePXtowoQJtGfPHp1xMWqOjo5UXl7Ohk2ycOFC+uSTT9iwjs2bN4uO0VHbsmULffnll2xYFK87w6TWgLkcQ1K4u7tTTEwMG9ZSUlIi+tIIQRBea1DDT3WjJLOysuj27dtsyqCdO3fSsmXL2DDl5+fTxo0badq0aQY/My8vjzp37qz3RPfw4UPRnJ+fH9na2rJhjbS0NLK2tialUsmmWs3Tp0/pzp07bFjSRQzVTcrSs2dPksvloo31p59+SqGhoWzYIEdHR4qKimLDbUZRURGlpqaKFmdlZSVdv35d9AJWpVKRlZWVzpMiREQHDhyggIAAvScuU5nS8G/fvp1mzZrFhonq/q92dnaSHukkCbXVFty5c4cyMjJE67ioqEjv44rXrl2jIUOGsGGqqamhzZs307vvvkt/+9vf2LSWqqoqsrKyMjhBjJp6FLm+F4ONGDGCbt68yYbbrNaqO1NrgFr5GJJKSsOvjyAI/fTfHzFCJpPB0dERDg4ObMqgyMhIDB8+nA0jKioKa9euRXFxsWaAjJj+/ftjypQp+P7779kUAMDa2lp0EhJj/fs7d+7E8uXLG30rpim98MILsLOzY8OIj49H3759MXDgQDalxdLSEpMmTcJ///tfXLlyhU0jMjISM2bMYMMGffTRR9i3bx8bbjN69+6NESNGiN6Kff755+Hk5CQ6V31ycjIsLS11+m6LiorQtWtXjB07Frdu3dLKVVZW4tatWwYXfe9ikIKIsGfPHqxcuZJNAXXTk86bN8/gbdD6jNVWW2BnZ4dhw4aJ1nHv3r01/a0sfeel2NhYzJ07F1ZWVnpvy6uFh4dj6NCheieIqW/48OGwtrZGbGysznzwBQUFqKiowJAhQ7TibVlL1l19ptYAWvgYKi4u1jkn1F+MTQRlKiJSyWSyQunfRhNQqVRISkrC6NGj2RT8/f2RmZkJpVKJESNGsGktwcHBOHz4sE7B6JOTk4P8/Hy9DX9RURGSkpLw2WefsSmzJKV/X03fCOKMjAz07t1b76Awffz9/ZGXl2d0YMmzJi4uDmPGjGHDsLKywvz58xEaGqrz1sK8vDycPn3a4GLoIteYs2fPwtnZGWPHjmVTAIAjR44YHMksxtTaelbo279TpkzBgAED8Je//AXvvPMOm9YgIuzevRshISFsSpRMJsPUqVNRXl6OxMRErVxbH83flPTtF0N1V19DaqCh9P2tho6hq1ev6pwT6i9RUVFa6zcEEdWfJjZaJpMpG3yrv6HY/ur6li5dSvv27aPk5GSjt7G3bdtGq1atYsOiwsLCCIBoF4IgCOTl5UUXLlxgU2YpJyeHANDBgwfZlKiHDx+STCajESNGaMX//Oc/U1BQkFZMquTkZBo7dmyr9h22tNLSUr0zyN29e5f69+9PKpWKjhw5wqZNJuVW/6NHj2jkyJF09+5dNkVERDdv3tTZ51KZUlvPCkPnpePHj9OCBQuopKSEzp49y6aJiOirr74ihULBhg0KDw8nADq3qsePH09XrlzRirVXjam7xtRAQzT2GDKFKbf6BUE4LwjCBEEQJqhb/xb9xQ8AL730EhvS6Ny5M3Jzc3Hp0iWjt7E/+eQTlJeXS7oiqqmpwbx580S7Jb7++mtMmjQJkydPZlNm6bfffoOrqyu8vb3ZlChra2u8/vrrSEtLQ2FhoSbemF8Vbm5uWLJkCRQKBZt6ZnXr1k3rnQ/1ERH69u2LoKAgODk5sWnJlEolNm3ahNDQUOTl5SEwMBA//vgjuxqICP7+/vjmm2/Qt29fNg1IeG7ZEFNq61lh6LzUsWNHoO5uiNicI4mJiUhPT8emTZvYlEHqx/rq340rLi5GTk6O6Dwp7VFj6q4xNdAQjTmGpPrxxx+xceNG3LlzB/v27cOmTZukPFlz0sLC4icLC4ufNBH26qC1mTJdriAItH//fjYs2ZMnTyRPQduWKRQKAkDff/89Ud1dg6FDh7KrmSwyMlLvFJjtTVVVVYvdAUlNTaWUlBQ2rOXgwYMGf4EY09jaetYYmqL14MGDooNnpXB3dyfUe0dCWFgYrVixgl2N08NQ3TW2BpqaoWOouQiCIPreYxlJfRUd12b985//xJgxYzB//nwcP34cISEhKCkpMfkXCsdxTevLL7/EunXrsHfvXixduhQzZszAH//4R0yYoLkry3ENQkRKAKstLCy+YXMtfqufa3murq6Qy+W4cOECVCpVo27zcxzXdNSDb8+fP4+KigpcvXpVdKZOjmuAJLFGH7zhbx/U04SWlJQgKioK9+7dE33shOO4luXs7AwbGxvExsbizJkz8PDwEH2MjOOaEm/42wn1L4tVq1ZJHhjIcVzzmzp1KioqKrBu3Tp+J45rEbzhbyc8PT0hk8mQk5PDTy4cZ0amTp0KACgsLGwzTxdxbdv/AwBzlY76A1Q6AAAAAElFTkSuQmCC)"
      ],
      "metadata": {
        "id": "4VNTFltttU9M"
      }
    },
    {
      "cell_type": "code",
      "source": [
        "T_steps = 1000\n",
        "beta = torch.linspace(1e-4, 0.02, T_steps).to(device)\n",
        "alpha = 1. - beta\n",
        "alpha_bar = torch.cumprod(alpha, dim=0)\n",
        "alpha_bar_prev = torch.cat([torch.tensor([1.0], device=device), alpha_bar[:-1]])\n",
        "\n",
        "# DDIM Sampling\n",
        "def fast_sample(model, x_T, steps, eta=0.0):\n",
        "    tau_steps = np.linspace(0, T_steps - 1, steps, dtype=int)  # smaller sampling trajectory length\n",
        "    # match with new sampling steps\n",
        "    ddim_alpha = alpha_bar[tau_steps]\n",
        "    ddim_alpha_prev = torch.cat([torch.tensor([1.0], device=device), alpha_bar[tau_steps[:-1]]])\n",
        "    ddim_sigma = eta * ((1 - ddim_alpha_prev) / (1 - ddim_alpha) * (1 - ddim_alpha / ddim_alpha_prev))**0.5\n",
        "\n",
        "    x_t = x_T\n",
        "    for step in reversed(range(len(tau_steps))):\n",
        "        t = torch.full((x_T.shape[0],), tau_steps[step], device=device, dtype=torch.long)\n",
        "        eps_theta = model(x_t, t)\n",
        "        sigma = ddim_sigma[step]\n",
        "        eps = torch.randn_like(x_t) if step > 0 else 0\n",
        "\n",
        "        pred_x0 = (x_t - (1 - ddim_alpha[step])**0.5 * eps_theta) / (ddim_alpha[step]**0.5)\n",
        "        dir_xt = (1 - ddim_alpha_prev[step] - sigma**2)**0.5 * eps_theta\n",
        "        noise = sigma * eps\n",
        "\n",
        "        x_t = ddim_alpha_prev[step]**0.5 * pred_x0 + dir_xt + noise  # sample x_{t-1}\n",
        "    x_0 = x_t\n",
        "    return x_0"
      ],
      "metadata": {
        "id": "SAD2jVr_Qyf2"
      },
      "execution_count": 16,
      "outputs": []
    },
    {
      "cell_type": "markdown",
      "source": [
        "- Sampling Experiment (+ Inference Time Check)\n",
        "\n",
        "See how DDIM sampler is much faster than DDPM, while retaining sample qualities."
      ],
      "metadata": {
        "id": "jXpBqCOhsXw_"
      }
    },
    {
      "cell_type": "code",
      "source": [
        "## Use same model\n",
        "DDIM_model = UNet(n_channels=32).to(device)\n",
        "DDIM_model.load_state_dict(torch.load('/content/drive/MyDrive/Colab Notebooks/results/ddpm_model.pth'))\n",
        "\n",
        "## Check inference time for 1000 samples\n",
        "start_time = time.time()\n",
        "\n",
        "with torch.no_grad():\n",
        "    x_T = torch.randn(1000, 3, 32, 32).to(device)\n",
        "    x_0 = fast_sample(DDIM_model, x_T, steps=50, eta=0.0)\n",
        "    x_0 = x_0.permute(0, 2, 3, 1).clamp(0, 1).detach().cpu().numpy() * 255\n",
        "    for i in range(5):\n",
        "        cv2_imshow(x_0[i])\n",
        "\n",
        "end_time = time.time()\n",
        "elapsed_time = end_time - start_time\n",
        "min, sec = divmod(elapsed_time, 60)\n",
        "\n",
        "print(f\"Inference Time: {int(min)}m {sec:.2f}s\")"
      ],
      "metadata": {
        "id": "CXMUqS2KGt-B",
        "colab": {
          "base_uri": "https://localhost:8080/",
          "height": 194
        },
        "outputId": "138afea8-6147-4c97-a4e2-e4aaf457b127"
      },
      "execution_count": 39,
      "outputs": [
        {
          "output_type": "display_data",
          "data": {
            "text/plain": [
              "<PIL.Image.Image image mode=RGB size=32x32>"
            ],
            "image/png": "[encoded data removed]",
            "image/jpeg": "[encoded data removed]"
          },
          "metadata": {}
        },
        {
          "output_type": "display_data",
          "data": {
            "text/plain": [
              "<PIL.Image.Image image mode=RGB size=32x32>"
            ],
            "image/png": "[encoded data removed]",
            "image/jpeg": "[encoded data removed]"
          },
          "metadata": {}
        },
        {
          "output_type": "display_data",
          "data": {
            "text/plain": [
              "<PIL.Image.Image image mode=RGB size=32x32>"
            ],
            "image/png": "[encoded data removed]",
            "image/jpeg": "[encoded data removed]"
          },
          "metadata": {}
        },
        {
          "output_type": "display_data",
          "data": {
            "text/plain": [
              "<PIL.Image.Image image mode=RGB size=32x32>"
            ],
            "image/png": "[encoded data removed]",
            "image/jpeg": "[encoded data removed]"
          },
          "metadata": {}
        },
        {
          "output_type": "display_data",
          "data": {
            "text/plain": [
              "<PIL.Image.Image image mode=RGB size=32x32>"
            ],
            "image/png": "[encoded data removed]",
            "image/jpeg": "[encoded data removed]"
          },
          "metadata": {}
        },
        {
          "output_type": "stream",
          "name": "stdout",
          "text": [
            "Inference Time: 0m 23.37s\n"
          ]
        }
      ]
    },
    {
      "cell_type": "markdown",
      "source": [
        "# DDPM vs DDIM\n",
        "\n",
        "Obviously, DDIM is much faster than DDPM in sampling process. Here, we discover another beautiful feature of DDIM, 'consistency'.\n",
        "\n",
        "Given same latent space $x_T$, DDIM can generate same result $x_0$ everytime, unlike DDPM."
      ],
      "metadata": {
        "id": "eunkC-oPPj9x"
      }
    },
    {
      "cell_type": "code",
      "source": [
        "# Sample an image 3 times (DDPM)\n",
        "with torch.no_grad():\n",
        "    x_T = torch.randn(1, 3, 32, 32).to(device)  # initial latent space\n",
        "    for i in range(3):\n",
        "        print(f\"DDPM Generation {i+1}:\")\n",
        "        x_0 = sample(DDPM_model, x_T)\n",
        "        x_0 = x_0.permute(0, 2, 3, 1).clamp(0, 1).detach().cpu().numpy() * 255\n",
        "        cv2_imshow(x_0[0])\n",
        "        print(\"Generation completed.\")"
      ],
      "metadata": {
        "id": "C89bsZdtPmZo",
        "colab": {
          "base_uri": "https://localhost:8080/",
          "height": 217
        },
        "outputId": "a51e25ac-6e65-4087-f77e-e3c0e100cf2f"
      },
      "execution_count": 27,
      "outputs": [
        {
          "output_type": "stream",
          "name": "stdout",
          "text": [
            "DDPM Generation 1:\n"
          ]
        },
        {
          "output_type": "display_data",
          "data": {
            "text/plain": [
              "<PIL.Image.Image image mode=RGB size=32x32>"
            ],
            "image/png": "[encoded data removed]",
            "image/jpeg": "[encoded data removed]"
          },
          "metadata": {}
        },
        {
          "output_type": "stream",
          "name": "stdout",
          "text": [
            "Generation completed.\n",
            "DDPM Generation 2:\n"
          ]
        },
        {
          "output_type": "display_data",
          "data": {
            "text/plain": [
              "<PIL.Image.Image image mode=RGB size=32x32>"
            ],
            "image/png": "[encoded data removed]",
            "image/jpeg": "[encoded data removed]"
          },
          "metadata": {}
        },
        {
          "output_type": "stream",
          "name": "stdout",
          "text": [
            "Generation completed.\n",
            "DDPM Generation 3:\n"
          ]
        },
        {
          "output_type": "display_data",
          "data": {
            "text/plain": [
              "<PIL.Image.Image image mode=RGB size=32x32>"
            ],
            "image/png": "[encoded data removed]",
            "image/jpeg": "[encoded data removed]"
          },
          "metadata": {}
        },
        {
          "output_type": "stream",
          "name": "stdout",
          "text": [
            "Generation completed.\n"
          ]
        }
      ]
    },
    {
      "cell_type": "code",
      "source": [
        "# Sample an image 3 times (DDIM)\n",
        "with torch.no_grad():\n",
        "    x_T = torch.randn(1, 3, 32, 32).to(device)  # initial latent space\n",
        "    for i in range(3):\n",
        "        print(f\"DDIM Generation {i+1}:\")\n",
        "        x_0 = fast_sample(DDIM_model, x_T, steps=100, eta=0.0)\n",
        "        x_0 = x_0.permute(0, 2, 3, 1).clamp(0, 1).detach().cpu().numpy() * 255\n",
        "        cv2_imshow(x_0[0])\n",
        "        print(\"Generation completed.\")"
      ],
      "metadata": {
        "id": "cdqxOhK6TNZW",
        "colab": {
          "base_uri": "https://localhost:8080/",
          "height": 217
        },
        "outputId": "80435bac-fc94-4f98-f451-ff11cd154e4f"
      },
      "execution_count": 32,
      "outputs": [
        {
          "output_type": "stream",
          "name": "stdout",
          "text": [
            "DDIM Generation 1:\n"
          ]
        },
        {
          "output_type": "display_data",
          "data": {
            "text/plain": [
              "<PIL.Image.Image image mode=RGB size=32x32>"
            ],
            "image/png": "[encoded data removed]",
            "image/jpeg": "[encoded data removed]"
          },
          "metadata": {}
        },
        {
          "output_type": "stream",
          "name": "stdout",
          "text": [
            "Generation completed.\n",
            "DDIM Generation 2:\n"
          ]
        },
        {
          "output_type": "display_data",
          "data": {
            "text/plain": [
              "<PIL.Image.Image image mode=RGB size=32x32>"
            ],
            "image/png": "[encoded data removed]",
            "image/jpeg": "[encoded data removed]"
          },
          "metadata": {}
        },
        {
          "output_type": "stream",
          "name": "stdout",
          "text": [
            "Generation completed.\n",
            "DDIM Generation 3:\n"
          ]
        },
        {
          "output_type": "display_data",
          "data": {
            "text/plain": [
              "<PIL.Image.Image image mode=RGB size=32x32>"
            ],
            "image/png": "[encoded data removed]",
            "image/jpeg": "[encoded data removed]"
          },
          "metadata": {}
        },
        {
          "output_type": "stream",
          "name": "stdout",
          "text": [
            "Generation completed.\n"
          ]
        }
      ]
    },
    {
      "cell_type": "markdown",
      "source": [
        "Interestingly, when we slightly increase $\\eta$, the samples have variances."
      ],
      "metadata": {
        "id": "ULKMvYy0Nt9F"
      }
    },
    {
      "cell_type": "code",
      "source": [
        "# Sample an image 3 times (DDIM)\n",
        "with torch.no_grad():\n",
        "    x_T = torch.randn(1, 3, 32, 32).to(device)  # initial latent space\n",
        "    for i in range(3):\n",
        "        print(f\"DDIM Generation {i+1}:\")\n",
        "        x_0 = fast_sample(DDIM_model, x_T, steps=100, eta=0.2)\n",
        "        x_0 = x_0.permute(0, 2, 3, 1).clamp(0, 1).detach().cpu().numpy() * 255\n",
        "        cv2_imshow(x_0[0])\n",
        "        print(\"Generation completed.\")"
      ],
      "metadata": {
        "colab": {
          "base_uri": "https://localhost:8080/",
          "height": 217
        },
        "id": "jGhewofGNikx",
        "outputId": "69afb34d-2e70-48b5-ac7a-84fe08b688e0"
      },
      "execution_count": 35,
      "outputs": [
        {
          "output_type": "stream",
          "name": "stdout",
          "text": [
            "DDIM Generation 1:\n"
          ]
        },
        {
          "output_type": "display_data",
          "data": {
            "text/plain": [
              "<PIL.Image.Image image mode=RGB size=32x32>"
            ],
            "image/png": "[encoded data removed]",
            "image/jpeg": "[encoded data removed]"
          },
          "metadata": {}
        },
        {
          "output_type": "stream",
          "name": "stdout",
          "text": [
            "Generation completed.\n",
            "DDIM Generation 2:\n"
          ]
        },
        {
          "output_type": "display_data",
          "data": {
            "text/plain": [
              "<PIL.Image.Image image mode=RGB size=32x32>"
            ],
            "image/png": "[encoded data removed]",
            "image/jpeg": "[encoded data removed]"
          },
          "metadata": {}
        },
        {
          "output_type": "stream",
          "name": "stdout",
          "text": [
            "Generation completed.\n",
            "DDIM Generation 3:\n"
          ]
        },
        {
          "output_type": "display_data",
          "data": {
            "text/plain": [
              "<PIL.Image.Image image mode=RGB size=32x32>"
            ],
            "image/png": "[encoded data removed]",
            "image/jpeg": "[encoded data removed]"
          },
          "metadata": {}
        },
        {
          "output_type": "stream",
          "name": "stdout",
          "text": [
            "Generation completed.\n"
          ]
        }
      ]
    }
  ]
}